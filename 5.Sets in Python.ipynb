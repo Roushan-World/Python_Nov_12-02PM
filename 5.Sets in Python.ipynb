{
 "cells": [
  {
   "cell_type": "markdown",
   "id": "3cc401db-5aef-4480-b1dc-de62409df444",
   "metadata": {},
   "source": [
    "# 5.Sets in Python\n",
    "\n",
    " * __Set is one of the 4 build-in data types in Python used to store collections of data including:  Tuples and Dictionary.__\n",
    " * __Sets are unordered, but you can remove items and add new items.__\n",
    " * __Set elements are unique, Duplicate elements are not allowed.__\n",
    " * __A set itself be modified, But the elements contained in the set must be of an immutable type.__\n",
    " * __Set are used to store multiple items in a single variable.__\n",
    " * __you can denote a set with a pair of curly brackets {}.__"
   ]
  },
  {
   "cell_type": "code",
   "execution_count": 1,
   "id": "943f4b6b-a30f-4de9-95d5-1adb928099f8",
   "metadata": {},
   "outputs": [
    {
     "data": {
      "text/plain": [
       "{}"
      ]
     },
     "execution_count": 1,
     "metadata": {},
     "output_type": "execute_result"
    }
   ],
   "source": [
    "x={}\n",
    "x"
   ]
  },
  {
   "cell_type": "code",
   "execution_count": 2,
   "id": "8f67746e-892f-4086-be19-5a2a2ac27a25",
   "metadata": {},
   "outputs": [
    {
     "name": "stdout",
     "output_type": "stream",
     "text": [
      "<class 'dict'>\n"
     ]
    }
   ],
   "source": [
    "print(type(x))"
   ]
  },
  {
   "cell_type": "code",
   "execution_count": 3,
   "id": "ae22f881-688c-46ad-96dc-892ed81879d2",
   "metadata": {},
   "outputs": [
    {
     "name": "stdout",
     "output_type": "stream",
     "text": [
      "<class 'set'>\n"
     ]
    }
   ],
   "source": [
    "y=set()\n",
    "print(type(y))"
   ]
  },
  {
   "cell_type": "code",
   "execution_count": 4,
   "id": "e1b32723-7908-4c56-82e2-8db0f9fb1867",
   "metadata": {},
   "outputs": [
    {
     "data": {
      "text/plain": [
       "{1.618, 2024, 3.14, False, 'Hello Python', 'Hello World', True}"
      ]
     },
     "execution_count": 4,
     "metadata": {},
     "output_type": "execute_result"
    }
   ],
   "source": [
    "set_1={\"Hello World\",3.14,1.618,\"Hello Python\",3.14,1.618,True,True,False,False,2024}\n",
    "set_1"
   ]
  },
  {
   "cell_type": "code",
   "execution_count": 7,
   "id": "9eae8523-2418-4862-ae40-3de738722999",
   "metadata": {},
   "outputs": [
    {
     "name": "stdout",
     "output_type": "stream",
     "text": [
      "{False, 1.618, True, 3.14, 'Hello Python', 'Hello World', 2024}\n"
     ]
    }
   ],
   "source": [
    "list_1=set([\"Hello World\",3.14,1.618,\"Hello Python\",3.14,1.618,True,True,False,False,2024])\n",
    "print(list_1)"
   ]
  },
  {
   "cell_type": "code",
   "execution_count": 8,
   "id": "2269094e-cc4a-45a5-a8ca-48af06d92aa6",
   "metadata": {},
   "outputs": [
    {
     "data": {
      "text/plain": [
       "{1.618, 2024, 3.14, False, 'Hello Python', 'Hello World', True}"
      ]
     },
     "execution_count": 8,
     "metadata": {},
     "output_type": "execute_result"
    }
   ],
   "source": [
    "set_1"
   ]
  },
  {
   "cell_type": "code",
   "execution_count": 9,
   "id": "f9c2ce70-c16c-4980-83f5-a41ebbb78ae5",
   "metadata": {},
   "outputs": [
    {
     "data": {
      "text/plain": [
       "{1.618, 2024, 3.14, False, 'Hello Python', 'Hello World', 'Rupali', True}"
      ]
     },
     "execution_count": 9,
     "metadata": {},
     "output_type": "execute_result"
    }
   ],
   "source": [
    "# Addition of an element to the set\n",
    "\n",
    "set_1.add(\"Rupali\")\n",
    "set_1"
   ]
  },
  {
   "cell_type": "code",
   "execution_count": 11,
   "id": "0725e6c6-2753-4f1e-8951-94d6f2979059",
   "metadata": {},
   "outputs": [
    {
     "data": {
      "text/plain": [
       "{1.618,\n",
       " 2024,\n",
       " 3.14,\n",
       " False,\n",
       " 'Gurav',\n",
       " 'Hello Python',\n",
       " 'Hello World',\n",
       " 'Rupali',\n",
       " True}"
      ]
     },
     "execution_count": 11,
     "metadata": {},
     "output_type": "execute_result"
    }
   ],
   "source": [
    "set_1.add(\"Gurav\")\n",
    "set_1"
   ]
  },
  {
   "cell_type": "code",
   "execution_count": 13,
   "id": "41d6cf46-a854-42f8-8438-6d5416c02801",
   "metadata": {},
   "outputs": [
    {
     "name": "stdout",
     "output_type": "stream",
     "text": [
      "{False, 1.618, True, 3.14, 'Hello Python', 'Rupali', 'Hello World', 2024, 'Gurav'}\n"
     ]
    }
   ],
   "source": [
    "print(set_1)"
   ]
  },
  {
   "cell_type": "code",
   "execution_count": 14,
   "id": "905c3388-62ea-4488-87fa-a1a01e4a0c4c",
   "metadata": {},
   "outputs": [
    {
     "data": {
      "text/plain": [
       "{6, 7, 8, 9, False, 'Hello World', True}"
      ]
     },
     "execution_count": 14,
     "metadata": {},
     "output_type": "execute_result"
    }
   ],
   "source": [
    "set_2={6,7,8,9,True,False,\"Hello World\"}\n",
    "set_2"
   ]
  },
  {
   "cell_type": "code",
   "execution_count": 15,
   "id": "bcdfdc77-264c-45c0-8634-4ba70660908f",
   "metadata": {},
   "outputs": [],
   "source": [
    "# Update() funciton\n",
    "\n",
    "set_1.update(set_2)"
   ]
  },
  {
   "cell_type": "code",
   "execution_count": 17,
   "id": "cab27d00-7e99-4b87-a71b-8686d3c4e0ac",
   "metadata": {},
   "outputs": [
    {
     "name": "stdout",
     "output_type": "stream",
     "text": [
      "{False, 1.618, True, 3.14, 6, 'Hello Python', 7, 8, 9, 'Rupali', 'Hello World', 2024, 'Gurav'}\n"
     ]
    }
   ],
   "source": [
    "print(set_1)"
   ]
  },
  {
   "cell_type": "code",
   "execution_count": 18,
   "id": "61db1ca1-6881-46d0-9dd8-92359d978cf6",
   "metadata": {},
   "outputs": [
    {
     "name": "stdout",
     "output_type": "stream",
     "text": [
      "['Hello World', 3.14, 1.618, 'Hello Python', 3.14, 1.618, True, True, False, False, 2024]\n"
     ]
    }
   ],
   "source": [
    "list=[\"Hello World\",3.14,1.618,\"Hello Python\",3.14,1.618,True,True,False,False,2024]\n",
    "print(list)"
   ]
  },
  {
   "cell_type": "code",
   "execution_count": 19,
   "id": "dd0f254d-e741-4c80-930d-15c6a42b1126",
   "metadata": {},
   "outputs": [
    {
     "name": "stdout",
     "output_type": "stream",
     "text": [
      "[3.14, 1.618, 'Hello Python', 3.14, 1.618, True, True, False, False, 2024]\n"
     ]
    }
   ],
   "source": [
    "del(list[0])\n",
    "print(list)"
   ]
  },
  {
   "cell_type": "code",
   "execution_count": 21,
   "id": "43dac852-83b6-46f6-ad53-e9a9bed3d61a",
   "metadata": {},
   "outputs": [
    {
     "name": "stdout",
     "output_type": "stream",
     "text": [
      "{False, 1.618, True, 3.14, 6, 'Hello Python', 7, 8, 9, 'Rupali', 'Hello World', 2024, 'Gurav'}\n"
     ]
    }
   ],
   "source": [
    "print(set_1)"
   ]
  },
  {
   "cell_type": "code",
   "execution_count": 24,
   "id": "8caab540-3b44-4f68-866b-8aea9628d5d7",
   "metadata": {},
   "outputs": [
    {
     "name": "stdout",
     "output_type": "stream",
     "text": [
      "{False, 1.618, True, 3.14, 6, 'Hello Python', 7, 8, 9, 'Rupali', 'Hello World', 2024}\n"
     ]
    }
   ],
   "source": [
    "# remove()\n",
    "set_1.remove('Gurav')\n",
    "print(set_1)"
   ]
  },
  {
   "cell_type": "code",
   "execution_count": 25,
   "id": "f7279f78-67d9-4c30-8ce6-c011633f9cce",
   "metadata": {},
   "outputs": [
    {
     "ename": "KeyError",
     "evalue": "'Gurav'",
     "output_type": "error",
     "traceback": [
      "\u001b[1;31m---------------------------------------------------------------------------\u001b[0m",
      "\u001b[1;31mKeyError\u001b[0m                                  Traceback (most recent call last)",
      "Cell \u001b[1;32mIn[25], line 1\u001b[0m\n\u001b[1;32m----> 1\u001b[0m \u001b[43mset_1\u001b[49m\u001b[38;5;241;43m.\u001b[39;49m\u001b[43mremove\u001b[49m\u001b[43m(\u001b[49m\u001b[38;5;124;43m'\u001b[39;49m\u001b[38;5;124;43mGurav\u001b[39;49m\u001b[38;5;124;43m'\u001b[39;49m\u001b[43m)\u001b[49m\n\u001b[0;32m      2\u001b[0m \u001b[38;5;28mprint\u001b[39m(set_1)\n",
      "\u001b[1;31mKeyError\u001b[0m: 'Gurav'"
     ]
    }
   ],
   "source": [
    "set_1.remove('Gurav')\n",
    "print(set_1)"
   ]
  },
  {
   "cell_type": "markdown",
   "id": "1e0816ce-8618-4c4e-9920-a804c92909dd",
   "metadata": {},
   "source": [
    "# discard()"
   ]
  },
  {
   "cell_type": "code",
   "execution_count": 28,
   "id": "1301d40d-01e4-4447-988e-fdbce9276b00",
   "metadata": {},
   "outputs": [
    {
     "name": "stdout",
     "output_type": "stream",
     "text": [
      "{False, 1.618, True, 3.14, 6, 7, 8, 9, 'Rupali', 'Hello World', 2024}\n"
     ]
    }
   ],
   "source": [
    "set_1.discard(\"Hello Python\")\n",
    "print(set_1)"
   ]
  },
  {
   "cell_type": "code",
   "execution_count": 29,
   "id": "4bd0fedc-b0b9-4d3e-a442-f9b166932f03",
   "metadata": {},
   "outputs": [
    {
     "name": "stdout",
     "output_type": "stream",
     "text": [
      "{False, 1.618, True, 3.14, 6, 7, 8, 9, 'Rupali', 'Hello World', 2024}\n"
     ]
    }
   ],
   "source": [
    "set_1.discard(\"Hello Python\")\n",
    "print(set_1)"
   ]
  },
  {
   "cell_type": "code",
   "execution_count": 30,
   "id": "26b92829-102a-4e4c-a5d2-9a7c2f2e1cdd",
   "metadata": {},
   "outputs": [
    {
     "name": "stdout",
     "output_type": "stream",
     "text": [
      "{'Hello World', 1.618, 3.14, 'Hello Pyton'}\n",
      "{False, 1.618, 3.14, True}\n"
     ]
    }
   ],
   "source": [
    "set_4=set([\"Hello World\",3.14,1.618,\"Hello Pyton\"])\n",
    "set_5={3.14,1.618,True,False}\n",
    "\n",
    "print(set_4)\n",
    "print(set_5)"
   ]
  },
  {
   "cell_type": "code",
   "execution_count": 31,
   "id": "3cb79ddb-9139-4969-ba33-ca02344964df",
   "metadata": {},
   "outputs": [
    {
     "data": {
      "text/plain": [
       "({1.618, 3.14, 'Hello Pyton', 'Hello World'}, {False, True, 1.618, 3.14})"
      ]
     },
     "execution_count": 31,
     "metadata": {},
     "output_type": "execute_result"
    }
   ],
   "source": [
    "set_4,set_5"
   ]
  },
  {
   "cell_type": "code",
   "execution_count": 42,
   "id": "f515244a-618f-4775-aba7-61076c730bb9",
   "metadata": {},
   "outputs": [
    {
     "name": "stdout",
     "output_type": "stream",
     "text": [
      "{False, 1.618, True, 3.14, 'Hello World', 'Hello Pyton'}\n"
     ]
    },
    {
     "data": {
      "text/plain": [
       "'\\nunion() funciton It corresponds to all the elements in both sets.'"
      ]
     },
     "execution_count": 42,
     "metadata": {},
     "output_type": "execute_result"
    }
   ],
   "source": [
    "print(set_4.union(set_5))\n",
    "\n",
    "'''\n",
    "union() funciton It corresponds to all the elements in both sets.'''\n"
   ]
  },
  {
   "cell_type": "code",
   "execution_count": 36,
   "id": "765f6d1c-bb69-4009-b72e-d9c81149ee01",
   "metadata": {},
   "outputs": [
    {
     "name": "stdout",
     "output_type": "stream",
     "text": [
      "{'Hello World', 1.618, 3.14, 'Hello Pyton'}\n",
      "{False, 1.618, 3.14, True}\n"
     ]
    }
   ],
   "source": [
    "print(set_4)\n",
    "print(set_5)"
   ]
  },
  {
   "cell_type": "code",
   "execution_count": 37,
   "id": "4a03ca49-4ce4-4291-b3fc-ffc6e99d5e55",
   "metadata": {},
   "outputs": [
    {
     "name": "stdout",
     "output_type": "stream",
     "text": [
      "{1.618, 3.14}\n"
     ]
    }
   ],
   "source": [
    "intersection=set_4 & set_5\n",
    "print(intersection)"
   ]
  },
  {
   "cell_type": "code",
   "execution_count": 38,
   "id": "adbc7a47-45d4-4a7c-95aa-231ddbb7780a",
   "metadata": {},
   "outputs": [
    {
     "data": {
      "text/plain": [
       "{1.618, 3.14}"
      ]
     },
     "execution_count": 38,
     "metadata": {},
     "output_type": "execute_result"
    }
   ],
   "source": [
    "set_4.intersection(set_5)"
   ]
  },
  {
   "cell_type": "code",
   "execution_count": 46,
   "id": "a626e7ed-7ff5-4ce2-9591-77a1d615003e",
   "metadata": {},
   "outputs": [
    {
     "name": "stdout",
     "output_type": "stream",
     "text": [
      "A-B\n",
      "B-A\n",
      "{'Hello World', 1.618, 3.14, 'Hello Pyton'}\n",
      "{False, 1.618, 3.14, True}\n"
     ]
    }
   ],
   "source": [
    "# Difference() function\n",
    "\n",
    "'''To find the difference between two sets.'''\n",
    "\n",
    "\n",
    "print('A-B')\n",
    "print(\"B-A\")\n",
    "\n",
    "print(set_4)\n",
    "print(set_5)"
   ]
  },
  {
   "cell_type": "code",
   "execution_count": 48,
   "id": "4ba0d618-e2a2-4715-aa24-c3e24326a8ec",
   "metadata": {},
   "outputs": [
    {
     "name": "stdout",
     "output_type": "stream",
     "text": [
      "{'Hello World', 'Hello Pyton'}\n",
      "{False, True}\n"
     ]
    }
   ],
   "source": [
    "print(set_4.difference(set_5))\n",
    "print(set_5.difference(set_4))"
   ]
  },
  {
   "cell_type": "code",
   "execution_count": 50,
   "id": "07a46165-18b0-48db-8c54-01a93d19be53",
   "metadata": {},
   "outputs": [
    {
     "name": "stdout",
     "output_type": "stream",
     "text": [
      "{'Hello World', 'Hello Pyton'}\n",
      "{False, True}\n"
     ]
    }
   ],
   "source": [
    "print(set_4-set_5)\n",
    "print(set_5-set_4)"
   ]
  },
  {
   "cell_type": "code",
   "execution_count": 51,
   "id": "f5ed9407-43ce-4692-a162-90cefc0f9641",
   "metadata": {},
   "outputs": [
    {
     "name": "stdout",
     "output_type": "stream",
     "text": [
      "{'Hello World', 1.618, 3.14, 'Hello Pyton'}\n",
      "{False, 1.618, 3.14, True}\n"
     ]
    }
   ],
   "source": [
    "# Symmetric Difference\n",
    "\n",
    "print(set_4)\n",
    "print(set_5)"
   ]
  },
  {
   "cell_type": "markdown",
   "id": "06b79e89-2bbf-4d03-9630-00d57bf3ddc7",
   "metadata": {},
   "source": [
    "'Hello World' 'Hello Pyton'False,False,"
   ]
  },
  {
   "cell_type": "code",
   "execution_count": 53,
   "id": "6225cc39-1d39-49c0-98f8-2a47dab9f463",
   "metadata": {},
   "outputs": [
    {
     "data": {
      "text/plain": [
       "{False, 'Hello Pyton', 'Hello World', True}"
      ]
     },
     "execution_count": 53,
     "metadata": {},
     "output_type": "execute_result"
    }
   ],
   "source": [
    "x=set_4.symmetric_difference(set_5)\n",
    "x"
   ]
  },
  {
   "cell_type": "markdown",
   "id": "910308b9-01d8-4f74-a80c-3e6e3ca24996",
   "metadata": {},
   "source": [
    "# min(),max() and sum() functions"
   ]
  },
  {
   "cell_type": "code",
   "execution_count": 57,
   "id": "75105184-f453-4b3a-9db4-03c3dc2caccf",
   "metadata": {},
   "outputs": [
    {
     "name": "stdout",
     "output_type": "stream",
     "text": [
      "The total sum of the list: 33\n",
      "The total sum of the list: 15\n",
      "The minimum number of the list: 1\n",
      "The minimum number of the set: 1\n",
      "The maximum number of the list: 5\n",
      "The maximum number of the set: 5\n"
     ]
    }
   ],
   "source": [
    "a=[1,1,1,2,2,2,3,3,4,4,5,5]\n",
    "b={1,1,1,2,2,2,3,3,4,4,5,5}\n",
    "\n",
    "print('The total sum of the list:',sum(a))\n",
    "print('The total sum of the list:',sum(b))\n",
    "print('The minimum number of the list:',min(a))\n",
    "print('The minimum number of the set:',min(b))\n",
    "print('The maximum number of the list:',max(a))\n",
    "print(\"The maximum number of the set:\",max(b))"
   ]
  },
  {
   "cell_type": "code",
   "execution_count": 61,
   "id": "83bd7e41-27e3-46a0-ada1-fabe97f50239",
   "metadata": {},
   "outputs": [
    {
     "data": {
      "text/plain": [
       "{(1, 2, 3, 4, 5), 1, 2, 3, 4, 'Pyton'}"
      ]
     },
     "execution_count": 61,
     "metadata": {},
     "output_type": "execute_result"
    }
   ],
   "source": [
    "set_6={'Pyton',1,2,3,4,(1,2,3,4,5)}\n",
    "set_6"
   ]
  },
  {
   "cell_type": "markdown",
   "id": "7a61df96-6af5-447b-97a1-6d0e407fdc30",
   "metadata": {},
   "source": [
    "# index() function"
   ]
  },
  {
   "cell_type": "code",
   "execution_count": 63,
   "id": "385aeba7-b74f-4cd3-8f53-8472e8b34d21",
   "metadata": {},
   "outputs": [
    {
     "ename": "TypeError",
     "evalue": "'set' object is not subscriptable",
     "output_type": "error",
     "traceback": [
      "\u001b[1;31m---------------------------------------------------------------------------\u001b[0m",
      "\u001b[1;31mTypeError\u001b[0m                                 Traceback (most recent call last)",
      "Cell \u001b[1;32mIn[63], line 1\u001b[0m\n\u001b[1;32m----> 1\u001b[0m \u001b[43mset_6\u001b[49m\u001b[43m[\u001b[49m\u001b[38;5;241;43m0\u001b[39;49m\u001b[43m]\u001b[49m\n",
      "\u001b[1;31mTypeError\u001b[0m: 'set' object is not subscriptable"
     ]
    }
   ],
   "source": [
    "set_6[0]"
   ]
  },
  {
   "cell_type": "markdown",
   "id": "231649aa-9ae5-4cbc-8259-2f9c4690efe7",
   "metadata": {},
   "source": [
    "# pop() function"
   ]
  },
  {
   "cell_type": "code",
   "execution_count": 64,
   "id": "c3ab7d6a-df43-4ff9-96a2-35c7bb00a75d",
   "metadata": {},
   "outputs": [
    {
     "data": {
      "text/plain": [
       "{0, 1, 2, 3, 4, 5, 6, 7, 8, 9}"
      ]
     },
     "execution_count": 64,
     "metadata": {},
     "output_type": "execute_result"
    }
   ],
   "source": [
    "x={0,1,2,3,4,5,6,7,8,9}\n",
    "x"
   ]
  },
  {
   "cell_type": "code",
   "execution_count": 65,
   "id": "81405474-c983-4ae9-b6a3-1ce8047d8373",
   "metadata": {},
   "outputs": [
    {
     "name": "stdout",
     "output_type": "stream",
     "text": [
      "{1, 2, 3, 4, 5, 6, 7, 8, 9}\n"
     ]
    }
   ],
   "source": [
    "x.pop()\n",
    "print(x)"
   ]
  },
  {
   "cell_type": "code",
   "execution_count": 78,
   "id": "551696de-cc37-4adc-95a4-cf6e6ef8573f",
   "metadata": {},
   "outputs": [
    {
     "name": "stdout",
     "output_type": "stream",
     "text": [
      "set()\n"
     ]
    }
   ],
   "source": [
    "x.pop()\n",
    "print(x)"
   ]
  },
  {
   "cell_type": "code",
   "execution_count": 79,
   "id": "89429c00-a7e1-4ecd-b975-6e27f036fddd",
   "metadata": {},
   "outputs": [
    {
     "data": {
      "text/plain": [
       "set()"
      ]
     },
     "execution_count": 79,
     "metadata": {},
     "output_type": "execute_result"
    }
   ],
   "source": [
    "x"
   ]
  },
  {
   "cell_type": "code",
   "execution_count": 80,
   "id": "d6bed2d6-6acb-49a4-ab43-c40961d94a58",
   "metadata": {},
   "outputs": [
    {
     "ename": "KeyError",
     "evalue": "8",
     "output_type": "error",
     "traceback": [
      "\u001b[1;31m---------------------------------------------------------------------------\u001b[0m",
      "\u001b[1;31mKeyError\u001b[0m                                  Traceback (most recent call last)",
      "Cell \u001b[1;32mIn[80], line 1\u001b[0m\n\u001b[1;32m----> 1\u001b[0m \u001b[43mx\u001b[49m\u001b[38;5;241;43m.\u001b[39;49m\u001b[43mremove\u001b[49m\u001b[43m(\u001b[49m\u001b[38;5;241;43m8\u001b[39;49m\u001b[43m)\u001b[49m\n\u001b[0;32m      2\u001b[0m x\n",
      "\u001b[1;31mKeyError\u001b[0m: 8"
     ]
    }
   ],
   "source": [
    "x.remove(8)\n",
    "x"
   ]
  },
  {
   "cell_type": "code",
   "execution_count": 81,
   "id": "33b2b6ac-a2ff-4ef6-9050-05b1dbab2c36",
   "metadata": {},
   "outputs": [
    {
     "data": {
      "text/plain": [
       "set()"
      ]
     },
     "execution_count": 81,
     "metadata": {},
     "output_type": "execute_result"
    }
   ],
   "source": [
    "x"
   ]
  },
  {
   "cell_type": "code",
   "execution_count": 82,
   "id": "54c79938-78aa-4131-a989-c8a1b76f3b74",
   "metadata": {},
   "outputs": [
    {
     "data": {
      "text/plain": [
       "'Rupali'"
      ]
     },
     "execution_count": 82,
     "metadata": {},
     "output_type": "execute_result"
    }
   ],
   "source": [
    "x={\"Rupali\",\"Prajwal\",\"Adnan\",\"Sharma\"}    #fifo---> first in first out\n",
    "x.pop()"
   ]
  },
  {
   "cell_type": "code",
   "execution_count": 83,
   "id": "1e3dc052-6e7d-481e-896a-3412c2f004d5",
   "metadata": {},
   "outputs": [
    {
     "data": {
      "text/plain": [
       "{'Adnan', 'Prajwal', 'Sharma'}"
      ]
     },
     "execution_count": 83,
     "metadata": {},
     "output_type": "execute_result"
    }
   ],
   "source": [
    "x"
   ]
  },
  {
   "cell_type": "code",
   "execution_count": 84,
   "id": "b460ceaf-8e66-4725-8e74-6e11efdd19c0",
   "metadata": {},
   "outputs": [
    {
     "data": {
      "text/plain": [
       "{'Prajwal', 'Sharma'}"
      ]
     },
     "execution_count": 84,
     "metadata": {},
     "output_type": "execute_result"
    }
   ],
   "source": [
    "x.pop()\n",
    "x"
   ]
  },
  {
   "cell_type": "code",
   "execution_count": null,
   "id": "7c279b5a-7fed-4c43-bd23-139ba634485e",
   "metadata": {},
   "outputs": [],
   "source": [
    "x.pop()"
   ]
  },
  {
   "cell_type": "code",
   "execution_count": 86,
   "id": "b37cfb7a-3358-45e6-9aca-b08f5a33372a",
   "metadata": {},
   "outputs": [
    {
     "name": "stdout",
     "output_type": "stream",
     "text": [
      "[1, 1, 2, 3]\n"
     ]
    }
   ],
   "source": [
    "list=[1,1,2,3,3]\n",
    "list.pop()\n",
    "print(list)"
   ]
  },
  {
   "cell_type": "code",
   "execution_count": 87,
   "id": "04582593-52fd-4476-a6d1-de160194a019",
   "metadata": {},
   "outputs": [
    {
     "name": "stdout",
     "output_type": "stream",
     "text": [
      "[1, 1, 2]\n"
     ]
    }
   ],
   "source": [
    "list.pop()\n",
    "print(list)"
   ]
  },
  {
   "cell_type": "code",
   "execution_count": 88,
   "id": "73c67770-59ed-4950-aacd-5914423f2455",
   "metadata": {},
   "outputs": [
    {
     "name": "stdout",
     "output_type": "stream",
     "text": [
      "[1, 1]\n"
     ]
    }
   ],
   "source": [
    "list.pop()\n",
    "print(list)"
   ]
  },
  {
   "cell_type": "code",
   "execution_count": 89,
   "id": "c5a26e36-5855-4979-ae23-6a4315802364",
   "metadata": {},
   "outputs": [
    {
     "name": "stdout",
     "output_type": "stream",
     "text": [
      "[1]\n"
     ]
    }
   ],
   "source": [
    "list.pop()\n",
    "print(list)"
   ]
  },
  {
   "cell_type": "code",
   "execution_count": 90,
   "id": "cf1257cf-aa24-4712-808e-ffbe223251a2",
   "metadata": {},
   "outputs": [
    {
     "name": "stdout",
     "output_type": "stream",
     "text": [
      "[]\n"
     ]
    }
   ],
   "source": [
    "list.pop()\n",
    "print(list)"
   ]
  },
  {
   "cell_type": "code",
   "execution_count": null,
   "id": "0817a4b2-d2b3-47eb-ab7a-6d363999995d",
   "metadata": {},
   "outputs": [],
   "source": []
  }
 ],
 "metadata": {
  "kernelspec": {
   "display_name": "Python 3 (ipykernel)",
   "language": "python",
   "name": "python3"
  },
  "language_info": {
   "codemirror_mode": {
    "name": "ipython",
    "version": 3
   },
   "file_extension": ".py",
   "mimetype": "text/x-python",
   "name": "python",
   "nbconvert_exporter": "python",
   "pygments_lexer": "ipython3",
   "version": "3.11.4"
  }
 },
 "nbformat": 4,
 "nbformat_minor": 5
}
