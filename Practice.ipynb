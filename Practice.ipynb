{
 "cells": [
  {
   "cell_type": "code",
   "execution_count": 1,
   "id": "28add29a-c82b-43c4-b076-ea032bb8baae",
   "metadata": {},
   "outputs": [],
   "source": [
    "# Write a program to find the volume of the cylinder. Also find the cost when, When the cost of 1 litre milk is 60 rs.\n",
    "\n",
    "# Write a python program to search given number from the list [4,5,6,2,3,9,1,4,5,6,3]\n",
    "\n",
    "# Create a new list from a two list using following condition. Given a two list of numbers, Write a program to create a new list \n",
    "# Such that the new list should contain odd numbers from the first list and even number from the second list.\n",
    "# l1=[1,2,3,4,5]\n",
    "# l2=[6,7,8,9,10,12,14,15]\n",
    "\n",
    "# Calculate income tax for the given income by adhering to the below rules\n",
    "# first 10k--> 0%\n",
    "# second 10k--> 10%\n",
    "# remaining 20k--> 20%\n",
    "# Expected output: suppose the taxable income is 45000 the income tax payable is 100000%+1000010%25000*20%=6000."
   ]
  },
  {
   "cell_type": "code",
   "execution_count": 2,
   "id": "eb791059-a8b3-4dc1-8905-b6870294d3e2",
   "metadata": {},
   "outputs": [
    {
     "name": "stdin",
     "output_type": "stream",
     "text": [
      "Enter radius of cylinder: 12\n",
      "Enter height of cylinder: 14\n"
     ]
    },
    {
     "name": "stdout",
     "output_type": "stream",
     "text": [
      "Volume of cylinder: 6333.450789637023\n",
      "Cost : 379980\n"
     ]
    }
   ],
   "source": [
    "import math\n",
    "r=int(input(\"Enter radius of cylinder:\"))\n",
    "h=int(input(\"Enter height of cylinder:\"))\n",
    "vol=math.pi*r**2*h\n",
    "print(\"Volume of cylinder:\",vol)\n",
    "\n",
    "\n",
    "rs=60\n",
    "cost=int(vol)*rs\n",
    "print(\"Cost :\",cost)"
   ]
  },
  {
   "cell_type": "code",
   "execution_count": 7,
   "id": "a08a9257-4dc3-4df9-b8d2-962975561971",
   "metadata": {},
   "outputs": [
    {
     "name": "stdin",
     "output_type": "stream",
     "text": [
      "Enter any number: 5\n"
     ]
    },
    {
     "name": "stdout",
     "output_type": "stream",
     "text": [
      "Number is Exist.\n"
     ]
    }
   ],
   "source": [
    "# Write a python program to search given number from the list [4,5,6,2,3,9,1,4,5,6,3]\n",
    "\n",
    "l1=[4,5,6,2,3,9,1,4,5,6,3]\n",
    "\n",
    "n=int(input('Enter any number:'))\n",
    "\n",
    "for i in l1:\n",
    "    if i==n:\n",
    "        print(\"Number is Exist.\")\n",
    "        break\n",
    "else:\n",
    "    print(\"Number is Not Exist.\")"
   ]
  },
  {
   "cell_type": "code",
   "execution_count": 13,
   "id": "e9abecd9-61d2-4d28-b595-6aef83c57946",
   "metadata": {},
   "outputs": [
    {
     "name": "stdout",
     "output_type": "stream",
     "text": [
      "New list : [1, 3, 5, 13, 6, 8, 10, 12, 14]\n"
     ]
    }
   ],
   "source": [
    "# 3. Create a new list from a two list using following condition. Given a two list of number. Write a program to create a new list \n",
    "# such that the new list should contain odd numbers from the first list and even number from the second list.\n",
    "# l1=[1,2,3,4,5,]\n",
    "#l2=[6,7,8,9,10,12,14,15]\n",
    "l1=[1,2,3,4,5,13]\n",
    "l2=[6,7,8,9,10,12,14,15]\n",
    "l3=[]\n",
    "for i in l1:\n",
    "    if i%2==1:\n",
    "        l3.append(i)\n",
    "for j in l2:\n",
    "    if j%2==0:\n",
    "        l3.append(j)\n",
    "print(\"New list :\",l3)"
   ]
  },
  {
   "cell_type": "code",
   "execution_count": 16,
   "id": "d0528813-1937-4154-8605-26666173f19d",
   "metadata": {},
   "outputs": [
    {
     "name": "stdin",
     "output_type": "stream",
     "text": [
      "Enter any number: 45000\n"
     ]
    },
    {
     "name": "stdout",
     "output_type": "stream",
     "text": [
      "6000.0\n"
     ]
    }
   ],
   "source": [
    "# Calculate income tax for the given income by adhering to the below rules\n",
    "# first 10k--> 0%\n",
    "# second 10k--> 10%\n",
    "# remaining 20k--> 20%\n",
    "# Expected output: suppose the taxable income is 45000 the income tax payable is 100000%+1000010%25000*20%=6000.\n",
    "\n",
    "n=int(input('Enter any number:'))\n",
    "\n",
    "if n<=10000:\n",
    "    print(n)\n",
    "else:\n",
    "    a=n-10000\n",
    "    b=a-10000\n",
    "    c=b*0.2\n",
    "    d=c+1000\n",
    "    print(d)"
   ]
  },
  {
   "cell_type": "code",
   "execution_count": null,
   "id": "141843bb-b360-41fe-a8f4-e28f03361e96",
   "metadata": {},
   "outputs": [],
   "source": [
    "# Write a python function to sum all the numbers in a given:- 8,2,3,0,7\n",
    "# Write a python function to multiply all the numbers in a given- 8,2,3,-1,7\n",
    "# Write a python program to check whether a number falls in a given range-3,10"
   ]
  },
  {
   "cell_type": "code",
   "execution_count": 18,
   "id": "9249cdb0-bd50-4d05-b492-12dea443f6a1",
   "metadata": {},
   "outputs": [
    {
     "name": "stdout",
     "output_type": "stream",
     "text": [
      "Sum of all numbers: 120\n"
     ]
    }
   ],
   "source": [
    "# 5. Write a python function to sum all the numbers in a given:- 8,2,3,0,7\n",
    "\n",
    "def sum(*args):\n",
    "    s1=0\n",
    "    for i in args:\n",
    "        s1=s1+i\n",
    "    print(\"Sum of all numbers:\",s1)\n",
    "\n",
    "sum(8,2,3,0,7,10,20,30,40)"
   ]
  },
  {
   "cell_type": "code",
   "execution_count": 20,
   "id": "75771945-09ce-4384-9423-26098631df16",
   "metadata": {},
   "outputs": [
    {
     "name": "stdout",
     "output_type": "stream",
     "text": [
      "Multiplication of all number: 30240000\n"
     ]
    }
   ],
   "source": [
    "# 6. Write a python function to multiply all the numbers in a given :- 8,2,3,-1,7\n",
    "\n",
    "def mul(*args):\n",
    "    m1=1\n",
    "    for i in args:\n",
    "        m1=m1*i\n",
    "    print(\"Multiplication of all number:\",m1)\n",
    "mul(8,2,3,-1,7,-45,40,50)"
   ]
  },
  {
   "cell_type": "code",
   "execution_count": 22,
   "id": "b7772d16-e206-41bd-8110-a4a863c2ef99",
   "metadata": {},
   "outputs": [
    {
     "name": "stdin",
     "output_type": "stream",
     "text": [
      "Enter number: 11\n"
     ]
    },
    {
     "name": "stdout",
     "output_type": "stream",
     "text": [
      "Number not falls in given range\n"
     ]
    }
   ],
   "source": [
    "# 7. Write a python program to check wheather a number falls in a given range -3,10\n",
    "num=int(input(\"Enter number:\"))\n",
    "for i in range(-3,10):\n",
    "    if num==i:\n",
    "        print(\"Number falls in given range\")\n",
    "        break\n",
    "\n",
    "else:\n",
    "    print(\"Number not falls in given range\")"
   ]
  },
  {
   "cell_type": "code",
   "execution_count": 23,
   "id": "f90f29c0-79f2-4c23-9daf-c5aa7d66d1a8",
   "metadata": {},
   "outputs": [],
   "source": [
    "# Write a Python function that accepts a string and find the number of upper case letter and lower case letters."
   ]
  },
  {
   "cell_type": "code",
   "execution_count": 24,
   "id": "6ce7b5b2-23c6-4fcb-a5a3-48ce7dedc6d4",
   "metadata": {},
   "outputs": [
    {
     "name": "stdout",
     "output_type": "stream",
     "text": [
      "Upper case letter: 1 \n",
      "Lower case letter: 4\n"
     ]
    }
   ],
   "source": [
    "# 8. Write a python function that accepts a string and find the number of upper case and lower case letter\n",
    "def str(s):\n",
    "    upper=0\n",
    "    lower=0\n",
    "    for i in s:\n",
    "        if i.isupper():\n",
    "            upper+=1\n",
    "        else:\n",
    "            lower+=1\n",
    "    print(\"Upper case letter:\",upper,\"\\nLower case letter:\",lower)\n",
    "\n",
    "str(\"Parul\")"
   ]
  },
  {
   "cell_type": "code",
   "execution_count": null,
   "id": "190d0469-f6ab-4c32-b1bf-6f880149980e",
   "metadata": {},
   "outputs": [],
   "source": []
  }
 ],
 "metadata": {
  "kernelspec": {
   "display_name": "Python 3 (ipykernel)",
   "language": "python",
   "name": "python3"
  },
  "language_info": {
   "codemirror_mode": {
    "name": "ipython",
    "version": 3
   },
   "file_extension": ".py",
   "mimetype": "text/x-python",
   "name": "python",
   "nbconvert_exporter": "python",
   "pygments_lexer": "ipython3",
   "version": "3.11.4"
  }
 },
 "nbformat": 4,
 "nbformat_minor": 5
}
