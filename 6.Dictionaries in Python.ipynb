{
 "cells": [
  {
   "cell_type": "markdown",
   "id": "a68403cf-ae1e-4f95-91b0-ca761b1a2c04",
   "metadata": {},
   "source": [
    "# 6. Dictionaries in Python\n",
    "\n",
    " * __Dictionaries are used to store data values in Key:Value pairs.__\n",
    " * __A dictionary is a collection which is ordered, changeable or mutable and do not allow duplicates.__\n",
    " * __Dictionary items are ordered, changeable, and does not allow duplicates.__\n",
    " * __Dictionary items presented in key:value pair, and can be referred by using the key name.__\n",
    " * __Dictionaries are changeable, meaning that we can change, add or remove items after the dictionary has been created.__\n",
    " * __Dictionaries cannot have two items with the same key.__\n",
    " * __A dictionary can nested and can contain another dictionar.__\n",
    "\n",
    "        * Key ----------------------- Values\n",
    "        * \"name\":--------------------> \"Bob\"\n",
    "        * \"age\":---------------------> 25\n",
    "        * \"job\": --------------------> \"Software Developer\"\n",
    "        * \"city\": -------------------> \"New York\"\n",
    "        * \"email\": ------------------> \"bob@web.com\""
   ]
  },
  {
   "cell_type": "code",
   "execution_count": 1,
   "id": "933a516d-00f5-4274-9a97-c5d6e601a28d",
   "metadata": {},
   "outputs": [
    {
     "data": {
      "text/plain": [
       "{'key_1': 3.14,\n",
       " 'key_2': 1.618,\n",
       " 'key_3': True,\n",
       " 'key_4': [3.14, 1.618],\n",
       " 'key_5': ('Hello world', 10)}"
      ]
     },
     "execution_count": 1,
     "metadata": {},
     "output_type": "execute_result"
    }
   ],
   "source": [
    "# Take a sample dictioanry\n",
    "sample_dict={ 'key_1':3.14,'key_2':1.618, 'key_3': True,\n",
    "             'key_4':[3.14,1.618],'key_5':(\"Hello world\",10)}\n",
    "sample_dict"
   ]
  },
  {
   "cell_type": "code",
   "execution_count": 6,
   "id": "76e225d1-b26f-41d6-a82d-27747b922fe2",
   "metadata": {},
   "outputs": [
    {
     "name": "stdout",
     "output_type": "stream",
     "text": [
      "3.14\n",
      "1.618\n",
      "True\n",
      "[3.14, 1.618]\n",
      "('Hello world', 10)\n"
     ]
    }
   ],
   "source": [
    "print(sample_dict['key_1'])\n",
    "print(sample_dict['key_2'])\n",
    "print(sample_dict['key_3'])\n",
    "print(sample_dict['key_4'])\n",
    "print(sample_dict['key_5'])"
   ]
  },
  {
   "cell_type": "code",
   "execution_count": 8,
   "id": "f57239a2-b8ac-4ada-a86b-8b0dcbb46e3e",
   "metadata": {},
   "outputs": [
    {
     "name": "stdout",
     "output_type": "stream",
     "text": [
      "<class 'list'>\n"
     ]
    }
   ],
   "source": [
    "print(type(sample_dict['key_4']))"
   ]
  },
  {
   "cell_type": "code",
   "execution_count": 11,
   "id": "3ee4e2f7-e88c-4823-9bcc-1050656a4e5c",
   "metadata": {},
   "outputs": [
    {
     "data": {
      "text/plain": [
       "dict_keys(['key_1', 'key_2', 'key_3', 'key_4', 'key_5'])"
      ]
     },
     "execution_count": 11,
     "metadata": {},
     "output_type": "execute_result"
    }
   ],
   "source": [
    "# What are the keys in the dictionary?\n",
    "sample_dict.keys()"
   ]
  },
  {
   "cell_type": "code",
   "execution_count": 12,
   "id": "9bb4de3f-5e54-461f-b930-f3516ed4aef7",
   "metadata": {},
   "outputs": [
    {
     "data": {
      "text/plain": [
       "dict_values([3.14, 1.618, True, [3.14, 1.618], ('Hello world', 10)])"
      ]
     },
     "execution_count": 12,
     "metadata": {},
     "output_type": "execute_result"
    }
   ],
   "source": [
    "# Whate the values in the dictionary?\n",
    "sample_dict.values()"
   ]
  },
  {
   "cell_type": "code",
   "execution_count": 22,
   "id": "1426407d-6684-4412-8dba-d42fc7054eb9",
   "metadata": {},
   "outputs": [
    {
     "data": {
      "text/plain": [
       "{'First_name': 'Adnan',\n",
       " 'Last_name': 'Shaikh',\n",
       " 'Age': 22,\n",
       " 'Email': 'adnan123@gmail.com',\n",
       " 'Phone_No': 1234567890,\n",
       " 'Address': 'Kharadi'}"
      ]
     },
     "execution_count": 22,
     "metadata": {},
     "output_type": "execute_result"
    }
   ],
   "source": [
    "details={\"First_name\":\"Adnan\", \"Last_name\":\"Shaikh\",\n",
    "         \"Age\": 22, \"Email\":\"adnan123@gmail.com\",\n",
    "         \"Phone_No\":1234567890,\"Address\":\"Kharadi\"\n",
    "    \n",
    "}\n",
    "\n",
    "details"
   ]
  },
  {
   "cell_type": "code",
   "execution_count": 23,
   "id": "bf802857-7b74-4dc7-a74a-8c61ddaf5bfd",
   "metadata": {},
   "outputs": [
    {
     "data": {
      "text/plain": [
       "dict_keys(['First_name', 'Last_name', 'Age', 'Email', 'Phone_No', 'Address'])"
      ]
     },
     "execution_count": 23,
     "metadata": {},
     "output_type": "execute_result"
    }
   ],
   "source": [
    "details.keys()"
   ]
  },
  {
   "cell_type": "code",
   "execution_count": 24,
   "id": "11446706-9f89-4b96-a659-ccc59437b64c",
   "metadata": {},
   "outputs": [
    {
     "data": {
      "text/plain": [
       "{'First_name': 'Adnan',\n",
       " 'Last_name': 'Shaikh',\n",
       " 'Age': 22,\n",
       " 'Email': 'adnan123@gmail.com',\n",
       " 'Phone_No': 1234567890,\n",
       " 'Address': 'Kharadi',\n",
       " 'Eduction': 'Gradution'}"
      ]
     },
     "execution_count": 24,
     "metadata": {},
     "output_type": "execute_result"
    }
   ],
   "source": [
    "# Addition of a new key:value pair in the dictionary.\n",
    "\n",
    "details[\"Eduction\"]=\"Gradution\"\n",
    "details"
   ]
  },
  {
   "cell_type": "code",
   "execution_count": 28,
   "id": "3d5b1134-991d-4e7f-be2c-838d0ca2a355",
   "metadata": {},
   "outputs": [
    {
     "data": {
      "text/plain": [
       "{'First_name': 'Adnan',\n",
       " 'Last_name': 'Shaikh',\n",
       " 'Age': 22,\n",
       " 'Email': 'adnan123@gmail.com',\n",
       " 'Phone_No': 1234567890,\n",
       " 'Address': 'Kharadi',\n",
       " 'Eduction': 'Gradution',\n",
       " 'First_name_1': 'Prajwal'}"
      ]
     },
     "execution_count": 28,
     "metadata": {},
     "output_type": "execute_result"
    }
   ],
   "source": [
    "details[\"First_name\"]=\"Adnan\"\n",
    "details"
   ]
  },
  {
   "cell_type": "code",
   "execution_count": 29,
   "id": "b1a13ee6-020c-4788-8673-c2c542378012",
   "metadata": {},
   "outputs": [
    {
     "data": {
      "text/plain": [
       "{'First_name': 'Adnan',\n",
       " 'Last_name': 'Shaikh',\n",
       " 'Age': 22,\n",
       " 'Email': 'adnan123@gmail.com',\n",
       " 'Phone_No': 1234567890,\n",
       " 'Address': 'Kharadi',\n",
       " 'Eduction': 'Gradution'}"
      ]
     },
     "execution_count": 29,
     "metadata": {},
     "output_type": "execute_result"
    }
   ],
   "source": [
    "# Delete an item using del() function in the dictionary by key\n",
    "\n",
    "del(details['First_name_1'])\n",
    "details"
   ]
  },
  {
   "cell_type": "code",
   "execution_count": 31,
   "id": "be859879-e922-481f-bdfd-8b47f6f751c1",
   "metadata": {},
   "outputs": [
    {
     "ename": "KeyError",
     "evalue": "'Adnan'",
     "output_type": "error",
     "traceback": [
      "\u001b[1;31m---------------------------------------------------------------------------\u001b[0m",
      "\u001b[1;31mKeyError\u001b[0m                                  Traceback (most recent call last)",
      "Cell \u001b[1;32mIn[31], line 1\u001b[0m\n\u001b[1;32m----> 1\u001b[0m \u001b[38;5;28;01mdel\u001b[39;00m(\u001b[43mdetails\u001b[49m\u001b[43m[\u001b[49m\u001b[38;5;124;43m'\u001b[39;49m\u001b[38;5;124;43mAdnan\u001b[39;49m\u001b[38;5;124;43m'\u001b[39;49m\u001b[43m]\u001b[49m)\n",
      "\u001b[1;31mKeyError\u001b[0m: 'Adnan'"
     ]
    }
   ],
   "source": [
    "del(details['Adnan'])"
   ]
  },
  {
   "cell_type": "code",
   "execution_count": 32,
   "id": "2fada2d8-fdfb-42c8-9c90-8170906ef8e0",
   "metadata": {},
   "outputs": [
    {
     "data": {
      "text/plain": [
       "{'First_name': 'Adnan',\n",
       " 'Last_name': 'Shaikh',\n",
       " 'Age': 22,\n",
       " 'Email': 'adnan123@gmail.com',\n",
       " 'Phone_No': 1234567890,\n",
       " 'Address': 'Kharadi',\n",
       " 'Eduction': 'Gradution'}"
      ]
     },
     "execution_count": 32,
     "metadata": {},
     "output_type": "execute_result"
    }
   ],
   "source": [
    "details"
   ]
  },
  {
   "cell_type": "code",
   "execution_count": 35,
   "id": "660bab58-f84f-423d-8442-30f595225f66",
   "metadata": {},
   "outputs": [
    {
     "name": "stdout",
     "output_type": "stream",
     "text": [
      "True\n",
      "True\n",
      "False\n"
     ]
    }
   ],
   "source": [
    "# Verification using in or not in\n",
    "\n",
    "print(\"First_name\" in details)\n",
    "print(\"Age\" in details)\n",
    "print(\"Contact\" in details)"
   ]
  },
  {
   "cell_type": "markdown",
   "id": "292a1b4f-c548-4645-9951-39ec2170d412",
   "metadata": {},
   "source": [
    "# dict() function"
   ]
  },
  {
   "cell_type": "code",
   "execution_count": 36,
   "id": "77048fe3-4d6a-4648-b42e-9aeedeb975d6",
   "metadata": {},
   "outputs": [
    {
     "data": {
      "text/plain": [
       "{'family': 'Music', 'type': 'pop', 'year': '2024', 'name': 'happy new year'}"
      ]
     },
     "execution_count": 36,
     "metadata": {},
     "output_type": "execute_result"
    }
   ],
   "source": [
    "dict_sample=dict(family=\"Music\",type=\"pop\",year='2024',name=\"happy new year\")\n",
    "dict_sample"
   ]
  },
  {
   "cell_type": "code",
   "execution_count": 37,
   "id": "8b6a9f33-24bb-4203-970e-e7cab2606db5",
   "metadata": {},
   "outputs": [
    {
     "data": {
      "text/plain": [
       "'Music'"
      ]
     },
     "execution_count": 37,
     "metadata": {},
     "output_type": "execute_result"
    }
   ],
   "source": [
    "dict_sample['family']"
   ]
  },
  {
   "cell_type": "markdown",
   "id": "46588cff-d35a-446c-8d55-dd3d72b1a185",
   "metadata": {},
   "source": [
    "# clear() functions\n"
   ]
  },
  {
   "cell_type": "code",
   "execution_count": 39,
   "id": "70f62aaa-3c07-4c89-a529-b1be33778251",
   "metadata": {},
   "outputs": [
    {
     "data": {
      "text/plain": [
       "{}"
      ]
     },
     "execution_count": 39,
     "metadata": {},
     "output_type": "execute_result"
    }
   ],
   "source": [
    "dict_sample.clear()\n",
    "dict_sample"
   ]
  },
  {
   "cell_type": "code",
   "execution_count": 40,
   "id": "66380d1d-5351-4bff-a4ef-c30ac5eb5577",
   "metadata": {},
   "outputs": [],
   "source": [
    "dict_sample['name']=\"Rupali\""
   ]
  },
  {
   "cell_type": "code",
   "execution_count": 41,
   "id": "18e9e8d9-397e-480e-aec3-b35cb8e659b0",
   "metadata": {},
   "outputs": [
    {
     "data": {
      "text/plain": [
       "{'name': 'Rupali'}"
      ]
     },
     "execution_count": 41,
     "metadata": {},
     "output_type": "execute_result"
    }
   ],
   "source": [
    "dict_sample"
   ]
  },
  {
   "cell_type": "code",
   "execution_count": 46,
   "id": "f39d6b8a-97e1-4cad-9d54-c4a94c684ccd",
   "metadata": {},
   "outputs": [
    {
     "name": "stdout",
     "output_type": "stream",
     "text": [
      "{'First_name': 'Adnan', 'Last_name': 'Shaikh', 'Age': 22, 'Email': 'adnan123@gmail.com', 'Phone_No': 1234567890, 'Address': 'Kharadi'}\n",
      "{'First_name': 'Adnan', 'Last_name': 'Shaikh', 'Age': 22, 'Email': 'adnan123@gmail.com', 'Phone_No': 1234567890, 'Address': 'Kharadi'}\n",
      "{'First_name': 'Adnan', 'Last_name': 'Shaikh', 'Age': 22, 'Email': 'adnan123@gmail.com', 'Phone_No': 1234567890, 'Address': 'Kharadi', 'Hobby': 'Reading'}\n",
      "{'First_name': 'Adnan', 'Last_name': 'Shaikh', 'Age': 22, 'Email': 'adnan123@gmail.com', 'Phone_No': 1234567890, 'Address': 'Kharadi'}\n"
     ]
    }
   ],
   "source": [
    "# copy function  # deep copy # clone copy\n",
    "\n",
    "details={\"First_name\":\"Adnan\", \"Last_name\":\"Shaikh\",\n",
    "         \"Age\": 22, \"Email\":\"adnan123@gmail.com\",\n",
    "         \"Phone_No\":1234567890,\"Address\":\"Kharadi\"\n",
    "    \n",
    "}\n",
    "details\n",
    "\n",
    "\n",
    "details_copy=details.copy()\n",
    "print(details)\n",
    "\n",
    "print(details_copy)\n",
    "\n",
    "details[\"Hobby\"]=\"Reading\"\n",
    "print(details)\n",
    "\n",
    "print(details_copy)"
   ]
  },
  {
   "cell_type": "code",
   "execution_count": 51,
   "id": "751ab241-c9bc-47dc-b892-6a27972e2110",
   "metadata": {},
   "outputs": [
    {
     "name": "stdout",
     "output_type": "stream",
     "text": [
      "Original {'Name': 'xyz', 'age': 45}\n",
      "duplicate {'Name': 'xyz', 'age': 45}\n",
      "{'Name': 'xyz', 'age': 45, 'Hobby': 'Dance'}\n"
     ]
    }
   ],
   "source": [
    "# Deep copy\n",
    "\n",
    "x={\"Name\":\"xyz\",\"age\":45}\n",
    "print(\"Original\",x)\n",
    "\n",
    "y=x\n",
    "print('duplicate',y)\n",
    "\n",
    "y['Hobby']='Dance'\n",
    "print(y)"
   ]
  },
  {
   "cell_type": "code",
   "execution_count": 53,
   "id": "a98abb4c-e1a1-4ec8-af33-37e80778a705",
   "metadata": {},
   "outputs": [
    {
     "name": "stdout",
     "output_type": "stream",
     "text": [
      "{'Name': 'xyz', 'age': 45, 'Hobby': 'Dance'}\n"
     ]
    }
   ],
   "source": [
    "print(x)"
   ]
  },
  {
   "cell_type": "code",
   "execution_count": 65,
   "id": "16cc9e00-276d-4093-bf5a-bcaf53499c59",
   "metadata": {},
   "outputs": [
    {
     "data": {
      "text/plain": [
       "{'First_name': 'Adnan',\n",
       " 'Last_name': 'Shaikh',\n",
       " 'Age': 22,\n",
       " 'Email': 'adnan123@gmail.com',\n",
       " 'Phone_No': 1234567890,\n",
       " 'Address': 'Kharadi'}"
      ]
     },
     "execution_count": 65,
     "metadata": {},
     "output_type": "execute_result"
    }
   ],
   "source": [
    "details={\"First_name\":\"Adnan\", \"Last_name\":\"Shaikh\",\n",
    "         \"Age\": 22, \"Email\":\"adnan123@gmail.com\",\n",
    "         \"Phone_No\":1234567890,\"Address\":\"Kharadi\"\n",
    "    \n",
    "}\n",
    "\n",
    "details"
   ]
  },
  {
   "cell_type": "code",
   "execution_count": 59,
   "id": "9efa380d-5f01-4745-b62a-1ba33152e43a",
   "metadata": {},
   "outputs": [
    {
     "data": {
      "text/plain": [
       "{'Last_name': 'Shaikh',\n",
       " 'Age': 22,\n",
       " 'Email': 'adnan123@gmail.com',\n",
       " 'Phone_No': 1234567890,\n",
       " 'Address': 'Kharadi'}"
      ]
     },
     "execution_count": 59,
     "metadata": {},
     "output_type": "execute_result"
    }
   ],
   "source": [
    "details.pop('First_name')\n",
    "details"
   ]
  },
  {
   "cell_type": "markdown",
   "id": "abdad6b8-1d6a-4706-bd48-f271c05f59eb",
   "metadata": {},
   "source": [
    "# popitem() function"
   ]
  },
  {
   "cell_type": "code",
   "execution_count": 60,
   "id": "5672f6fb-4584-454c-8b64-29cd01a1ef4e",
   "metadata": {},
   "outputs": [
    {
     "data": {
      "text/plain": [
       "{'Last_name': 'Shaikh',\n",
       " 'Age': 22,\n",
       " 'Email': 'adnan123@gmail.com',\n",
       " 'Phone_No': 1234567890,\n",
       " 'Address': 'Kharadi'}"
      ]
     },
     "execution_count": 60,
     "metadata": {},
     "output_type": "execute_result"
    }
   ],
   "source": [
    "details"
   ]
  },
  {
   "cell_type": "code",
   "execution_count": 63,
   "id": "1f01fc89-6733-4da2-8109-ce794511356f",
   "metadata": {},
   "outputs": [
    {
     "data": {
      "text/plain": [
       "{'Last_name': 'Shaikh', 'Age': 22}"
      ]
     },
     "execution_count": 63,
     "metadata": {},
     "output_type": "execute_result"
    }
   ],
   "source": [
    "details.popitem()\n",
    "details"
   ]
  },
  {
   "cell_type": "code",
   "execution_count": 66,
   "id": "3b54a062-e15e-4f9b-b839-def29c628ada",
   "metadata": {},
   "outputs": [
    {
     "data": {
      "text/plain": [
       "{'First_name': 'Adnan',\n",
       " 'Last_name': 'Shaikh',\n",
       " 'Age': 22,\n",
       " 'Email': 'adnan123@gmail.com',\n",
       " 'Phone_No': 1234567890,\n",
       " 'Address': 'Kharadi'}"
      ]
     },
     "execution_count": 66,
     "metadata": {},
     "output_type": "execute_result"
    }
   ],
   "source": [
    "details"
   ]
  },
  {
   "cell_type": "code",
   "execution_count": 71,
   "id": "9a34edb1-60e8-4da3-b1e4-d150f0d3cb61",
   "metadata": {},
   "outputs": [
    {
     "data": {
      "text/plain": [
       "'Kharadi'"
      ]
     },
     "execution_count": 71,
     "metadata": {},
     "output_type": "execute_result"
    }
   ],
   "source": [
    "details[\"Address\"]"
   ]
  },
  {
   "cell_type": "code",
   "execution_count": 72,
   "id": "c11a1821-bfa9-459a-a9db-d2fe86334ea2",
   "metadata": {},
   "outputs": [
    {
     "data": {
      "text/plain": [
       "dict_keys(['First_name', 'Last_name', 'Age', 'Email', 'Phone_No', 'Address'])"
      ]
     },
     "execution_count": 72,
     "metadata": {},
     "output_type": "execute_result"
    }
   ],
   "source": [
    "details.keys()"
   ]
  },
  {
   "cell_type": "code",
   "execution_count": 73,
   "id": "ab64d6ff-ce01-4aec-bc6a-a9fb990aae65",
   "metadata": {},
   "outputs": [
    {
     "data": {
      "text/plain": [
       "dict_values(['Adnan', 'Shaikh', 22, 'adnan123@gmail.com', 1234567890, 'Kharadi'])"
      ]
     },
     "execution_count": 73,
     "metadata": {},
     "output_type": "execute_result"
    }
   ],
   "source": [
    "details.values()"
   ]
  },
  {
   "cell_type": "code",
   "execution_count": 74,
   "id": "0099369d-053a-410a-9a62-97c8d42e0807",
   "metadata": {},
   "outputs": [
    {
     "data": {
      "text/plain": [
       "dict_items([('First_name', 'Adnan'), ('Last_name', 'Shaikh'), ('Age', 22), ('Email', 'adnan123@gmail.com'), ('Phone_No', 1234567890), ('Address', 'Kharadi')])"
      ]
     },
     "execution_count": 74,
     "metadata": {},
     "output_type": "execute_result"
    }
   ],
   "source": [
    "details.items()"
   ]
  },
  {
   "cell_type": "code",
   "execution_count": null,
   "id": "27502c0a-bd27-423b-a645-27d26c5c3b27",
   "metadata": {},
   "outputs": [],
   "source": []
  }
 ],
 "metadata": {
  "kernelspec": {
   "display_name": "Python 3 (ipykernel)",
   "language": "python",
   "name": "python3"
  },
  "language_info": {
   "codemirror_mode": {
    "name": "ipython",
    "version": 3
   },
   "file_extension": ".py",
   "mimetype": "text/x-python",
   "name": "python",
   "nbconvert_exporter": "python",
   "pygments_lexer": "ipython3",
   "version": "3.11.4"
  }
 },
 "nbformat": 4,
 "nbformat_minor": 5
}
