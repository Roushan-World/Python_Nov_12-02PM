{
 "cells": [
  {
   "cell_type": "markdown",
   "id": "f61294f1-1b3a-444d-b256-ca7d5f0b4460",
   "metadata": {},
   "source": [
    "# 9. Functions in Python\n",
    "\n",
    " * __In pyhton, a function is a group of related statements that performs a specific task.__\n",
    " * __Funcitons help break our program into smaller and modular chunks. * As our program grows larger and larger, functions make it more organized and manageable.__\n",
    " * __Furthermore, it avoids repetition and makes the code reusable.__\n",
    " * __There are two types of functions__\n",
    " * __Pre-defined functions__\n",
    " * __User-defined functions__\n",
    " * __In python, a functin is defined using def keyword followed by the function name and parentheses().__\n",
    " * __Keyword def that marks the start of the function header.__\n",
    " * __A function name to uniquely identify the function.__\n",
    " * __Function naming follows the same rule of writing identifiers in Python.__\n",
    " * __Parameters(arguments) through withc we pass values to a funciton. They are optional.__\n",
    " * __A colong(:) to mark the end of the function header.__\n",
    " * __Optional documentation string(docstring) to describe what the function does.__\n",
    " * __one or more valid python statements that make up the function body.__\n",
    " * __Statements must have the same indentation level(usually 4 spaces).__\n",
    " * __An optional return statement to return a value from the function.__    "
   ]
  },
  {
   "cell_type": "code",
   "execution_count": 29,
   "id": "c75052bf-edf2-4bfa-848d-ab77059ca9b9",
   "metadata": {},
   "outputs": [
    {
     "name": "stdout",
     "output_type": "stream",
     "text": [
      "If you make the above operations with 10, the result will be 18,2,1.25 and 2\n"
     ]
    },
    {
     "data": {
      "text/plain": [
       "(18, 2, 1.25, 2)"
      ]
     },
     "execution_count": 29,
     "metadata": {},
     "output_type": "execute_result"
    }
   ],
   "source": [
    "def process(x):\n",
    "    y1=x+8\n",
    "    y2=x-8\n",
    "    y3=x/8\n",
    "    y4=x%8\n",
    "    print(f'If you make the above operations with {x}, the result will be {y1},{y2},{y3} and {y4}')\n",
    "    return y1,y2,y3,y4\n",
    "process(10)"
   ]
  },
  {
   "cell_type": "code",
   "execution_count": 7,
   "id": "6e6b6a8e-000e-4ece-8a92-e498b1431e2c",
   "metadata": {},
   "outputs": [
    {
     "name": "stdout",
     "output_type": "stream",
     "text": [
      "If you make the above operations with 20, the result will be 28,12,2.5 and 4\n"
     ]
    },
    {
     "data": {
      "text/plain": [
       "(28, 12, 2.5, 4)"
      ]
     },
     "execution_count": 7,
     "metadata": {},
     "output_type": "execute_result"
    }
   ],
   "source": [
    "process(20)"
   ]
  },
  {
   "cell_type": "code",
   "execution_count": 8,
   "id": "5dfdb14f-0bfa-46d0-9dfc-728a3bfdc98d",
   "metadata": {},
   "outputs": [
    {
     "name": "stdout",
     "output_type": "stream",
     "text": [
      "If you make the above operations with 50, the result will be 58,42,6.25 and 2\n"
     ]
    },
    {
     "data": {
      "text/plain": [
       "(58, 42, 6.25, 2)"
      ]
     },
     "execution_count": 8,
     "metadata": {},
     "output_type": "execute_result"
    }
   ],
   "source": [
    "process(50)"
   ]
  },
  {
   "cell_type": "code",
   "execution_count": 9,
   "id": "e8e20133-c0e8-4dad-a64e-7f47da5eeb78",
   "metadata": {},
   "outputs": [
    {
     "name": "stdout",
     "output_type": "stream",
     "text": [
      "Help on function process in module __main__:\n",
      "\n",
      "process(x)\n",
      "\n"
     ]
    }
   ],
   "source": [
    "help(process)"
   ]
  },
  {
   "cell_type": "code",
   "execution_count": 10,
   "id": "36e6d177-0446-4ee9-86d4-1085122246fb",
   "metadata": {},
   "outputs": [
    {
     "name": "stdout",
     "output_type": "stream",
     "text": [
      "If you make the above operations with -10, the result will be -2,-18,-1.25 and 6\n"
     ]
    },
    {
     "data": {
      "text/plain": [
       "(-2, -18, -1.25, 6)"
      ]
     },
     "execution_count": 10,
     "metadata": {},
     "output_type": "execute_result"
    }
   ],
   "source": [
    "process(-10)"
   ]
  },
  {
   "cell_type": "code",
   "execution_count": 11,
   "id": "a11450f5-cfae-41e5-80b0-5c73b7c3cf3f",
   "metadata": {},
   "outputs": [
    {
     "name": "stdout",
     "output_type": "stream",
     "text": [
      "59.370000000000005\n"
     ]
    }
   ],
   "source": [
    "# passing multiple parameter with function\n",
    "\n",
    "def multi(x,y):\n",
    "    z=2*x+5*y+45\n",
    "    return z\n",
    "\n",
    "output=multi(3.14,1.618)\n",
    "print(output)"
   ]
  },
  {
   "cell_type": "code",
   "execution_count": 12,
   "id": "b18fb362-01fb-4c03-a33b-6bfbf22f45ff",
   "metadata": {},
   "outputs": [
    {
     "name": "stdout",
     "output_type": "stream",
     "text": [
      "285\n"
     ]
    }
   ],
   "source": [
    "a=multi(20,40)\n",
    "print(a)"
   ]
  },
  {
   "cell_type": "code",
   "execution_count": 13,
   "id": "5fd1a7dd-a5a4-4b7b-90a5-e6d48a01aa7f",
   "metadata": {},
   "outputs": [
    {
     "data": {
      "text/plain": [
       "75"
      ]
     },
     "execution_count": 13,
     "metadata": {},
     "output_type": "execute_result"
    }
   ],
   "source": [
    "a1=multi(-10,10)\n",
    "a1"
   ]
  },
  {
   "cell_type": "code",
   "execution_count": 18,
   "id": "a997da07-bfb3-4b70-b3e9-b4b5baefd769",
   "metadata": {},
   "outputs": [
    {
     "name": "stdout",
     "output_type": "stream",
     "text": [
      "(31.18, 30)\n"
     ]
    }
   ],
   "source": [
    "abc=10\n",
    "def function(x):\n",
    "    y=10\n",
    "    z=3*x+1.618*y\n",
    "\n",
    "    z1=3*y\n",
    "    return z,z1\n",
    "\n",
    "var=function(5)\n",
    "print(var)"
   ]
  },
  {
   "cell_type": "code",
   "execution_count": 19,
   "id": "a31e28ae-c2a0-43f5-be0f-7d5051e9056b",
   "metadata": {},
   "outputs": [
    {
     "data": {
      "text/plain": [
       "10"
      ]
     },
     "execution_count": 19,
     "metadata": {},
     "output_type": "execute_result"
    }
   ],
   "source": [
    "abc"
   ]
  },
  {
   "cell_type": "code",
   "execution_count": 21,
   "id": "7abfc22c-10c8-4551-a9fd-9ae7d87ea4f1",
   "metadata": {},
   "outputs": [
    {
     "name": "stdout",
     "output_type": "stream",
     "text": [
      "Hello world\n",
      "Hello Python\n"
     ]
    }
   ],
   "source": [
    "def msg1():\n",
    "    print('Hello world')\n",
    "\n",
    "\n",
    "def msg2():\n",
    "    print('Hello Python')\n",
    "    return None\n",
    "msg1()\n",
    "msg2()"
   ]
  },
  {
   "cell_type": "code",
   "execution_count": 22,
   "id": "19d69e2c-152d-4a9e-a4de-dadf63bd343c",
   "metadata": {},
   "outputs": [
    {
     "name": "stdout",
     "output_type": "stream",
     "text": [
      "Hello world\n",
      "None\n"
     ]
    }
   ],
   "source": [
    "print(msg1())"
   ]
  },
  {
   "cell_type": "code",
   "execution_count": 23,
   "id": "1f8fe2b6-015d-4822-af14-bdf098dff25b",
   "metadata": {},
   "outputs": [
    {
     "name": "stdout",
     "output_type": "stream",
     "text": [
      "Hello Python\n",
      "None\n"
     ]
    }
   ],
   "source": [
    "print(msg2())"
   ]
  },
  {
   "cell_type": "code",
   "execution_count": 32,
   "id": "5f47158f-550c-45b2-aff4-3374d5585724",
   "metadata": {},
   "outputs": [
    {
     "data": {
      "text/plain": [
       "'Adnan Shaikh'"
      ]
     },
     "execution_count": 32,
     "metadata": {},
     "output_type": "execute_result"
    }
   ],
   "source": [
    "# Concatenation of two strings\n",
    "\n",
    "def strings(x,y):\n",
    "    return x+y\n",
    "\n",
    "\n",
    "strings('Adnan ','Shaikh')"
   ]
  },
  {
   "cell_type": "code",
   "execution_count": 33,
   "id": "45dddfc1-9285-47cd-bc49-82f1f2ae8a5a",
   "metadata": {},
   "outputs": [
    {
     "data": {
      "text/plain": [
       "50"
      ]
     },
     "execution_count": 33,
     "metadata": {},
     "output_type": "execute_result"
    }
   ],
   "source": [
    "strings(20,30)"
   ]
  },
  {
   "cell_type": "code",
   "execution_count": 34,
   "id": "d28fa946-9f10-469c-8883-8d0a04165383",
   "metadata": {},
   "outputs": [
    {
     "data": {
      "text/plain": [
       "62.79"
      ]
     },
     "execution_count": 34,
     "metadata": {},
     "output_type": "execute_result"
    }
   ],
   "source": [
    "strings(12.56,50.23)"
   ]
  },
  {
   "cell_type": "markdown",
   "id": "32646800-8bd0-4682-899f-7988a24a8cbf",
   "metadata": {},
   "source": [
    "# Predefined function like print(),sum(),len(),min(),max(),input()"
   ]
  },
  {
   "cell_type": "code",
   "execution_count": 35,
   "id": "7a9a90ca-0f5f-48de-b5e4-09d0b253505b",
   "metadata": {},
   "outputs": [
    {
     "data": {
      "text/plain": [
       "210"
      ]
     },
     "execution_count": 35,
     "metadata": {},
     "output_type": "execute_result"
    }
   ],
   "source": [
    "nums=[10,20,30,40,50,60]\n",
    "sum(nums)"
   ]
  },
  {
   "cell_type": "code",
   "execution_count": 48,
   "id": "bcb66f18-bf51-4d1e-adbe-4472f1c80a0d",
   "metadata": {},
   "outputs": [
    {
     "name": "stdout",
     "output_type": "stream",
     "text": [
      "You should watch this movie with rating value of 10\n"
     ]
    }
   ],
   "source": [
    "# Define a function adjusting the default value of the variable.\n",
    "\n",
    "def rating_value(rating=5.5):\n",
    "    if rating<8:\n",
    "        return(f'You should not watch this movie with rating value of {rating}')\n",
    "    else:\n",
    "        return (f'You should watch this movie with rating value of {rating}')\n",
    "\n",
    "\n",
    "#print(rating_value())\n",
    "print(rating_value(10))"
   ]
  },
  {
   "cell_type": "code",
   "execution_count": 52,
   "id": "795182ae-7366-4734-8fbc-c12f5a7d2043",
   "metadata": {},
   "outputs": [
    {
     "name": "stdout",
     "output_type": "stream",
     "text": [
      "Number of element is 12\n"
     ]
    }
   ],
   "source": [
    "def function(*args):  # (*) all\n",
    "\n",
    "    print('Number of element is',len(args))\n",
    "\n",
    "\n",
    "function(10,20,30,4,5,6,7,8,8,8,8,5)\n"
   ]
  },
  {
   "cell_type": "code",
   "execution_count": 53,
   "id": "2ea1387e-86c7-409a-a1df-aa59a5b395d6",
   "metadata": {},
   "outputs": [
    {
     "name": "stdout",
     "output_type": "stream",
     "text": [
      "Number of elements is: 5\n",
      "Prajwal\n",
      "Adnan\n",
      "Rupali\n",
      "Akshay\n",
      "Sharukh\n"
     ]
    }
   ],
   "source": [
    "def function(*args):\n",
    "    print(\"Number of elements is:\",len(args))\n",
    "    for i in args:\n",
    "        print(i)\n",
    "\n",
    "function('Prajwal',\"Adnan\",'Rupali',\"Akshay\",\"Sharukh\")"
   ]
  },
  {
   "cell_type": "code",
   "execution_count": 54,
   "id": "bb75c727-c4ee-4bc3-8952-548c3329aca6",
   "metadata": {},
   "outputs": [
    {
     "name": "stdout",
     "output_type": "stream",
     "text": [
      "The total value is: 550\n"
     ]
    }
   ],
   "source": [
    "def total(*args):\n",
    "    total=0\n",
    "    for i in args:\n",
    "        total+=i\n",
    "    return total\n",
    "\n",
    "print(\"The total value is:\",total(10,20,30,40,50,60,70,80,90,100))"
   ]
  },
  {
   "cell_type": "code",
   "execution_count": 56,
   "id": "3457da3a-f6f8-4755-975d-fe8868629c0d",
   "metadata": {},
   "outputs": [
    {
     "name": "stdout",
     "output_type": "stream",
     "text": [
      "name : Aditya\n",
      "age : 10\n",
      "contact : 7894561233\n",
      "email : adi@123gamil.com\n"
     ]
    }
   ],
   "source": [
    "# key : value\n",
    "\n",
    "\n",
    "def dict1(**args):\n",
    "    for i in args:\n",
    "        print(i,':',args[i])\n",
    "\n",
    "dict1(name='Aditya',age=10,contact=7894561233,email='adi@123gamil.com')"
   ]
  },
  {
   "cell_type": "code",
   "execution_count": 61,
   "id": "2ee035d5-50ec-4c8f-aaa5-2753edf8cb3d",
   "metadata": {},
   "outputs": [
    {
     "name": "stdout",
     "output_type": "stream",
     "text": [
      "[10, 20, 30, 40, 50]\n",
      "150\n",
      "10\n",
      "50\n",
      "5\n"
     ]
    }
   ],
   "source": [
    "# Define a function regarding the addition of elements into a list.\n",
    "\n",
    "\n",
    "my_list=[]  #10,20,30,40,50  #sum,min,max,len\n",
    "\n",
    "def addition(list1):\n",
    "    list1.append(10)\n",
    "    list1.append(20)\n",
    "    list1.append(30)\n",
    "    list1.append(40)\n",
    "    list1.append(50)\n",
    "\n",
    "addition(my_list)\n",
    "print(my_list)\n",
    "print(sum(my_list))\n",
    "print(min(my_list))\n",
    "print(max(my_list))\n",
    "print(len(my_list))"
   ]
  },
  {
   "cell_type": "code",
   "execution_count": null,
   "id": "272abcc9-f5a7-42a8-b6da-619b7d3e020a",
   "metadata": {},
   "outputs": [],
   "source": []
  }
 ],
 "metadata": {
  "kernelspec": {
   "display_name": "Python 3 (ipykernel)",
   "language": "python",
   "name": "python3"
  },
  "language_info": {
   "codemirror_mode": {
    "name": "ipython",
    "version": 3
   },
   "file_extension": ".py",
   "mimetype": "text/x-python",
   "name": "python",
   "nbconvert_exporter": "python",
   "pygments_lexer": "ipython3",
   "version": "3.11.4"
  }
 },
 "nbformat": 4,
 "nbformat_minor": 5
}
