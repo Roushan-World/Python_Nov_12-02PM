{
 "cells": [
  {
   "cell_type": "markdown",
   "id": "60947ff7-5617-4ee2-9621-ffbdc557fa61",
   "metadata": {},
   "source": [
    "# 2. Strings in python\n"
   ]
  },
  {
   "cell_type": "code",
   "execution_count": 1,
   "id": "c527a453-7375-44f3-a989-a8fd61ce5120",
   "metadata": {},
   "outputs": [
    {
     "data": {
      "text/plain": [
       "'Hello World'"
      ]
     },
     "execution_count": 1,
     "metadata": {},
     "output_type": "execute_result"
    }
   ],
   "source": [
    "\"Hello World\""
   ]
  },
  {
   "cell_type": "code",
   "execution_count": 3,
   "id": "5ba49674-f794-4888-981e-6afe449dd234",
   "metadata": {},
   "outputs": [
    {
     "data": {
      "text/plain": [
       "'Hello World'"
      ]
     },
     "execution_count": 3,
     "metadata": {},
     "output_type": "execute_result"
    }
   ],
   "source": [
    "'Hello World'"
   ]
  },
  {
   "cell_type": "code",
   "execution_count": 4,
   "id": "2a193867-a2c1-496e-b978-583598238699",
   "metadata": {},
   "outputs": [
    {
     "data": {
      "text/plain": [
       "'Hello World'"
      ]
     },
     "execution_count": 4,
     "metadata": {},
     "output_type": "execute_result"
    }
   ],
   "source": [
    "'''Hello World'''"
   ]
  },
  {
   "cell_type": "code",
   "execution_count": 5,
   "id": "890ce502-4aba-419f-8211-fb18085372ad",
   "metadata": {},
   "outputs": [
    {
     "data": {
      "text/plain": [
       "'1 2 3 4 5 6 '"
      ]
     },
     "execution_count": 5,
     "metadata": {},
     "output_type": "execute_result"
    }
   ],
   "source": [
    "'1 2 3 4 5 6 '"
   ]
  },
  {
   "cell_type": "code",
   "execution_count": 6,
   "id": "5d6f9973-2db2-4186-b056-a71cc736c3d6",
   "metadata": {},
   "outputs": [
    {
     "data": {
      "text/plain": [
       "'!@#$%^&'"
      ]
     },
     "execution_count": 6,
     "metadata": {},
     "output_type": "execute_result"
    }
   ],
   "source": [
    "'!@#$%^&'"
   ]
  },
  {
   "cell_type": "code",
   "execution_count": 8,
   "id": "13e84a4c-fcc8-48a9-bf12-f387a6745c58",
   "metadata": {},
   "outputs": [
    {
     "name": "stdout",
     "output_type": "stream",
     "text": [
      "Hello World\n",
      "Gaurav\n"
     ]
    }
   ],
   "source": [
    "print('Hello World')\n",
    "print(\"Gaurav\")"
   ]
  },
  {
   "cell_type": "code",
   "execution_count": 10,
   "id": "5d500054-b3c8-4d75-b3fe-3cecc2adc261",
   "metadata": {},
   "outputs": [
    {
     "name": "stdout",
     "output_type": "stream",
     "text": [
      "Hello World\n"
     ]
    },
    {
     "data": {
      "text/plain": [
       "'Good Morning'"
      ]
     },
     "execution_count": 10,
     "metadata": {},
     "output_type": "execute_result"
    }
   ],
   "source": [
    "print('Hello World')\n",
    "\"Good Morning\""
   ]
  },
  {
   "cell_type": "code",
   "execution_count": 11,
   "id": "d305ddef-101a-4b72-8977-64f3adc896d2",
   "metadata": {},
   "outputs": [
    {
     "data": {
      "text/plain": [
       "'Hello World'"
      ]
     },
     "execution_count": 11,
     "metadata": {},
     "output_type": "execute_result"
    }
   ],
   "source": [
    "message=\"Hello World\"\n",
    "message"
   ]
  },
  {
   "cell_type": "code",
   "execution_count": 12,
   "id": "756bd71a-dce4-454b-bcfc-ae994dba14ee",
   "metadata": {},
   "outputs": [
    {
     "data": {
      "text/plain": [
       "'Hello World'"
      ]
     },
     "execution_count": 12,
     "metadata": {},
     "output_type": "execute_result"
    }
   ],
   "source": [
    "message"
   ]
  },
  {
   "cell_type": "code",
   "execution_count": 13,
   "id": "cc3b67ef-47f3-4939-bc1f-8877664e525b",
   "metadata": {},
   "outputs": [
    {
     "name": "stdout",
     "output_type": "stream",
     "text": [
      "<class 'str'>\n"
     ]
    }
   ],
   "source": [
    "print(type(message))"
   ]
  },
  {
   "cell_type": "markdown",
   "id": "3039ae65-a86b-49b8-ad4d-fd9ab81b3755",
   "metadata": {},
   "source": [
    "# Indexing of string"
   ]
  },
  {
   "cell_type": "code",
   "execution_count": 14,
   "id": "68500ef7-ec9b-42c2-8e02-3ba0c9000986",
   "metadata": {},
   "outputs": [
    {
     "data": {
      "text/plain": [
       "'Hello World'"
      ]
     },
     "execution_count": 14,
     "metadata": {},
     "output_type": "execute_result"
    }
   ],
   "source": [
    "message"
   ]
  },
  {
   "cell_type": "code",
   "execution_count": 18,
   "id": "69eef4aa-6aa2-4a58-8fe2-94e33def8501",
   "metadata": {},
   "outputs": [
    {
     "name": "stdout",
     "output_type": "stream",
     "text": [
      "H\n",
      "e\n",
      "l\n",
      "l\n",
      "o\n",
      " \n",
      "W\n",
      "o\n",
      "r\n",
      "l\n",
      "d\n"
     ]
    }
   ],
   "source": [
    "# positive index\n",
    "print(message[0])\n",
    "print(message[1])\n",
    "print(message[2])\n",
    "print(message[3])\n",
    "print(message[4])\n",
    "print(message[5])\n",
    "print(message[6])\n",
    "print(message[7])\n",
    "print(message[8])\n",
    "print(message[9])\n",
    "print(message[10])"
   ]
  },
  {
   "cell_type": "code",
   "execution_count": 21,
   "id": "c8990af7-21d6-49b8-86d3-b8d2a53fb528",
   "metadata": {},
   "outputs": [
    {
     "name": "stdout",
     "output_type": "stream",
     "text": [
      "d\n",
      "l\n",
      "r\n",
      "o\n",
      "W\n",
      " \n",
      "o\n",
      "l\n",
      "l\n",
      "e\n",
      "H\n"
     ]
    }
   ],
   "source": [
    "# Negative indexing\n",
    "\n",
    "print(message[-1])\n",
    "print(message[-2])\n",
    "print(message[-3])\n",
    "print(message[-4])\n",
    "print(message[-5])\n",
    "print(message[-6])\n",
    "print(message[-7])\n",
    "print(message[-8])\n",
    "print(message[-9])\n",
    "print(message[-10])\n",
    "print(message[-11])"
   ]
  },
  {
   "cell_type": "code",
   "execution_count": 22,
   "id": "957cc753-6b2e-476a-8fb9-50b4a48d3e30",
   "metadata": {},
   "outputs": [
    {
     "data": {
      "text/plain": [
       "'Hello Python'"
      ]
     },
     "execution_count": 22,
     "metadata": {},
     "output_type": "execute_result"
    }
   ],
   "source": [
    "# Slicing of string\n",
    "x=\"Hello Python\"\n",
    "x"
   ]
  },
  {
   "cell_type": "code",
   "execution_count": 24,
   "id": "c3377043-dc40-4448-a07f-f5e4b087856c",
   "metadata": {},
   "outputs": [
    {
     "data": {
      "text/plain": [
       "'Hello'"
      ]
     },
     "execution_count": 24,
     "metadata": {},
     "output_type": "execute_result"
    }
   ],
   "source": [
    "x[0:5]"
   ]
  },
  {
   "cell_type": "code",
   "execution_count": 25,
   "id": "3e845bee-f302-436b-968b-4dff5d22982f",
   "metadata": {},
   "outputs": [
    {
     "data": {
      "text/plain": [
       "' Python'"
      ]
     },
     "execution_count": 25,
     "metadata": {},
     "output_type": "execute_result"
    }
   ],
   "source": [
    "x[5:12]"
   ]
  },
  {
   "cell_type": "code",
   "execution_count": 26,
   "id": "43f7385f-991f-4ddf-b979-17866009a821",
   "metadata": {},
   "outputs": [
    {
     "data": {
      "text/plain": [
       "'th'"
      ]
     },
     "execution_count": 26,
     "metadata": {},
     "output_type": "execute_result"
    }
   ],
   "source": [
    "x[8:10]"
   ]
  },
  {
   "cell_type": "code",
   "execution_count": 27,
   "id": "f86309bd-c1ed-4ea1-b34c-9eda870fb7f7",
   "metadata": {},
   "outputs": [
    {
     "data": {
      "text/plain": [
       "'Hello Python'"
      ]
     },
     "execution_count": 27,
     "metadata": {},
     "output_type": "execute_result"
    }
   ],
   "source": [
    "x[0:12]"
   ]
  },
  {
   "cell_type": "code",
   "execution_count": 28,
   "id": "7b7057a9-e191-454d-8470-521115d4f1eb",
   "metadata": {},
   "outputs": [
    {
     "name": "stdout",
     "output_type": "stream",
     "text": [
      "Hello Python\n"
     ]
    }
   ],
   "source": [
    "print(x)"
   ]
  },
  {
   "cell_type": "code",
   "execution_count": 29,
   "id": "a9d8ae0a-1b17-4434-a9b8-0856c9132feb",
   "metadata": {},
   "outputs": [
    {
     "data": {
      "text/plain": [
       "'Hello Python'"
      ]
     },
     "execution_count": 29,
     "metadata": {},
     "output_type": "execute_result"
    }
   ],
   "source": [
    "x[0:12]"
   ]
  },
  {
   "cell_type": "code",
   "execution_count": 30,
   "id": "9551bbf8-3586-45af-9c89-59ad9d5f23ff",
   "metadata": {},
   "outputs": [
    {
     "data": {
      "text/plain": [
       "'Hello Python'"
      ]
     },
     "execution_count": 30,
     "metadata": {},
     "output_type": "execute_result"
    }
   ],
   "source": [
    "x[0:]"
   ]
  },
  {
   "cell_type": "code",
   "execution_count": 31,
   "id": "476e63d3-f7b0-41b4-9d72-fdceddacb3d1",
   "metadata": {},
   "outputs": [
    {
     "data": {
      "text/plain": [
       "'Hello Python'"
      ]
     },
     "execution_count": 31,
     "metadata": {},
     "output_type": "execute_result"
    }
   ],
   "source": [
    "x[:]"
   ]
  },
  {
   "cell_type": "code",
   "execution_count": 32,
   "id": "34d3e4f6-d018-4a08-846f-0f20e5d79843",
   "metadata": {},
   "outputs": [
    {
     "data": {
      "text/plain": [
       "'123456789'"
      ]
     },
     "execution_count": 32,
     "metadata": {},
     "output_type": "execute_result"
    }
   ],
   "source": [
    "x1='123456789'\n",
    "x1"
   ]
  },
  {
   "cell_type": "code",
   "execution_count": 34,
   "id": "034a894b-a903-4dc8-ae91-8faab49cc50e",
   "metadata": {},
   "outputs": [
    {
     "data": {
      "text/plain": [
       "'12345'"
      ]
     },
     "execution_count": 34,
     "metadata": {},
     "output_type": "execute_result"
    }
   ],
   "source": [
    "x1[0:5]"
   ]
  },
  {
   "cell_type": "code",
   "execution_count": 37,
   "id": "a23b7bc4-8083-42c7-9b2a-d02f4a532ebd",
   "metadata": {},
   "outputs": [
    {
     "data": {
      "text/plain": [
       "'13579'"
      ]
     },
     "execution_count": 37,
     "metadata": {},
     "output_type": "execute_result"
    }
   ],
   "source": [
    "x1[::2]"
   ]
  },
  {
   "cell_type": "code",
   "execution_count": 38,
   "id": "8c9f21c5-8081-4a36-a95f-d7683d73d21f",
   "metadata": {},
   "outputs": [
    {
     "data": {
      "text/plain": [
       "'123456789'"
      ]
     },
     "execution_count": 38,
     "metadata": {},
     "output_type": "execute_result"
    }
   ],
   "source": [
    "x1"
   ]
  },
  {
   "cell_type": "code",
   "execution_count": 39,
   "id": "c698b437-1c44-45a3-862c-01b6abaa7680",
   "metadata": {},
   "outputs": [
    {
     "data": {
      "text/plain": [
       "'Hello Python'"
      ]
     },
     "execution_count": 39,
     "metadata": {},
     "output_type": "execute_result"
    }
   ],
   "source": [
    "x"
   ]
  },
  {
   "cell_type": "code",
   "execution_count": 41,
   "id": "2d87dae2-b6d0-4ba2-bf02-1feb02a314cd",
   "metadata": {},
   "outputs": [
    {
     "data": {
      "text/plain": [
       "'Hlo'"
      ]
     },
     "execution_count": 41,
     "metadata": {},
     "output_type": "execute_result"
    }
   ],
   "source": [
    "x[0:5:2]"
   ]
  },
  {
   "cell_type": "code",
   "execution_count": 46,
   "id": "a20d3e1a-865e-4bef-8709-f72e5a7f2900",
   "metadata": {},
   "outputs": [
    {
     "data": {
      "text/plain": [
       "' h'"
      ]
     },
     "execution_count": 46,
     "metadata": {},
     "output_type": "execute_result"
    }
   ],
   "source": [
    "x[5:12:4]"
   ]
  },
  {
   "cell_type": "markdown",
   "id": "cd1e8489-c8ac-454d-90fb-c1d521065c1c",
   "metadata": {},
   "source": [
    "# Concatenate of strings"
   ]
  },
  {
   "cell_type": "code",
   "execution_count": 50,
   "id": "3c577d64-cbb5-4a20-86f2-65fb0d1454c5",
   "metadata": {},
   "outputs": [
    {
     "name": "stdout",
     "output_type": "stream",
     "text": [
      "Hello World How many people are living on the earth.\n"
     ]
    }
   ],
   "source": [
    "message=\"Hello World\"\n",
    "message2=\" How many people are living on the earth.\"\n",
    "\n",
    "statement=message+message2\n",
    "print(statement)"
   ]
  },
  {
   "cell_type": "code",
   "execution_count": 52,
   "id": "fdd93954-e9cd-4fc8-8393-923f1c01b0e1",
   "metadata": {},
   "outputs": [
    {
     "data": {
      "text/plain": [
       "'/'"
      ]
     },
     "execution_count": 52,
     "metadata": {},
     "output_type": "execute_result"
    }
   ],
   "source": [
    "'/'"
   ]
  },
  {
   "cell_type": "code",
   "execution_count": 60,
   "id": "f127af1d-c4b5-4783-bfff-f32f13f56f08",
   "metadata": {},
   "outputs": [
    {
     "name": "stdout",
     "output_type": "stream",
     "text": [
      "\\\\\\\n"
     ]
    }
   ],
   "source": [
    "print('\\\\\\\\\\\\')"
   ]
  },
  {
   "cell_type": "code",
   "execution_count": 61,
   "id": "091d1d7f-f4bb-46d9-9e0d-4134e900a3f0",
   "metadata": {},
   "outputs": [
    {
     "name": "stdout",
     "output_type": "stream",
     "text": [
      "Hello World How many people are living on the earth.\n"
     ]
    }
   ],
   "source": [
    "print(statement)"
   ]
  },
  {
   "cell_type": "code",
   "execution_count": 64,
   "id": "7890a279-870f-4e69-b75f-cf1c9711306d",
   "metadata": {},
   "outputs": [
    {
     "name": "stdout",
     "output_type": "stream",
     "text": [
      "Hello World\n",
      "How many people are living on the earth.\n"
     ]
    }
   ],
   "source": [
    "print(\"Hello World\\nHow many people are living on the earth.\")  #\\n- new line\n"
   ]
  },
  {
   "cell_type": "code",
   "execution_count": 74,
   "id": "14f39a85-2707-4f89-b181-894e3d0435e0",
   "metadata": {},
   "outputs": [
    {
     "name": "stdout",
     "output_type": "stream",
     "text": [
      "Hello World\tHow many people are living on the earth\n"
     ]
    }
   ],
   "source": [
    "print('Hello World\\tHow many people are living on the earth')  #\\t----> tabl"
   ]
  },
  {
   "cell_type": "code",
   "execution_count": 84,
   "id": "b67ea8bd-162a-4d68-98a9-99b8bacd2f79",
   "metadata": {},
   "outputs": [
    {
     "name": "stdout",
     "output_type": "stream",
     "text": [
      "Original Text: rupali gurav\n",
      "Rupali gurav\n",
      "Rupali Gurav\n",
      "RUPALI GURAV\n",
      "1\n",
      "6\n"
     ]
    }
   ],
   "source": [
    "x=\"rupali gurav\"\n",
    "print(\"Original Text:\",x)\n",
    "# Capitalize \n",
    "y=x.capitalize()\n",
    "print(y)\n",
    "\n",
    "# title()\n",
    "\n",
    "y1=x.title()\n",
    "print(y1)\n",
    "\n",
    "# upper()\n",
    "\n",
    "y2=x.upper()\n",
    "print(y2)\n",
    "\n",
    "# count\n",
    "y3=x.count('p')\n",
    "print(y3)\n",
    "\n",
    "# index()\n",
    "y4=x.index(' ')\n",
    "print(y4)"
   ]
  },
  {
   "cell_type": "code",
   "execution_count": 86,
   "id": "1629b712-9ffb-4266-ade9-b11f353bc54f",
   "metadata": {},
   "outputs": [
    {
     "name": "stdout",
     "output_type": "stream",
     "text": [
      "['Hello', 'World', 'Rupali', 'Prajwal', 'Hello', 'Python']\n"
     ]
    }
   ],
   "source": [
    "# split\n",
    "\n",
    "x2=\"Hello World Rupali Prajwal Hello Python\"\n",
    "y5=x2.split(' ')\n",
    "print(y5)"
   ]
  },
  {
   "cell_type": "code",
   "execution_count": 90,
   "id": "d1f05571-e975-4166-bf22-f8dc0d3ab727",
   "metadata": {},
   "outputs": [
    {
     "data": {
      "text/plain": [
       "['Hel', 'lo']"
      ]
     },
     "execution_count": 90,
     "metadata": {},
     "output_type": "execute_result"
    }
   ],
   "source": [
    "x3=\"Hel,lo\"\n",
    "y6=x3.split(',')\n",
    "y6"
   ]
  },
  {
   "cell_type": "code",
   "execution_count": 99,
   "id": "94248b3f-9f66-4519-ae05-957be708bfdc",
   "metadata": {},
   "outputs": [
    {
     "name": "stdout",
     "output_type": "stream",
     "text": [
      "True\n",
      "False\n"
     ]
    }
   ],
   "source": [
    "x='abc'\n",
    "\n",
    "\n",
    "print(x.isalnum())\n",
    "print(x.isnumeric())\n"
   ]
  },
  {
   "cell_type": "code",
   "execution_count": 104,
   "id": "829385a2-8ed3-443b-bb11-70f1cf78bbaa",
   "metadata": {},
   "outputs": [
    {
     "name": "stdout",
     "output_type": "stream",
     "text": [
      "False\n",
      "False\n",
      "True\n",
      "False\n"
     ]
    }
   ],
   "source": [
    "x3='RUPALI GURAV'\n",
    "x4=\"hello world\"\n",
    "print(x4.isupper())\n",
    "print(x3.islower())\n",
    "print(x4.islower())\n",
    "print(x4.isalpha())"
   ]
  },
  {
   "cell_type": "code",
   "execution_count": 105,
   "id": "04496e46-be9a-400a-a0de-d5f80ca5b01b",
   "metadata": {},
   "outputs": [
    {
     "data": {
      "text/plain": [
       "False"
      ]
     },
     "execution_count": 105,
     "metadata": {},
     "output_type": "execute_result"
    }
   ],
   "source": [
    "x=\"Hello World\"\n",
    "x.isalpha()"
   ]
  },
  {
   "cell_type": "code",
   "execution_count": 107,
   "id": "3f51659b-40a8-4405-b0f9-2ef11057c2d3",
   "metadata": {},
   "outputs": [
    {
     "data": {
      "text/plain": [
       "False"
      ]
     },
     "execution_count": 107,
     "metadata": {},
     "output_type": "execute_result"
    }
   ],
   "source": [
    "x5='a1'\n",
    "x5.isalpha()"
   ]
  },
  {
   "cell_type": "code",
   "execution_count": 108,
   "id": "bcd4dced-bcb1-40e3-9ba2-8255e51721e2",
   "metadata": {},
   "outputs": [
    {
     "data": {
      "text/plain": [
       "'hello world'"
      ]
     },
     "execution_count": 108,
     "metadata": {},
     "output_type": "execute_result"
    }
   ],
   "source": [
    "x4"
   ]
  },
  {
   "cell_type": "code",
   "execution_count": 112,
   "id": "c32d485f-4269-496a-b505-20b4830a6199",
   "metadata": {},
   "outputs": [
    {
     "data": {
      "text/plain": [
       "True"
      ]
     },
     "execution_count": 112,
     "metadata": {},
     "output_type": "execute_result"
    }
   ],
   "source": [
    "x5='abcdef'\n",
    "x5.isalpha()"
   ]
  },
  {
   "cell_type": "code",
   "execution_count": 116,
   "id": "7d4aa222-e3ee-4fec-8c93-f0ce60f5886b",
   "metadata": {},
   "outputs": [
    {
     "name": "stdout",
     "output_type": "stream",
     "text": [
      "Original String Hello Python\n",
      "Hello World\n"
     ]
    }
   ],
   "source": [
    "x5=\"Hello Python\"\n",
    "print(\"Original String\",x5)\n",
    "y5=x5.replace('Python',\"World\")\n",
    "print(y5)"
   ]
  },
  {
   "cell_type": "code",
   "execution_count": 120,
   "id": "8e5670e9-93ac-4d60-845f-e49af7e227b4",
   "metadata": {},
   "outputs": [
    {
     "data": {
      "text/plain": [
       "-1"
      ]
     },
     "execution_count": 120,
     "metadata": {},
     "output_type": "execute_result"
    }
   ],
   "source": [
    "abc=\"Hello World\"\n",
    "abc.find(\"ajflaof\")"
   ]
  },
  {
   "cell_type": "code",
   "execution_count": 131,
   "id": "e59b3b8a-41f0-4495-a680-a2d5abe036ff",
   "metadata": {},
   "outputs": [
    {
     "name": "stdout",
     "output_type": "stream",
     "text": [
      "The India Gate (formerly known as All India War Memorial) is a war memorial located near the Kartavya path on the eastern edge of the 'ceremonial axis' of New Delhi, formerly called Rajpath. It stands as a memorial to 84,000 soldiers of the Indian Army who died between 1914 and 1921 in the First World War, in France, Flanders, Mesopotamia, Persia, East Africa, Gallipoli and elsewhere in the Near and the Far East, and the Third Anglo-Afghan War. 13,300 servicemen's names, including some soldiers and officers from the United Kingdom, are inscribed on the gate.[2] Designed by Sir Edwin Lutyens, the gate evokes the architectural style of the ancient Roman triumphal arches such as the Arch of Constantine in Rome, and later memorial arches; it is often compared to the Arc de Triomphe in Paris, and the Gateway of India in Mumbai.\n",
      "8\n",
      "['The', 'India', 'Gate', '(formerly', 'known', 'as', 'All', 'India', 'War', 'Memorial)', 'is', 'a', 'war', 'memorial', 'located', 'near', 'the', 'Kartavya', 'path', 'on', 'the', 'eastern', 'edge', 'of', 'the', \"'ceremonial\", \"axis'\", 'of', 'New', 'Delhi,', 'formerly', 'called', 'Rajpath.', 'It', 'stands', 'as', 'a', 'memorial', 'to', '84,000', 'soldiers', 'of', 'the', 'Indian', 'Army', 'who', 'died', 'between', '1914', 'and', '1921', 'in', 'the', 'First', 'World', 'War,', 'in', 'France,', 'Flanders,', 'Mesopotamia,', 'Persia,', 'East', 'Africa,', 'Gallipoli', 'and', 'elsewhere', 'in', 'the', 'Near', 'and', 'the', 'Far', 'East,', 'and', 'the', 'Third', 'Anglo-Afghan', 'War.', '13,300', \"servicemen's\", 'names,', 'including', 'some', 'soldiers', 'and', 'officers', 'from', 'the', 'United', 'Kingdom,', 'are', 'inscribed', 'on', 'the', 'gate.[2]', 'Designed', 'by', 'Sir', 'Edwin', 'Lutyens,', 'the', 'gate', 'evokes', 'the', 'architectural', 'style', 'of', 'the', 'ancient', 'Roman', 'triumphal', 'arches', 'such', 'as', 'the', 'Arch', 'of', 'Constantine', 'in', 'Rome,', 'and', 'later', 'memorial', 'arches;', 'it', 'is', 'often', 'compared', 'to', 'the', 'Arc', 'de', 'Triomphe', 'in', 'Paris,', 'and', 'the', 'Gateway', 'of', 'India', 'in', 'Mumbai.']\n"
     ]
    }
   ],
   "source": [
    "x=\"The India Gate (formerly known as All India War Memorial) is a war memorial located near the Kartavya path on the eastern edge of the 'ceremonial axis' of New Delhi, formerly called Rajpath. It stands as a memorial to 84,000 soldiers of the Indian Army who died between 1914 and 1921 in the First World War, in France, Flanders, Mesopotamia, Persia, East Africa, Gallipoli and elsewhere in the Near and the Far East, and the Third Anglo-Afghan War. 13,300 servicemen's names, including some soldiers and officers from the United Kingdom, are inscribed on the gate.[2] Designed by Sir Edwin Lutyens, the gate evokes the architectural style of the ancient Roman triumphal arches such as the Arch of Constantine in Rome, and later memorial arches; it is often compared to the Arc de Triomphe in Paris, and the Gateway of India in Mumbai.\"\n",
    "\n",
    "\n",
    "print(x)\n",
    "\n",
    "#print(x.upper())\n",
    "\n",
    "#print(x.title())\n",
    "\n",
    "print(x.count('of'))\n",
    "\n",
    "y1=x.split(' ')\n",
    "print(y1)"
   ]
  },
  {
   "cell_type": "code",
   "execution_count": 132,
   "id": "388a3f35-4b03-481a-a789-fd8172eff9c9",
   "metadata": {},
   "outputs": [
    {
     "data": {
      "text/plain": [
       "142"
      ]
     },
     "execution_count": 132,
     "metadata": {},
     "output_type": "execute_result"
    }
   ],
   "source": [
    "len(y1)"
   ]
  },
  {
   "cell_type": "code",
   "execution_count": 133,
   "id": "132b9946-f6b0-4b16-ac68-409b50770aff",
   "metadata": {},
   "outputs": [
    {
     "data": {
      "text/plain": [
       "834"
      ]
     },
     "execution_count": 133,
     "metadata": {},
     "output_type": "execute_result"
    }
   ],
   "source": [
    "len(x)"
   ]
  },
  {
   "cell_type": "code",
   "execution_count": 138,
   "id": "a609b957-5fc0-4d4b-bfca-3eabbdacd42c",
   "metadata": {},
   "outputs": [
    {
     "name": "stdout",
     "output_type": "stream",
     "text": [
      "Hello World!.\n",
      "Hello Python.\n",
      "Hello Rupali.\n"
     ]
    }
   ],
   "source": [
    "# format\n",
    "\n",
    "\n",
    "'''\n",
    "The format() method formats the specified value(s) and insert them inside the string placeholder.\n",
    "'''\n",
    "\n",
    "txt=\"Hello {Word}.\"\n",
    "print(txt.format(Word=\"World!\"))\n",
    "\n",
    "print(txt.format(Word=\"Python\"))\n",
    "\n",
    "print(txt.format(Word=\"Rupali\"))"
   ]
  },
  {
   "cell_type": "code",
   "execution_count": 140,
   "id": "105d3457-0649-487b-a2e5-da6a7a388203",
   "metadata": {},
   "outputs": [
    {
     "name": "stdout",
     "output_type": "stream",
     "text": [
      "Hello, My name is Rupali and I am 25 years old.\n",
      "Hello, My name is Adnan and I am 15 years old.\n"
     ]
    }
   ],
   "source": [
    "message1=\"Hello, My name is {} and I am {} years old.\"\n",
    "print(message1.format(\"Rupali\",25))\n",
    "print(message1.format(\"Adnan\",15))"
   ]
  },
  {
   "cell_type": "code",
   "execution_count": null,
   "id": "fed5cc1e-7471-48dc-ba48-a774bb82e8b9",
   "metadata": {},
   "outputs": [],
   "source": []
  }
 ],
 "metadata": {
  "kernelspec": {
   "display_name": "Python 3 (ipykernel)",
   "language": "python",
   "name": "python3"
  },
  "language_info": {
   "codemirror_mode": {
    "name": "ipython",
    "version": 3
   },
   "file_extension": ".py",
   "mimetype": "text/x-python",
   "name": "python",
   "nbconvert_exporter": "python",
   "pygments_lexer": "ipython3",
   "version": "3.11.4"
  }
 },
 "nbformat": 4,
 "nbformat_minor": 5
}
