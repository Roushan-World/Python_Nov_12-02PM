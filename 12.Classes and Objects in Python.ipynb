{
 "cells": [
  {
   "cell_type": "markdown",
   "id": "274fdd54-8d95-4a6d-8d62-9da89735b28e",
   "metadata": {},
   "source": [
    "# 12. Classes and Objects in Python\n",
    "\n",
    " * __Python is an object object-oriented programming language.__\n",
    " * __Unlike procedure-oriented programming, where the main emphasis is on function, object-oriented programming stresses on object.__\n",
    " * __An object is simply a collection of data(variables) and methods (functions) that act on those data.__\n",
    " * __Similarly, a class is a blueprint for that object.__\n",
    " * __like function definition begin with the def keyword in python, class definitions begin with a class keyword.__\n",
    " * __The first string inside the class is called docstring and has a bried description of the class.__\n",
    " * __Although not mandatory, this is highly recommended.__"
   ]
  },
  {
   "cell_type": "code",
   "execution_count": 3,
   "id": "f3ab844b-b1c6-47d1-bed3-fce9a65c2c6b",
   "metadata": {},
   "outputs": [
    {
     "name": "stdout",
     "output_type": "stream",
     "text": [
      "<class '__main__.data'>\n"
     ]
    }
   ],
   "source": [
    "class data:\n",
    "    num=3.14\n",
    "print(data) "
   ]
  },
  {
   "cell_type": "code",
   "execution_count": 5,
   "id": "453b8594-6694-43ec-a718-feec1157282f",
   "metadata": {},
   "outputs": [
    {
     "data": {
      "text/plain": [
       "3.14"
      ]
     },
     "execution_count": 5,
     "metadata": {},
     "output_type": "execute_result"
    }
   ],
   "source": [
    "data.num"
   ]
  },
  {
   "cell_type": "code",
   "execution_count": 18,
   "id": "e7207446-971b-4cb5-ae52-059e3ed8a1c3",
   "metadata": {},
   "outputs": [
    {
     "name": "stdout",
     "output_type": "stream",
     "text": [
      "My name is Sheikh.\n",
      "My age is that 40.\n",
      "You can mail on this adnan26@gmail.com.\n",
      "My gender is Male.\n",
      "My home address Pune.\n"
     ]
    }
   ],
   "source": [
    "class details:\n",
    "    def __init__(self,name,age, email,gender,address):\n",
    "        self.name=name\n",
    "        self.age=age\n",
    "        self.email=email\n",
    "        self.gender=gender\n",
    "        self.address=address\n",
    "    def msg_details(self):\n",
    "        print(f'My name is {self.name}.')\n",
    "        print(f'My age is that {self.age}.')\n",
    "        print(f'You can mail on this {self.email}.')\n",
    "        print(f'My gender is {self.gender}.')\n",
    "        print(f'My home address {self.address}.')\n",
    "\n",
    "x=details('Sheikh',40,'adnan26@gmail.com','Male','Pune')\n",
    "x.msg_details()"
   ]
  },
  {
   "cell_type": "code",
   "execution_count": 20,
   "id": "13854628-71d5-4faa-abd7-6ef115fea724",
   "metadata": {},
   "outputs": [
    {
     "name": "stdout",
     "output_type": "stream",
     "text": [
      "My name is Rupali.\n",
      "My age is that 45.\n",
      "You can mail on this rupali@gmail.com.\n",
      "My gender is Female.\n",
      "My home address Noida.\n"
     ]
    }
   ],
   "source": [
    "y=details('Rupali',45,'rupali@gmail.com','Female','Noida')\n",
    "y.msg_details()"
   ]
  },
  {
   "cell_type": "code",
   "execution_count": 25,
   "id": "66b7d652-ed78-4ebf-b74a-40f3f9ae62e4",
   "metadata": {},
   "outputs": [
    {
     "name": "stdout",
     "output_type": "stream",
     "text": [
      "My name is Sheikh.\n",
      "My age is that 40.\n",
      "You can mail on this adnan26@gmail.com.\n",
      "My gender is Male.\n",
      "My home address Pune.\n"
     ]
    }
   ],
   "source": [
    "class details:\n",
    "    def __init__(z,name,age, email,gender,address):\n",
    "        z.name=name\n",
    "        z.age=age\n",
    "        z.email=email\n",
    "        z.gender=gender\n",
    "        z.address=address\n",
    "    def msg_details(z):\n",
    "        print(f'My name is {z.name}.')\n",
    "        print(f'My age is that {z.age}.')\n",
    "        print(f'You can mail on this {z.email}.')\n",
    "        print(f'My gender is {z.gender}.')\n",
    "        print(f'My home address {z.address}.')\n",
    "\n",
    "x=details('Sheikh',40,'adnan26@gmail.com','Male','Pune')\n",
    "x.msg_details()"
   ]
  },
  {
   "cell_type": "code",
   "execution_count": 23,
   "id": "24437bdf-7647-4358-a88f-692df01a2b04",
   "metadata": {},
   "outputs": [
    {
     "name": "stdout",
     "output_type": "stream",
     "text": [
      "My name is Prajwal.\n",
      "My age is that 50.\n",
      "You can mail on this prajwal50@gmail.com.\n",
      "My gender is Female.\n",
      "My home address Pune.\n"
     ]
    }
   ],
   "source": [
    "x1=details('Prajwal',50,'prajwal50@gmail.com','Female','Pune')\n",
    "x1.msg_details()"
   ]
  },
  {
   "cell_type": "code",
   "execution_count": 26,
   "id": "fd88376f-c0ec-4866-a26c-d03fe28fc7d7",
   "metadata": {},
   "outputs": [
    {
     "name": "stdout",
     "output_type": "stream",
     "text": [
      "My pet name is Rukku.\n",
      "Her age is 1.\n",
      "Her breed is Tuxedo.\n",
      "Her color is Grey.\n",
      "Her temprament is friendly.\n",
      "She has 2 eyes.\n",
      "She has 2 ears.\n"
     ]
    }
   ],
   "source": [
    "class details:\n",
    "    def __init__ (self,name,age,breed,color,temprament,eyes,ears):\n",
    "        self.name=name\n",
    "        self.age=age\n",
    "        self.breed=breed\n",
    "        self.color=color\n",
    "        self.temprament=temprament\n",
    "        self.eyes=eyes\n",
    "        self.ears=ears\n",
    "    def msg_details(self):\n",
    "        print(f'My pet name is {self.name}.')\n",
    "        print(f'Her age is {self.age}.') \n",
    "        print(f'Her breed is {self.breed}.')\n",
    "        print(f'Her color is {self.color}.')\n",
    "        print(f'Her temprament is {self.temprament}.')\n",
    "        print(f'She has {self.eyes} eyes.')\n",
    "        print(f'She has {self.ears} ears.')\n",
    "y1=details('Rukku',1,'Tuxedo','Grey','friendly',2,2)\n",
    "y1.msg_details()"
   ]
  },
  {
   "cell_type": "code",
   "execution_count": 27,
   "id": "64bbf0e9-922a-4813-885c-c26245f1ae4a",
   "metadata": {},
   "outputs": [
    {
     "name": "stdout",
     "output_type": "stream",
     "text": [
      "My pet name is Shairu.\n",
      "It has 4 legs.\n",
      "It has 2 eyes and 2 ears.\n",
      "It's color is White.\n",
      "It's breed is Puli.\n",
      "It's age is 4 years.\n",
      "It's temprament is mild\n"
     ]
    }
   ],
   "source": [
    "class pet_details:\n",
    "    def __init__ (self,name,legs,eyes,ears,color,breed,age,temprament):\n",
    "        self.name=name\n",
    "        self.legs=legs\n",
    "        self.eyes=eyes\n",
    "        self.ears=ears\n",
    "        self.color=color\n",
    "        self.breed=breed\n",
    "        self.age=age\n",
    "        self.temprament=temprament\n",
    "    def my_pet_details(self):\n",
    "        print(f'My pet name is {self.name}.')\n",
    "        print(f'It has {self.legs} legs.')\n",
    "        print(f'It has {self.eyes} eyes and {self.ears} ears.')\n",
    "        print(f\"It's color is {self.color}.\")\n",
    "        print(f\"It's breed is {self.breed}.\")\n",
    "        print(f\"It's age is {self.age} years.\")\n",
    "        print(f\"It's temprament is {self.temprament}\")\n",
    "\n",
    "y=pet_details(\"Shairu\",4,2,2,\"White\",\"Puli\",4,\"mild\")\n",
    "y.my_pet_details()"
   ]
  },
  {
   "cell_type": "code",
   "execution_count": 3,
   "id": "d90d62c5-e326-4e26-a882-9c7cd45b29f7",
   "metadata": {},
   "outputs": [
    {
     "name": "stdout",
     "output_type": "stream",
     "text": [
      "My pet name is Shawn.\n",
      "His age is 4.\n",
      "His breed is Golden Retriever.\n",
      "His color is Golden.\n",
      "His temprament is Friendly.\n",
      "He has 2 eyes.\n",
      "He has 2 ears.\n"
     ]
    }
   ],
   "source": [
    "class details:\n",
    "    def __init__(self,name,age,breed,color,temprament,eyes,ears):\n",
    "        self.name=name\n",
    "        self.age=age\n",
    "        self.breed=breed\n",
    "        self.color=color\n",
    "        self.temprament=temprament\n",
    "        self.eyes=eyes\n",
    "        self.ears=ears\n",
    "    def msg_details(self):\n",
    "        print(f'My pet name is {self.name}.')\n",
    "        print(f'His age is {self.age}.') \n",
    "        print(f'His breed is {self.breed}.')\n",
    "        print(f'His color is {self.color}.')\n",
    "        print(f'His temprament is {self.temprament}.')\n",
    "        print(f'He has {self.eyes} eyes.')\n",
    "        print(f'He has {self.ears} ears.')\n",
    "x1=details('Shawn',4,'Golden Retriever','Golden','Friendly',2,2)\n",
    "x1.msg_details()"
   ]
  },
  {
   "cell_type": "code",
   "execution_count": 2,
   "id": "f00c39ab-1c4c-449b-aa48-8a1095da9f66",
   "metadata": {},
   "outputs": [
    {
     "ename": "TypeError",
     "evalue": "details.__init__() missing 1 required positional argument: 'temprament'",
     "output_type": "error",
     "traceback": [
      "\u001b[1;31m---------------------------------------------------------------------------\u001b[0m",
      "\u001b[1;31mTypeError\u001b[0m                                 Traceback (most recent call last)",
      "Cell \u001b[1;32mIn[2], line 18\u001b[0m\n\u001b[0;32m     15\u001b[0m             \u001b[38;5;28mprint\u001b[39m(\u001b[38;5;124mf\u001b[39m\u001b[38;5;124m'\u001b[39m\u001b[38;5;124mIt is a \u001b[39m\u001b[38;5;132;01m{\u001b[39;00m\u001b[38;5;28mself\u001b[39m\u001b[38;5;241m.\u001b[39mbreed\u001b[38;5;132;01m}\u001b[39;00m\u001b[38;5;124m'\u001b[39m)\n\u001b[0;32m     16\u001b[0m             \u001b[38;5;28mprint\u001b[39m(\u001b[38;5;124mf\u001b[39m\u001b[38;5;124m'\u001b[39m\u001b[38;5;124mShe is \u001b[39m\u001b[38;5;132;01m{\u001b[39;00m\u001b[38;5;28mself\u001b[39m\u001b[38;5;241m.\u001b[39mtemprament\u001b[38;5;132;01m}\u001b[39;00m\u001b[38;5;124m'\u001b[39m)\n\u001b[1;32m---> 18\u001b[0m y1\u001b[38;5;241m=\u001b[39m\u001b[43mdetails\u001b[49m\u001b[43m(\u001b[49m\u001b[38;5;124;43m'\u001b[39;49m\u001b[38;5;124;43mCasper\u001b[39;49m\u001b[38;5;124;43m'\u001b[39;49m\u001b[43m,\u001b[49m\u001b[38;5;241;43m3\u001b[39;49m\u001b[43m,\u001b[49m\u001b[38;5;241;43m4\u001b[39;49m\u001b[43m,\u001b[49m\u001b[38;5;124;43m'\u001b[39;49m\u001b[38;5;124;43mbrownish red\u001b[39;49m\u001b[38;5;124;43m'\u001b[39;49m\u001b[43m,\u001b[49m\u001b[38;5;124;43m'\u001b[39;49m\u001b[38;5;124;43mpersian\u001b[39;49m\u001b[38;5;124;43m'\u001b[39;49m\u001b[43m,\u001b[49m\u001b[38;5;124;43m'\u001b[39;49m\u001b[38;5;124;43mcalm\u001b[39;49m\u001b[38;5;124;43m'\u001b[39;49m\u001b[43m)\u001b[49m\n\u001b[0;32m     19\u001b[0m y1\u001b[38;5;241m.\u001b[39mmsg_details()\n",
      "\u001b[1;31mTypeError\u001b[0m: details.__init__() missing 1 required positional argument: 'temprament'"
     ]
    }
   ],
   "source": [
    "class details:\n",
    "        def __init__(self,name,legs,eyes,colour,breed,age,temprament):\n",
    "            self.name=name\n",
    "            self.age=age\n",
    "            self.legs=legs\n",
    "            self.eyes=eyes\n",
    "            self.colour=colour\n",
    "            self.breed=breed\n",
    "            self.temprament=temprament\n",
    "        def msg_details(self):\n",
    "            print(f'My cat name is {self.name}')\n",
    "            print(f'Her age is {self.age}')\n",
    "            print(f'She has legs {self.legs} ')\n",
    "            print(f'Her eyes are {self.eyes}')\n",
    "            print(f'It is a {self.breed}')\n",
    "            print(f'She is {self.temprament}')\n",
    "            \n",
    "y1=details('Casper',3,4,'brownish red','persian','calm')\n",
    "y1.msg_details()"
   ]
  },
  {
   "cell_type": "code",
   "execution_count": 9,
   "id": "826da3d6-3471-46e6-af8f-74fbc6a1107e",
   "metadata": {},
   "outputs": [],
   "source": [
    "# import library \n",
    "\n",
    "\n",
    "import matplotlib.pyplot as plt\n",
    "\n",
    "%matplotlib inline"
   ]
  },
  {
   "cell_type": "code",
   "execution_count": 11,
   "id": "706a3db1-668c-43e0-9968-f096dd32881b",
   "metadata": {},
   "outputs": [
    {
     "name": "stdout",
     "output_type": "stream",
     "text": [
      "10\n",
      "5\n",
      "blue\n"
     ]
    },
    {
     "data": {
      "image/png": "[encoded data removed]",
      "text/plain": [
       "<Figure size 640x480 with 1 Axes>"
      ]
     },
     "metadata": {},
     "output_type": "display_data"
    }
   ],
   "source": [
    "# matplotlib\n",
    "\n",
    "import matplotlib.pyplot as plt\n",
    "\n",
    "%matplotlib inline\n",
    "\n",
    "# Creating a class to draw Rectangle\n",
    "\n",
    "class Rectangle(object):\n",
    "    def __init__(self,width,height,color):\n",
    "        self.width=width\n",
    "        self.height=height\n",
    "        self.color=color\n",
    "    # method\n",
    "    def drawRectangle(self):\n",
    "        plt.gca().add_patch(plt.Rectangle((0,0),self.width,self.height,fc=self.color))\n",
    "        plt.axis('Scaled')\n",
    "        plt.show\n",
    "\n",
    "\n",
    "# Creating an object\n",
    "one_Rectangle=Rectangle(10,5,'blue')\n",
    "print(one_Rectangle.width)\n",
    "print(one_Rectangle.height)\n",
    "print(one_Rectangle.color)\n",
    "one_Rectangle.drawRectangle()"
   ]
  },
  {
   "cell_type": "code",
   "execution_count": 13,
   "id": "103fafd4-3d4a-4efd-a6d2-d44e1818ba68",
   "metadata": {},
   "outputs": [
    {
     "data": {
      "image/png": "[encoded data removed]",
      "text/plain": [
       "<Figure size 640x480 with 1 Axes>"
      ]
     },
     "metadata": {},
     "output_type": "display_data"
    }
   ],
   "source": [
    "x=Rectangle(10,10,\"green\")\n",
    "x.drawRectangle()"
   ]
  },
  {
   "cell_type": "code",
   "execution_count": 15,
   "id": "4f1bde91-69cd-40c0-8610-98712e14de48",
   "metadata": {},
   "outputs": [
    {
     "data": {
      "image/png": "[encoded data removed]",
      "text/plain": [
       "<Figure size 640x480 with 1 Axes>"
      ]
     },
     "metadata": {},
     "output_type": "display_data"
    }
   ],
   "source": [
    "x1=Rectangle(20,10,'Yellow')\n",
    "x1.drawRectangle()"
   ]
  },
  {
   "cell_type": "markdown",
   "id": "ec66492b-d298-41be-be3d-6bd2a77c10d9",
   "metadata": {},
   "source": [
    "# 1.Single Inheritance: When child is derived from only one parent is called single inheritance."
   ]
  },
  {
   "cell_type": "code",
   "execution_count": 26,
   "id": "800bed55-7cba-4bda-823d-1a45656721e2",
   "metadata": {},
   "outputs": [
    {
     "name": "stdout",
     "output_type": "stream",
     "text": [
      "Amazon is an Online commerce store\n",
      "Amazon is an Online store\n",
      "Amazon is an Online Buy and Sell store.\n",
      "Flipkart is an Online commerce store\n",
      "Flipkart is an Online store\n",
      "Flipkart is an Online Buy and Sell store.\n",
      "Olx is an Online commerce store\n",
      "Olx is an Online store\n",
      "Olx is an Online Buy and Sell store.\n"
     ]
    }
   ],
   "source": [
    "# Singel Inheritance\n",
    "\n",
    "class Brands:   # parent\n",
    "    brand_name_1='Amazon'\n",
    "    brand_name_2='Flipkart'\n",
    "    brand_name_3='Olx'\n",
    "\n",
    "class product(Brands):   #child\n",
    "    prod_1=\"Online commerce store\"\n",
    "    prod_2='Online store'\n",
    "    prod_3='Online Buy and Sell store.'\n",
    "\n",
    "\n",
    "obj_1=product()\n",
    "\n",
    "print(obj_1.brand_name_1+ \" is an \"+obj_1.prod_1)\n",
    "print(obj_1.brand_name_1+ \" is an \"+obj_1.prod_2)\n",
    "print(obj_1.brand_name_1+ \" is an \"+obj_1.prod_3)\n",
    "print(obj_1.brand_name_2+ \" is an \"+obj_1.prod_1)\n",
    "print(obj_1.brand_name_2+ \" is an \"+obj_1.prod_2)\n",
    "print(obj_1.brand_name_2+ \" is an \"+obj_1.prod_3)\n",
    "print(obj_1.brand_name_3+ \" is an \"+obj_1.prod_1)\n",
    "print(obj_1.brand_name_3+ \" is an \"+obj_1.prod_2)\n",
    "print(obj_1.brand_name_3+ \" is an \"+obj_1.prod_3)"
   ]
  },
  {
   "cell_type": "markdown",
   "id": "ea853430-e120-488e-9a59-5089e69bc233",
   "metadata": {},
   "source": [
    "# 2. Multilevel Inheritance: In Multilevel Inheritance we have one parent class and child class that is derived or inherited from parent class and child class that is derived or inherited from parent class. When we have grand child class is derived from a child class."
   ]
  },
  {
   "cell_type": "code",
   "execution_count": 31,
   "id": "c7081b08-e645-40c0-8d10-6b09c718e39c",
   "metadata": {},
   "outputs": [
    {
     "name": "stdout",
     "output_type": "stream",
     "text": [
      "Amazon is an Online commerce store and its popularity is 100\n",
      "Amazon is an Online commerce store and its popularity is 200\n",
      "Amazon is an Online commerce store and its popularity is 300\n",
      "Amazon is an Online store and its popularity is 100\n",
      "Amazon is an Online Buy and Sell store. and its popularity is 100\n"
     ]
    }
   ],
   "source": [
    "# Multilevel Inheritance\n",
    "\n",
    "class Brands:   # parent\n",
    "    brand_name_1='Amazon'\n",
    "    brand_name_2='Flipkart'\n",
    "    brand_name_3='Olx'\n",
    "\n",
    "class product(Brands):   #child\n",
    "    prod_1=\"Online commerce store\"\n",
    "    prod_2='Online store'\n",
    "    prod_3='Online Buy and Sell store.'\n",
    "\n",
    "\n",
    "class popularity(product):  # grand child\n",
    "    popularity_1=\"100\"\n",
    "    popularity_2='200'\n",
    "    popularity_3='300'\n",
    "\n",
    "\n",
    "obj_1=popularity()\n",
    "\n",
    "print(obj_1.brand_name_1+' is an '+obj_1.prod_1+' and its popularity is '+obj_1.popularity_1)\n",
    "print(obj_1.brand_name_1+' is an '+obj_1.prod_1+' and its popularity is '+obj_1.popularity_2)\n",
    "print(obj_1.brand_name_1+' is an '+obj_1.prod_1+' and its popularity is '+obj_1.popularity_3)\n",
    "print(obj_1.brand_name_1+' is an '+obj_1.prod_2+' and its popularity is '+obj_1.popularity_1)\n",
    "print(obj_1.brand_name_1+' is an '+obj_1.prod_3+' and its popularity is '+obj_1.popularity_1)"
   ]
  },
  {
   "cell_type": "markdown",
   "id": "445b3e12-8831-400f-9a81-e1926f9344d3",
   "metadata": {},
   "source": [
    "# Multiple Inheritance: When a child class is derived or inherited from more than one parent class is called multiple inheritance."
   ]
  },
  {
   "cell_type": "code",
   "execution_count": 34,
   "id": "40713e10-fe75-44ee-a8e3-b9b2430f049e",
   "metadata": {},
   "outputs": [
    {
     "name": "stdout",
     "output_type": "stream",
     "text": [
      "Amazon is an Online commerce store and its popularity is 100\n"
     ]
    }
   ],
   "source": [
    "# Multiple Inheritance\n",
    "\n",
    "class Brands:   # parent class (Father)\n",
    "    brand_name_1='Amazon'\n",
    "    brand_name_2='Flipkart'\n",
    "    brand_name_3='Olx'\n",
    "\n",
    "class product:   #parent class (Mother)\n",
    "    prod_1=\"Online commerce store\"\n",
    "    prod_2='Online store'\n",
    "    prod_3='Online Buy and Sell store.'\n",
    "\n",
    "\n",
    "class popularity(Brands,product):  # grand child\n",
    "    popularity_1=\"100\"\n",
    "    popularity_2='200'\n",
    "    popularity_3='300'\n",
    "\n",
    "obj_1=popularity()\n",
    "print(obj_1.brand_name_1+ ' is an '+obj_1.prod_1+' and its popularity is '+obj_1.popularity_1)"
   ]
  },
  {
   "cell_type": "markdown",
   "id": "d6efc26d-ffd3-4362-b56b-66adf521bec4",
   "metadata": {},
   "source": [
    "# 4. Hierarchical Inheritance: When a class derived or inherits more than one child calss from one parent(Same parent) class. Then, this type of inheritance is called Hierarchical Inheritance."
   ]
  },
  {
   "cell_type": "code",
   "execution_count": 46,
   "id": "a6031e9c-5093-47dc-87de-25fc0a2719c4",
   "metadata": {},
   "outputs": [
    {
     "name": "stdout",
     "output_type": "stream",
     "text": [
      "Amazon is an Online commerce store and its popularity is 100 and its value is best value\n",
      "Amazon\n",
      "Amazon\n"
     ]
    }
   ],
   "source": [
    "# Hierarchical Inheritance\n",
    "\n",
    "class Brands:   # parent class\n",
    "    brand_name_1='Amazon'\n",
    "    brand_name_2='Flipkart'\n",
    "    brand_name_3='Olx'\n",
    "\n",
    "class product(Brands):   #child class\n",
    "    prod_1=\"Online commerce store\"\n",
    "    prod_2='Online store'\n",
    "    prod_3='Online Buy and Sell store.'\n",
    "\n",
    "\n",
    "class popularity(Brands):  # child\n",
    "    popularity_1=\"100\"\n",
    "    popularity_2='200'\n",
    "    popularity_3='300'\n",
    "\n",
    "class value(Brands):  # child\n",
    "    prod_value_1='best value'\n",
    "    prod_value_2='Better value'\n",
    "    prod_value_3='Good value'\n",
    "\n",
    "obj_1=product()\n",
    "obj_2=popularity()\n",
    "obj_3=value()\n",
    "\n",
    "\n",
    "print(obj_1.brand_name_1+' is an '+obj_1.prod_1+' and its popularity is '+obj_2.popularity_1+ ' and its value is '+obj_3.prod_value_1)\n",
    "print(obj_2.brand_name_1)\n",
    "print(obj_3.brand_name_1)"
   ]
  },
  {
   "cell_type": "code",
   "execution_count": null,
   "id": "ff61f43d-3cd1-4b00-80b4-89f3bf0cd554",
   "metadata": {},
   "outputs": [],
   "source": []
  }
 ],
 "metadata": {
  "kernelspec": {
   "display_name": "Python 3 (ipykernel)",
   "language": "python",
   "name": "python3"
  },
  "language_info": {
   "codemirror_mode": {
    "name": "ipython",
    "version": 3
   },
   "file_extension": ".py",
   "mimetype": "text/x-python",
   "name": "python",
   "nbconvert_exporter": "python",
   "pygments_lexer": "ipython3",
   "version": "3.11.4"
  }
 },
 "nbformat": 4,
 "nbformat_minor": 5
}
