{
 "cells": [
  {
   "cell_type": "markdown",
   "id": "274fdd54-8d95-4a6d-8d62-9da89735b28e",
   "metadata": {},
   "source": [
    "# 12. Classes and Objects in Python\n",
    "\n",
    " * __Python is an object object-oriented programming language.__\n",
    " * __Unlike procedure-oriented programming, where the main emphasis is on function, object-oriented programming stresses on object.__\n",
    " * __An object is simply a collection of data(variables) and methods (functions) that act on those data.__\n",
    " * __Similarly, a class is a blueprint for that object.__\n",
    " * __like function definition begin with the def keyword in python, class definitions begin with a class keyword.__\n",
    " * __The first string inside the class is called docstring and has a bried description of the class.__\n",
    " * __Although not mandatory, this is highly recommended.__"
   ]
  },
  {
   "cell_type": "code",
   "execution_count": 3,
   "id": "f3ab844b-b1c6-47d1-bed3-fce9a65c2c6b",
   "metadata": {},
   "outputs": [
    {
     "name": "stdout",
     "output_type": "stream",
     "text": [
      "<class '__main__.data'>\n"
     ]
    }
   ],
   "source": [
    "class data:\n",
    "    num=3.14\n",
    "print(data) "
   ]
  },
  {
   "cell_type": "code",
   "execution_count": 5,
   "id": "453b8594-6694-43ec-a718-feec1157282f",
   "metadata": {},
   "outputs": [
    {
     "data": {
      "text/plain": [
       "3.14"
      ]
     },
     "execution_count": 5,
     "metadata": {},
     "output_type": "execute_result"
    }
   ],
   "source": [
    "data.num"
   ]
  },
  {
   "cell_type": "code",
   "execution_count": 18,
   "id": "e7207446-971b-4cb5-ae52-059e3ed8a1c3",
   "metadata": {},
   "outputs": [
    {
     "name": "stdout",
     "output_type": "stream",
     "text": [
      "My name is Sheikh.\n",
      "My age is that 40.\n",
      "You can mail on this adnan26@gmail.com.\n",
      "My gender is Male.\n",
      "My home address Pune.\n"
     ]
    }
   ],
   "source": [
    "class details:\n",
    "    def __init__(self,name,age, email,gender,address):\n",
    "        self.name=name\n",
    "        self.age=age\n",
    "        self.email=email\n",
    "        self.gender=gender\n",
    "        self.address=address\n",
    "    def msg_details(self):\n",
    "        print(f'My name is {self.name}.')\n",
    "        print(f'My age is that {self.age}.')\n",
    "        print(f'You can mail on this {self.email}.')\n",
    "        print(f'My gender is {self.gender}.')\n",
    "        print(f'My home address {self.address}.')\n",
    "\n",
    "x=details('Sheikh',40,'adnan26@gmail.com','Male','Pune')\n",
    "x.msg_details()"
   ]
  },
  {
   "cell_type": "code",
   "execution_count": 20,
   "id": "13854628-71d5-4faa-abd7-6ef115fea724",
   "metadata": {},
   "outputs": [
    {
     "name": "stdout",
     "output_type": "stream",
     "text": [
      "My name is Rupali.\n",
      "My age is that 45.\n",
      "You can mail on this rupali@gmail.com.\n",
      "My gender is Female.\n",
      "My home address Noida.\n"
     ]
    }
   ],
   "source": [
    "y=details('Rupali',45,'rupali@gmail.com','Female','Noida')\n",
    "y.msg_details()"
   ]
  },
  {
   "cell_type": "code",
   "execution_count": 25,
   "id": "66b7d652-ed78-4ebf-b74a-40f3f9ae62e4",
   "metadata": {},
   "outputs": [
    {
     "name": "stdout",
     "output_type": "stream",
     "text": [
      "My name is Sheikh.\n",
      "My age is that 40.\n",
      "You can mail on this adnan26@gmail.com.\n",
      "My gender is Male.\n",
      "My home address Pune.\n"
     ]
    }
   ],
   "source": [
    "class details:\n",
    "    def __init__(z,name,age, email,gender,address):\n",
    "        z.name=name\n",
    "        z.age=age\n",
    "        z.email=email\n",
    "        z.gender=gender\n",
    "        z.address=address\n",
    "    def msg_details(z):\n",
    "        print(f'My name is {z.name}.')\n",
    "        print(f'My age is that {z.age}.')\n",
    "        print(f'You can mail on this {z.email}.')\n",
    "        print(f'My gender is {z.gender}.')\n",
    "        print(f'My home address {z.address}.')\n",
    "\n",
    "x=details('Sheikh',40,'adnan26@gmail.com','Male','Pune')\n",
    "x.msg_details()"
   ]
  },
  {
   "cell_type": "code",
   "execution_count": 23,
   "id": "24437bdf-7647-4358-a88f-692df01a2b04",
   "metadata": {},
   "outputs": [
    {
     "name": "stdout",
     "output_type": "stream",
     "text": [
      "My name is Prajwal.\n",
      "My age is that 50.\n",
      "You can mail on this prajwal50@gmail.com.\n",
      "My gender is Female.\n",
      "My home address Pune.\n"
     ]
    }
   ],
   "source": [
    "x1=details('Prajwal',50,'prajwal50@gmail.com','Female','Pune')\n",
    "x1.msg_details()"
   ]
  },
  {
   "cell_type": "code",
   "execution_count": 26,
   "id": "fd88376f-c0ec-4866-a26c-d03fe28fc7d7",
   "metadata": {},
   "outputs": [
    {
     "name": "stdout",
     "output_type": "stream",
     "text": [
      "My pet name is Rukku.\n",
      "Her age is 1.\n",
      "Her breed is Tuxedo.\n",
      "Her color is Grey.\n",
      "Her temprament is friendly.\n",
      "She has 2 eyes.\n",
      "She has 2 ears.\n"
     ]
    }
   ],
   "source": [
    "class details:\n",
    "    def __init__ (self,name,age,breed,color,temprament,eyes,ears):\n",
    "        self.name=name\n",
    "        self.age=age\n",
    "        self.breed=breed\n",
    "        self.color=color\n",
    "        self.temprament=temprament\n",
    "        self.eyes=eyes\n",
    "        self.ears=ears\n",
    "    def msg_details(self):\n",
    "        print(f'My pet name is {self.name}.')\n",
    "        print(f'Her age is {self.age}.') \n",
    "        print(f'Her breed is {self.breed}.')\n",
    "        print(f'Her color is {self.color}.')\n",
    "        print(f'Her temprament is {self.temprament}.')\n",
    "        print(f'She has {self.eyes} eyes.')\n",
    "        print(f'She has {self.ears} ears.')\n",
    "y1=details('Rukku',1,'Tuxedo','Grey','friendly',2,2)\n",
    "y1.msg_details()"
   ]
  },
  {
   "cell_type": "code",
   "execution_count": 27,
   "id": "64bbf0e9-922a-4813-885c-c26245f1ae4a",
   "metadata": {},
   "outputs": [
    {
     "name": "stdout",
     "output_type": "stream",
     "text": [
      "My pet name is Shairu.\n",
      "It has 4 legs.\n",
      "It has 2 eyes and 2 ears.\n",
      "It's color is White.\n",
      "It's breed is Puli.\n",
      "It's age is 4 years.\n",
      "It's temprament is mild\n"
     ]
    }
   ],
   "source": [
    "class pet_details:\n",
    "    def __init__ (self,name,legs,eyes,ears,color,breed,age,temprament):\n",
    "        self.name=name\n",
    "        self.legs=legs\n",
    "        self.eyes=eyes\n",
    "        self.ears=ears\n",
    "        self.color=color\n",
    "        self.breed=breed\n",
    "        self.age=age\n",
    "        self.temprament=temprament\n",
    "    def my_pet_details(self):\n",
    "        print(f'My pet name is {self.name}.')\n",
    "        print(f'It has {self.legs} legs.')\n",
    "        print(f'It has {self.eyes} eyes and {self.ears} ears.')\n",
    "        print(f\"It's color is {self.color}.\")\n",
    "        print(f\"It's breed is {self.breed}.\")\n",
    "        print(f\"It's age is {self.age} years.\")\n",
    "        print(f\"It's temprament is {self.temprament}\")\n",
    "\n",
    "y=pet_details(\"Shairu\",4,2,2,\"White\",\"Puli\",4,\"mild\")\n",
    "y.my_pet_details()"
   ]
  },
  {
   "cell_type": "code",
   "execution_count": 28,
   "id": "d90d62c5-e326-4e26-a882-9c7cd45b29f7",
   "metadata": {},
   "outputs": [
    {
     "name": "stdout",
     "output_type": "stream",
     "text": [
      "My pet name is Shawn.\n",
      "His age is 4.\n",
      "His breed is Golden Retriever.\n",
      "His color is Golden.\n",
      "His temprament is Friendly.\n",
      "He has 2 eyes.\n",
      "He has 2 ears.\n"
     ]
    }
   ],
   "source": [
    "class details:\n",
    "    def __init__(self,name,age,breed,color,temprament,eyes,ears):\n",
    "        self.name=name\n",
    "        self.age=age\n",
    "        self.breed=breed\n",
    "        self.color=color\n",
    "        self.temprament=temprament\n",
    "        self.eyes=eyes\n",
    "        self.ears=ears\n",
    "    def msg_details(self):\n",
    "        print(f'My pet name is {self.name}.')\n",
    "        print(f'His age is {self.age}.') \n",
    "        print(f'His breed is {self.breed}.')\n",
    "        print(f'His color is {self.color}.')\n",
    "        print(f'His temprament is {self.temprament}.')\n",
    "        print(f'He has {self.eyes} eyes.')\n",
    "        print(f'He has {self.ears} ears.')\n",
    "x1=details('Shawn',4,'Golden Retriever','Golden','Friendly',2,2)\n",
    "x1.msg_details()"
   ]
  },
  {
   "cell_type": "code",
   "execution_count": null,
   "id": "f00c39ab-1c4c-449b-aa48-8a1095da9f66",
   "metadata": {},
   "outputs": [],
   "source": [
    "class details:\n",
    "        def _init_(self,name,legs,eyes,colour,breed,age,temprament):\n",
    "            self.name=name\n",
    "            self.age=age\n",
    "            self.legs=legs\n",
    "            self.eyes=eyes\n",
    "            self.colour=colour\n",
    "            self.breed=breed\n",
    "            self.temprament=temprament\n",
    "        def msg_details(self):\n",
    "            print(f'My cat name is {self.name}')\n",
    "            print(f'Her age is {self.age}')\n",
    "            print(f'She has legs {self.legs} ')\n",
    "            print(f'Her eyes are {self.eyes}')\n",
    "            print(f'It is a {self.breed}')\n",
    "            print(f'She is {self.temprament}')\n",
    "            \n",
    "y1=details('Casper',3,4,'brownish red','persian','calm')\n",
    "y1.msg_details()"
   ]
  }
 ],
 "metadata": {
  "kernelspec": {
   "display_name": "Python 3 (ipykernel)",
   "language": "python",
   "name": "python3"
  },
  "language_info": {
   "codemirror_mode": {
    "name": "ipython",
    "version": 3
   },
   "file_extension": ".py",
   "mimetype": "text/x-python",
   "name": "python",
   "nbconvert_exporter": "python",
   "pygments_lexer": "ipython3",
   "version": "3.11.4"
  }
 },
 "nbformat": 4,
 "nbformat_minor": 5
}
