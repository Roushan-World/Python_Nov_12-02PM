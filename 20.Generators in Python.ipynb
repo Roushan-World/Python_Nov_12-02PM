{
 "cells": [
  {
   "cell_type": "code",
   "execution_count": 3,
   "id": "b3f4addd-6c6a-402b-86d8-f0faf9326851",
   "metadata": {},
   "outputs": [
    {
     "name": "stdout",
     "output_type": "stream",
     "text": [
      "[0, 2, 4, 6, 8]\n"
     ]
    }
   ],
   "source": [
    "def function():\n",
    "    for i in range(10):\n",
    "        if i%2==0:\n",
    "            yield(i)\n",
    "nlis=[]\n",
    "\n",
    "for i in function():\n",
    "    nlis.append(i)\n",
    "print(nlis)"
   ]
  },
  {
   "cell_type": "code",
   "execution_count": 11,
   "id": "9012fb55-9cf0-44c1-a10b-0e59ea0a2312",
   "metadata": {},
   "outputs": [
    {
     "name": "stdout",
     "output_type": "stream",
     "text": [
      "Adnan Shaikh\n",
      "Hello Rupali\n",
      "Hye Prajwal\n",
      "New Year\n"
     ]
    }
   ],
   "source": [
    "def message():\n",
    "    msg_one='Adnan Shaikh'\n",
    "    yield msg_one\n",
    "\n",
    "    msg_two='Hello Rupali'\n",
    "    yield msg_two\n",
    "\n",
    "    msg_three='Hye Prajwal'\n",
    "    yield msg_three\n",
    "\n",
    "    msg_four='New Year'\n",
    "    yield msg_four\n",
    "\n",
    "x=message()\n",
    "print(next(x))\n",
    "print(next(x))\n",
    "print(next(x))\n",
    "print(next(x))\n",
    "\n"
   ]
  },
  {
   "cell_type": "code",
   "execution_count": 21,
   "id": "b00a3077-a698-4e53-9ee2-07ca057e6634",
   "metadata": {},
   "outputs": [
    {
     "name": "stdout",
     "output_type": "stream",
     "text": [
      "[30, 60, 90, 120, 150, 180, 210, 240]\n"
     ]
    }
   ],
   "source": [
    "special_nums=[10,20,30,40,50,60,70,80]\n",
    "\n",
    "generator=(i*3 for i in special_nums)\n",
    "\n",
    "nums_list=[]\n",
    "nums_list.append(next(generator))\n",
    "nums_list.append(next(generator))\n",
    "nums_list.append(next(generator))\n",
    "nums_list.append(next(generator))\n",
    "nums_list.append(next(generator))\n",
    "nums_list.append(next(generator))\n",
    "nums_list.append(next(generator))\n",
    "nums_list.append(next(generator))\n",
    "\n",
    "\n",
    "print(nums_list)\n"
   ]
  },
  {
   "cell_type": "code",
   "execution_count": 23,
   "id": "b61a3331-ea23-4214-8972-8ad9d6e63d19",
   "metadata": {},
   "outputs": [
    {
     "name": "stdout",
     "output_type": "stream",
     "text": [
      "[20, 40, 60, 80, 100, 120, 140, 160, 180, 200]\n"
     ]
    }
   ],
   "source": [
    "def multi_table(n):\n",
    "    for i in range(1,11):\n",
    "        yield n*i  #i**i\n",
    "        i+=1\n",
    "\n",
    "multi_table_list=[]\n",
    "\n",
    "for i in multi_table(20):\n",
    "    multi_table_list.append(i)\n",
    "print(multi_table_list)"
   ]
  },
  {
   "cell_type": "code",
   "execution_count": 30,
   "id": "f1d1bcb5-a349-4077-be93-9eaab3fec372",
   "metadata": {},
   "outputs": [
    {
     "name": "stdout",
     "output_type": "stream",
     "text": [
      "0\n",
      "1\n",
      "2\n",
      "3\n",
      "4\n",
      "5\n"
     ]
    },
    {
     "ename": "StopIteration",
     "evalue": "",
     "output_type": "error",
     "traceback": [
      "\u001b[1;31m---------------------------------------------------------------------------\u001b[0m",
      "\u001b[1;31mStopIteration\u001b[0m                             Traceback (most recent call last)",
      "Cell \u001b[1;32mIn[30], line 12\u001b[0m\n\u001b[0;32m     10\u001b[0m \u001b[38;5;28mprint\u001b[39m(\u001b[38;5;28mnext\u001b[39m(gen))\n\u001b[0;32m     11\u001b[0m \u001b[38;5;28mprint\u001b[39m(\u001b[38;5;28mnext\u001b[39m(gen))\n\u001b[1;32m---> 12\u001b[0m \u001b[38;5;28mprint\u001b[39m(\u001b[38;5;28;43mnext\u001b[39;49m\u001b[43m(\u001b[49m\u001b[43mgen\u001b[49m\u001b[43m)\u001b[49m)\n",
      "\u001b[1;31mStopIteration\u001b[0m: "
     ]
    }
   ],
   "source": [
    "def generator(a):\n",
    "    for i in range(a):\n",
    "        yield i\n",
    "\n",
    "gen=generator(6)\n",
    "print(next(gen))\n",
    "print(next(gen))\n",
    "print(next(gen))\n",
    "print(next(gen))\n",
    "print(next(gen))\n",
    "print(next(gen))\n",
    "print(next(gen))"
   ]
  },
  {
   "cell_type": "code",
   "execution_count": 35,
   "id": "5b22e736-4dbe-4fda-806a-ed8c4fb486f1",
   "metadata": {},
   "outputs": [
    {
     "name": "stdout",
     "output_type": "stream",
     "text": [
      "The number using while loop is 1.\n",
      "The number using while loop is 1.\n",
      "The number using while loop is 4.\n",
      "The number using while loop is 27.\n",
      "The number using while loop is 256.\n",
      "The number using while loop is 3125.\n"
     ]
    }
   ],
   "source": [
    "def square_number(num):\n",
    "    for i in range(num):\n",
    "        yield i**i\n",
    "generator=square_number(6)\n",
    "\n",
    "while True:\n",
    "    try:\n",
    "        print(f'The number using while loop is {next(generator)}.')\n",
    "    except StopIteration:\n",
    "        break"
   ]
  },
  {
   "cell_type": "code",
   "execution_count": 49,
   "id": "32862868-5b03-4853-bfe1-81d2a3b0c79e",
   "metadata": {},
   "outputs": [
    {
     "name": "stdout",
     "output_type": "stream",
     "text": [
      "[1, 4, 27, 256, 3125]\n"
     ]
    }
   ],
   "source": [
    "square=(i**i for i in range(1,6))\n",
    "\n",
    "square_list=[]\n",
    "square_list.append(next(square))\n",
    "square_list.append(next(square))\n",
    "square_list.append(next(square))\n",
    "square_list.append(next(square))\n",
    "square_list.append(next(square))\n",
    "#square_list.append(next(square))\n",
    "#square_list.append(next(square))\n",
    "print(square_list)"
   ]
  },
  {
   "cell_type": "code",
   "execution_count": 50,
   "id": "6d4664bf-8b74-4950-8fc5-58fd7c090ae2",
   "metadata": {},
   "outputs": [
    {
     "name": "stdout",
     "output_type": "stream",
     "text": [
      "15\n",
      "30\n",
      "45\n",
      "60\n",
      "75\n",
      "90\n",
      "105\n",
      "120\n",
      "135\n",
      "150\n"
     ]
    }
   ],
   "source": [
    "#15,30,45,150\n",
    "def table(n):\n",
    "    for i in range(1,11):\n",
    "        yield n*i\n",
    "        i+=1\n",
    "\n",
    "for i in table(15):\n",
    "    print(i)\n"
   ]
  },
  {
   "cell_type": "code",
   "execution_count": 56,
   "id": "7f3ca6bc-9ce7-4bf0-849b-7f94411ba0a6",
   "metadata": {},
   "outputs": [
    {
     "name": "stdout",
     "output_type": "stream",
     "text": [
      "1\n",
      "8\n",
      "27\n",
      "64\n"
     ]
    }
   ],
   "source": [
    "list=[1,2,3,4,5,6,7,8,9,10]\n",
    "\n",
    "z=(i**3 for i in list)\n",
    "\n",
    "print(next(z))\n",
    "print(next(z))\n",
    "print(next(z))\n",
    "print(next(z))"
   ]
  },
  {
   "cell_type": "code",
   "execution_count": 70,
   "id": "0fa1e736-db1d-4038-b25e-2f3de76d3aec",
   "metadata": {},
   "outputs": [
    {
     "name": "stdin",
     "output_type": "stream",
     "text": [
      "Enter any number: 20\n"
     ]
    },
    {
     "name": "stdout",
     "output_type": "stream",
     "text": [
      "1.0\n",
      "1.259921049894873\n",
      "1.4422495703074083\n",
      "1.5874010519681994\n",
      "1.709975946676697\n",
      "1.8171205928321394\n",
      "1.9129311827723892\n",
      "2.0\n",
      "2.080083823051904\n",
      "2.154434690031884\n",
      "2.2239800905693157\n",
      "2.2894284851066637\n",
      "2.3513346877207573\n",
      "2.4101422641752297\n",
      "2.4662120743304703\n",
      "2.519842099789746\n",
      "2.571281590658235\n",
      "2.6207413942088964\n",
      "2.668401648721945\n",
      "2.7144176165949068\n"
     ]
    }
   ],
   "source": [
    "import math\n",
    "from math import *\n",
    "def sequare_number(x):\n",
    "    for num in range(1,x+1):\n",
    "        yield math.cbrt(num)\n",
    "\n",
    "user_input=int(input('Enter any number:'))\n",
    "result=sequare_number(user_input)\n",
    "\n",
    "for square_num in result:\n",
    "    print(square_num)"
   ]
  },
  {
   "cell_type": "code",
   "execution_count": null,
   "id": "ea47151a-e059-4154-91af-fdcc4bb240f2",
   "metadata": {},
   "outputs": [],
   "source": []
  },
  {
   "cell_type": "code",
   "execution_count": null,
   "id": "f5559fad-3298-43a9-9eda-213b0a408ea5",
   "metadata": {},
   "outputs": [],
   "source": []
  }
 ],
 "metadata": {
  "kernelspec": {
   "display_name": "Python 3 (ipykernel)",
   "language": "python",
   "name": "python3"
  },
  "language_info": {
   "codemirror_mode": {
    "name": "ipython",
    "version": 3
   },
   "file_extension": ".py",
   "mimetype": "text/x-python",
   "name": "python",
   "nbconvert_exporter": "python",
   "pygments_lexer": "ipython3",
   "version": "3.11.4"
  }
 },
 "nbformat": 4,
 "nbformat_minor": 5
}
