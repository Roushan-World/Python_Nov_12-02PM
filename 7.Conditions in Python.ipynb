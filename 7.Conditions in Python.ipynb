{
 "cells": [
  {
   "cell_type": "markdown",
   "id": "9762d6ca-f5bb-44c3-84ba-0616197e528b",
   "metadata": {},
   "source": [
    "# 7. Conditions in python\n",
    "\n",
    "* less than (<)\n",
    "* less than or equal to(<=)\n",
    "* Greater than(>)\n",
    "* Greater than or equal to(>=)\n",
    "* Equal to(==)\n",
    "* Not equal to(!=)\n"
   ]
  },
  {
   "cell_type": "markdown",
   "id": "8697bf07-8127-4771-bdf5-54407d80897c",
   "metadata": {},
   "source": [
    "# Branching (if,elif,else)\n",
    "\n",
    " * __Decition making is required when we wanto to execute a code only if a certain condition is satisfied.__\n",
    " * __The if/elif/else statement is used in Python for decision making.__\n",
    " * __An else statement can be combined with an if statement.__\n",
    " * __An else statement contains the block of code that executes if the conditional expression in the if statement resolves to 0 or a False value.__\n",
    " * __The else statement is an optional statement and there could be at most only one else statement followint if.__\n",
    " * __The elif statement allows you to check multiple expression for True and Execute a block of code as soon as on of the conditions evaluates to True.__\n",
    " * __Similar to the else, the elif statement is optional.__\n",
    " * __However, unlike else, for which there can be at most one statement, ther can be an arbitratry number of elif statments followint an if.__"
   ]
  },
  {
   "cell_type": "code",
   "execution_count": 4,
   "id": "0579c02d-17a1-4c67-999a-2a2f2ed8e32c",
   "metadata": {},
   "outputs": [
    {
     "name": "stdout",
     "output_type": "stream",
     "text": [
      "The number pi 3.14 is greater than the ratio 1.618\n"
     ]
    }
   ],
   "source": [
    "pi=3.14\n",
    "ratio=1.618\n",
    "\n",
    "if pi>ratio:\n",
    "    print(f'The number pi {pi} is greater than the ratio {ratio}')\n",
    "else:\n",
    "    print(f\"The ratio {ratio} is lower than the number pi {pi}\")"
   ]
  },
  {
   "cell_type": "code",
   "execution_count": 14,
   "id": "b559ed7a-18fb-4449-afd0-f8b7a8cbd329",
   "metadata": {},
   "outputs": [
    {
     "name": "stdin",
     "output_type": "stream",
     "text": [
      "Enter your baby age: 6\n"
     ]
    },
    {
     "name": "stdout",
     "output_type": "stream",
     "text": [
      "You can go to primary school.\n"
     ]
    }
   ],
   "source": [
    "age=int(input(\"Enter your baby age:\"))\n",
    "\n",
    "if age>=6:\n",
    "    print(\"You can go to primary school.\")\n",
    "elif age==5:\n",
    "    print(\"You should go to kindergarten.\")\n",
    "else:\n",
    "    print(\"You are a Baby\")"
   ]
  },
  {
   "cell_type": "code",
   "execution_count": 16,
   "id": "1c4f7b25-89e6-4c0c-a6c4-eba4fd44fca6",
   "metadata": {},
   "outputs": [
    {
     "name": "stdin",
     "output_type": "stream",
     "text": [
      "Enter your age: 21\n"
     ]
    },
    {
     "name": "stdout",
     "output_type": "stream",
     "text": [
      "You can Vote.\n"
     ]
    }
   ],
   "source": [
    "x=int(input(\"Enter your age:\"))\n",
    "\n",
    "if x>=18:\n",
    "    print(\"You can Vote.\")\n",
    "\n",
    "else:\n",
    "    print(\"You can not vote.\")"
   ]
  },
  {
   "cell_type": "code",
   "execution_count": 17,
   "id": "45004158-074f-46da-99be-b5f45ecb6663",
   "metadata": {},
   "outputs": [],
   "source": [
    "# percentage<60 \"D\"   percentage>=70 'C'  per>=80  \"B\"  per>=90 'A' percentage>90  'A+'\n",
    "\n"
   ]
  },
  {
   "cell_type": "code",
   "execution_count": 24,
   "id": "57486577-ab5c-4c7e-a6f5-863fd4608e83",
   "metadata": {},
   "outputs": [
    {
     "name": "stdin",
     "output_type": "stream",
     "text": [
      "Enter your number: 4651694616546518\n"
     ]
    },
    {
     "name": "stdout",
     "output_type": "stream",
     "text": [
      "It is an Even Number\n"
     ]
    }
   ],
   "source": [
    "# Write an program to check whether even or odd.\n",
    "\n",
    "num=int(input(\"Enter your number:\"))\n",
    "\n",
    "if num%2==0:\n",
    "    print(\"It is an Even Number\")\n",
    "\n",
    "else:\n",
    "    print(\"It is an Odd Number\")"
   ]
  },
  {
   "cell_type": "code",
   "execution_count": null,
   "id": "8d6bb5d3-358b-4468-aa88-c1773dda6117",
   "metadata": {},
   "outputs": [],
   "source": [
    "# Write a program to check wherer a number is divisible by 7 or not.\n",
    "\n"
   ]
  },
  {
   "cell_type": "code",
   "execution_count": 31,
   "id": "66d9a447-88fb-4c5c-be5b-e6ef61e5fd74",
   "metadata": {},
   "outputs": [
    {
     "name": "stdin",
     "output_type": "stream",
     "text": [
      "Enter any number From 1 to 7: 3\n"
     ]
    },
    {
     "name": "stdout",
     "output_type": "stream",
     "text": [
      "Wednesday\n"
     ]
    }
   ],
   "source": [
    "# Week  1 = Monday, 2= Tuesday, 3= Wednesday, 4=Thursday 5=Friday 6= Saturday 7=Sunday.\n",
    "\n",
    "weeks=int(input(\"Enter any number From 1 to 7:\"))\n",
    "\n",
    "if weeks==1:\n",
    "    print(\"Monday\")\n",
    "elif weeks==2:\n",
    "    print(\"Tuesday\")\n",
    "elif weeks==3:\n",
    "    print(\"Wednesday\")\n",
    "elif weeks==4:\n",
    "    print(\"Thursday\")\n",
    "elif weeks==5:\n",
    "    print(\"Friday\")\n",
    "elif weeks==6:\n",
    "    print(\"Saturday\")\n",
    "elif weeks==7:\n",
    "    print(\"Sunday\")\n",
    "else:\n",
    "    print(\"Invalid Number\")"
   ]
  },
  {
   "cell_type": "code",
   "execution_count": 36,
   "id": "261169a0-70e7-467b-833c-9dbba7b644c8",
   "metadata": {},
   "outputs": [
    {
     "name": "stdin",
     "output_type": "stream",
     "text": [
      "Enter First Person Age: 15\n",
      "Enter Second Person Age: 45\n"
     ]
    },
    {
     "name": "stdout",
     "output_type": "stream",
     "text": [
      "45 is greater than age 15\n"
     ]
    }
   ],
   "source": [
    "# month\n",
    "\n",
    "age1=int(input(\"Enter First Person Age:\"))\n",
    "age2=int(input(\"Enter Second Person Age:\"))\n",
    "\n",
    "if age1>age2:\n",
    "    print(f\"{age1} is greater than age {age2}\")\n",
    "\n",
    "elif age1==age2:\n",
    "    print(f'{age1} and {age2} both are equal.')\n",
    "elif age1<age2:\n",
    "    print(f'{age2} is greater than age {age1}')\n",
    "else:\n",
    "    print(\"Invalid age\")"
   ]
  },
  {
   "cell_type": "code",
   "execution_count": 38,
   "id": "469a6065-8aef-4473-aab2-dde97a93c9c1",
   "metadata": {},
   "outputs": [
    {
     "name": "stdin",
     "output_type": "stream",
     "text": [
      "enter the percentage 85\n"
     ]
    },
    {
     "name": "stdout",
     "output_type": "stream",
     "text": [
      "B\n"
     ]
    }
   ],
   "source": [
    "# Write a program to accept percentage from the user and display the grade according to the criteria:\n",
    "# percentage------------------> Grade\n",
    "# >90 ------------------------> 'A'\n",
    "# >80 and <=90 ---------------> \"B\"\n",
    "# >=60 and <=80---------------> \"C\"\n",
    "# below 60 -------------------> \"D\"\n",
    "\n",
    "grades=int(input(\"enter the percentage\"))\n",
    "\n",
    "if grades>90:\n",
    "    print(\"A\")\n",
    "    \n",
    "elif grades>80 & grades<=90:\n",
    "     print(\"B\")\n",
    "        \n",
    "elif grades>=60 & grades<=80:\n",
    "     print(\"C\")\n",
    "\n",
    "elif grades>60:\n",
    "    print(\"D\")"
   ]
  },
  {
   "cell_type": "code",
   "execution_count": 39,
   "id": "5f062b54-5086-4911-be4b-14ff663a4154",
   "metadata": {},
   "outputs": [
    {
     "name": "stdin",
     "output_type": "stream",
     "text": [
      "Enter the percentage 85\n"
     ]
    },
    {
     "name": "stdout",
     "output_type": "stream",
     "text": [
      "your grade is B\n"
     ]
    }
   ],
   "source": [
    "percentage=int(input(\"Enter the percentage\"))\n",
    "\n",
    "if percentage>90:\n",
    "    print(\"your grade is A \")\n",
    "\n",
    "elif percentage>80 and percentage<=90:\n",
    "    print(\"your grade is B\")\n",
    "\n",
    "elif percentage>=60 and percentage<=80:\n",
    "    print(\"your grade is C\")\n",
    "\n",
    "elif percentage < 60:\n",
    "    print(\"your grade is D\")"
   ]
  },
  {
   "cell_type": "code",
   "execution_count": 43,
   "id": "79b52149-24f5-4037-b69e-628832ae64a4",
   "metadata": {},
   "outputs": [
    {
     "name": "stdin",
     "output_type": "stream",
     "text": [
      "Enter your age: 11\n"
     ]
    },
    {
     "name": "stdout",
     "output_type": "stream",
     "text": [
      "Child\n"
     ]
    }
   ],
   "source": [
    "# Write a program to check whether a person is belongs to senior citizen(above 60), adult(12+ <60),child(0-12)\n",
    "\n",
    "age=int(input(\"Enter your age:\"))\n",
    "\n",
    "if age>=60:\n",
    "    print(\"Senior Citizen\")\n",
    "elif age>=12 and age<60:\n",
    "    print(\"Young\")\n",
    "else:\n",
    "    print(\"Child\")"
   ]
  },
  {
   "cell_type": "code",
   "execution_count": null,
   "id": "778f038b-f0ac-47e9-9653-1d1a8fc7e79c",
   "metadata": {},
   "outputs": [],
   "source": []
  }
 ],
 "metadata": {
  "kernelspec": {
   "display_name": "Python 3 (ipykernel)",
   "language": "python",
   "name": "python3"
  },
  "language_info": {
   "codemirror_mode": {
    "name": "ipython",
    "version": 3
   },
   "file_extension": ".py",
   "mimetype": "text/x-python",
   "name": "python",
   "nbconvert_exporter": "python",
   "pygments_lexer": "ipython3",
   "version": "3.11.4"
  }
 },
 "nbformat": 4,
 "nbformat_minor": 5
}
