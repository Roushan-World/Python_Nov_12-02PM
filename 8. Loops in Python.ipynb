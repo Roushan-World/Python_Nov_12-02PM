{
 "cells": [
  {
   "cell_type": "markdown",
   "id": "3eaf2505-ae75-4c75-8550-720f333afafe",
   "metadata": {},
   "source": [
    "# 8. Loops in Python\n",
    "\n",
    " * __A for loop is used for iterating over a sequence (that is either a list, a tuple, a dictionary, a set or a string).__\n",
    " * __This is less like the for keyword in other programming languages, and works more like an iterator method as found in other object-oriented programming languages.__\n",
    " * __With the for loop we can execute a set of statements, once for each item in a lsit, tuple, set etc.__\n",
    " * __The for loop does not require an indexing variable to set beforehand.__\n",
    " * __With the while loop we can execute a set of statements as long as a condition is true.__\n",
    " * __Note: remember to increment, i, or else the loop will continue forever.__\n",
    " * __This while loop requires relevant variables to be ready, in this example we need to define an indexing variable, i, which is set to .__\n",
    "\n",
    "# range() function\n",
    "\n",
    " * __It is helpful to think of the range object as an ordered list.__\n",
    " * __To loop through a set of code a sepcified number of times, we can sue the range() functions.__\n",
    " * __The range() function returns a sequence of numbers, starting from 0 by default, and increments by 1 (by defualt), and ends at a specified number.__"
   ]
  },
  {
   "cell_type": "code",
   "execution_count": 2,
   "id": "e4427d78-443d-44a8-b9af-673519f8d8ae",
   "metadata": {},
   "outputs": [
    {
     "name": "stdout",
     "output_type": "stream",
     "text": [
      "range(0, 10)\n",
      "range(0, 5)\n"
     ]
    }
   ],
   "source": [
    "print(range(10))\n",
    "print(range(5))"
   ]
  },
  {
   "cell_type": "code",
   "execution_count": 3,
   "id": "b70210cb-3f33-4407-a9ab-b85dbc3b4515",
   "metadata": {},
   "outputs": [
    {
     "name": "stdout",
     "output_type": "stream",
     "text": [
      "0\n",
      "1\n",
      "2\n",
      "3\n",
      "4\n",
      "5\n",
      "6\n",
      "7\n",
      "8\n",
      "9\n"
     ]
    }
   ],
   "source": [
    "for i in range(10):\n",
    "    print(i)"
   ]
  },
  {
   "cell_type": "code",
   "execution_count": 8,
   "id": "20659b0f-9931-4d44-846f-bfbb33bb8563",
   "metadata": {},
   "outputs": [
    {
     "name": "stdout",
     "output_type": "stream",
     "text": [
      "0 1 2 3 4 5 6 7 8 9 "
     ]
    }
   ],
   "source": [
    "for aditi in range(10):\n",
    "    print(aditi,end=' ')"
   ]
  },
  {
   "cell_type": "code",
   "execution_count": 7,
   "id": "e9bfd497-3a59-4417-b15b-a9918f71efc8",
   "metadata": {},
   "outputs": [
    {
     "name": "stdout",
     "output_type": "stream",
     "text": [
      "0,1,2,3,4,5,6,7,8,9,10,11,12,13,14,15,16,17,18,19,20,21,22,23,24,25,26,27,28,29,30,31,32,33,34,35,36,37,38,39,40,41,42,43,44,45,46,47,48,49,"
     ]
    }
   ],
   "source": [
    "for rupali in range(50):\n",
    "    print(rupali,end=',')"
   ]
  },
  {
   "cell_type": "code",
   "execution_count": 10,
   "id": "74f169cc-8639-4843-b9e5-f87bab5033f6",
   "metadata": {},
   "outputs": [
    {
     "name": "stdout",
     "output_type": "stream",
     "text": [
      "10 20 30 40 50 60 70 80 90 "
     ]
    }
   ],
   "source": [
    "list=[10,20,30,40,50,60,70,80,90]\n",
    "\n",
    "for i in list:\n",
    "    print(i,end=' ')"
   ]
  },
  {
   "cell_type": "code",
   "execution_count": 12,
   "id": "b8ff1578-3d1f-44aa-8ead-d8973752fdf0",
   "metadata": {},
   "outputs": [
    {
     "name": "stdout",
     "output_type": "stream",
     "text": [
      "a\n",
      "name\n"
     ]
    }
   ],
   "source": [
    "dict={\"a\":\"rupali\",\"name\":\"Happy Happy\"}\n",
    "\n",
    "for i in dict:\n",
    "    print(i)"
   ]
  },
  {
   "cell_type": "code",
   "execution_count": 15,
   "id": "7fe3c1c4-48ba-4024-953e-dcc093ede3a2",
   "metadata": {},
   "outputs": [
    {
     "name": "stdout",
     "output_type": "stream",
     "text": [
      "1,2,3,4,5,6,7,8,9,99,"
     ]
    }
   ],
   "source": [
    "a={1,2,3,4,5,6,7,8,9,99,9,9,9,9,9,9}\n",
    "\n",
    "for i in a:\n",
    "    print(i,end=',')"
   ]
  },
  {
   "cell_type": "code",
   "execution_count": 21,
   "id": "b9fae1a8-f370-4427-a7eb-67909c055430",
   "metadata": {
    "scrolled": true
   },
   "outputs": [
    {
     "name": "stdout",
     "output_type": "stream",
     "text": [
      "0 Apple\n",
      "1 Banana\n",
      "2 Carrot\n",
      "3 Bits\n",
      "4 Kiwi\n",
      "5 StrawBerry\n",
      "6 Mango\n",
      "7 Orange\n",
      "8 Grapes\n",
      "9 Watermelon\n",
      "10 Muskmelon\n"
     ]
    }
   ],
   "source": [
    "# len= \n",
    "fruits=[\"Apple\",\"Banana\",\"Carrot\",\"Bits\",\"Kiwi\",\"StrawBerry\",\"Mango\",\"Orange\",\"Grapes\",\"Watermelon\",\"Muskmelon\"]\n",
    "\n",
    "for i in range(len(fruits)):\n",
    "    print(i,fruits[i])"
   ]
  },
  {
   "cell_type": "code",
   "execution_count": 24,
   "id": "bac98a02-faa1-421e-872e-5d15952e8b4b",
   "metadata": {},
   "outputs": [
    {
     "name": "stdout",
     "output_type": "stream",
     "text": [
      "0 Apple\n",
      "1 Banana\n",
      "2 Carrot\n",
      "3 Bits\n",
      "4 Kiwi\n",
      "5 StrawBerry\n",
      "6 Mango\n",
      "7 Orange\n",
      "8 Grapes\n",
      "9 Watermelon\n",
      "10 Muskmelon\n"
     ]
    }
   ],
   "source": [
    "fruits=[\"Apple\",\"Banana\",\"Carrot\",\"Bits\",\"Kiwi\",\"StrawBerry\",\"Mango\",\"Orange\",\"Grapes\",\"Watermelon\",\"Muskmelon\"]\n",
    "\n",
    "for i in range(len(fruits)):\n",
    "    print(i,fruits[i])"
   ]
  },
  {
   "cell_type": "code",
   "execution_count": 32,
   "id": "bb299650-f615-4a29-b8b9-32f9f45a3a11",
   "metadata": {},
   "outputs": [
    {
     "name": "stdout",
     "output_type": "stream",
     "text": [
      "5\n",
      "6\n",
      "7\n",
      "8\n",
      "9\n"
     ]
    }
   ],
   "source": [
    "for i in range(5,10):\n",
    "    print(i)"
   ]
  },
  {
   "cell_type": "code",
   "execution_count": 40,
   "id": "3205ff42-bf77-401b-9a88-10cc38c69a88",
   "metadata": {},
   "outputs": [
    {
     "name": "stdout",
     "output_type": "stream",
     "text": [
      "1\n",
      "3\n",
      "5\n",
      "7\n",
      "9\n",
      "11\n",
      "13\n",
      "15\n",
      "17\n",
      "19\n",
      "21\n",
      "23\n",
      "25\n",
      "27\n",
      "29\n",
      "31\n",
      "33\n",
      "35\n",
      "37\n",
      "39\n",
      "41\n",
      "43\n",
      "45\n",
      "47\n",
      "49\n"
     ]
    }
   ],
   "source": [
    "# 1,3,5,7-------------50\n",
    "\n",
    "for i in range(1,51,2):\n",
    "    print(i)"
   ]
  },
  {
   "cell_type": "code",
   "execution_count": 46,
   "id": "b10061e0-1986-4f0a-8954-ac6c690725f6",
   "metadata": {},
   "outputs": [
    {
     "name": "stdout",
     "output_type": "stream",
     "text": [
      "0 Java\n",
      "0 rupali\n",
      "1 Python\n",
      "1 rupali\n",
      "2 Django\n",
      "2 rupali\n",
      "3 Flask\n",
      "3 rupali\n",
      "4 C\n",
      "4 rupali\n",
      "5 C++\n",
      "5 rupali\n",
      "6 PHP\n",
      "6 rupali\n"
     ]
    }
   ],
   "source": [
    "list_languages=[\"Java\",\"Python\",\"Django\",\"Flask\",\"C\",\"C++\",\"PHP\"]\n",
    "\n",
    "for i in range(len(list_languages)):\n",
    "    print(i,list_languages[i])\n",
    "    list_languages[i]=\"rupali\"\n",
    "    print(i,list_languages[i])"
   ]
  },
  {
   "cell_type": "code",
   "execution_count": 47,
   "id": "ab5cf3b0-4d67-43bb-9c34-1ad62a7d531a",
   "metadata": {},
   "outputs": [
    {
     "name": "stdout",
     "output_type": "stream",
     "text": [
      "0 Java\n",
      "1 Python\n",
      "2 Django\n",
      "3 Flask\n",
      "4 C\n",
      "5 C++\n",
      "6 PHP\n"
     ]
    }
   ],
   "source": [
    "list_languages=[\"Java\",\"Python\",\"Django\",\"Flask\",\"C\",\"C++\",\"PHP\"]\n",
    "\n",
    "for i in range(len(list_languages)):\n",
    "    print(i,list_languages[i])"
   ]
  },
  {
   "cell_type": "code",
   "execution_count": 49,
   "id": "54ba0379-18c5-4de0-8a57-0ccdd19b167f",
   "metadata": {},
   "outputs": [
    {
     "name": "stdout",
     "output_type": "stream",
     "text": [
      "0 Java\n",
      "1 Python\n",
      "2 Django\n",
      "3 Flask\n",
      "4 C\n",
      "5 C++\n",
      "6 PHP\n"
     ]
    }
   ],
   "source": [
    "# enumerate   # range,len\n",
    "\n",
    "for x,y in enumerate(list_languages):\n",
    "    print(x,y)"
   ]
  },
  {
   "cell_type": "code",
   "execution_count": 51,
   "id": "f1361ae0-2bea-4206-a1d6-02d7cd50a086",
   "metadata": {},
   "outputs": [
    {
     "name": "stdout",
     "output_type": "stream",
     "text": [
      "0 Ram\n",
      "1 Shyam\n",
      "2 Bharat\n",
      "3 Love\n",
      "4 Kush\n"
     ]
    }
   ],
   "source": [
    "list=[\"Ram\",\"Shyam\",\"Bharat\",\"Love\",\"Kush\"]\n",
    "\n",
    "for i in range(len(list)):\n",
    "    print(i,list[i])"
   ]
  },
  {
   "cell_type": "code",
   "execution_count": 55,
   "id": "b521c9d2-4a8b-4f2e-b1e8-3b09b5b69199",
   "metadata": {},
   "outputs": [
    {
     "name": "stdout",
     "output_type": "stream",
     "text": [
      "0 Ram,1 Shyam,2 Bharat,3 Love,4 Kush,"
     ]
    }
   ],
   "source": [
    "#enumerate\n",
    "\n",
    "for x,y in enumerate(list):\n",
    "    print(x,y,end=\",\")"
   ]
  },
  {
   "cell_type": "code",
   "execution_count": 56,
   "id": "882ce16f-3a0a-4d3c-aa4b-73ec4071ddf7",
   "metadata": {},
   "outputs": [
    {
     "name": "stdout",
     "output_type": "stream",
     "text": [
      "-3\n",
      "-2\n",
      "-1\n",
      "0\n",
      "1\n",
      "2\n",
      "3\n",
      "4\n",
      "5\n",
      "6\n",
      "7\n",
      "8\n",
      "9\n"
     ]
    }
   ],
   "source": [
    "for i in range(-3,10):\n",
    "    print(i)"
   ]
  },
  {
   "cell_type": "code",
   "execution_count": 61,
   "id": "dc1896d2-8139-45fa-a68a-e8c650cbef38",
   "metadata": {},
   "outputs": [
    {
     "name": "stdin",
     "output_type": "stream",
     "text": [
      "Enter a number: 40\n"
     ]
    },
    {
     "name": "stdout",
     "output_type": "stream",
     "text": [
      "40X1=40\n",
      "40X2=80\n",
      "40X3=120\n",
      "40X4=160\n",
      "40X5=200\n",
      "40X6=240\n",
      "40X7=280\n",
      "40X8=320\n",
      "40X9=360\n",
      "40X10=400\n"
     ]
    }
   ],
   "source": [
    "# 2*1=2\n",
    "# 2*2=4\n",
    "\n",
    "number=int(input(\"Enter a number:\"))\n",
    "\n",
    "for i in range(1,11):\n",
    "    print(\"%dX%d=%d\"%(number,i,number*i))"
   ]
  },
  {
   "cell_type": "code",
   "execution_count": 62,
   "id": "051fcdcd-df11-46c5-94b0-ea914fc18d19",
   "metadata": {},
   "outputs": [
    {
     "name": "stdin",
     "output_type": "stream",
     "text": [
      "Enter a number: 45\n"
     ]
    },
    {
     "name": "stdout",
     "output_type": "stream",
     "text": [
      "45 X 1 = 45\n",
      "45 X 2 = 90\n",
      "45 X 3 = 135\n",
      "45 X 4 = 180\n",
      "45 X 5 = 225\n",
      "45 X 6 = 270\n",
      "45 X 7 = 315\n",
      "45 X 8 = 360\n",
      "45 X 9 = 405\n",
      "45 X 10 = 450\n"
     ]
    }
   ],
   "source": [
    "number=int(input(\"Enter a number:\"))\n",
    "\n",
    "for i in range(1,11):\n",
    "    print(number,\"X\",i,\"=\",number*i)"
   ]
  },
  {
   "cell_type": "code",
   "execution_count": 75,
   "id": "3bb4c269-edcc-4c50-8e6a-a1a8f5b442de",
   "metadata": {},
   "outputs": [
    {
     "name": "stdout",
     "output_type": "stream",
     "text": [
      "The total sum of the list is: 550 \n",
      "Average value of the list: 55.0\n"
     ]
    }
   ],
   "source": [
    "nlis=[10,20,30,40,50,60,70,80,90,100]\n",
    "\n",
    "# find the total sum using for loop\n",
    "\n",
    "#sum(nlis)\n",
    "x=0\n",
    "for i in nlis:\n",
    "    x+=i\n",
    "print(\"The total sum of the list is:\",x,\"\\nAverage value of the list:\",x/len(nlis))"
   ]
  },
  {
   "cell_type": "code",
   "execution_count": 67,
   "id": "c5ecf128-a576-4a19-85f6-f5d4aa3c846f",
   "metadata": {},
   "outputs": [
    {
     "data": {
      "text/plain": [
       "5"
      ]
     },
     "execution_count": 67,
     "metadata": {},
     "output_type": "execute_result"
    }
   ],
   "source": [
    "# assignmen operator\n",
    "\n",
    "i=10\n",
    "\n",
    "i-=5\n",
    "i"
   ]
  },
  {
   "cell_type": "code",
   "execution_count": 76,
   "id": "53f4a47b-6b6d-455d-8051-8d40433230d6",
   "metadata": {},
   "outputs": [
    {
     "name": "stdout",
     "output_type": "stream",
     "text": [
      "The total sum of the list is: 550 \n",
      "Average value of the list: 55.0\n"
     ]
    }
   ],
   "source": [
    "nlis=[10,20,30,40,50,60,70,80,90,100]\n",
    "\n",
    "# find the total sum using for loop\n",
    "\n",
    "#sum(nlis)\n",
    "x=0\n",
    "rupali=0\n",
    "\n",
    "\n",
    "for i in nlis:\n",
    "    x+=i\n",
    "print(\"The total sum of the list is:\",x,\"\\nAverage value of the list:\",x/len(nlis))"
   ]
  },
  {
   "cell_type": "code",
   "execution_count": 93,
   "id": "b59a9050-5f49-4845-967d-27923b7f6399",
   "metadata": {},
   "outputs": [
    {
     "name": "stdout",
     "output_type": "stream",
     "text": [
      "\n",
      "Square of the number is: 100 \n",
      "Sum of the value: 10 \n",
      "Cubic number of the list is: 1000\n",
      "\n",
      "Square of the number is: 400 \n",
      "Sum of the value: 30 \n",
      "Cubic number of the list is: 8000\n",
      "\n",
      "Square of the number is: 900 \n",
      "Sum of the value: 60 \n",
      "Cubic number of the list is: 27000\n",
      "\n",
      "Square of the number is: 1600 \n",
      "Sum of the value: 100 \n",
      "Cubic number of the list is: 64000\n",
      "\n",
      "Square of the number is: 2500 \n",
      "Sum of the value: 150 \n",
      "Cubic number of the list is: 125000\n",
      "\n",
      "Square of the number is: 3600 \n",
      "Sum of the value: 210 \n",
      "Cubic number of the list is: 216000\n",
      "\n",
      "Square of the number is: 4900 \n",
      "Sum of the value: 280 \n",
      "Cubic number of the list is: 343000\n",
      "\n",
      "Square of the number is: 6400 \n",
      "Sum of the value: 360 \n",
      "Cubic number of the list is: 512000\n",
      "\n",
      "Square of the number is: 8100 \n",
      "Sum of the value: 450 \n",
      "Cubic number of the list is: 729000\n",
      "\n",
      "Square of the number is: 10000 \n",
      "Sum of the value: 550 \n",
      "Cubic number of the list is: 1000000\n"
     ]
    }
   ],
   "source": [
    "nlis=[10,20,30,40,50,60,70,80,90,100]\n",
    "\n",
    "# find the square of the list.\n",
    "\n",
    "square_num=0\n",
    "x=0\n",
    "cube=0\n",
    "for i in nlis:\n",
    "    square_num=i**2\n",
    "    x+=i\n",
    "    cube=i**3\n",
    "    print(\"\\nSquare of the number is:\",square_num,\"\\nSum of the value:\",x,\"\\nCubic number of the list is:\",cube)"
   ]
  },
  {
   "cell_type": "code",
   "execution_count": 96,
   "id": "57c671f1-12cc-477e-89b3-e533bd4895c3",
   "metadata": {},
   "outputs": [
    {
     "name": "stdin",
     "output_type": "stream",
     "text": [
      "Enter any number: 50\n"
     ]
    },
    {
     "name": "stdout",
     "output_type": "stream",
     "text": [
      "\n",
      "+\n",
      "++\n",
      "+++\n",
      "++++\n",
      "+++++\n",
      "++++++\n",
      "+++++++\n",
      "++++++++\n",
      "+++++++++\n",
      "++++++++++\n",
      "+++++++++++\n",
      "++++++++++++\n",
      "+++++++++++++\n",
      "++++++++++++++\n",
      "+++++++++++++++\n",
      "++++++++++++++++\n",
      "+++++++++++++++++\n",
      "++++++++++++++++++\n",
      "+++++++++++++++++++\n",
      "++++++++++++++++++++\n",
      "+++++++++++++++++++++\n",
      "++++++++++++++++++++++\n",
      "+++++++++++++++++++++++\n",
      "++++++++++++++++++++++++\n",
      "+++++++++++++++++++++++++\n",
      "++++++++++++++++++++++++++\n",
      "+++++++++++++++++++++++++++\n",
      "++++++++++++++++++++++++++++\n",
      "+++++++++++++++++++++++++++++\n",
      "++++++++++++++++++++++++++++++\n",
      "+++++++++++++++++++++++++++++++\n",
      "++++++++++++++++++++++++++++++++\n",
      "+++++++++++++++++++++++++++++++++\n",
      "++++++++++++++++++++++++++++++++++\n",
      "+++++++++++++++++++++++++++++++++++\n",
      "++++++++++++++++++++++++++++++++++++\n",
      "+++++++++++++++++++++++++++++++++++++\n",
      "++++++++++++++++++++++++++++++++++++++\n",
      "+++++++++++++++++++++++++++++++++++++++\n",
      "++++++++++++++++++++++++++++++++++++++++\n",
      "+++++++++++++++++++++++++++++++++++++++++\n",
      "++++++++++++++++++++++++++++++++++++++++++\n",
      "+++++++++++++++++++++++++++++++++++++++++++\n",
      "++++++++++++++++++++++++++++++++++++++++++++\n",
      "+++++++++++++++++++++++++++++++++++++++++++++\n",
      "++++++++++++++++++++++++++++++++++++++++++++++\n",
      "+++++++++++++++++++++++++++++++++++++++++++++++\n",
      "++++++++++++++++++++++++++++++++++++++++++++++++\n",
      "+++++++++++++++++++++++++++++++++++++++++++++++++\n",
      "++++++++++++++++++++++++++++++++++++++++++++++++++"
     ]
    }
   ],
   "source": [
    "# nested loop i.e for inside loop\n",
    "\n",
    "num=int(input(\"Enter any number:\"))\n",
    "\n",
    "i,j=0,0\n",
    "\n",
    "for i  in range(0,num):\n",
    "    print()\n",
    "    for j in range(0,i+1):\n",
    "        print('+', end='')"
   ]
  },
  {
   "cell_type": "code",
   "execution_count": 1,
   "id": "e71e6fc0-cc64-4cfa-ba35-97ae5b7a6713",
   "metadata": {},
   "outputs": [
    {
     "name": "stdout",
     "output_type": "stream",
     "text": [
      "range(0, 10)\n"
     ]
    }
   ],
   "source": [
    "print(range(10))"
   ]
  },
  {
   "cell_type": "code",
   "execution_count": 3,
   "id": "56dab659-1e44-470b-81e8-9158ce3f0291",
   "metadata": {},
   "outputs": [
    {
     "name": "stdout",
     "output_type": "stream",
     "text": [
      "range(50, 100)\n"
     ]
    }
   ],
   "source": [
    "print(range(50,100))"
   ]
  },
  {
   "cell_type": "code",
   "execution_count": 6,
   "id": "d5cc68c8-7b04-4cab-8da7-10a130b0b05a",
   "metadata": {},
   "outputs": [
    {
     "name": "stdout",
     "output_type": "stream",
     "text": [
      "50\n",
      "51\n",
      "52\n",
      "53\n",
      "54\n",
      "55\n",
      "56\n",
      "57\n",
      "58\n",
      "59\n",
      "60\n",
      "61\n",
      "62\n",
      "63\n",
      "64\n",
      "65\n",
      "66\n",
      "67\n",
      "68\n",
      "69\n",
      "70\n",
      "71\n",
      "72\n",
      "73\n",
      "74\n",
      "75\n",
      "76\n",
      "77\n",
      "78\n",
      "79\n",
      "80\n",
      "81\n",
      "82\n",
      "83\n",
      "84\n",
      "85\n",
      "86\n",
      "87\n",
      "88\n",
      "89\n",
      "90\n",
      "91\n",
      "92\n",
      "93\n",
      "94\n",
      "95\n",
      "96\n",
      "97\n",
      "98\n",
      "99\n",
      "100\n"
     ]
    }
   ],
   "source": [
    "for i in range(50,101):\n",
    "    print(i)"
   ]
  },
  {
   "cell_type": "code",
   "execution_count": 7,
   "id": "ad31d8e1-d072-415a-8bc2-390beb0235f4",
   "metadata": {},
   "outputs": [
    {
     "name": "stdout",
     "output_type": "stream",
     "text": [
      "0 1 2 3 4 5 6 7 8 9 "
     ]
    }
   ],
   "source": [
    "for aditi in range(10):\n",
    "    print(aditi,end=' ')"
   ]
  },
  {
   "cell_type": "code",
   "execution_count": 8,
   "id": "013b7631-7a0e-4e12-94d5-ef4e8d94f459",
   "metadata": {},
   "outputs": [
    {
     "name": "stdout",
     "output_type": "stream",
     "text": [
      "0\n",
      "1\n",
      "2\n",
      "3\n",
      "4\n",
      "5\n",
      "6\n",
      "7\n",
      "8\n",
      "9\n"
     ]
    }
   ],
   "source": [
    "for i in range(10):\n",
    "    print(i)"
   ]
  },
  {
   "cell_type": "code",
   "execution_count": 14,
   "id": "b87f1ef0-e007-4e38-b840-22d506ca2f0e",
   "metadata": {},
   "outputs": [
    {
     "name": "stdout",
     "output_type": "stream",
     "text": [
      "0-1-2-3-4-5-6-7-8-9-"
     ]
    }
   ],
   "source": [
    "for i in range(10):\n",
    "    print(i,end='-')"
   ]
  },
  {
   "cell_type": "code",
   "execution_count": 23,
   "id": "69529b04-4e3d-45ec-9f72-f1c66077a202",
   "metadata": {},
   "outputs": [
    {
     "name": "stdout",
     "output_type": "stream",
     "text": [
      "a\n",
      "name\n",
      "other name\n"
     ]
    }
   ],
   "source": [
    "dict={\"a\":\"rupali\",\"name\":\"Happy Happy\",\"other name\":\"Aditi\"}\n",
    "\n",
    "for i in dict:\n",
    "    print(i)"
   ]
  },
  {
   "cell_type": "code",
   "execution_count": null,
   "id": "0ca29203-341b-4421-943a-022da9882105",
   "metadata": {},
   "outputs": [],
   "source": []
  },
  {
   "cell_type": "code",
   "execution_count": 24,
   "id": "b1b3c26d-1faf-44c3-8ef8-9e49d42dd5b0",
   "metadata": {},
   "outputs": [
    {
     "name": "stdout",
     "output_type": "stream",
     "text": [
      "a : rupali\n",
      "name : Happy Happy\n",
      "other name : Aditi\n"
     ]
    }
   ],
   "source": [
    "for i, j in dict.items():\n",
    "    print(i,':',j)"
   ]
  },
  {
   "cell_type": "code",
   "execution_count": 25,
   "id": "3b3f7376-bfab-4f8d-a215-0229620a8f92",
   "metadata": {},
   "outputs": [
    {
     "name": "stdout",
     "output_type": "stream",
     "text": [
      "0 Ram\n",
      "1 Shyam\n",
      "2 Bharat\n",
      "3 Love\n",
      "4 Kush\n"
     ]
    }
   ],
   "source": [
    "list=[\"Ram\",\"Shyam\",\"Bharat\",\"Love\",\"Kush\"]\n",
    "\n",
    "for i in range(len(list)):\n",
    "    print(i,list[i])"
   ]
  },
  {
   "cell_type": "code",
   "execution_count": 30,
   "id": "7c719c86-631b-4897-800a-a4a343bd4e1d",
   "metadata": {},
   "outputs": [
    {
     "name": "stdout",
     "output_type": "stream",
     "text": [
      "0 Apple\n",
      "1 StrawBerry\n",
      "2 Kiwi\n",
      "3 Mango\n"
     ]
    }
   ],
   "source": [
    "list1=[\"Apple\",\"StrawBerry\",\"Kiwi\",\"Mango\"]\n",
    "\n",
    "for abc in range(len(list1)):\n",
    "    print(abc,list1[abc])"
   ]
  },
  {
   "cell_type": "code",
   "execution_count": 33,
   "id": "702e2328-7e6a-477f-9a3c-bfef8bd48f2e",
   "metadata": {},
   "outputs": [
    {
     "name": "stdout",
     "output_type": "stream",
     "text": [
      "0 Rupali\n",
      "1 Gurav\n",
      "2 Adit\n",
      "3 Sahil\n",
      "4 45\n",
      "5 85\n",
      "6 95\n"
     ]
    }
   ],
   "source": [
    "tup1=(\"Rupali\",\"Gurav\",\"Adit\",\"Sahil\",45,85,95)\n",
    "\n",
    "for i in range(len(tup1)):\n",
    "    print(i,tup1[i])"
   ]
  },
  {
   "cell_type": "code",
   "execution_count": 37,
   "id": "075dd8af-0d47-4950-9e21-85a4edfdabe1",
   "metadata": {},
   "outputs": [
    {
     "name": "stdout",
     "output_type": "stream",
     "text": [
      "1\n",
      "2\n",
      "3\n",
      "4\n",
      "5\n",
      "6\n",
      "7\n",
      "8\n",
      "9\n",
      "10\n",
      "40\n",
      "20\n",
      "120\n",
      "30\n"
     ]
    }
   ],
   "source": [
    "set1={1,2,3,4,5,6,7,8,9,10,20,30,120,20,30,40,1,2,2,3,3,2,2}\n",
    "\n",
    "for i in set1:\n",
    "    print(i)"
   ]
  },
  {
   "cell_type": "code",
   "execution_count": 38,
   "id": "34bd0f60-b5d7-4bdc-9284-7acae2a7d088",
   "metadata": {},
   "outputs": [
    {
     "name": "stdin",
     "output_type": "stream",
     "text": [
      "Enter a number: 45\n"
     ]
    },
    {
     "name": "stdout",
     "output_type": "stream",
     "text": [
      "45 X 1 = 45\n",
      "45 X 2 = 90\n",
      "45 X 3 = 135\n",
      "45 X 4 = 180\n",
      "45 X 5 = 225\n",
      "45 X 6 = 270\n",
      "45 X 7 = 315\n",
      "45 X 8 = 360\n",
      "45 X 9 = 405\n",
      "45 X 10 = 450\n"
     ]
    }
   ],
   "source": [
    "number=int(input(\"Enter a number:\"))\n",
    "\n",
    "for i in range(1,11):\n",
    "    print(number,\"X\",i,\"=\",number*i)"
   ]
  },
  {
   "cell_type": "code",
   "execution_count": 40,
   "id": "43a25678-d314-4727-adaf-ede4e8ecf1a8",
   "metadata": {},
   "outputs": [
    {
     "name": "stdin",
     "output_type": "stream",
     "text": [
      "Enter a number: 39\n"
     ]
    },
    {
     "name": "stdout",
     "output_type": "stream",
     "text": [
      "39\n",
      "78\n",
      "117\n",
      "156\n",
      "195\n",
      "234\n",
      "273\n",
      "312\n",
      "351\n",
      "390\n"
     ]
    }
   ],
   "source": [
    "user1=int(input(\"Enter a number:\"))\n",
    "\n",
    "for i in range(1,11):\n",
    "    print(user1*i)"
   ]
  },
  {
   "cell_type": "code",
   "execution_count": 41,
   "id": "5cc65d24-0c6c-45a3-a9ce-25bd22efde92",
   "metadata": {},
   "outputs": [
    {
     "name": "stdin",
     "output_type": "stream",
     "text": [
      "Enter a number: 12\n"
     ]
    },
    {
     "name": "stdout",
     "output_type": "stream",
     "text": [
      "12x1=12\n",
      "12x2=24\n",
      "12x3=36\n",
      "12x4=48\n",
      "12x5=60\n",
      "12x6=72\n",
      "12x7=84\n",
      "12x8=96\n",
      "12x9=108\n",
      "12x10=120\n"
     ]
    }
   ],
   "source": [
    "user1=int(input(\"Enter a number:\"))\n",
    "\n",
    "for i in range(1,11):\n",
    "    print(f\"%dx%d=%d\"%(user1,i,user1*i))"
   ]
  },
  {
   "cell_type": "code",
   "execution_count": 42,
   "id": "3b2d7384-1abe-4cf2-a9ec-03a40169984c",
   "metadata": {},
   "outputs": [
    {
     "name": "stdout",
     "output_type": "stream",
     "text": [
      "The total sum of the list is: 550 \n",
      "Average value of the list: 55.0\n"
     ]
    }
   ],
   "source": [
    "nlis=[10,20,30,40,50,60,70,80,90,100]\n",
    "\n",
    "# find the total sum using for loop\n",
    "\n",
    "#sum(nlis)\n",
    "x=0\n",
    "for i in nlis:\n",
    "    x+=i\n",
    "print(\"The total sum of the list is:\",x,\"\\nAverage value of the list:\",x/len(nlis))"
   ]
  },
  {
   "cell_type": "code",
   "execution_count": 43,
   "id": "73dc23eb-fa1f-46c7-9caa-7e8131794215",
   "metadata": {},
   "outputs": [
    {
     "data": {
      "text/plain": [
       "20"
      ]
     },
     "execution_count": 43,
     "metadata": {},
     "output_type": "execute_result"
    }
   ],
   "source": [
    "x=10\n",
    "\n",
    "x+=10\n",
    "x"
   ]
  },
  {
   "cell_type": "code",
   "execution_count": 44,
   "id": "d4edfec9-0f90-432c-a6a2-d70b15eb0d7e",
   "metadata": {},
   "outputs": [
    {
     "data": {
      "text/plain": [
       "15"
      ]
     },
     "execution_count": 44,
     "metadata": {},
     "output_type": "execute_result"
    }
   ],
   "source": [
    "x=20\n",
    "x-=5\n",
    "x"
   ]
  },
  {
   "cell_type": "code",
   "execution_count": 46,
   "id": "ef4952db-93cb-460a-a1d4-fc97889d7a10",
   "metadata": {},
   "outputs": [
    {
     "name": "stdout",
     "output_type": "stream",
     "text": [
      "360\n"
     ]
    }
   ],
   "source": [
    "x=[45,60,30,45,85,95]\n",
    "sum1=0\n",
    "for i in x:\n",
    "    sum1+=i\n",
    "print(sum1)"
   ]
  },
  {
   "cell_type": "code",
   "execution_count": 48,
   "id": "34b54405-64c4-4744-a69a-37ab414f03ab",
   "metadata": {},
   "outputs": [
    {
     "name": "stdout",
     "output_type": "stream",
     "text": [
      "153 51.0\n"
     ]
    }
   ],
   "source": [
    "# \n",
    "list1=[50,51,52]\n",
    "sum1=0\n",
    "for i in list1:\n",
    "    sum1+=i\n",
    "print(sum1,sum1/len(list1))"
   ]
  },
  {
   "cell_type": "code",
   "execution_count": 7,
   "id": "3127b25e-2c29-436a-980d-8c940121ae15",
   "metadata": {},
   "outputs": [
    {
     "name": "stdout",
     "output_type": "stream",
     "text": [
      "Total sum of the list: 1200\n",
      "Total Average of the list: 80.0\n"
     ]
    }
   ],
   "source": [
    "nlis=[10,20,30,40,50,60,70,80,90,100,110,120,130,140,150]\n",
    "\n",
    "# find the total sum using for loop\n",
    "total_sum=0\n",
    "\n",
    "for x in nlis:\n",
    "    total_sum+=x\n",
    "print(\"Total sum of the list:\",total_sum)\n",
    "print(\"Total Average of the list:\",total_sum/len(nlis))"
   ]
  },
  {
   "cell_type": "code",
   "execution_count": 25,
   "id": "2f56b5b5-c4f1-4e90-b33f-84c1699609ae",
   "metadata": {},
   "outputs": [
    {
     "name": "stdout",
     "output_type": "stream",
     "text": [
      "Total sum of the list: 2123 \n",
      "Total Average of the list: 106.15 \n",
      "Maximum of the list: 452 \n",
      "Minimum of the lsit: 0\n",
      "Median: 110\n"
     ]
    }
   ],
   "source": [
    "nlis=[10,20,30,40,50,60,70,80,90,100,110,120,130,140,150,0,300,15,156,452]\n",
    "\n",
    "# find the total sum using for loop\n",
    "total_sum=0\n",
    "\n",
    "for x in nlis:\n",
    "    total_sum+=x\n",
    "print(\"Total sum of the list:\",total_sum,\"\\nTotal Average of the list:\",total_sum/len(nlis),\"\\nMaximum of the list:\",max(nlis),\"\\nMinimum of the lsit:\",min(nlis))\n",
    "\n",
    "x1=len(nlis)//2\n",
    "print(\"Median:\",nlis[x1])\n"
   ]
  },
  {
   "cell_type": "markdown",
   "id": "d3f794d3-4be4-4f96-8adb-20f9b665309d",
   "metadata": {},
   "source": [
    "# break in for loop"
   ]
  },
  {
   "cell_type": "code",
   "execution_count": 29,
   "id": "d4464c8b-81c2-4bb9-b92e-545470c5dbb7",
   "metadata": {},
   "outputs": [
    {
     "name": "stdout",
     "output_type": "stream",
     "text": [
      "1\n",
      "2\n",
      "3\n",
      "4\n",
      "5\n"
     ]
    }
   ],
   "source": [
    "for i in range(1,11):\n",
    "    if i==6:\n",
    "        break\n",
    "    print(i)"
   ]
  },
  {
   "cell_type": "code",
   "execution_count": 32,
   "id": "ba14d7ab-c25f-4515-b1a2-a5841f0117c6",
   "metadata": {},
   "outputs": [
    {
     "name": "stdout",
     "output_type": "stream",
     "text": [
      "10\n",
      "11\n",
      "12\n",
      "13\n",
      "14\n",
      "15\n",
      "16\n",
      "17\n",
      "18\n",
      "19\n",
      "20\n"
     ]
    }
   ],
   "source": [
    "for i in range(10,31):\n",
    "    if i==21:\n",
    "        break\n",
    "    print(i)"
   ]
  },
  {
   "cell_type": "markdown",
   "id": "edac16b2-cc8f-4400-abc2-49416dd99256",
   "metadata": {},
   "source": [
    "# continue in for loop\n"
   ]
  },
  {
   "cell_type": "code",
   "execution_count": 33,
   "id": "bde8f9ab-9974-4537-9cdf-4ea6651f3eaa",
   "metadata": {},
   "outputs": [
    {
     "name": "stdout",
     "output_type": "stream",
     "text": [
      "10\n",
      "11\n",
      "12\n",
      "13\n",
      "14\n",
      "15\n",
      "16\n",
      "17\n",
      "18\n",
      "19\n",
      "20\n",
      "22\n",
      "23\n",
      "24\n",
      "25\n",
      "26\n",
      "27\n",
      "28\n",
      "29\n",
      "30\n"
     ]
    }
   ],
   "source": [
    "for i in range(10,31):\n",
    "    if i==21:\n",
    "        continue\n",
    "    print(i)"
   ]
  },
  {
   "cell_type": "code",
   "execution_count": 35,
   "id": "21e7133b-8335-4815-9913-89cdce91fbd0",
   "metadata": {},
   "outputs": [
    {
     "name": "stdout",
     "output_type": "stream",
     "text": [
      "10\n",
      "20\n",
      "30\n",
      "40\n",
      "50\n"
     ]
    }
   ],
   "source": [
    "list1=[10,20,30,40,50,60,70,80,90,100]\n",
    "\n",
    "for i in list1:\n",
    "    if i==60:\n",
    "        break\n",
    "    print(i)"
   ]
  },
  {
   "cell_type": "code",
   "execution_count": 36,
   "id": "86e0418a-8764-4215-a482-313515224cb2",
   "metadata": {},
   "outputs": [
    {
     "name": "stdout",
     "output_type": "stream",
     "text": [
      "10\n",
      "20\n",
      "30\n",
      "40\n",
      "50\n",
      "70\n",
      "80\n",
      "90\n",
      "100\n"
     ]
    }
   ],
   "source": [
    "list1=[10,20,30,40,50,60,70,80,90,100]\n",
    "\n",
    "for i in list1:\n",
    "    if i==60:\n",
    "        continue\n",
    "    print(i)"
   ]
  },
  {
   "cell_type": "code",
   "execution_count": 41,
   "id": "a83846eb-3e01-4830-a7c5-dca9f5a57e2c",
   "metadata": {},
   "outputs": [
    {
     "name": "stdout",
     "output_type": "stream",
     "text": [
      "Rajpure\n",
      "Aditi\n",
      "Sharma\n"
     ]
    }
   ],
   "source": [
    "list2=[\"Rajpure\",\"Aditi\",\"Sharma\",\"WebAsha\",\"Apple\",\"Cat\",\"Dog\",\"Animal\"]\n",
    "\n",
    "for i in list2:\n",
    "    if i==\"WebAsha\":\n",
    "        break\n",
    "    print(i)"
   ]
  },
  {
   "cell_type": "code",
   "execution_count": 42,
   "id": "6b96245c-985e-441d-bea1-8b50863d34b1",
   "metadata": {},
   "outputs": [
    {
     "name": "stdout",
     "output_type": "stream",
     "text": [
      "Rajpure\n",
      "Aditi\n",
      "Sharma\n",
      "Apple\n",
      "Cat\n",
      "Dog\n",
      "Animal\n"
     ]
    }
   ],
   "source": [
    "list2=[\"Rajpure\",\"Aditi\",\"Sharma\",\"WebAsha\",\"Apple\",\"Cat\",\"Dog\",\"Animal\"]\n",
    "\n",
    "for i in list2:\n",
    "    if i==\"WebAsha\":\n",
    "        continue\n",
    "    print(i)"
   ]
  },
  {
   "cell_type": "code",
   "execution_count": 49,
   "id": "34981808-9f01-4bc6-8e11-6f0b0455db53",
   "metadata": {},
   "outputs": [
    {
     "name": "stdout",
     "output_type": "stream",
     "text": [
      "name : rupali\n",
      "year : Happy Happy\n"
     ]
    }
   ],
   "source": [
    "dict={\"name\":\"rupali\",\"year\":\"Happy Happy\",\"name2\":\"Aditi\",10:\"Sahil\"}\n",
    "\n",
    "for i,j in dict.items():\n",
    "    if i==\"name2\":\n",
    "        break\n",
    "    \n",
    "    print(i,':',j)"
   ]
  },
  {
   "cell_type": "code",
   "execution_count": 50,
   "id": "9c1f7e27-5030-4e2c-8d9b-b32ebc7b704a",
   "metadata": {},
   "outputs": [
    {
     "name": "stdout",
     "output_type": "stream",
     "text": [
      "name : rupali\n",
      "year : Happy Happy\n",
      "name2 : Aditi\n",
      "10 : Sahil\n"
     ]
    }
   ],
   "source": [
    "for i, j in dict.items():\n",
    "    print(i,':',j)"
   ]
  },
  {
   "cell_type": "code",
   "execution_count": 53,
   "id": "ed3c5e1d-9097-4588-91c9-3338a1ca1883",
   "metadata": {},
   "outputs": [
    {
     "name": "stdout",
     "output_type": "stream",
     "text": [
      "name : rupali\n",
      "name2 : Aditi\n",
      "10 : Sahil\n"
     ]
    }
   ],
   "source": [
    "for x,y in dict.items():\n",
    "    if x=='year':\n",
    "        continue\n",
    "    print(x,':',y)"
   ]
  },
  {
   "cell_type": "code",
   "execution_count": 56,
   "id": "439cdfc7-919b-4f06-92f8-d9357d4c8712",
   "metadata": {},
   "outputs": [
    {
     "name": "stdout",
     "output_type": "stream",
     "text": [
      "550\n"
     ]
    }
   ],
   "source": [
    "list1=[10,20,30,40,50,60,70,80,90,100]\n",
    "sum=0\n",
    "for i in list1:\n",
    "    sum+=i\n",
    "print(sum)"
   ]
  },
  {
   "cell_type": "code",
   "execution_count": 58,
   "id": "adee6293-ec6a-4d59-b6e1-100c2e6358c0",
   "metadata": {},
   "outputs": [
    {
     "name": "stdout",
     "output_type": "stream",
     "text": [
      "10\n",
      "20\n",
      "30\n",
      "40\n",
      "50\n",
      "60\n",
      "70\n",
      "80\n",
      "90\n",
      "100\n"
     ]
    }
   ],
   "source": [
    "list1=[10,20,30,40,50,60,70,80,90,100]\n",
    "sum=0\n",
    "for i in list1:\n",
    "    x1=0\n",
    "    x1+=i\n",
    "    print(x1)"
   ]
  },
  {
   "cell_type": "code",
   "execution_count": 70,
   "id": "5970acd0-8de4-47de-bbe0-7ff832ff26ec",
   "metadata": {},
   "outputs": [
    {
     "name": "stdout",
     "output_type": "stream",
     "text": [
      "60\n"
     ]
    }
   ],
   "source": [
    "x5=[10,20,30]\n",
    "sum5=0\n",
    "for i in x5:\n",
    "    \n",
    "    sum5+=i\n",
    "print(sum5)"
   ]
  },
  {
   "cell_type": "code",
   "execution_count": 71,
   "id": "f9a51d02-74eb-406d-bdcf-43305d2a3089",
   "metadata": {},
   "outputs": [
    {
     "data": {
      "text/plain": [
       "60"
      ]
     },
     "execution_count": 71,
     "metadata": {},
     "output_type": "execute_result"
    }
   ],
   "source": [
    "sum5"
   ]
  },
  {
   "cell_type": "code",
   "execution_count": 72,
   "id": "23927469-adf1-4327-97cb-57ee3131a5cd",
   "metadata": {},
   "outputs": [
    {
     "data": {
      "text/plain": [
       "60"
      ]
     },
     "execution_count": 72,
     "metadata": {},
     "output_type": "execute_result"
    }
   ],
   "source": [
    "sum5"
   ]
  },
  {
   "cell_type": "code",
   "execution_count": 78,
   "id": "19596bee-2d30-4855-9f24-34110e8e5769",
   "metadata": {},
   "outputs": [
    {
     "name": "stdout",
     "output_type": "stream",
     "text": [
      "0\n",
      "1\n",
      "3\n",
      "6\n",
      "10\n"
     ]
    }
   ],
   "source": [
    "aditi=0\n",
    "for i in range(5):\n",
    "    \n",
    "    aditi+=i\n",
    "    print(aditi)"
   ]
  },
  {
   "cell_type": "code",
   "execution_count": 79,
   "id": "80c42b0e-fc36-424d-92a5-439603b4cdb8",
   "metadata": {},
   "outputs": [
    {
     "data": {
      "text/plain": [
       "10"
      ]
     },
     "execution_count": 79,
     "metadata": {},
     "output_type": "execute_result"
    }
   ],
   "source": [
    "aditi"
   ]
  },
  {
   "cell_type": "code",
   "execution_count": 3,
   "id": "b7eaa978-32b3-4e6e-899d-673ba32f1b18",
   "metadata": {},
   "outputs": [
    {
     "name": "stdout",
     "output_type": "stream",
     "text": [
      "Current number 0 Previous Number 0 sum of both is 0\n",
      "Current number 1 Previous Number 0 sum of both is 1\n",
      "Current number 2 Previous Number 1 sum of both is 3\n",
      "Current number 3 Previous Number 2 sum of both is 5\n",
      "Current number 4 Previous Number 3 sum of both is 7\n",
      "Current number 5 Previous Number 4 sum of both is 9\n",
      "Current number 6 Previous Number 5 sum of both is 11\n",
      "Current number 7 Previous Number 6 sum of both is 13\n",
      "Current number 8 Previous Number 7 sum of both is 15\n",
      "Current number 9 Previous Number 8 sum of both is 17\n"
     ]
    }
   ],
   "source": [
    "# Print the sum of the current number and the previous number\n",
    "# Write a program to iterate the first 10 numbers and in each iteration, print the sum of the current and\n",
    "# previous number.\n",
    "# Expected result: 0,1,3,5,7,9,11,13,15,17\n",
    "\n",
    "\n",
    "previous_num = 0\n",
    "for i in range(10):\n",
    "    sum = previous_num + i\n",
    "    print(f'Current number {i} Previous Number {previous_num} sum of both is {sum}')\n",
    "    previous_num = i"
   ]
  },
  {
   "cell_type": "code",
   "execution_count": 6,
   "id": "61dc2ec8-ce04-4dba-bcda-9595491b6ac8",
   "metadata": {},
   "outputs": [
    {
     "name": "stdin",
     "output_type": "stream",
     "text": [
      "Enter any number: 7\n"
     ]
    },
    {
     "name": "stdout",
     "output_type": "stream",
     "text": [
      "Number is exist.\n"
     ]
    }
   ],
   "source": [
    "# Write a python program to search a given number from a list?\n",
    "\n",
    "list1=[4,5,6,7,8,91,00,20,30,10,50]\n",
    "\n",
    "n=int(input('Enter any number:'))\n",
    "\n",
    "for i in list1:\n",
    "    if i==n:\n",
    "        print(\"Number is exist.\")\n",
    "        break\n",
    "else:\n",
    "    print(\"Number is not exist.\")"
   ]
  },
  {
   "cell_type": "code",
   "execution_count": 14,
   "id": "772ca842-c09b-46e5-b7a3-10ebc5edc237",
   "metadata": {},
   "outputs": [
    {
     "name": "stdout",
     "output_type": "stream",
     "text": [
      "Even number from 1st list: [2, 4]\n",
      "Odd number from 2nd list: [7, 9]\n",
      "Even number and odd number from two list: [2, 4, 7, 9]\n"
     ]
    }
   ],
   "source": [
    "# 3. Create a new list from a two list using the following condition. Given a two list of\n",
    "# numbers, write a program to create a new list such that the new list should contain odd numbers\n",
    "# from the first list and even numbers from the second list.\n",
    "\n",
    "l1=[1,2,3,4,5]\n",
    "l2=[6,7,8,9,10]\n",
    "\n",
    "l3=[]\n",
    "l4=[]\n",
    "\n",
    "for i in l1:\n",
    "    if i%2==0:\n",
    "        l3.append(i)\n",
    "for i in l2:\n",
    "    if i%2!=0:\n",
    "        l4.append(i)\n",
    "\n",
    "print(\"Even number from 1st list:\",l3)\n",
    "print(\"Odd number from 2nd list:\",l4)\n",
    "print(\"Even number and odd number from two list:\",l3+l4)\n"
   ]
  },
  {
   "cell_type": "code",
   "execution_count": 21,
   "id": "1c3b154f-ebf1-428b-ab01-2ded36cfeac7",
   "metadata": {},
   "outputs": [
    {
     "name": "stdout",
     "output_type": "stream",
     "text": [
      "Maximum value is: 985\n",
      "Minimum value is: 100.23\n",
      "Total: 9280.23\n",
      "Average: 713.8638461538461\n",
      "Median of the list: 453\n"
     ]
    }
   ],
   "source": [
    "# 4. find  max,min, total, average, median.\n",
    "lis1=[100.23,456,744,741,789,951,453,852,753,746,854,856,985]\n",
    "\n",
    "print(\"Maximum value is:\",max(lis1))\n",
    "print(\"Minimum value is:\",min(lis1))\n",
    "\n",
    "sum=0\n",
    "for i in lis1:\n",
    "    sum+=i\n",
    "print(\"Total:\",sum)\n",
    "print(\"Average:\",sum/len(lis1))\n",
    "\n",
    "m=len(lis1)//2\n",
    "print(\"Median of the list:\",lis1[m])"
   ]
  },
  {
   "cell_type": "code",
   "execution_count": 26,
   "id": "02ca224d-fb8f-4e13-b477-1fa5b17f0978",
   "metadata": {},
   "outputs": [
    {
     "name": "stdin",
     "output_type": "stream",
     "text": [
      "Enter your string: 1002\n"
     ]
    },
    {
     "name": "stdout",
     "output_type": "stream",
     "text": [
      "The given number is not palindrom\n"
     ]
    }
   ],
   "source": [
    "# Write a program to check if the given string is a palindrome or not you can take string from the user.\n",
    "\n",
    "#5. Some palindrome words are: \"madam\",\"civic\",\"anna\",\"malayalam\",\"pip\",\"radar\"\n",
    "#WAP to check if the word is palindrome or not.\n",
    "\n",
    "n=input(\"Enter your string:\")\n",
    "\n",
    "reverse_number=n[::-1]\n",
    "\n",
    "if n==reverse_number:\n",
    "    print(\"The given number is palindrom\")\n",
    "\n",
    "else:\n",
    "    print(\"The given number is not palindrom\")"
   ]
  },
  {
   "cell_type": "code",
   "execution_count": 40,
   "id": "192bcc05-3867-44f1-9e13-3ce8974a23e7",
   "metadata": {},
   "outputs": [
    {
     "name": "stdout",
     "output_type": "stream",
     "text": [
      "1 : is Odd numebr.\n",
      "2 : is even number\n",
      "3 : is Odd numebr.\n",
      "4 : is even number\n",
      "5 : is Odd numebr.\n",
      "67 : is Odd numebr.\n",
      "50 : is even number\n",
      "100 : is even number\n",
      "2002 : is even number\n",
      "168 : is even number\n",
      "597 : is Odd numebr.\n",
      "256 : is even number\n",
      "300 : is even number\n",
      "Total even number: 8\n",
      "Total odd number: 5\n"
     ]
    }
   ],
   "source": [
    "# 6. WAP to count the number of even or odd number from series [1,2,3,4,5,67,50,100,2002,168,597,256,300], say 1 is an Odd number.\n",
    "# num=[1,2,3,4,5,67,50,100,2002,168,597,256,300]\n",
    "\n",
    "num=[1,2,3,4,5,67,50,100,2002,168,597,256,300]\n",
    "l3=[]\n",
    "l4=[]\n",
    "for i in num:\n",
    "    if i%2==0:\n",
    "        print(i,': is even number')\n",
    "        l3.append(i)\n",
    "    else:\n",
    "        print(i,': is Odd numebr.')\n",
    "        l4.append(i)\n",
    "print(\"Total even number:\",len(l3))\n",
    "print(\"Total odd number:\",len(l4))"
   ]
  },
  {
   "cell_type": "code",
   "execution_count": 41,
   "id": "8715409e-5240-4a40-ab11-afeade47db85",
   "metadata": {},
   "outputs": [
    {
     "name": "stdout",
     "output_type": "stream",
     "text": [
      "3\n",
      "5\n",
      "7\n",
      "9\n",
      "11\n",
      "13\n",
      "15\n",
      "17\n",
      "19\n",
      "21\n",
      "23\n",
      "25\n",
      "27\n",
      "29\n"
     ]
    }
   ],
   "source": [
    "# 7.  Write a program to display all the prime number from 1 to 30.WAP to display all the prime numbers from 10-30.\n",
    "\n",
    "def is_prime(n):\n",
    "    if n<=1:\n",
    "        return False\n",
    "    for i in range(2,n):\n",
    "        if n%i==0:\n",
    "            return False\n",
    "        return True\n",
    "for num in range(1,31):\n",
    "    if is_prime(num):\n",
    "        print(num)"
   ]
  },
  {
   "cell_type": "code",
   "execution_count": null,
   "id": "f2071cd0-99c3-4f35-b314-729697cad37b",
   "metadata": {},
   "outputs": [],
   "source": []
  },
  {
   "cell_type": "code",
   "execution_count": 50,
   "id": "6777fbd7-b486-459a-b9fb-4abca9ce61a3",
   "metadata": {},
   "outputs": [
    {
     "name": "stdout",
     "output_type": "stream",
     "text": [
      "2\n",
      "3\n",
      "5\n",
      "7\n",
      "11\n",
      "13\n",
      "17\n",
      "19\n",
      "23\n",
      "29\n",
      "31\n"
     ]
    }
   ],
   "source": [
    "for num in range(1,32):\n",
    "   # all prime numbers are greater than 1\n",
    "   if num > 1:\n",
    "       for i in range(2, num):\n",
    "           if (num % i) == 0:\n",
    "               break\n",
    "       else:\n",
    "           print(num)"
   ]
  },
  {
   "cell_type": "code",
   "execution_count": 58,
   "id": "1be85107-95f1-49d8-8e79-9890b8843c29",
   "metadata": {},
   "outputs": [
    {
     "name": "stdin",
     "output_type": "stream",
     "text": [
      "Enter any number: 5\n"
     ]
    },
    {
     "name": "stdout",
     "output_type": "stream",
     "text": [
      "120\n"
     ]
    }
   ],
   "source": [
    "# Write a program to display the factorial of any number with loop?WAP to display the factorial of any number with loop\n",
    "\n",
    "\n",
    "fact=int(input(\"Enter any number:\"))\n",
    "\n",
    "x=1\n",
    "for i in range(1,fact+1):\n",
    "    x=i*x   #1, 2,   \n",
    "print(x)"
   ]
  },
  {
   "cell_type": "code",
   "execution_count": 60,
   "id": "d36db657-5b9e-4621-b2f9-fef28c294316",
   "metadata": {},
   "outputs": [
    {
     "name": "stdin",
     "output_type": "stream",
     "text": [
      "Enter a string: Pune123456789\n"
     ]
    },
    {
     "name": "stdout",
     "output_type": "stream",
     "text": [
      "Your string is Pune123456789 \n",
      "No. of digit is: 9 \n",
      "No. of letters is: 4\n"
     ]
    }
   ],
   "source": [
    "# 9. Write a python program that accepts a string and calculates the number of digits and letters. Ex-abc123 Output= 3letters and 3numbers\n",
    "\n",
    "# Rupali123=\n",
    "\n",
    "word=input(\"Enter a string:\")\n",
    "digit=0\n",
    "letter=0\n",
    "\n",
    "for i in range(len(word)):\n",
    "    if word[i].isnumeric()==True:\n",
    "        digit+=1\n",
    "    else:\n",
    "        letter+=1\n",
    "print(\"Your string is\",word,\"\\nNo. of digit is:\",digit,\"\\nNo. of letters is:\",letter)"
   ]
  },
  {
   "cell_type": "code",
   "execution_count": null,
   "id": "adf602f1-641c-43f8-bd22-9d9e1f6c3365",
   "metadata": {},
   "outputs": [],
   "source": []
  },
  {
   "cell_type": "code",
   "execution_count": null,
   "id": "14aa8762-8d3b-4c10-b2d7-5f82288ef4bb",
   "metadata": {},
   "outputs": [],
   "source": []
  }
 ],
 "metadata": {
  "kernelspec": {
   "display_name": "Python 3 (ipykernel)",
   "language": "python",
   "name": "python3"
  },
  "language_info": {
   "codemirror_mode": {
    "name": "ipython",
    "version": 3
   },
   "file_extension": ".py",
   "mimetype": "text/x-python",
   "name": "python",
   "nbconvert_exporter": "python",
   "pygments_lexer": "ipython3",
   "version": "3.11.4"
  }
 },
 "nbformat": 4,
 "nbformat_minor": 5
}
