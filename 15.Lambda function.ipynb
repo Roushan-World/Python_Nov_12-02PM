{
 "cells": [
  {
   "cell_type": "markdown",
   "id": "1dda222f-8b30-40e3-ac9d-22f92b392e8e",
   "metadata": {},
   "source": [
    "# 15. Lambda, filter, Map and Reduce\n",
    "\n",
    " * __A lambda function is an anonymous function(function without a name).__\n",
    " * __Lambda funcitons can have any number of arguments but only one expression. The Expression is evaluated and returned.__\n",
    " * __We use lambda function when we require a nameless funciton for a short period of time.__\n",
    "# Syntax:\n",
    " __lambda arguments(s): expression__\n",
    "\n",
    "# Filter\n",
    " * __It is used to filter the iterables/sequence as per the conditions.__\n",
    " * __Filter function filters the original iterable and passes the items that retuerns True for the function provided to filter.__\n",
    " * __It is normally used with lambda function to filter list, tuples, or sets.__\n",
    " * __filter() method takes two parameters:__\n",
    " * __i. function: function tests if elements of an iterable returns true or false.__\n",
    " * __ii. iterable: Sequence which needs to be filtered, could be sets, list, tuples, or any iterators.__\n",
    "# syntax:\n",
    " * __filter(function, iterable)__\n",
    "\n",
    "# Map\n",
    " * __The map() function applies a given function to each item of an iterable (list, tuple etc.) and returns a list of the result.__\n",
    " * __map() funciton takes two Parameters.__\n",
    " * __i.function: The function to execute for each item of given iterable.__\n",
    " * __ii.Iterable: It is a iterable which is to be mapped.__\n",
    " * __Returns: Returns a list of the results after appling the given function to each items of a given iterable(list, tuple etc.)__\n",
    "# Syntax:\n",
    " * __map(function, iterable)__\n",
    "\n",
    "# Reduce\n",
    " * __The reduce() function is defined in the functools python module. The reduce() function receives two arguments, a function and an iterable. However, it doesn't return another iterable, instead it returns a single value.__\n",
    "# syntax:\n",
    " * __reduce(function, iterable)__\n",
    "\n",
    "# Working\n",
    "\n",
    " * __(1). Apply a function ot the first items in an iterable and generate a partial result.__\n",
    " * __(2). The function is then called again with the result obtained in setp 1 and the next value in the sequence. This process keeps on repeating until there are items in the sequence.__\n",
    " * __(3). The final returned result is returned and printed on the console.__"
   ]
  },
  {
   "cell_type": "code",
   "execution_count": 4,
   "id": "a0e091d3-fd0c-49d7-b39e-64f28b22ee32",
   "metadata": {},
   "outputs": [
    {
     "name": "stdout",
     "output_type": "stream",
     "text": [
      "16\n"
     ]
    }
   ],
   "source": [
    "# Define a function to perform addition\n",
    "\n",
    "def f(x):\n",
    "    return x+6\n",
    "print(f(10))"
   ]
  },
  {
   "cell_type": "code",
   "execution_count": 5,
   "id": "5c9d317b-8447-4825-8f2c-d74d02b54866",
   "metadata": {},
   "outputs": [
    {
     "name": "stdout",
     "output_type": "stream",
     "text": [
      "The addition of two numbers: 16\n"
     ]
    }
   ],
   "source": [
    "print('The addition of two numbers:',(lambda x:x+6)(10))"
   ]
  },
  {
   "cell_type": "code",
   "execution_count": 8,
   "id": "c3edd2ac-1221-4ad3-8a64-e21e7b45ba6d",
   "metadata": {},
   "outputs": [
    {
     "data": {
      "text/plain": [
       "1000"
      ]
     },
     "execution_count": 8,
     "metadata": {},
     "output_type": "execute_result"
    }
   ],
   "source": [
    "# 2^2=4 using function\n",
    "\n",
    "def exponent(x,y):\n",
    "    return x**y\n",
    "exponent(10,3)"
   ]
  },
  {
   "cell_type": "code",
   "execution_count": 11,
   "id": "1ada72fd-1e4e-435a-936b-c728f01cafa6",
   "metadata": {},
   "outputs": [
    {
     "name": "stdout",
     "output_type": "stream",
     "text": [
      "The power of 10 and 3 is : 10000\n"
     ]
    }
   ],
   "source": [
    "print('The power of 10 and 3 is :',(lambda x,y:x**y)(10,4))"
   ]
  },
  {
   "cell_type": "code",
   "execution_count": 13,
   "id": "ac54498a-ceda-43bb-94de-6fb912fee401",
   "metadata": {},
   "outputs": [
    {
     "data": {
      "text/plain": [
       "3375"
      ]
     },
     "execution_count": 13,
     "metadata": {},
     "output_type": "execute_result"
    }
   ],
   "source": [
    "(lambda x:x*x*x)(15)"
   ]
  },
  {
   "cell_type": "code",
   "execution_count": 14,
   "id": "2e855ecc-ceeb-4315-b2f0-ea957210d1e8",
   "metadata": {},
   "outputs": [
    {
     "data": {
      "text/plain": [
       "3375"
      ]
     },
     "execution_count": 14,
     "metadata": {},
     "output_type": "execute_result"
    }
   ],
   "source": [
    "(lambda x:x**3)(15)"
   ]
  },
  {
   "cell_type": "code",
   "execution_count": 18,
   "id": "222e7edb-fdbd-4b05-984d-6c01300d6fc3",
   "metadata": {},
   "outputs": [
    {
     "name": "stdin",
     "output_type": "stream",
     "text": [
      "Enter person age:\n",
      " 25\n"
     ]
    },
    {
     "name": "stdout",
     "output_type": "stream",
     "text": [
      "Therefore, You can vote.\n"
     ]
    }
   ],
   "source": [
    "# Write a program to calculate the person age, and person is elegible for voting or not? lambda funciton.\n",
    "\n",
    "age=int(input('Enter person age:\\n'))\n",
    "(lambda age: print('Therefore, You can vote.') if age>=18 else print('You can not vote.'))(age)"
   ]
  },
  {
   "cell_type": "code",
   "execution_count": 19,
   "id": "29b298e6-709a-44e9-82dd-4f3b0fb78002",
   "metadata": {},
   "outputs": [
    {
     "name": "stdout",
     "output_type": "stream",
     "text": [
      "Python is the most popular programming language.\n"
     ]
    }
   ],
   "source": [
    "# text: \"Python is the most popular programming language.\" return text using lambda.\n",
    "text=\"Python is the most popular programming language.\"\n",
    "(lambda text:print(text))(text)"
   ]
  },
  {
   "cell_type": "code",
   "execution_count": 23,
   "id": "bea06768-33b4-4d44-95f5-578a770a780f",
   "metadata": {},
   "outputs": [
    {
     "name": "stdin",
     "output_type": "stream",
     "text": [
      "Enter the First number: 30\n",
      "Enter the Second Number (to be operated on): 10\n"
     ]
    },
    {
     "name": "stdout",
     "output_type": "stream",
     "text": [
      "Addition None\n",
      "[40, 20, 300, 3.0, 590490000000000]\n"
     ]
    }
   ],
   "source": [
    "# Write a program to append in the list some calculation perfor using lambda \n",
    "# (Addition,Substraction,Multiplication,Division,Exponent)\n",
    "\n",
    "x=int(input(\"Enter the First number:\"))\n",
    "y=int(input(\"Enter the Second Number (to be operated on):\"))\n",
    "l=[]\n",
    "(lambda x,y:l.append(x+y))(x,y)\n",
    "(lambda x,y:l.append(x-y))(x,y)\n",
    "(lambda x,y:l.append(x*y))(x,y)\n",
    "(lambda x,y:l.append(x/y))(x,y)\n",
    "(lambda x,y:l.append(x**y))(x,y)\n",
    "print(l)"
   ]
  },
  {
   "cell_type": "code",
   "execution_count": 24,
   "id": "4f4a86cd-f907-40c5-b130-f64b813e82a5",
   "metadata": {},
   "outputs": [],
   "source": [
    "# Write a lambda function find the area of Reactangle and its perimeter.\n",
    "# find the area of circle with lambda function and radius is entered by the user.\n",
    "# find the area of square and its perimeter with lambda function and its one side is entered by the user."
   ]
  },
  {
   "cell_type": "code",
   "execution_count": 31,
   "id": "eaf24620-cdb4-498e-bd23-daed02ab5ba8",
   "metadata": {},
   "outputs": [
    {
     "name": "stdin",
     "output_type": "stream",
     "text": [
      "Enter the lenght of rectangle: 12\n",
      "Enter the Widht of rectangle: 13\n"
     ]
    },
    {
     "name": "stdout",
     "output_type": "stream",
     "text": [
      "156 50\n"
     ]
    }
   ],
   "source": [
    "# Write a lambda function find the area of Reactangle and its perimeter.\n",
    "\n",
    "length=int(input('Enter the lenght of rectangle:'))\n",
    "width=int(input('Enter the Widht of rectangle:'))\n",
    "\n",
    "x=(lambda length,width: length* width)(length,width)\n",
    "x1=(lambda length,width:2* (length+width))(length,width)\n",
    "print(x,x1) \n"
   ]
  },
  {
   "cell_type": "code",
   "execution_count": null,
   "id": "2c1f2562-a9ee-4570-bf82-d853707607cf",
   "metadata": {},
   "outputs": [],
   "source": []
  }
 ],
 "metadata": {
  "kernelspec": {
   "display_name": "Python 3 (ipykernel)",
   "language": "python",
   "name": "python3"
  },
  "language_info": {
   "codemirror_mode": {
    "name": "ipython",
    "version": 3
   },
   "file_extension": ".py",
   "mimetype": "text/x-python",
   "name": "python",
   "nbconvert_exporter": "python",
   "pygments_lexer": "ipython3",
   "version": "3.11.4"
  }
 },
 "nbformat": 4,
 "nbformat_minor": 5
}
