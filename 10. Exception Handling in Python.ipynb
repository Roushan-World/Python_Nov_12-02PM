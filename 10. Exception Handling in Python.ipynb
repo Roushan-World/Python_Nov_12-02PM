{
 "cells": [
  {
   "cell_type": "markdown",
   "id": "0f78f578-c68d-4951-81bb-21a89bc6d9c6",
   "metadata": {},
   "source": [
    "# 10. Exception Handling in Python\n",
    "\n",
    " * __An exception is an event, which occurs during the execution of a program that disrupts the normal flow fo the program's instructions.__\n",
    " * __In general, when a Python script encounters a situation that it cannot cope with, it raise an exception.__\n",
    " * __An exception is a python object that represents an error.__\n",
    " * __When a Python script raises an exception, it must either handle the exception immediately otherwise it terminates and quits.__\n",
    " * __If you have some suspicious code that may raise an exception, you can defend your program by placing the suspicious code in try:block.__\n",
    " * __Afther the try:block, include an except: statement, followed by a block of code which handles the problem as elegantly as possible.__\n",
    "\n",
    "# Comman Exceptions\n",
    " * __ZeroDivisionError__\n",
    " * __NameError__\n",
    " * __ValueError__\n",
    " * __IOError__\n",
    " * __EOFError__\n",
    " * __IdentationError__"
   ]
  },
  {
   "cell_type": "code",
   "execution_count": 4,
   "id": "3196b359-93e9-46a2-a757-8d68193bdbbf",
   "metadata": {},
   "outputs": [
    {
     "ename": "ZeroDivisionError",
     "evalue": "division by zero",
     "output_type": "error",
     "traceback": [
      "\u001b[1;31m---------------------------------------------------------------------------\u001b[0m",
      "\u001b[1;31mZeroDivisionError\u001b[0m                         Traceback (most recent call last)",
      "Cell \u001b[1;32mIn[4], line 1\u001b[0m\n\u001b[1;32m----> 1\u001b[0m \u001b[38;5;241;43m1\u001b[39;49m\u001b[38;5;241;43m/\u001b[39;49m\u001b[38;5;241;43m0\u001b[39;49m\n\u001b[0;32m      2\u001b[0m \u001b[38;5;28mprint\u001b[39m(\u001b[38;5;124m'\u001b[39m\u001b[38;5;124mHello World\u001b[39m\u001b[38;5;124m'\u001b[39m)\n",
      "\u001b[1;31mZeroDivisionError\u001b[0m: division by zero"
     ]
    }
   ],
   "source": [
    "1/0\n",
    "print('Hello World')"
   ]
  },
  {
   "cell_type": "code",
   "execution_count": 12,
   "id": "bc9b9453-e034-4ae0-8b9f-7e52998662b6",
   "metadata": {},
   "outputs": [
    {
     "name": "stdout",
     "output_type": "stream",
     "text": [
      "This code gives a ZeroDivisionError.\n"
     ]
    }
   ],
   "source": [
    "try:\n",
    "    1/0\n",
    "except ZeroDivisionError:\n",
    "    print(\"This code gives a ZeroDivisionError.\")"
   ]
  },
  {
   "cell_type": "code",
   "execution_count": 13,
   "id": "df163146-ff25-47c8-be81-8ac6f9622ac5",
   "metadata": {},
   "outputs": [
    {
     "ename": "ZeroDivisionError",
     "evalue": "division by zero",
     "output_type": "error",
     "traceback": [
      "\u001b[1;31m---------------------------------------------------------------------------\u001b[0m",
      "\u001b[1;31mZeroDivisionError\u001b[0m                         Traceback (most recent call last)",
      "Cell \u001b[1;32mIn[13], line 1\u001b[0m\n\u001b[1;32m----> 1\u001b[0m \u001b[38;5;28;43;01mTrue\u001b[39;49;00m\u001b[38;5;241;43m/\u001b[39;49m\u001b[38;5;28;43;01mFalse\u001b[39;49;00m\n",
      "\u001b[1;31mZeroDivisionError\u001b[0m: division by zero"
     ]
    }
   ],
   "source": [
    "True/False"
   ]
  },
  {
   "cell_type": "code",
   "execution_count": 14,
   "id": "af86c6b9-3689-43df-9eb8-41c327d67060",
   "metadata": {},
   "outputs": [
    {
     "name": "stdout",
     "output_type": "stream",
     "text": [
      "This code gives a ZeroDivisionError.\n"
     ]
    }
   ],
   "source": [
    "try:\n",
    "    True/False\n",
    "except ZeroDivisionError:\n",
    "    print('This code gives a ZeroDivisionError.')"
   ]
  },
  {
   "cell_type": "code",
   "execution_count": 17,
   "id": "78804f09-9615-4813-acab-87655d87bd82",
   "metadata": {},
   "outputs": [
    {
     "name": "stdout",
     "output_type": "stream",
     "text": [
      "This code gives ZeroDivisionError:\n"
     ]
    }
   ],
   "source": [
    "try:\n",
    "    nlis=[]\n",
    "    count=0\n",
    "    mean=count/len(nlis)\n",
    "except ZeroDivisionError:\n",
    "    print('This code gives ZeroDivisionError:')"
   ]
  },
  {
   "cell_type": "markdown",
   "id": "7c41d6e6-2d6e-4d2d-84e5-8b8620e210dc",
   "metadata": {},
   "source": [
    "# NameError"
   ]
  },
  {
   "cell_type": "code",
   "execution_count": 24,
   "id": "a7fc0c99-52b1-4891-bc7e-e83cb573474d",
   "metadata": {},
   "outputs": [
    {
     "name": "stdout",
     "output_type": "stream",
     "text": [
      "This code gives ZeroDivisionError.\n"
     ]
    }
   ],
   "source": [
    "nlis=[]\n",
    "count=0\n",
    "try:\n",
    "    mean=count/len(nlis)\n",
    "    print('The mean value is:',mean)\n",
    "except ZeroDivisionError:\n",
    "    print('This code gives ZeroDivisionError.')\n",
    "except NameError:\n",
    "    print('This code gives NameError.')"
   ]
  },
  {
   "cell_type": "code",
   "execution_count": 25,
   "id": "6af89f8b-9d1a-4cbc-abe1-1bb0c1f233c2",
   "metadata": {},
   "outputs": [
    {
     "ename": "NameError",
     "evalue": "name 'x' is not defined",
     "output_type": "error",
     "traceback": [
      "\u001b[1;31m---------------------------------------------------------------------------\u001b[0m",
      "\u001b[1;31mNameError\u001b[0m                                 Traceback (most recent call last)",
      "Cell \u001b[1;32mIn[25], line 1\u001b[0m\n\u001b[1;32m----> 1\u001b[0m y\u001b[38;5;241m=\u001b[39m\u001b[43mx\u001b[49m\u001b[38;5;241m+\u001b[39m\u001b[38;5;241m5\u001b[39m\n\u001b[0;32m      2\u001b[0m y\n",
      "\u001b[1;31mNameError\u001b[0m: name 'x' is not defined"
     ]
    }
   ],
   "source": [
    "y=x+5\n",
    "y"
   ]
  },
  {
   "cell_type": "code",
   "execution_count": 26,
   "id": "e4294712-87d6-490d-9cb3-003eb43287cb",
   "metadata": {},
   "outputs": [
    {
     "name": "stdout",
     "output_type": "stream",
     "text": [
      "This code gives a NameError\n"
     ]
    }
   ],
   "source": [
    "try:\n",
    "    y=x+5\n",
    "except NameError:\n",
    "    print('This code gives a NameError')"
   ]
  },
  {
   "cell_type": "code",
   "execution_count": 31,
   "id": "ceb24588-9119-4d71-95c1-81fb30633840",
   "metadata": {},
   "outputs": [
    {
     "ename": "NameError",
     "evalue": "name 'add' is not defined",
     "output_type": "error",
     "traceback": [
      "\u001b[1;31m---------------------------------------------------------------------------\u001b[0m",
      "\u001b[1;31mNameError\u001b[0m                                 Traceback (most recent call last)",
      "Cell \u001b[1;32mIn[31], line 7\u001b[0m\n\u001b[0;32m      4\u001b[0m     z\u001b[38;5;241m=\u001b[39mx\u001b[38;5;241m+\u001b[39my\n\u001b[0;32m      5\u001b[0m     \u001b[38;5;28;01mreturn\u001b[39;00m z\n\u001b[1;32m----> 7\u001b[0m total\u001b[38;5;241m=\u001b[39m\u001b[43madd\u001b[49m(\u001b[38;5;241m10\u001b[39m,\u001b[38;5;241m20\u001b[39m)\n\u001b[0;32m      8\u001b[0m \u001b[38;5;28mprint\u001b[39m(total)\n",
      "\u001b[1;31mNameError\u001b[0m: name 'add' is not defined"
     ]
    }
   ],
   "source": [
    "# Define a Function giving a NameError\n",
    "\n",
    "def addition(x,y):\n",
    "    z=x+y\n",
    "    return z\n",
    "\n",
    "total=add(10,20)\n",
    "print(total)"
   ]
  },
  {
   "cell_type": "code",
   "execution_count": 32,
   "id": "ab65ad4a-8e5f-4472-bef7-56a264604e2a",
   "metadata": {},
   "outputs": [
    {
     "name": "stdout",
     "output_type": "stream",
     "text": [
      "This code gives NameError\n"
     ]
    }
   ],
   "source": [
    "try:\n",
    "    def addition(x,y):\n",
    "        z=x+y\n",
    "        return z\n",
    "\n",
    "    total=add(10,20)\n",
    "    print(total)\n",
    "except NameError:\n",
    "    print(\"This code gives NameError\")"
   ]
  },
  {
   "cell_type": "code",
   "execution_count": 38,
   "id": "b200a37f-5728-4c64-9f8d-922ac476c3f6",
   "metadata": {},
   "outputs": [
    {
     "name": "stdout",
     "output_type": "stream",
     "text": [
      "This code gives NameError.\n"
     ]
    }
   ],
   "source": [
    "try:\n",
    "    name=(Prajwal)\n",
    "    name\n",
    "except NameError:\n",
    "    print('This code gives NameError.')"
   ]
  },
  {
   "cell_type": "markdown",
   "id": "d978cff5-cf2f-4256-bb19-0fc177b99513",
   "metadata": {},
   "source": [
    "# IndexError"
   ]
  },
  {
   "cell_type": "code",
   "execution_count": 44,
   "id": "870193e8-5e11-465f-b5fd-13368d7ded51",
   "metadata": {},
   "outputs": [
    {
     "name": "stdout",
     "output_type": "stream",
     "text": [
      "This code gives IndexError.\n"
     ]
    }
   ],
   "source": [
    "nlis=[10,20,30,40,50,60,70,True,False,'Hello World']\n",
    "try:\n",
    "    nlis[10]\n",
    "except IndexError:\n",
    "    print(\"This code gives IndexError.\")"
   ]
  },
  {
   "cell_type": "code",
   "execution_count": 47,
   "id": "9d3b4db7-f138-40e9-96f5-407c197925f3",
   "metadata": {},
   "outputs": [
    {
     "ename": "IndexError",
     "evalue": "tuple index out of range",
     "output_type": "error",
     "traceback": [
      "\u001b[1;31m---------------------------------------------------------------------------\u001b[0m",
      "\u001b[1;31mIndexError\u001b[0m                                Traceback (most recent call last)",
      "Cell \u001b[1;32mIn[47], line 2\u001b[0m\n\u001b[0;32m      1\u001b[0m tuple1\u001b[38;5;241m=\u001b[39m(\u001b[38;5;241m10\u001b[39m,\u001b[38;5;241m20\u001b[39m,\u001b[38;5;241m30\u001b[39m,\u001b[38;5;241m40\u001b[39m,\u001b[38;5;241m50\u001b[39m,\u001b[38;5;241m60\u001b[39m,\u001b[38;5;241m70\u001b[39m,\u001b[38;5;28;01mTrue\u001b[39;00m,\u001b[38;5;28;01mFalse\u001b[39;00m,\u001b[38;5;124m'\u001b[39m\u001b[38;5;124mHello World\u001b[39m\u001b[38;5;124m'\u001b[39m)\n\u001b[1;32m----> 2\u001b[0m \u001b[43mtuple1\u001b[49m\u001b[43m[\u001b[49m\u001b[38;5;241;43m10\u001b[39;49m\u001b[43m]\u001b[49m\n",
      "\u001b[1;31mIndexError\u001b[0m: tuple index out of range"
     ]
    }
   ],
   "source": [
    "tuple1=(10,20,30,40,50,60,70,True,False,'Hello World')\n",
    "tuple1[10]"
   ]
  },
  {
   "cell_type": "markdown",
   "id": "4cd7054a-88f3-46e3-94db-3e78e5e73ae5",
   "metadata": {},
   "source": [
    "# KeyError"
   ]
  },
  {
   "cell_type": "code",
   "execution_count": 50,
   "id": "0ffa2fbd-dfd1-4a9c-a829-34bca3566aec",
   "metadata": {},
   "outputs": [
    {
     "name": "stdout",
     "output_type": "stream",
     "text": [
      "This code gives KeyError.\n"
     ]
    }
   ],
   "source": [
    "details={'name':'xyz','age':45,12:'Hello World'}\n",
    "try:\n",
    "    details['contact']\n",
    "except KeyError:\n",
    "    print('This code gives KeyError.')"
   ]
  },
  {
   "cell_type": "markdown",
   "id": "ee14648a-760a-4aee-a5aa-abc8488c2ce8",
   "metadata": {},
   "source": [
    "# Multiple Except Blocks\n",
    "\n",
    "# try/except/except etc."
   ]
  },
  {
   "cell_type": "code",
   "execution_count": 54,
   "id": "a6d3c377-1758-4b64-a385-1663d8cee72c",
   "metadata": {},
   "outputs": [
    {
     "name": "stdin",
     "output_type": "stream",
     "text": [
      "Enter any value: 12\n",
      "Enter second value: 0\n"
     ]
    },
    {
     "name": "stdout",
     "output_type": "stream",
     "text": [
      "This function gives a ZeroDivisionError since a number cannot divide by 0.\n"
     ]
    }
   ],
   "source": [
    "num1=float(input('Enter any value:'))\n",
    "num2=float(input('Enter second value:'))\n",
    "\n",
    "try:\n",
    "    value=num1/num2\n",
    "    print('The process is running with value:',value)\n",
    "except ZeroDivisionError:\n",
    "    print('This function gives a ZeroDivisionError since a number cannot divide by 0.')\n",
    "except ValueError:\n",
    "    print('You Should provide a number.')\n",
    "except:\n",
    "    print('Something went wrong!')"
   ]
  },
  {
   "cell_type": "code",
   "execution_count": null,
   "id": "6567aff8-349c-4cd9-ba4d-6f5045135c0f",
   "metadata": {},
   "outputs": [],
   "source": []
  }
 ],
 "metadata": {
  "kernelspec": {
   "display_name": "Python 3 (ipykernel)",
   "language": "python",
   "name": "python3"
  },
  "language_info": {
   "codemirror_mode": {
    "name": "ipython",
    "version": 3
   },
   "file_extension": ".py",
   "mimetype": "text/x-python",
   "name": "python",
   "nbconvert_exporter": "python",
   "pygments_lexer": "ipython3",
   "version": "3.11.4"
  }
 },
 "nbformat": 4,
 "nbformat_minor": 5
}
