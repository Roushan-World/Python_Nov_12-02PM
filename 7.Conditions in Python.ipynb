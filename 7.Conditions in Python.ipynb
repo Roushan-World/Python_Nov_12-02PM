{
 "cells": [
  {
   "cell_type": "markdown",
   "id": "9762d6ca-f5bb-44c3-84ba-0616197e528b",
   "metadata": {},
   "source": [
    "# 7. Conditions in python\n",
    "\n",
    "* less than (<)\n",
    "* less than or equal to(<=)\n",
    "* Greater than(>)\n",
    "* Greater than or equal to(>=)\n",
    "* Equal to(==)\n",
    "* Not equal to(!=)\n"
   ]
  },
  {
   "cell_type": "markdown",
   "id": "8697bf07-8127-4771-bdf5-54407d80897c",
   "metadata": {},
   "source": [
    "# Branching (if,elif,else)\n",
    "\n",
    " * __Decition making is required when we wanto to execute a code only if a certain condition is satisfied.__\n",
    " * __The if/elif/else statement is used in Python for decision making.__\n",
    " * __An else statement can be combined with an if statement.__\n",
    " * __An else statement contains the block of code that executes if the conditional expression in the if statement resolves to 0 or a False value.__\n",
    " * __The else statement is an optional statement and there could be at most only one else statement followint if.__\n",
    " * __The elif statement allows you to check multiple expression for True and Execute a block of code as soon as on of the conditions evaluates to True.__\n",
    " * __Similar to the else, the elif statement is optional.__\n",
    " * __However, unlike else, for which there can be at most one statement, ther can be an arbitratry number of elif statments followint an if.__"
   ]
  },
  {
   "cell_type": "code",
   "execution_count": 4,
   "id": "0579c02d-17a1-4c67-999a-2a2f2ed8e32c",
   "metadata": {},
   "outputs": [
    {
     "name": "stdout",
     "output_type": "stream",
     "text": [
      "The number pi 3.14 is greater than the ratio 1.618\n"
     ]
    }
   ],
   "source": [
    "pi=3.14\n",
    "ratio=1.618\n",
    "\n",
    "if pi>ratio:\n",
    "    print(f'The number pi {pi} is greater than the ratio {ratio}')\n",
    "else:\n",
    "    print(f\"The ratio {ratio} is lower than the number pi {pi}\")"
   ]
  },
  {
   "cell_type": "code",
   "execution_count": 14,
   "id": "b559ed7a-18fb-4449-afd0-f8b7a8cbd329",
   "metadata": {},
   "outputs": [
    {
     "name": "stdin",
     "output_type": "stream",
     "text": [
      "Enter your baby age: 6\n"
     ]
    },
    {
     "name": "stdout",
     "output_type": "stream",
     "text": [
      "You can go to primary school.\n"
     ]
    }
   ],
   "source": [
    "age=int(input(\"Enter your baby age:\"))\n",
    "\n",
    "if age>=6:\n",
    "    print(\"You can go to primary school.\")\n",
    "elif age==5:\n",
    "    print(\"You should go to kindergarten.\")\n",
    "else:\n",
    "    print(\"You are a Baby\")"
   ]
  },
  {
   "cell_type": "code",
   "execution_count": 16,
   "id": "1c4f7b25-89e6-4c0c-a6c4-eba4fd44fca6",
   "metadata": {},
   "outputs": [
    {
     "name": "stdin",
     "output_type": "stream",
     "text": [
      "Enter your age: 21\n"
     ]
    },
    {
     "name": "stdout",
     "output_type": "stream",
     "text": [
      "You can Vote.\n"
     ]
    }
   ],
   "source": [
    "x=int(input(\"Enter your age:\"))\n",
    "\n",
    "if x>=18:\n",
    "    print(\"You can Vote.\")\n",
    "\n",
    "else:\n",
    "    print(\"You can not vote.\")"
   ]
  },
  {
   "cell_type": "code",
   "execution_count": 17,
   "id": "45004158-074f-46da-99be-b5f45ecb6663",
   "metadata": {},
   "outputs": [],
   "source": [
    "# percentage<60 \"D\"   percentage>=70 'C'  per>=80  \"B\"  per>=90 'A' percentage>90  'A+'\n",
    "\n"
   ]
  },
  {
   "cell_type": "code",
   "execution_count": 24,
   "id": "57486577-ab5c-4c7e-a6f5-863fd4608e83",
   "metadata": {},
   "outputs": [
    {
     "name": "stdin",
     "output_type": "stream",
     "text": [
      "Enter your number: 4651694616546518\n"
     ]
    },
    {
     "name": "stdout",
     "output_type": "stream",
     "text": [
      "It is an Even Number\n"
     ]
    }
   ],
   "source": [
    "# Write an program to check whether even or odd.\n",
    "\n",
    "num=int(input(\"Enter your number:\"))\n",
    "\n",
    "if num%2==0:\n",
    "    print(\"It is an Even Number\")\n",
    "\n",
    "else:\n",
    "    print(\"It is an Odd Number\")"
   ]
  },
  {
   "cell_type": "code",
   "execution_count": null,
   "id": "8d6bb5d3-358b-4468-aa88-c1773dda6117",
   "metadata": {},
   "outputs": [],
   "source": [
    "# Write a program to check wherer a number is divisible by 7 or not.\n",
    "\n"
   ]
  },
  {
   "cell_type": "code",
   "execution_count": 31,
   "id": "66d9a447-88fb-4c5c-be5b-e6ef61e5fd74",
   "metadata": {},
   "outputs": [
    {
     "name": "stdin",
     "output_type": "stream",
     "text": [
      "Enter any number From 1 to 7: 3\n"
     ]
    },
    {
     "name": "stdout",
     "output_type": "stream",
     "text": [
      "Wednesday\n"
     ]
    }
   ],
   "source": [
    "# Week  1 = Monday, 2= Tuesday, 3= Wednesday, 4=Thursday 5=Friday 6= Saturday 7=Sunday.\n",
    "\n",
    "weeks=int(input(\"Enter any number From 1 to 7:\"))\n",
    "\n",
    "if weeks==1:\n",
    "    print(\"Monday\")\n",
    "elif weeks==2:\n",
    "    print(\"Tuesday\")\n",
    "elif weeks==3:\n",
    "    print(\"Wednesday\")\n",
    "elif weeks==4:\n",
    "    print(\"Thursday\")\n",
    "elif weeks==5:\n",
    "    print(\"Friday\")\n",
    "elif weeks==6:\n",
    "    print(\"Saturday\")\n",
    "elif weeks==7:\n",
    "    print(\"Sunday\")\n",
    "else:\n",
    "    print(\"Invalid Number\")"
   ]
  },
  {
   "cell_type": "code",
   "execution_count": 36,
   "id": "261169a0-70e7-467b-833c-9dbba7b644c8",
   "metadata": {},
   "outputs": [
    {
     "name": "stdin",
     "output_type": "stream",
     "text": [
      "Enter First Person Age: 15\n",
      "Enter Second Person Age: 45\n"
     ]
    },
    {
     "name": "stdout",
     "output_type": "stream",
     "text": [
      "45 is greater than age 15\n"
     ]
    }
   ],
   "source": [
    "# month\n",
    "\n",
    "age1=int(input(\"Enter First Person Age:\"))\n",
    "age2=int(input(\"Enter Second Person Age:\"))\n",
    "\n",
    "if age1>age2:\n",
    "    print(f\"{age1} is greater than age {age2}\")\n",
    "\n",
    "elif age1==age2:\n",
    "    print(f'{age1} and {age2} both are equal.')\n",
    "elif age1<age2:\n",
    "    print(f'{age2} is greater than age {age1}')\n",
    "else:\n",
    "    print(\"Invalid age\")"
   ]
  },
  {
   "cell_type": "code",
   "execution_count": 38,
   "id": "469a6065-8aef-4473-aab2-dde97a93c9c1",
   "metadata": {},
   "outputs": [
    {
     "name": "stdin",
     "output_type": "stream",
     "text": [
      "enter the percentage 85\n"
     ]
    },
    {
     "name": "stdout",
     "output_type": "stream",
     "text": [
      "B\n"
     ]
    }
   ],
   "source": [
    "# Write a program to accept percentage from the user and display the grade according to the criteria:\n",
    "# percentage------------------> Grade\n",
    "# >90 ------------------------> 'A'\n",
    "# >80 and <=90 ---------------> \"B\"\n",
    "# >=60 and <=80---------------> \"C\"\n",
    "# below 60 -------------------> \"D\"\n",
    "\n",
    "grades=int(input(\"enter the percentage\"))\n",
    "\n",
    "if grades>90:\n",
    "    print(\"A\")\n",
    "    \n",
    "elif grades>80 & grades<=90:\n",
    "     print(\"B\")\n",
    "        \n",
    "elif grades>=60 & grades<=80:\n",
    "     print(\"C\")\n",
    "\n",
    "elif grades>60:\n",
    "    print(\"D\")"
   ]
  },
  {
   "cell_type": "code",
   "execution_count": 39,
   "id": "5f062b54-5086-4911-be4b-14ff663a4154",
   "metadata": {},
   "outputs": [
    {
     "name": "stdin",
     "output_type": "stream",
     "text": [
      "Enter the percentage 85\n"
     ]
    },
    {
     "name": "stdout",
     "output_type": "stream",
     "text": [
      "your grade is B\n"
     ]
    }
   ],
   "source": [
    "percentage=int(input(\"Enter the percentage\"))\n",
    "\n",
    "if percentage>90:\n",
    "    print(\"your grade is A \")\n",
    "\n",
    "elif percentage>80 and percentage<=90:\n",
    "    print(\"your grade is B\")\n",
    "\n",
    "elif percentage>=60 and percentage<=80:\n",
    "    print(\"your grade is C\")\n",
    "\n",
    "elif percentage < 60:\n",
    "    print(\"your grade is D\")"
   ]
  },
  {
   "cell_type": "code",
   "execution_count": 43,
   "id": "79b52149-24f5-4037-b69e-628832ae64a4",
   "metadata": {},
   "outputs": [
    {
     "name": "stdin",
     "output_type": "stream",
     "text": [
      "Enter your age: 11\n"
     ]
    },
    {
     "name": "stdout",
     "output_type": "stream",
     "text": [
      "Child\n"
     ]
    }
   ],
   "source": [
    "# Write a program to check whether a person is belongs to senior citizen(above 60), adult(12+ <60),child(0-12)\n",
    "\n",
    "age=int(input(\"Enter your age:\"))\n",
    "\n",
    "if age>=60:\n",
    "    print(\"Senior Citizen\")\n",
    "elif age>=12 and age<60:\n",
    "    print(\"Young\")\n",
    "else:\n",
    "    print(\"Child\")"
   ]
  },
  {
   "cell_type": "code",
   "execution_count": 10,
   "id": "778f038b-f0ac-47e9-9653-1d1a8fc7e79c",
   "metadata": {},
   "outputs": [
    {
     "name": "stdin",
     "output_type": "stream",
     "text": [
      "Enter any number: 12\n"
     ]
    },
    {
     "name": "stdout",
     "output_type": "stream",
     "text": [
      "The number 12 is not divisible by both 7 and 8.\n"
     ]
    }
   ],
   "source": [
    "# Write a program to chek whether a number is divisible by 7,8 or not?\n",
    "\n",
    "num1=int(input(\"Enter any number:\"))\n",
    "\n",
    "if num1%7==0 and num1%8==0:\n",
    "    print(f'The number {num1} is divisible by both 7 and 8.')\n",
    "elif num1%7==0 and num1%8!=0:\n",
    "    print(f'The number {num1} is divisible by only 7 not 8.')\n",
    "elif num1%7!=0 and num1%8==0:\n",
    "    print(f'The number {num1} is divisible by only 8 not 7.')\n",
    "else:\n",
    "    print(f'The number {num1} is not divisible by both 7 and 8.')"
   ]
  },
  {
   "cell_type": "code",
   "execution_count": 23,
   "id": "d34b1540-bc31-4dd2-9636-c5502111b8af",
   "metadata": {},
   "outputs": [
    {
     "name": "stdin",
     "output_type": "stream",
     "text": [
      "enter the number 21\n"
     ]
    },
    {
     "name": "stdout",
     "output_type": "stream",
     "text": [
      "The number 21 is divisible by 7 and 3 but not 5.\n"
     ]
    }
   ],
   "source": [
    "# Write a python program to check the number is divisible by 3,5,7.\n",
    "\n",
    "number=int(input(\"enter the number\"))\n",
    "\n",
    "if number%3==0 and number%5!=0 and number%7!=0:\n",
    "    print(f'The number {number} is divisible by 3 but not 5 and 7.')\n",
    "\n",
    "   \n",
    "elif number%5==0 and number%3!=0 and number%7!=0:\n",
    "    print(f'The number {number} is divisible by 5 but not 3 and 7.')\n",
    "   \n",
    "elif number%7==0 and number%3!=0 and number%5!=0:\n",
    "    print(f'The number {number} is divisible by 7 but not 3 and 5.')\n",
    "   \n",
    "elif number%3==0 and number%5==0 and number%7!=0:\n",
    "    print(f'The number {number} is divisible by 3 and 5 but not 7.')\n",
    "   \n",
    "elif number%5==0 and number%7==0 and number%3!=0:\n",
    "    print(f'The number {number} is divisible by 5 and 7 but not 3.')\n",
    "   \n",
    "elif number%3==0 and number%7==0 and number%5!=0:\n",
    "    print(f'The number {number} is divisible by 7 and 3 but not 5.')\n",
    "   \n",
    "elif  (number%3)==0 & (number%5)==0 & (number%7)==0:\n",
    "    print(number,\"divisible by 3 and 5 and 7 also\")  \n",
    "   \n",
    "else:\n",
    "    print(\"the given number is not devisible by any number\")"
   ]
  },
  {
   "cell_type": "code",
   "execution_count": 42,
   "id": "5ff57b48-1b5d-4bc3-baaf-b8a0a747c8b4",
   "metadata": {},
   "outputs": [
    {
     "name": "stdout",
     "output_type": "stream",
     "text": [
      "['Delhi', 'Agra', 'Jaipur', 'Amritsar', 'Madurai', 'Mumbai', 'Sanchi', 'Hydrabad', 'Pune', 'Andhra']\n"
     ]
    },
    {
     "name": "stdin",
     "output_type": "stream",
     "text": [
      "Choose any one city at a time:\n",
      " MADURAI\n"
     ]
    },
    {
     "name": "stdout",
     "output_type": "stream",
     "text": [
      "Meenakshi temple\n"
     ]
    }
   ],
   "source": [
    "# Accept any city from the user and display monument of the city.\n",
    "# City----------------------------> Monument\n",
    "# Delhi---------------------------> \"RedFort\"\n",
    "# Agra----------------------------> \"TajMahal\"\n",
    "# JaiPur--------------------------> \"JalMahal, HawaMahal\"\n",
    "# AmritSar------------------------> \"Golden Temple\"\n",
    "# Madurai-------------------------> \"Meenakshi Temple\"\n",
    "# Mumbai--------------------------> \"Gateway of India\"\n",
    "# Sanchi--------------------------> \"Sanchi Stupa\"\n",
    "# Hydrabad------------------------> \"Charminar\"\n",
    "# Pune----------------------------> \"Shaniwarwada\"\n",
    "# Andhra--------------------------> \"Tirupati\"\n",
    "list=[\"Delhi\",\"Agra\",\"Jaipur\",\"Amritsar\",\"Madurai\",\"Mumbai\",\"Sanchi\",\"Hydrabad\",\"Pune\",\"Andhra\"]\n",
    "print(list)\n",
    "city=str(input(\"Choose any one city at a time:\\n\"))\n",
    "\n",
    "if city.lower()=='delhi':\n",
    "    print(\"Redfort\")\n",
    "    \n",
    "elif city.lower()=='agra':\n",
    "    print(\"Tajmahal\")\n",
    "    \n",
    "elif city.lower()=='jaypur':\n",
    "     print(\"Jalamahal, Hawamahal\")\n",
    "    \n",
    "elif city.upper()=='AMRITSAR': \n",
    "    print(\"Golden Temple\")\n",
    "    \n",
    "elif city.title()=='Madurai': \n",
    "    print(\"Meenakshi temple\")\n",
    "    \n",
    "elif city=='Mumbai':\n",
    "    print(\"Gateway of India\")\n",
    "    \n",
    "elif city=='Sanchi': \n",
    "    print(\"Sanchi Stupa\")\n",
    "    \n",
    "elif city=='Hydrabad': \n",
    "    print(\"Charminar\")\n",
    "    \n",
    "elif city=='Pune':\n",
    "    print(\"Sahaniwarwada\")\n",
    "    \n",
    "elif city=='Andhra':\n",
    "    print(\"Tirupati\")\n",
    "    \n",
    "else:\n",
    "    print('The given city option is not available.')"
   ]
  },
  {
   "cell_type": "code",
   "execution_count": null,
   "id": "f4eefcca-b6b2-455e-adc2-748e477a9752",
   "metadata": {},
   "outputs": [],
   "source": [
    "Delhi  \"delhi\"\n",
    "DElhi  \"delhi\""
   ]
  },
  {
   "cell_type": "code",
   "execution_count": 44,
   "id": "e8efcbfd-56cb-4429-97f8-1bbd6289959f",
   "metadata": {},
   "outputs": [
    {
     "name": "stdin",
     "output_type": "stream",
     "text": [
      "enter age1: 78\n",
      "enter age2: 99\n",
      "enter age3: 100\n"
     ]
    },
    {
     "name": "stdout",
     "output_type": "stream",
     "text": [
      "Age3 is oldest\n"
     ]
    }
   ],
   "source": [
    "# Accept the age of 3 people and display the elder one.\n",
    "\n",
    "#Accept the age of three people and display the elder one\n",
    "\n",
    "age1=int(input('enter age1:'))\n",
    "age2=int(input('enter age2:'))\n",
    "age3=int(input('enter age3:'))\n",
    "\n",
    "if age1>age2 and age1>age3:\n",
    "    print(\"Age1 is oldest\")\n",
    "    \n",
    "elif age2>age1 and age2>age3:\n",
    "    print(\"Age2 is oldest\")\n",
    "    \n",
    "else: \n",
    "    print(\"Age3 is oldest\")"
   ]
  },
  {
   "cell_type": "code",
   "execution_count": 60,
   "id": "1c60fbf0-371b-4ef5-8de0-8a57adfbb745",
   "metadata": {},
   "outputs": [
    {
     "name": "stdin",
     "output_type": "stream",
     "text": [
      "enter the marked price:  1000\n"
     ]
    },
    {
     "name": "stdout",
     "output_type": "stream",
     "text": [
      "Discount :  100.0\n",
      "net price :  900.0\n"
     ]
    }
   ],
   "source": [
    "# Accept the marked price from the user and calculate the net amount (marked price)\n",
    "# marked price---------------------> discount\n",
    "# >10000 --------------------------> 20%\n",
    "# >7000 and <=10000----------------> 15%\n",
    "# <=7000---------------------------> 10%\n",
    "\n",
    "price=int(input(\"enter the marked price: \"))\n",
    "\n",
    "if price>10000:\n",
    "    disc=(price*20)/100\n",
    "    \n",
    "elif price>7000 and price<=10000:\n",
    "    disc=price*15/100\n",
    "\n",
    "else:\n",
    "    price<=7000\n",
    "    disc=price*10/100    \n",
    "    \n",
    "    \n",
    "print(\"Discount : \",disc)\n",
    "print(\"net price : \", price-disc)"
   ]
  },
  {
   "cell_type": "code",
   "execution_count": 58,
   "id": "a9192f98-0b9b-4eac-878b-0caccd565daa",
   "metadata": {},
   "outputs": [
    {
     "name": "stdin",
     "output_type": "stream",
     "text": [
      "Enetr the price: 10000\n",
      "Enetr the discount: 15\n"
     ]
    },
    {
     "name": "stdout",
     "output_type": "stream",
     "text": [
      "your discounted price is: 8500.0\n"
     ]
    }
   ],
   "source": [
    "price=int(input(\"Enetr the price:\"))\n",
    "discount=int(input(\"Enetr the discount:\"))\n",
    "\n",
    "output= (price - (price * discount) / 100)\n",
    "print(\"your discounted price is:\",output)"
   ]
  },
  {
   "cell_type": "markdown",
   "id": "44630b8b-6150-442d-919e-ea4829b65a9f",
   "metadata": {},
   "source": [
    "* Write a Python program to calculate the area of rectangle given its length and width from user input.\n",
    "* Create a program that takes a user's name and age as input and prints a greeting message.\n",
    "* Write a program to check if a number is even or odd.\n",
    "* Given a list of numbers, find the maximum and minimum values.\n",
    "* Create a Python function to check if a given string is a palindrome.\n",
    "* Calculate the compound interest for a given principal amount, interest rate and time period.\n",
    "* Write a python program that converts a given number of days into years, week, and days.\n",
    "* Given a list of integers, find the sum of all positive numbers. [45,78,90,-78,45,-100]\n",
    "* Create a program that takes a sentence as input and counts the nukmber of words in it.\n",
    "* Implement a program that swaps the values of two variable."
   ]
  },
  {
   "cell_type": "markdown",
   "id": "9e98499a-2aa9-4fe8-9f99-89398e45eb22",
   "metadata": {},
   "source": [
    "* Given a list of numbers, find the sum and average of the number.\n",
    "* Create a program that takes a temperature in Celsius and converts it to Kelvin.\n",
    "* Create a function to reverse a given string.\n",
    "* Given a list of names, concatenate them into a singel separated by spaces.\n",
    "* Write a Python program to check if a given string is a pangram(contains all letters of the alphabet.)\n",
    "* Calculate the area and circumference of a circle given its radius.\n",
    "* Implement a program that convers a given number of minutes into hours and minutes.\n",
    "* Create a function to count the number of vowels in a given string.\n",
    "* Write a program to check if a number is prime or not."
   ]
  },
  {
   "cell_type": "code",
   "execution_count": 4,
   "id": "e8b22567-f4f8-4793-bb01-fabfac97ba2f",
   "metadata": {},
   "outputs": [
    {
     "name": "stdin",
     "output_type": "stream",
     "text": [
      "enter the number of classses held:\n",
      " 365\n",
      "enter the number of classes attended :\n",
      " 250\n"
     ]
    },
    {
     "name": "stdout",
     "output_type": "stream",
     "text": [
      "student is not allowed to sit in exam 68.4931506849315\n"
     ]
    }
   ],
   "source": [
    "# A student will not be allowed to sit in the exam if his/her attendence is less than 75%. \n",
    "# Take following input from user as:\n",
    "# Number of classes held\n",
    "# Number of classes attended and print percentage of class attended.\n",
    "# is student allowed to sit in the exam or not.\n",
    "classes_held=int(input('enter the number of classses held:\\n'))\n",
    "classes_attended=int(input('enter the number of classes attended :\\n'))\n",
    "\n",
    "total=(classes_attended/classes_held)*100\n",
    "\n",
    "if total>=75:\n",
    "    print(\"student is allowed to sit in exam\",total)\n",
    "else:\n",
    "    print(\"student is not allowed to sit in exam\",total)"
   ]
  },
  {
   "cell_type": "code",
   "execution_count": 8,
   "id": "6f95d2f7-e06d-492e-81dd-fa6b04ab118d",
   "metadata": {},
   "outputs": [
    {
     "name": "stdin",
     "output_type": "stream",
     "text": [
      "Enter your age: 65\n",
      "Enter your gendes as:M/F f\n",
      "Enter your marriatl status as:Y/N y\n"
     ]
    },
    {
     "name": "stdout",
     "output_type": "stream",
     "text": [
      "The employee will work in urban ara only:\n",
      "\n"
     ]
    }
   ],
   "source": [
    "# Q. Ask user to enter age, gender(M or F), material status (Y or N) and then \n",
    "# using following rules to print their places of services.\n",
    "# if employee is female, then she will work only in urban areas.\n",
    "# if employee is a male and age is in between 20- 40 then he may work in anywhere.\n",
    "# if employee is male and age is in between 40-60 then he will work in urban areas only.\n",
    "# And any other input of age should print \"Error.\"\n",
    "\n",
    "age=int(input('Enter your age:'))\n",
    "gender=str(input('Enter your gendes as:M/F'))\n",
    "marr=str(input('Enter your marriatl status as:Y/N'))\n",
    "\n",
    "\n",
    "if gender.upper()==\"F\":\n",
    "    print('The employee will work in urban ara only:\\n')\n",
    "    \n",
    "elif gender.upper()==\"M\" and age<=40 and age>=20:\n",
    "     print('The employee can work anywhere:\\n')\n",
    "        \n",
    "elif gender.upper()==\"M\" and age<=60 and age>=40:\n",
    "     print('The employee will work in urban ara only:\\n')\n",
    "        \n",
    "else:\n",
    "    print('error')"
   ]
  },
  {
   "cell_type": "code",
   "execution_count": 11,
   "id": "196eec2d-b45e-4f69-8ba9-349e0a800cef",
   "metadata": {},
   "outputs": [
    {
     "name": "stdin",
     "output_type": "stream",
     "text": [
      "Enter total number of classes held: 365\n",
      "Enter number of classes attended: 250\n"
     ]
    },
    {
     "name": "stdout",
     "output_type": "stream",
     "text": [
      "Not allowed to sit in exam 68.4931506849315\n"
     ]
    }
   ],
   "source": [
    "Total_class=int(input(\"Enter total number of classes held:\"))\n",
    "class_attend=int(input(\"Enter number of classes attended:\"))\n",
    "attendence=(class_attend/Total_class)*100\n",
    "if attendence>=75.0:\n",
    "    print(\"Allowed to sit in exam\",attendence)\n",
    "else:\n",
    "    print(\"Not allowed to sit in exam\",attendence)"
   ]
  },
  {
   "cell_type": "code",
   "execution_count": 13,
   "id": "f326a616-7277-487a-b199-d2cd6cf45547",
   "metadata": {},
   "outputs": [
    {
     "name": "stdin",
     "output_type": "stream",
     "text": [
      "Enter your age: 45\n",
      "Enter your gender(M or F): M\n",
      "Enter your material status(Y or N): Y\n"
     ]
    },
    {
     "name": "stdout",
     "output_type": "stream",
     "text": [
      "Employee will work in urban area only.\n"
     ]
    }
   ],
   "source": [
    "age=int(input(\"Enter your age:\"))\n",
    "gender=input(\"Enter your gender(M or F):\")\n",
    "material_status=input(\"Enter your material status(Y or N):\")\n",
    "if gender==\"F\":\n",
    "    print(\"Employee will work only in urban areas.\")\n",
    "elif gender==\"M\" and age>=20 and age<40:\n",
    "    print(\"Employee may work anywhere.\")\n",
    "elif gender==\"M\" and age>=40 and age<60:\n",
    "    print(\"Employee will work in urban area only.\")\n",
    "else:\n",
    "    print(\"Error\")"
   ]
  },
  {
   "cell_type": "code",
   "execution_count": 28,
   "id": "e68aacc8-032f-4f33-85d1-b8699658d52c",
   "metadata": {},
   "outputs": [
    {
     "name": "stdin",
     "output_type": "stream",
     "text": [
      "enter your salary:\n",
      " 100000\n",
      "enter time period of service:\n",
      " 12\n"
     ]
    },
    {
     "name": "stdout",
     "output_type": "stream",
     "text": [
      "you will get 10% bonus 10000.0\n",
      "Congratulations your salary is now rs: 110000.0\n"
     ]
    }
   ],
   "source": [
    "# A company decided to give the bonus to the employee accordint to the following criteria:\n",
    "# Time Period of services----------------> Bonus\n",
    "# More than 10 Years --------------------> 10%\n",
    "# >=6years and <=10 years----------------> 8%\n",
    "# <6years--------------------------------> 5%\n",
    "\n",
    "# Ask the user for their salary, years of services,and print the bonus increment and total salary including bonus increment.\n",
    "salary=int(input('enter your salary:\\n'))\n",
    "\n",
    "Time_period=int(input('enter time period of service:\\n'))\n",
    "\n",
    "if Time_period>10:\n",
    "    bonus=(salary*10)/100\n",
    "    incremented_salary=bonus+salary\n",
    "    print('you will get 10% bonus',bonus)\n",
    "    print('Congratulations your salary is now rs:',incremented_salary)\n",
    "    \n",
    "elif  Time_period>=6 and Time_period<=10:\n",
    "    bonus1=(salary*8)/100\n",
    "    incremented_salary=bonus1+salary\n",
    "    print('you will get 8% bonus',bonus1)\n",
    "    print('Congratulations your salary is now rs:',incremented_salary)\n",
    "    \n",
    "else:\n",
    "    Time_period<6\n",
    "    bonus2=(salary*5)/100\n",
    "    incremented_salary=bonus2+salary\n",
    "    print('you will get 5% bonus',bonus2)\n",
    "    print('Congratulations your salary is now rs:',incremented_salary)"
   ]
  },
  {
   "cell_type": "code",
   "execution_count": 31,
   "id": "8677fd51-793c-4e97-8925-75dd0c9e7f62",
   "metadata": {},
   "outputs": [
    {
     "name": "stdin",
     "output_type": "stream",
     "text": [
      "Enter your salary: 100000\n",
      "Enter your years of services: 5\n"
     ]
    },
    {
     "name": "stdout",
     "output_type": "stream",
     "text": [
      "Salary: 100000 \n",
      "Bonus: 5% 5000.0 \n",
      "Total Salary 105000.0\n"
     ]
    }
   ],
   "source": [
    "sal=int(input(\"Enter your salary:\"))\n",
    "years=int(input(\"Enter your years of services:\"))\n",
    "\n",
    "if years>0 and sal>0:\n",
    "    if years>10:\n",
    "        x=sal*10/100\n",
    "        print(\"Salary:\",sal,\"\\nBonus: 10%\",x,\"\\nTotal Salary\",sal+x)\n",
    "    elif years>=6 and years<=10:\n",
    "        y=sal*8/100\n",
    "        print(\"Salary:\",sal,\"\\nBonus: 8%\",y,\"\\nTotal Salary\",sal+y)\n",
    "    else:\n",
    "        z=sal*5/100\n",
    "        print(\"Salary:\",sal,\"\\nBonus: 5%\",z,\"\\nTotal Salary\",sal+z)\n",
    "else:\n",
    "    print(\"Error: Invalid Years or Salary Entered by user.\")"
   ]
  },
  {
   "cell_type": "code",
   "execution_count": 34,
   "id": "0ca952ab-de62-408d-88f2-0aabf5d11aee",
   "metadata": {},
   "outputs": [
    {
     "name": "stdin",
     "output_type": "stream",
     "text": [
      "Enter units: 800\n"
     ]
    },
    {
     "name": "stdout",
     "output_type": "stream",
     "text": [
      "pay rs: 7500\n"
     ]
    }
   ],
   "source": [
    "# Write a program to calculate electric bill(accepted a number of unit from the user) according to the unit if \n",
    "# unit----------------------------> Charges\n",
    "# first 100 units------------------> \"No Charges\"\n",
    "# next 100 units-------------------> 5 rs. per unit.\n",
    "# After 200 units------------------> 10 rs. per unit.\n",
    "\n",
    "# Ex:-\n",
    "# First 100 units----------------> Use 100 cost 0.\n",
    "# Next 100 Units-----------------> use 100 cost 500.\n",
    "# After 200 units----------------> \n",
    "# total paid --------------------> if above 200 units add 500 extra amount.\n",
    "\n",
    "units=int(input(\"Enter units:\"))\n",
    "if units>0:\n",
    "    if units<=100:\n",
    "        print('no charges')\n",
    "        \n",
    "    elif units>100 and units<=200:\n",
    "        pay=units*5\n",
    "        print('pay rs:',pay)\n",
    "        \n",
    "        \n",
    "    elif units>200:\n",
    "        pay=((units-100)*10)+500\n",
    "        print('pay rs:',pay)"
   ]
  },
  {
   "cell_type": "code",
   "execution_count": 33,
   "id": "1120fd93-ad4f-40d6-a9e3-039f72218826",
   "metadata": {},
   "outputs": [
    {
     "name": "stdin",
     "output_type": "stream",
     "text": [
      "Enter number of units 800\n"
     ]
    },
    {
     "name": "stdout",
     "output_type": "stream",
     "text": [
      "You have to pay: 7500\n"
     ]
    }
   ],
   "source": [
    "\n",
    "units=int(input(\"Enter number of units\"))\n",
    "if units<=100:\n",
    "    print(\"No charges\")\n",
    "elif units>100 and units<=200:\n",
    "    print(\"You have to pay:\",(units-100)*5)\n",
    "elif units>200:\n",
    "    print(\"You have to pay:\",(units-100)*10+500)"
   ]
  },
  {
   "cell_type": "code",
   "execution_count": 35,
   "id": "ed036353-54db-4cbc-b763-27b9844543ef",
   "metadata": {},
   "outputs": [
    {
     "data": {
      "text/plain": [
       "41"
      ]
     },
     "execution_count": 35,
     "metadata": {},
     "output_type": "execute_result"
    }
   ],
   "source": [
    "# Given a list of numbers, find the maximum and minimum values.\n",
    "\n",
    "x=[45,89,75,41]\n",
    "\n",
    "min(x)"
   ]
  },
  {
   "cell_type": "code",
   "execution_count": 52,
   "id": "365aaf0b-0bab-4c4e-bc9a-11264c77db87",
   "metadata": {},
   "outputs": [
    {
     "name": "stdin",
     "output_type": "stream",
     "text": [
      "Enter priciple amount:\n",
      " 100000\n",
      "Enter interest rate per year:\n",
      " 5\n",
      "Enter time:\n",
      " 2\n"
     ]
    },
    {
     "ename": "TypeError",
     "evalue": "unsupported operand type(s) for ** or pow(): 'int' and 'tuple'",
     "output_type": "error",
     "traceback": [
      "\u001b[1;31m---------------------------------------------------------------------------\u001b[0m",
      "\u001b[1;31mTypeError\u001b[0m                                 Traceback (most recent call last)",
      "Cell \u001b[1;32mIn[52], line 5\u001b[0m\n\u001b[0;32m      3\u001b[0m t\u001b[38;5;241m=\u001b[39m\u001b[38;5;28mint\u001b[39m(\u001b[38;5;28minput\u001b[39m(\u001b[38;5;124m\"\u001b[39m\u001b[38;5;124mEnter time:\u001b[39m\u001b[38;5;130;01m\\n\u001b[39;00m\u001b[38;5;124m\"\u001b[39m))\n\u001b[0;32m      4\u001b[0m n \u001b[38;5;241m=\u001b[39m \u001b[38;5;241m4\u001b[39m\n\u001b[1;32m----> 5\u001b[0m amt\u001b[38;5;241m=\u001b[39m\u001b[43mp\u001b[49m\u001b[38;5;241;43m*\u001b[39;49m\u001b[38;5;241;43m*\u001b[39;49m\u001b[43m(\u001b[49m\u001b[43m(\u001b[49m\u001b[38;5;241;43m1\u001b[39;49m\u001b[43m \u001b[49m\u001b[38;5;241;43m+\u001b[39;49m\u001b[43m \u001b[49m\u001b[43mr\u001b[49m\u001b[43m \u001b[49m\u001b[38;5;241;43m/\u001b[39;49m\u001b[43m \u001b[49m\u001b[43m(\u001b[49m\u001b[38;5;241;43m100\u001b[39;49m\u001b[43m \u001b[49m\u001b[38;5;241;43m*\u001b[39;49m\u001b[43m \u001b[49m\u001b[43mn\u001b[49m\u001b[43m)\u001b[49m\u001b[43m)\u001b[49m\u001b[43m,\u001b[49m\u001b[43m \u001b[49m\u001b[43m(\u001b[49m\u001b[43mn\u001b[49m\u001b[43m \u001b[49m\u001b[38;5;241;43m*\u001b[39;49m\u001b[43m \u001b[49m\u001b[43mt\u001b[49m\u001b[43m)\u001b[49m\u001b[43m)\u001b[49m\n\u001b[0;32m      6\u001b[0m compund_interest\u001b[38;5;241m=\u001b[39m(amt\u001b[38;5;241m-\u001b[39mp)\n\u001b[0;32m      8\u001b[0m \u001b[38;5;28mprint\u001b[39m(\u001b[38;5;124m'\u001b[39m\u001b[38;5;124mCompund interest is:\u001b[39m\u001b[38;5;124m'\u001b[39m,compund_interest)\n",
      "\u001b[1;31mTypeError\u001b[0m: unsupported operand type(s) for ** or pow(): 'int' and 'tuple'"
     ]
    }
   ],
   "source": [
    "p=int(input(\"Enter priciple amount:\\n\"))\n",
    "r=int(input(\"Enter interest rate per year:\\n\"))\n",
    "t=int(input(\"Enter time:\\n\"))\n",
    "n = 4\n",
    "amt=p*pow((1 + r / (100 * n)), (n * t))\n",
    "compund_interest=(amt-p)\n",
    "\n",
    "print('Compund interest is:',compund_interest)"
   ]
  },
  {
   "cell_type": "code",
   "execution_count": 47,
   "id": "23bb1008-b562-416d-a6d4-92ea404b5c40",
   "metadata": {},
   "outputs": [
    {
     "name": "stdout",
     "output_type": "stream",
     "text": [
      "The compound interest is: 282.0372317085844\n"
     ]
    }
   ],
   "source": [
    "def calculate_compound_interest(principal, rate, time, n):\n",
    "    amount = principal * pow((1 + rate / (100 * n)), (n * time))\n",
    "    interest = amount - principal\n",
    "    return interest\n",
    "\n",
    "principal = 1000 # Principal amount\n",
    "rate = 5 # Annual interest rate (in percentage)\n",
    "time = 5 # Time period (in years)\n",
    "n = 4 # Number of times interest applied per year\n",
    "\n",
    "compound_interest = calculate_compound_interest(principal, rate, time, n)\n",
    "print(f\"The compound interest is: {compound_interest}\")"
   ]
  },
  {
   "cell_type": "code",
   "execution_count": 50,
   "id": "84cd0124-5244-4aeb-a3f3-534671538304",
   "metadata": {},
   "outputs": [
    {
     "data": {
      "text/plain": [
       "16"
      ]
     },
     "execution_count": 50,
     "metadata": {},
     "output_type": "execute_result"
    }
   ],
   "source": [
    "pow(2,4)"
   ]
  },
  {
   "cell_type": "code",
   "execution_count": 51,
   "id": "3db31ea2-8496-4ea4-944d-545d5e2e7fb9",
   "metadata": {},
   "outputs": [
    {
     "data": {
      "text/plain": [
       "16"
      ]
     },
     "execution_count": 51,
     "metadata": {},
     "output_type": "execute_result"
    }
   ],
   "source": [
    "2**4"
   ]
  },
  {
   "cell_type": "code",
   "execution_count": null,
   "id": "ff194ae0-66c6-42db-9dd0-ca88541c6ee1",
   "metadata": {},
   "outputs": [],
   "source": []
  },
  {
   "cell_type": "code",
   "execution_count": null,
   "id": "813a35a8-fadd-4f38-ba73-061a36306621",
   "metadata": {},
   "outputs": [],
   "source": []
  },
  {
   "cell_type": "code",
   "execution_count": 55,
   "id": "5f56bbb4-2031-4191-bd40-3a55d6c2dd26",
   "metadata": {},
   "outputs": [],
   "source": [
    "import math"
   ]
  },
  {
   "cell_type": "code",
   "execution_count": 57,
   "id": "db5b2bd2-bf43-4e70-bbec-d8f8b1264f7d",
   "metadata": {},
   "outputs": [
    {
     "data": {
      "text/plain": [
       "3.141592653589793"
      ]
     },
     "execution_count": 57,
     "metadata": {},
     "output_type": "execute_result"
    }
   ],
   "source": [
    "math.pi"
   ]
  },
  {
   "cell_type": "code",
   "execution_count": null,
   "id": "3855c6c8-abb2-490d-9514-f9280b21c185",
   "metadata": {},
   "outputs": [],
   "source": []
  },
  {
   "cell_type": "code",
   "execution_count": 59,
   "id": "1c5ad582-5b22-431d-abd4-3d4dd7c86dcf",
   "metadata": {},
   "outputs": [
    {
     "data": {
      "text/plain": [
       "3.141592653589793"
      ]
     },
     "execution_count": 59,
     "metadata": {},
     "output_type": "execute_result"
    }
   ],
   "source": []
  },
  {
   "cell_type": "code",
   "execution_count": 60,
   "id": "bb8e1f36-ebe5-473d-85b2-b4aac784ecc5",
   "metadata": {},
   "outputs": [
    {
     "ename": "NameError",
     "evalue": "name 'madam' is not defined",
     "output_type": "error",
     "traceback": [
      "\u001b[1;31m---------------------------------------------------------------------------\u001b[0m",
      "\u001b[1;31mNameError\u001b[0m                                 Traceback (most recent call last)",
      "Cell \u001b[1;32mIn[60], line 1\u001b[0m\n\u001b[1;32m----> 1\u001b[0m \u001b[43mmadam\u001b[49m\n\u001b[0;32m      2\u001b[0m radar\n",
      "\u001b[1;31mNameError\u001b[0m: name 'madam' is not defined"
     ]
    }
   ],
   "source": [
    "madam\n",
    "radar"
   ]
  },
  {
   "cell_type": "code",
   "execution_count": 63,
   "id": "f9e62383-1a11-407a-a414-fb8e7339c440",
   "metadata": {},
   "outputs": [
    {
     "data": {
      "text/plain": [
       "1027.5"
      ]
     },
     "execution_count": 63,
     "metadata": {},
     "output_type": "execute_result"
    }
   ],
   "source": [
    "x=[10,20,30,4050]\n",
    "sum(x)\n",
    "len(x)\n",
    "\n",
    "avg=sum(x)/len(x)\n",
    "avg"
   ]
  },
  {
   "cell_type": "markdown",
   "id": "1190458f-c6a9-4992-8844-bfddde2bd542",
   "metadata": {},
   "source": [
    " * __Given two dictionaries, merge into a single dicitionary.__\n",
    " * __Write a program that finds the most frequent element in a list.__\n",
    " * __Implement a function that removes a key-value pair from a dictionary.__\n",
    " * __Create a program that checks if two sets have any elements in common.__\n",
    " * __Given a list of dictionaries, find the dictionary with the highest value for a specific key.__\n",
    " * __Write a Python program that counts the number of occurrences of each character in a given string using a dictionary.__\n",
    " * __Given two sets, find the union, intersection and difference between them.__\n",
    " * __Create a function that takes a list of dicitonaries and sorts them based on a specified key.__\n",
    " * __Write a program that finds the average value of all the elements in a list of dictionaries.__\n",
    " * __Implement a function that takes a list of strings and returns a set of unique characters present in all strings..__"
   ]
  },
  {
   "cell_type": "code",
   "execution_count": 67,
   "id": "17b527e7-5e20-4bd0-b739-8ec4993fa4e1",
   "metadata": {},
   "outputs": [
    {
     "name": "stdout",
     "output_type": "stream",
     "text": [
      "10 5\n"
     ]
    }
   ],
   "source": [
    "a = 5\n",
    "b = 10\n",
    "c=20\n",
    "x = a   # x= 5\n",
    "a = b   # a = 10\n",
    "b = x    # b = 5\n",
    "print(a,b)"
   ]
  },
  {
   "cell_type": "code",
   "execution_count": 68,
   "id": "01c34d9d-672c-4322-b352-cdd37dfc1e1c",
   "metadata": {},
   "outputs": [
    {
     "name": "stdout",
     "output_type": "stream",
     "text": [
      "5 10 20\n",
      "20 10 5\n"
     ]
    }
   ],
   "source": [
    "a,b,c=b,a,c\n",
    "print(a,b,c)\n",
    "print(c,b,a)"
   ]
  },
  {
   "cell_type": "code",
   "execution_count": null,
   "id": "bab653f4-13e3-4237-9857-132044be633c",
   "metadata": {},
   "outputs": [],
   "source": []
  }
 ],
 "metadata": {
  "kernelspec": {
   "display_name": "Python 3 (ipykernel)",
   "language": "python",
   "name": "python3"
  },
  "language_info": {
   "codemirror_mode": {
    "name": "ipython",
    "version": 3
   },
   "file_extension": ".py",
   "mimetype": "text/x-python",
   "name": "python",
   "nbconvert_exporter": "python",
   "pygments_lexer": "ipython3",
   "version": "3.11.4"
  }
 },
 "nbformat": 4,
 "nbformat_minor": 5
}
