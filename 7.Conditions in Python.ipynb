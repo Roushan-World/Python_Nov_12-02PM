{
 "cells": [
  {
   "cell_type": "markdown",
   "id": "9762d6ca-f5bb-44c3-84ba-0616197e528b",
   "metadata": {},
   "source": [
    "# 7. Conditions in python\n",
    "\n",
    "* less than (<)\n",
    "* less than or equal to(<=)\n",
    "* Greater than(>)\n",
    "* Greater than or equal to(>=)\n",
    "* Equal to(==)\n",
    "* Not equal to(!=)\n"
   ]
  },
  {
   "cell_type": "markdown",
   "id": "8697bf07-8127-4771-bdf5-54407d80897c",
   "metadata": {},
   "source": [
    "# Branching (if,elif,else)\n",
    "\n",
    " * __Decition making is required when we wanto to execute a code only if a certain condition is satisfied.__\n",
    " * __The if/elif/else statement is used in Python for decision making.__\n",
    " * __An else statement can be combined with an if statement.__\n",
    " * __An else statement contains the block of code that executes if the conditional expression in the if statement resolves to 0 or a False value.__\n",
    " * __The else statement is an optional statement and there could be at most only one else statement followint if.__\n",
    " * __The elif statement allows you to check multiple expression for True and Execute a block of code as soon as on of the conditions evaluates to True.__\n",
    " * __Similar to the else, the elif statement is optional.__\n",
    " * __However, unlike else, for which there can be at most one statement, ther can be an arbitratry number of elif statments followint an if.__"
   ]
  },
  {
   "cell_type": "code",
   "execution_count": 4,
   "id": "0579c02d-17a1-4c67-999a-2a2f2ed8e32c",
   "metadata": {},
   "outputs": [
    {
     "name": "stdout",
     "output_type": "stream",
     "text": [
      "The number pi 3.14 is greater than the ratio 1.618\n"
     ]
    }
   ],
   "source": [
    "pi=3.14\n",
    "ratio=1.618\n",
    "\n",
    "if pi>ratio:\n",
    "    print(f'The number pi {pi} is greater than the ratio {ratio}')\n",
    "else:\n",
    "    print(f\"The ratio {ratio} is lower than the number pi {pi}\")"
   ]
  },
  {
   "cell_type": "code",
   "execution_count": 14,
   "id": "b559ed7a-18fb-4449-afd0-f8b7a8cbd329",
   "metadata": {},
   "outputs": [
    {
     "name": "stdin",
     "output_type": "stream",
     "text": [
      "Enter your baby age: 6\n"
     ]
    },
    {
     "name": "stdout",
     "output_type": "stream",
     "text": [
      "You can go to primary school.\n"
     ]
    }
   ],
   "source": [
    "age=int(input(\"Enter your baby age:\"))\n",
    "\n",
    "if age>=6:\n",
    "    print(\"You can go to primary school.\")\n",
    "elif age==5:\n",
    "    print(\"You should go to kindergarten.\")\n",
    "else:\n",
    "    print(\"You are a Baby\")"
   ]
  },
  {
   "cell_type": "code",
   "execution_count": 16,
   "id": "1c4f7b25-89e6-4c0c-a6c4-eba4fd44fca6",
   "metadata": {},
   "outputs": [
    {
     "name": "stdin",
     "output_type": "stream",
     "text": [
      "Enter your age: 21\n"
     ]
    },
    {
     "name": "stdout",
     "output_type": "stream",
     "text": [
      "You can Vote.\n"
     ]
    }
   ],
   "source": [
    "x=int(input(\"Enter your age:\"))\n",
    "\n",
    "if x>=18:\n",
    "    print(\"You can Vote.\")\n",
    "\n",
    "else:\n",
    "    print(\"You can not vote.\")"
   ]
  },
  {
   "cell_type": "code",
   "execution_count": 17,
   "id": "45004158-074f-46da-99be-b5f45ecb6663",
   "metadata": {},
   "outputs": [],
   "source": [
    "# percentage<60 \"D\"   percentage>=70 'C'  per>=80  \"B\"  per>=90 'A' percentage>90  'A+'\n",
    "\n"
   ]
  },
  {
   "cell_type": "code",
   "execution_count": 24,
   "id": "57486577-ab5c-4c7e-a6f5-863fd4608e83",
   "metadata": {},
   "outputs": [
    {
     "name": "stdin",
     "output_type": "stream",
     "text": [
      "Enter your number: 4651694616546518\n"
     ]
    },
    {
     "name": "stdout",
     "output_type": "stream",
     "text": [
      "It is an Even Number\n"
     ]
    }
   ],
   "source": [
    "# Write an program to check whether even or odd.\n",
    "\n",
    "num=int(input(\"Enter your number:\"))\n",
    "\n",
    "if num%2==0:\n",
    "    print(\"It is an Even Number\")\n",
    "\n",
    "else:\n",
    "    print(\"It is an Odd Number\")"
   ]
  },
  {
   "cell_type": "code",
   "execution_count": null,
   "id": "8d6bb5d3-358b-4468-aa88-c1773dda6117",
   "metadata": {},
   "outputs": [],
   "source": [
    "# Write a program to check wherer a number is divisible by 7 or not.\n",
    "\n"
   ]
  },
  {
   "cell_type": "code",
   "execution_count": 31,
   "id": "66d9a447-88fb-4c5c-be5b-e6ef61e5fd74",
   "metadata": {},
   "outputs": [
    {
     "name": "stdin",
     "output_type": "stream",
     "text": [
      "Enter any number From 1 to 7: 3\n"
     ]
    },
    {
     "name": "stdout",
     "output_type": "stream",
     "text": [
      "Wednesday\n"
     ]
    }
   ],
   "source": [
    "# Week  1 = Monday, 2= Tuesday, 3= Wednesday, 4=Thursday 5=Friday 6= Saturday 7=Sunday.\n",
    "\n",
    "weeks=int(input(\"Enter any number From 1 to 7:\"))\n",
    "\n",
    "if weeks==1:\n",
    "    print(\"Monday\")\n",
    "elif weeks==2:\n",
    "    print(\"Tuesday\")\n",
    "elif weeks==3:\n",
    "    print(\"Wednesday\")\n",
    "elif weeks==4:\n",
    "    print(\"Thursday\")\n",
    "elif weeks==5:\n",
    "    print(\"Friday\")\n",
    "elif weeks==6:\n",
    "    print(\"Saturday\")\n",
    "elif weeks==7:\n",
    "    print(\"Sunday\")\n",
    "else:\n",
    "    print(\"Invalid Number\")"
   ]
  },
  {
   "cell_type": "code",
   "execution_count": 36,
   "id": "261169a0-70e7-467b-833c-9dbba7b644c8",
   "metadata": {},
   "outputs": [
    {
     "name": "stdin",
     "output_type": "stream",
     "text": [
      "Enter First Person Age: 15\n",
      "Enter Second Person Age: 45\n"
     ]
    },
    {
     "name": "stdout",
     "output_type": "stream",
     "text": [
      "45 is greater than age 15\n"
     ]
    }
   ],
   "source": [
    "# month\n",
    "\n",
    "age1=int(input(\"Enter First Person Age:\"))\n",
    "age2=int(input(\"Enter Second Person Age:\"))\n",
    "\n",
    "if age1>age2:\n",
    "    print(f\"{age1} is greater than age {age2}\")\n",
    "\n",
    "elif age1==age2:\n",
    "    print(f'{age1} and {age2} both are equal.')\n",
    "elif age1<age2:\n",
    "    print(f'{age2} is greater than age {age1}')\n",
    "else:\n",
    "    print(\"Invalid age\")"
   ]
  },
  {
   "cell_type": "code",
   "execution_count": 38,
   "id": "469a6065-8aef-4473-aab2-dde97a93c9c1",
   "metadata": {},
   "outputs": [
    {
     "name": "stdin",
     "output_type": "stream",
     "text": [
      "enter the percentage 85\n"
     ]
    },
    {
     "name": "stdout",
     "output_type": "stream",
     "text": [
      "B\n"
     ]
    }
   ],
   "source": [
    "# Write a program to accept percentage from the user and display the grade according to the criteria:\n",
    "# percentage------------------> Grade\n",
    "# >90 ------------------------> 'A'\n",
    "# >80 and <=90 ---------------> \"B\"\n",
    "# >=60 and <=80---------------> \"C\"\n",
    "# below 60 -------------------> \"D\"\n",
    "\n",
    "grades=int(input(\"enter the percentage\"))\n",
    "\n",
    "if grades>90:\n",
    "    print(\"A\")\n",
    "    \n",
    "elif grades>80 & grades<=90:\n",
    "     print(\"B\")\n",
    "        \n",
    "elif grades>=60 & grades<=80:\n",
    "     print(\"C\")\n",
    "\n",
    "elif grades>60:\n",
    "    print(\"D\")"
   ]
  },
  {
   "cell_type": "code",
   "execution_count": 39,
   "id": "5f062b54-5086-4911-be4b-14ff663a4154",
   "metadata": {},
   "outputs": [
    {
     "name": "stdin",
     "output_type": "stream",
     "text": [
      "Enter the percentage 85\n"
     ]
    },
    {
     "name": "stdout",
     "output_type": "stream",
     "text": [
      "your grade is B\n"
     ]
    }
   ],
   "source": [
    "percentage=int(input(\"Enter the percentage\"))\n",
    "\n",
    "if percentage>90:\n",
    "    print(\"your grade is A \")\n",
    "\n",
    "elif percentage>80 and percentage<=90:\n",
    "    print(\"your grade is B\")\n",
    "\n",
    "elif percentage>=60 and percentage<=80:\n",
    "    print(\"your grade is C\")\n",
    "\n",
    "elif percentage < 60:\n",
    "    print(\"your grade is D\")"
   ]
  },
  {
   "cell_type": "code",
   "execution_count": 43,
   "id": "79b52149-24f5-4037-b69e-628832ae64a4",
   "metadata": {},
   "outputs": [
    {
     "name": "stdin",
     "output_type": "stream",
     "text": [
      "Enter your age: 11\n"
     ]
    },
    {
     "name": "stdout",
     "output_type": "stream",
     "text": [
      "Child\n"
     ]
    }
   ],
   "source": [
    "# Write a program to check whether a person is belongs to senior citizen(above 60), adult(12+ <60),child(0-12)\n",
    "\n",
    "age=int(input(\"Enter your age:\"))\n",
    "\n",
    "if age>=60:\n",
    "    print(\"Senior Citizen\")\n",
    "elif age>=12 and age<60:\n",
    "    print(\"Young\")\n",
    "else:\n",
    "    print(\"Child\")"
   ]
  },
  {
   "cell_type": "code",
   "execution_count": 10,
   "id": "778f038b-f0ac-47e9-9653-1d1a8fc7e79c",
   "metadata": {},
   "outputs": [
    {
     "name": "stdin",
     "output_type": "stream",
     "text": [
      "Enter any number: 12\n"
     ]
    },
    {
     "name": "stdout",
     "output_type": "stream",
     "text": [
      "The number 12 is not divisible by both 7 and 8.\n"
     ]
    }
   ],
   "source": [
    "# Write a program to chek whether a number is divisible by 7,8 or not?\n",
    "\n",
    "num1=int(input(\"Enter any number:\"))\n",
    "\n",
    "if num1%7==0 and num1%8==0:\n",
    "    print(f'The number {num1} is divisible by both 7 and 8.')\n",
    "elif num1%7==0 and num1%8!=0:\n",
    "    print(f'The number {num1} is divisible by only 7 not 8.')\n",
    "elif num1%7!=0 and num1%8==0:\n",
    "    print(f'The number {num1} is divisible by only 8 not 7.')\n",
    "else:\n",
    "    print(f'The number {num1} is not divisible by both 7 and 8.')"
   ]
  },
  {
   "cell_type": "code",
   "execution_count": 23,
   "id": "d34b1540-bc31-4dd2-9636-c5502111b8af",
   "metadata": {},
   "outputs": [
    {
     "name": "stdin",
     "output_type": "stream",
     "text": [
      "enter the number 21\n"
     ]
    },
    {
     "name": "stdout",
     "output_type": "stream",
     "text": [
      "The number 21 is divisible by 7 and 3 but not 5.\n"
     ]
    }
   ],
   "source": [
    "# Write a python program to check the number is divisible by 3,5,7.\n",
    "\n",
    "number=int(input(\"enter the number\"))\n",
    "\n",
    "if number%3==0 and number%5!=0 and number%7!=0:\n",
    "    print(f'The number {number} is divisible by 3 but not 5 and 7.')\n",
    "\n",
    "   \n",
    "elif number%5==0 and number%3!=0 and number%7!=0:\n",
    "    print(f'The number {number} is divisible by 5 but not 3 and 7.')\n",
    "   \n",
    "elif number%7==0 and number%3!=0 and number%5!=0:\n",
    "    print(f'The number {number} is divisible by 7 but not 3 and 5.')\n",
    "   \n",
    "elif number%3==0 and number%5==0 and number%7!=0:\n",
    "    print(f'The number {number} is divisible by 3 and 5 but not 7.')\n",
    "   \n",
    "elif number%5==0 and number%7==0 and number%3!=0:\n",
    "    print(f'The number {number} is divisible by 5 and 7 but not 3.')\n",
    "   \n",
    "elif number%3==0 and number%7==0 and number%5!=0:\n",
    "    print(f'The number {number} is divisible by 7 and 3 but not 5.')\n",
    "   \n",
    "elif  (number%3)==0 & (number%5)==0 & (number%7)==0:\n",
    "    print(number,\"divisible by 3 and 5 and 7 also\")  \n",
    "   \n",
    "else:\n",
    "    print(\"the given number is not devisible by any number\")"
   ]
  },
  {
   "cell_type": "code",
   "execution_count": 42,
   "id": "5ff57b48-1b5d-4bc3-baaf-b8a0a747c8b4",
   "metadata": {},
   "outputs": [
    {
     "name": "stdout",
     "output_type": "stream",
     "text": [
      "['Delhi', 'Agra', 'Jaipur', 'Amritsar', 'Madurai', 'Mumbai', 'Sanchi', 'Hydrabad', 'Pune', 'Andhra']\n"
     ]
    },
    {
     "name": "stdin",
     "output_type": "stream",
     "text": [
      "Choose any one city at a time:\n",
      " MADURAI\n"
     ]
    },
    {
     "name": "stdout",
     "output_type": "stream",
     "text": [
      "Meenakshi temple\n"
     ]
    }
   ],
   "source": [
    "# Accept any city from the user and display monument of the city.\n",
    "# City----------------------------> Monument\n",
    "# Delhi---------------------------> \"RedFort\"\n",
    "# Agra----------------------------> \"TajMahal\"\n",
    "# JaiPur--------------------------> \"JalMahal, HawaMahal\"\n",
    "# AmritSar------------------------> \"Golden Temple\"\n",
    "# Madurai-------------------------> \"Meenakshi Temple\"\n",
    "# Mumbai--------------------------> \"Gateway of India\"\n",
    "# Sanchi--------------------------> \"Sanchi Stupa\"\n",
    "# Hydrabad------------------------> \"Charminar\"\n",
    "# Pune----------------------------> \"Shaniwarwada\"\n",
    "# Andhra--------------------------> \"Tirupati\"\n",
    "list=[\"Delhi\",\"Agra\",\"Jaipur\",\"Amritsar\",\"Madurai\",\"Mumbai\",\"Sanchi\",\"Hydrabad\",\"Pune\",\"Andhra\"]\n",
    "print(list)\n",
    "city=str(input(\"Choose any one city at a time:\\n\"))\n",
    "\n",
    "if city.lower()=='delhi':\n",
    "    print(\"Redfort\")\n",
    "    \n",
    "elif city.lower()=='agra':\n",
    "    print(\"Tajmahal\")\n",
    "    \n",
    "elif city.lower()=='jaypur':\n",
    "     print(\"Jalamahal, Hawamahal\")\n",
    "    \n",
    "elif city.upper()=='AMRITSAR': \n",
    "    print(\"Golden Temple\")\n",
    "    \n",
    "elif city.title()=='Madurai': \n",
    "    print(\"Meenakshi temple\")\n",
    "    \n",
    "elif city=='Mumbai':\n",
    "    print(\"Gateway of India\")\n",
    "    \n",
    "elif city=='Sanchi': \n",
    "    print(\"Sanchi Stupa\")\n",
    "    \n",
    "elif city=='Hydrabad': \n",
    "    print(\"Charminar\")\n",
    "    \n",
    "elif city=='Pune':\n",
    "    print(\"Sahaniwarwada\")\n",
    "    \n",
    "elif city=='Andhra':\n",
    "    print(\"Tirupati\")\n",
    "    \n",
    "else:\n",
    "    print('The given city option is not available.')"
   ]
  },
  {
   "cell_type": "code",
   "execution_count": null,
   "id": "f4eefcca-b6b2-455e-adc2-748e477a9752",
   "metadata": {},
   "outputs": [],
   "source": [
    "Delhi  \"delhi\"\n",
    "DElhi  \"delhi\""
   ]
  },
  {
   "cell_type": "code",
   "execution_count": 44,
   "id": "e8efcbfd-56cb-4429-97f8-1bbd6289959f",
   "metadata": {},
   "outputs": [
    {
     "name": "stdin",
     "output_type": "stream",
     "text": [
      "enter age1: 78\n",
      "enter age2: 99\n",
      "enter age3: 100\n"
     ]
    },
    {
     "name": "stdout",
     "output_type": "stream",
     "text": [
      "Age3 is oldest\n"
     ]
    }
   ],
   "source": [
    "# Accept the age of 3 people and display the elder one.\n",
    "\n",
    "#Accept the age of three people and display the elder one\n",
    "\n",
    "age1=int(input('enter age1:'))\n",
    "age2=int(input('enter age2:'))\n",
    "age3=int(input('enter age3:'))\n",
    "\n",
    "if age1>age2 and age1>age3:\n",
    "    print(\"Age1 is oldest\")\n",
    "    \n",
    "elif age2>age1 and age2>age3:\n",
    "    print(\"Age2 is oldest\")\n",
    "    \n",
    "else: \n",
    "    print(\"Age3 is oldest\")"
   ]
  },
  {
   "cell_type": "code",
   "execution_count": 60,
   "id": "1c60fbf0-371b-4ef5-8de0-8a57adfbb745",
   "metadata": {},
   "outputs": [
    {
     "name": "stdin",
     "output_type": "stream",
     "text": [
      "enter the marked price:  1000\n"
     ]
    },
    {
     "name": "stdout",
     "output_type": "stream",
     "text": [
      "Discount :  100.0\n",
      "net price :  900.0\n"
     ]
    }
   ],
   "source": [
    "# Accept the marked price from the user and calculate the net amount (marked price)\n",
    "# marked price---------------------> discount\n",
    "# >10000 --------------------------> 20%\n",
    "# >7000 and <=10000----------------> 15%\n",
    "# <=7000---------------------------> 10%\n",
    "\n",
    "price=int(input(\"enter the marked price: \"))\n",
    "\n",
    "if price>10000:\n",
    "    disc=(price*20)/100\n",
    "    \n",
    "elif price>7000 and price<=10000:\n",
    "    disc=price*15/100\n",
    "\n",
    "else:\n",
    "    price<=7000\n",
    "    disc=price*10/100    \n",
    "    \n",
    "    \n",
    "print(\"Discount : \",disc)\n",
    "print(\"net price : \", price-disc)"
   ]
  },
  {
   "cell_type": "code",
   "execution_count": 58,
   "id": "a9192f98-0b9b-4eac-878b-0caccd565daa",
   "metadata": {},
   "outputs": [
    {
     "name": "stdin",
     "output_type": "stream",
     "text": [
      "Enetr the price: 10000\n",
      "Enetr the discount: 15\n"
     ]
    },
    {
     "name": "stdout",
     "output_type": "stream",
     "text": [
      "your discounted price is: 8500.0\n"
     ]
    }
   ],
   "source": [
    "price=int(input(\"Enetr the price:\"))\n",
    "discount=int(input(\"Enetr the discount:\"))\n",
    "\n",
    "output= (price - (price * discount) / 100)\n",
    "print(\"your discounted price is:\",output)"
   ]
  },
  {
   "cell_type": "markdown",
   "id": "44630b8b-6150-442d-919e-ea4829b65a9f",
   "metadata": {},
   "source": [
    "Write a Python program to calculate the area of rectangle given its length and width from user input.\n",
    "Create a program that takes a user's name and age as input and prints a greeting message.\n",
    "Write a program to check if a number is even or odd.\n",
    "Given a list of numbers, find the maximum and minimum values.\n",
    "Create a Python function to check if a given string is a palindrome.\n",
    "Calculate the compound interest for a given principal amount, interest rate and time period.\n",
    "Write a python program that converts a given number of days into years, week, and days.\n",
    "Given a list of integers, find the sum of all positive numbers. [45,78,90,-78,45,-100]\n",
    "Create a program that takes a sentence as input and counts the nukmber of words in it.\n",
    "Implement a program that swaps the values of two variable."
   ]
  }
 ],
 "metadata": {
  "kernelspec": {
   "display_name": "Python 3 (ipykernel)",
   "language": "python",
   "name": "python3"
  },
  "language_info": {
   "codemirror_mode": {
    "name": "ipython",
    "version": 3
   },
   "file_extension": ".py",
   "mimetype": "text/x-python",
   "name": "python",
   "nbconvert_exporter": "python",
   "pygments_lexer": "ipython3",
   "version": "3.11.4"
  }
 },
 "nbformat": 4,
 "nbformat_minor": 5
}
