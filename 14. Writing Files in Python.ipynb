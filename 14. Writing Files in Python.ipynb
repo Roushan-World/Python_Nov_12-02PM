{
 "cells": [
  {
   "cell_type": "markdown",
   "id": "b5825863-b831-4cea-a5dd-7d18140d5952",
   "metadata": {},
   "source": [
    "# 14. Writing Files in Python\n",
    "\n",
    " * __To Write to a text file in Python, You follow these steps:__\n",
    " * __First, Open the text file for writing ( or appending ) using the open() function.__\n",
    " * __Second, Write to the text file using the write() or writelines() method.__\n",
    " * __Third, close the file using the close() method.__"
   ]
  },
  {
   "cell_type": "markdown",
   "id": "c0930587-6a97-4aba-ba64-c7d00bf288ec",
   "metadata": {},
   "source": [
    "# Some Characters and their functions\n",
    "\n",
    " * __r------------> Open file for reading only. Starts reading from the beginning of the file. This is default mode.__\n",
    " * __rb-----------> Open a file for reading only in binary format. Starts reading from beginning of the file.__\n",
    " * __r+-----------> Open file for reading and writing. File Pointer placed at beginning of the file.__\n",
    " * __w------------> Open file for writing only. File pointer placed at beginning of the file. Overwrites existing file and creates a new one if it does not exists.__\n",
    " * __wb-----------> Same as w but opens in binary mode.__\n",
    " * __wb+----------> Same as wb but also allows to read from file.__\n",
    " * __a------------> Open a file for appending. Starts writing at the end of the file. Creates a new file if file does not exists.__\n",
    " * __ab-----------> Same as a but in binary format. Creates a new file if file does not exists.__\n",
    " * __a+-----------> Same as a but also open for reading.__\n",
    " * __ab+----------> Same as ab but also open for reading.__ "
   ]
  },
  {
   "cell_type": "code",
   "execution_count": 3,
   "id": "d42a6035-5709-499b-924c-0feaef92c4a2",
   "metadata": {},
   "outputs": [],
   "source": [
    "# Writing lines to a file.\n",
    "\n",
    "x='good.txt'\n",
    "with open(x,'w') as f:\n",
    "    f.write(\"My name is xyz.\\n\")\n",
    "    f.write('I belongs from Ashoknagar, Delhi.')"
   ]
  },
  {
   "cell_type": "code",
   "execution_count": 2,
   "id": "94ad077b-ce05-4d4f-9aa1-0e8be1e90ee7",
   "metadata": {},
   "outputs": [],
   "source": [
    "x='good.docx'\n",
    "with open(x,'w') as f:\n",
    "    f.write(\"My name is xyz.\\n\")\n",
    "    f.write('I belongs from Ashoknagar, Delhi.')"
   ]
  },
  {
   "cell_type": "code",
   "execution_count": 5,
   "id": "47cf4d48-e46e-48ea-860c-62e73820b115",
   "metadata": {},
   "outputs": [
    {
     "name": "stdout",
     "output_type": "stream",
     "text": [
      "My name is xyz.\n",
      "I belongs from Ashoknagar, Delhi.\n"
     ]
    }
   ],
   "source": [
    "with open(x,'r') as f:\n",
    "    content=f.read()\n",
    "    print(content)"
   ]
  },
  {
   "cell_type": "code",
   "execution_count": 6,
   "id": "af941824-8bb7-449e-938d-8babf26fca85",
   "metadata": {},
   "outputs": [
    {
     "name": "stdout",
     "output_type": "stream",
     "text": [
      "My name is xyz.\n",
      "\n",
      "My Favourite game is Cricket.\n",
      "\n",
      "I am currently in New Delhi.\n"
     ]
    }
   ],
   "source": [
    "add_text=['My name is xyz.\\n',\n",
    "         'My Favourite game is Cricket.\\n',\n",
    "         'I am currently in New Delhi.']\n",
    "\n",
    "fname='sample.txt'\n",
    "with open(fname,'w') as f:\n",
    "    for i in add_text:\n",
    "        print(i)\n",
    "        f.write(i)"
   ]
  },
  {
   "cell_type": "code",
   "execution_count": 8,
   "id": "a8842760-3012-4037-9c72-a97dddd959bc",
   "metadata": {},
   "outputs": [
    {
     "name": "stdout",
     "output_type": "stream",
     "text": [
      "Overwrite\n",
      "\n"
     ]
    }
   ],
   "source": [
    "new_file='good.txt'\n",
    "with open(new_file,'w') as f:\n",
    "    f.write('Overwrite\\n')\n",
    "with open(new_file,'r') as f:\n",
    "    print(f.read())"
   ]
  },
  {
   "cell_type": "code",
   "execution_count": 10,
   "id": "1de5d7db-471a-427a-a4f9-0c03bce8ccdc",
   "metadata": {},
   "outputs": [
    {
     "name": "stdin",
     "output_type": "stream",
     "text": [
      "Enter the number of lines: 2\n"
     ]
    },
    {
     "name": "stdout",
     "output_type": "stream",
     "text": [
      "Begin Writing and Press Enter to continue.\n"
     ]
    },
    {
     "name": "stdin",
     "output_type": "stream",
     "text": [
      " My name is xyz\n",
      " I done my masters from central university.\n"
     ]
    },
    {
     "name": "stdout",
     "output_type": "stream",
     "text": [
      "My name is xyz\n",
      "I done my masters from central university.\n",
      "\n"
     ]
    }
   ],
   "source": [
    "# file writing using for loop 3 lines from user input\n",
    "\n",
    "foname='about.txt'\n",
    "n=int(input(\"Enter the number of lines:\"))\n",
    "print(\"Begin Writing and Press Enter to continue.\")\n",
    "with open(foname,'w') as f:\n",
    "    for i in range(n):\n",
    "        s=input()\n",
    "        f.write(s)\n",
    "        f.write('\\n')\n",
    "\n",
    "with open(foname,'r') as f:\n",
    "    content=f.read()\n",
    "    print(content)"
   ]
  },
  {
   "cell_type": "code",
   "execution_count": 12,
   "id": "c77ad202-6a1c-44a6-b394-a31fd9c98bea",
   "metadata": {},
   "outputs": [
    {
     "name": "stdin",
     "output_type": "stream",
     "text": [
      "Enter text file name: prajwal\n",
      "Enter number of lines: 3\n",
      " My name is prajwal\n",
      " I belongs to Pune\n",
      " I've done my python from RedHut\n"
     ]
    },
    {
     "name": "stdout",
     "output_type": "stream",
     "text": [
      "My name is prajwal\n",
      "I belongs to Pune\n",
      "I've done my python from RedHut\n",
      "\n"
     ]
    }
   ],
   "source": [
    "# file wirting using functions.\n",
    "\n",
    "def write(x,n):\n",
    "    with open(x,'w') as f:\n",
    "        for i in range(n):\n",
    "            s=input()\n",
    "            f.write(s)\n",
    "            f.write(\"\\n\")\n",
    "    with open(x,'r') as f:\n",
    "        content=f.read()\n",
    "        print(content)\n",
    "\n",
    "x=input(\"Enter text file name:\")\n",
    "x=x+\".txt\"\n",
    "n=int(input(\"Enter number of lines:\"))\n",
    "write(x,n)"
   ]
  },
  {
   "cell_type": "code",
   "execution_count": 13,
   "id": "c7e8be3d-ff8d-44df-ac59-f774974d4fdd",
   "metadata": {},
   "outputs": [
    {
     "name": "stdin",
     "output_type": "stream",
     "text": [
      "Write the number of lines you want to write: 3\n",
      "write: My name is Adnan\n",
      "write: I belongs to Pune\n",
      "write: I love football.\n"
     ]
    }
   ],
   "source": [
    "# Writing files using class and object.\n",
    "\n",
    "class am:\n",
    "    def __init__(self,filename):\n",
    "        self.filename=filename\n",
    "    def am2file(self):\n",
    "        fname=open(self.filename,'w')\n",
    "        aboutme=[]\n",
    "        n=int(input(\"Write the number of lines you want to write:\"))\n",
    "        for x in range(n):\n",
    "            am=input('write:')\n",
    "            aboutme.append(am)\n",
    "        for i in aboutme:\n",
    "            fname.write(i)\n",
    "            fname.write('\\n')\n",
    "        fname.close()\n",
    "\n",
    "am1=am('f1.txt')\n",
    "am1.am2file()"
   ]
  },
  {
   "cell_type": "code",
   "execution_count": null,
   "id": "f67ecd46-1466-46a1-b170-e994d797fd93",
   "metadata": {},
   "outputs": [],
   "source": []
  }
 ],
 "metadata": {
  "kernelspec": {
   "display_name": "Python 3 (ipykernel)",
   "language": "python",
   "name": "python3"
  },
  "language_info": {
   "codemirror_mode": {
    "name": "ipython",
    "version": 3
   },
   "file_extension": ".py",
   "mimetype": "text/x-python",
   "name": "python",
   "nbconvert_exporter": "python",
   "pygments_lexer": "ipython3",
   "version": "3.11.4"
  }
 },
 "nbformat": 4,
 "nbformat_minor": 5
}
