{
 "cells": [
  {
   "cell_type": "markdown",
   "id": "2801f0f0-d594-4466-8b20-fc3eba50fcba",
   "metadata": {},
   "source": [
    "# 19. Decorators in Python\n",
    " * __Decorators provides a simple syntax for calling higher-order functions.__\n",
    " * __By definition, a decorator is a funciton that take another function and extends the behavior of the latter function without explicitly modifying it.__\n",
    " * __A decorator in Python is a function that takes another funciton as its argument, and returns yet another funciton.__\n",
    " * __Decorators can be extremely useful as they allow the extension of an existing function, without any modification to the original function source code.__\n",
    " * __In fact, there are two types of decorators in Python including class decorators and function decorators.__\n",
    " * __In application, decorators are majorly used in creating layer in the backed, it perofrms task like token authentication, validating, image compression and many more.__"
   ]
  },
  {
   "cell_type": "code",
   "execution_count": 2,
   "id": "b47259fa-4c02-4c01-a29c-870360e5cb84",
   "metadata": {},
   "outputs": [],
   "source": [
    "import decorator\n",
    "from decorator import *"
   ]
  },
  {
   "cell_type": "code",
   "execution_count": 3,
   "id": "e0afbd6b-549b-4498-bcc8-76ad6c85983a",
   "metadata": {},
   "outputs": [
    {
     "name": "stdout",
     "output_type": "stream",
     "text": [
      "Help on function decorator in module decorator:\n",
      "\n",
      "decorator(caller, _func=None, kwsyntax=False)\n",
      "    decorator(caller) converts a caller function into a decorator\n",
      "\n"
     ]
    }
   ],
   "source": [
    "help(decorator)"
   ]
  },
  {
   "cell_type": "code",
   "execution_count": 6,
   "id": "3fdbd7d5-fff6-4627-a4be-44ba178aad74",
   "metadata": {},
   "outputs": [
    {
     "name": "stdout",
     "output_type": "stream",
     "text": [
      "Python is a programming language.\n",
      "Happy New Year\n",
      "Hello World\n"
     ]
    }
   ],
   "source": [
    "def mytext(text):\n",
    "    print(text)\n",
    "\n",
    "mytext('Python is a programming language.')\n",
    "new_text=mytext\n",
    "new_text('Happy New Year')\n",
    "x=mytext\n",
    "x('Hello World')"
   ]
  },
  {
   "cell_type": "code",
   "execution_count": 7,
   "id": "86c294af-102a-4f85-8ca1-05f88670d97c",
   "metadata": {},
   "outputs": [
    {
     "data": {
      "text/plain": [
       "16"
      ]
     },
     "execution_count": 7,
     "metadata": {},
     "output_type": "execute_result"
    }
   ],
   "source": [
    "def multiplication(num):\n",
    "    return num*num\n",
    "multi=multiplication\n",
    "multi(4)"
   ]
  },
  {
   "cell_type": "markdown",
   "id": "ed2201be-3cae-47b3-ba63-79cf5f39113c",
   "metadata": {},
   "source": [
    "# Nested fuction"
   ]
  },
  {
   "cell_type": "code",
   "execution_count": 13,
   "id": "16c78827-8afe-408c-9e7e-0d46f8a89420",
   "metadata": {},
   "outputs": [
    {
     "name": "stdout",
     "output_type": "stream",
     "text": [
      "Python is a programming language.\n",
      "Hello World\n",
      "Hello Python\n"
     ]
    }
   ],
   "source": [
    "def mytext():\n",
    "    print('Python is a programming language.')\n",
    "    def new_text():\n",
    "        print('Hello World')\n",
    "        def x_world():\n",
    "            print('Hello Python')\n",
    "        x_world()\n",
    "    new_text()\n",
    "\n",
    "mytext()"
   ]
  },
  {
   "cell_type": "code",
   "execution_count": 14,
   "id": "02aa9ebd-0e27-40e1-b44f-0334d4ff20ab",
   "metadata": {},
   "outputs": [
    {
     "name": "stdout",
     "output_type": "stream",
     "text": [
      "Python is a programming language.\n"
     ]
    }
   ],
   "source": [
    "def message():\n",
    "    def text():\n",
    "        print('Python is a programming language.')\n",
    "    return text\n",
    "new_message=message()\n",
    "new_message()"
   ]
  },
  {
   "cell_type": "code",
   "execution_count": 16,
   "id": "e39371ec-2bd2-48f0-8efb-b1cea979d425",
   "metadata": {},
   "outputs": [
    {
     "name": "stdout",
     "output_type": "stream",
     "text": [
      "Python is the most popular programming language.\n"
     ]
    }
   ],
   "source": [
    "def msg(text):\n",
    "    'Hello world'\n",
    "    def mail():\n",
    "        'Hi, Python'\n",
    "        print(text)\n",
    "    mail()\n",
    "msg('Python is the most popular programming language.')"
   ]
  },
  {
   "cell_type": "code",
   "execution_count": 26,
   "id": "f471b023-3d3a-4a83-abbd-9a5c9946bc22",
   "metadata": {},
   "outputs": [
    {
     "name": "stdout",
     "output_type": "stream",
     "text": [
      "15.700000000000001\n",
      "3.184713375796178\n"
     ]
    }
   ],
   "source": [
    "def multi(x):\n",
    "    return x*3.14\n",
    "def divide(x):\n",
    "    return x/3.14\n",
    "\n",
    "def operator(function,x):\n",
    "    number=function(x)\n",
    "    return number\n",
    "print(operator(multi,5))\n",
    "print(operator(divide,10))"
   ]
  },
  {
   "cell_type": "code",
   "execution_count": 19,
   "id": "41abf398-1cbf-4363-8650-11288cb502c0",
   "metadata": {},
   "outputs": [
    {
     "name": "stdout",
     "output_type": "stream",
     "text": [
      "157.0\n"
     ]
    }
   ],
   "source": [
    "print(operator(multi,50))"
   ]
  },
  {
   "cell_type": "code",
   "execution_count": 31,
   "id": "4f4bc6c1-e544-448d-9898-f55805e602e3",
   "metadata": {},
   "outputs": [
    {
     "name": "stdout",
     "output_type": "stream",
     "text": [
      "81\n"
     ]
    }
   ],
   "source": [
    "def decorator_one(function):\n",
    "    def inner():\n",
    "        num=function()\n",
    "        return num*(num**num)\n",
    "    return inner\n",
    "    \n",
    "def decorator_two(function):\n",
    "    def inner():\n",
    "        num=function()\n",
    "        return (num**num)/num\n",
    "    return inner\n",
    "\n",
    "\n",
    "@decorator_one\n",
    "#@decorator_two\n",
    "def number():\n",
    "    return 3\n",
    "\n",
    "print(number())"
   ]
  },
  {
   "cell_type": "code",
   "execution_count": 33,
   "id": "eae6a767-e84b-4fa8-adca-d87dd4941957",
   "metadata": {},
   "outputs": [
    {
     "name": "stdout",
     "output_type": "stream",
     "text": [
      "5.859874482048838\n"
     ]
    }
   ],
   "source": [
    "import math\n",
    "from math import *\n",
    "def outer_addition(function):\n",
    "    def inner(a,b):\n",
    "        if a<b:\n",
    "            a,b=b,a\n",
    "        return function(a,b)\n",
    "    return inner\n",
    "\n",
    "@outer_addition   # syntax of decorator\n",
    "\n",
    "def addition(a,b):\n",
    "    print(a+b)\n",
    "x=outer_addition(addition)\n",
    "x(math.pi,math.e)  "
   ]
  },
  {
   "cell_type": "code",
   "execution_count": 43,
   "id": "c0d11251-d3d8-45a7-b442-e166f547a8bf",
   "metadata": {},
   "outputs": [
    {
     "name": "stdout",
     "output_type": "stream",
     "text": [
      "PYTHON IS THE MOST POPULAR PROGRAMMING LANGUAGE.\n"
     ]
    }
   ],
   "source": [
    "def decorated_text_uppercase(func):\n",
    "    def wrapper():\n",
    "        function=func()\n",
    "        text_upper=function.upper()\n",
    "        return text_upper\n",
    "    return wrapper\n",
    "\n",
    "def text():\n",
    "    return 'python is the most popular programming language.'\n",
    "decorated_result=decorated_text_uppercase(text)\n",
    "print(decorated_result())"
   ]
  },
  {
   "cell_type": "code",
   "execution_count": 44,
   "id": "842a5a5d-6edd-4e48-bd81-df3028e83eb9",
   "metadata": {},
   "outputs": [
    {
     "name": "stdout",
     "output_type": "stream",
     "text": [
      "HELLO WORLD\n"
     ]
    }
   ],
   "source": [
    "@decorated_text_uppercase\n",
    "\n",
    "def text():\n",
    "    return 'Hello world'\n",
    "print(text())"
   ]
  },
  {
   "cell_type": "markdown",
   "id": "4d4c5bc2-9eb9-4400-bd64-354e41cd89f5",
   "metadata": {},
   "source": [
    "# Reprocessing decorator"
   ]
  },
  {
   "cell_type": "code",
   "execution_count": 49,
   "id": "1cb039c1-501a-4ff4-9589-53d3fb482030",
   "metadata": {},
   "outputs": [
    {
     "name": "stdout",
     "output_type": "stream",
     "text": [
      "python is the most popular programming language.\n",
      "python is the most popular programming language.\n",
      "python is the most popular programming language.\n",
      "python is the most popular programming language.\n",
      "python is the most popular programming language.\n"
     ]
    }
   ],
   "source": [
    "def do_twice(function):\n",
    "    def wrapper_do_twice():\n",
    "        function()\n",
    "        function()\n",
    "        function()\n",
    "        function()\n",
    "        function()\n",
    "    return wrapper_do_twice\n",
    "\n",
    "@do_twice\n",
    "\n",
    "def text():\n",
    "    print('python is the most popular programming language.')\n",
    "text()"
   ]
  },
  {
   "cell_type": "markdown",
   "id": "ff694535-b7be-419d-9832-709e55f100ce",
   "metadata": {},
   "source": [
    "# Funcy decorator\n",
    "\n",
    " * __@propertymethod__\n",
    " * __@staticmethod__\n",
    " * __@classmethod__"
   ]
  },
  {
   "cell_type": "code",
   "execution_count": 57,
   "id": "611c529a-325e-4d99-a8d2-32e4d79a5a70",
   "metadata": {},
   "outputs": [
    {
     "name": "stdout",
     "output_type": "stream",
     "text": [
      "Name of the product is:xyz\n",
      "Product age:25\n",
      "xyz Produces 25 This is property method\n"
     ]
    }
   ],
   "source": [
    "class Microorganism:\n",
    "    def __init__(self,name,age):\n",
    "        self.name=name\n",
    "        self.age=age\n",
    "    @property\n",
    "    def show(self):\n",
    "        return self.name+' Produces '+self.age+' This is property method'\n",
    "x=Microorganism('xyz','25')\n",
    "print(f'Name of the product is:{x.name}')\n",
    "print(f'Product age:{x.age}')\n",
    "\n",
    "print(x.show)"
   ]
  },
  {
   "cell_type": "code",
   "execution_count": 61,
   "id": "010b1b7c-d439-4b65-8b8d-db70d2b75006",
   "metadata": {},
   "outputs": [
    {
     "name": "stdout",
     "output_type": "stream",
     "text": [
      "Python is the most programming language.\n",
      "Python is the most programming language.\n",
      "Python is the most programming language.\n"
     ]
    }
   ],
   "source": [
    "class microorganism:\n",
    "    @staticmethod\n",
    "    def name():\n",
    "        print('Python is the most programming language.')\n",
    "x=microorganism()\n",
    "x.name()\n",
    "x.name()\n",
    "x.name()"
   ]
  },
  {
   "cell_type": "code",
   "execution_count": null,
   "id": "4ad2b8c7-8dfe-4433-965a-260d62e12da1",
   "metadata": {},
   "outputs": [],
   "source": []
  }
 ],
 "metadata": {
  "kernelspec": {
   "display_name": "Python 3 (ipykernel)",
   "language": "python",
   "name": "python3"
  },
  "language_info": {
   "codemirror_mode": {
    "name": "ipython",
    "version": 3
   },
   "file_extension": ".py",
   "mimetype": "text/x-python",
   "name": "python",
   "nbconvert_exporter": "python",
   "pygments_lexer": "ipython3",
   "version": "3.11.4"
  }
 },
 "nbformat": 4,
 "nbformat_minor": 5
}
