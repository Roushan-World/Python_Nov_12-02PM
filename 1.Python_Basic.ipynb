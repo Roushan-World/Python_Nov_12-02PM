{
 "cells": [
  {
   "cell_type": "markdown",
   "id": "0e19a863-936a-48c0-938c-3a2566870626",
   "metadata": {},
   "source": [
    "# 1. Python Basic\n"
   ]
  },
  {
   "cell_type": "code",
   "execution_count": 1,
   "id": "4937ac35-e609-4170-97b8-c14fed70fd27",
   "metadata": {},
   "outputs": [
    {
     "name": "stdout",
     "output_type": "stream",
     "text": [
      "Hello World\n"
     ]
    }
   ],
   "source": [
    "print(\"Hello World\")"
   ]
  },
  {
   "cell_type": "code",
   "execution_count": 2,
   "id": "387814ca-1419-456f-84d5-a282267d68ca",
   "metadata": {},
   "outputs": [
    {
     "ename": "SyntaxError",
     "evalue": "invalid syntax. Perhaps you forgot a comma? (3449611317.py, line 1)",
     "output_type": "error",
     "traceback": [
      "\u001b[1;36m  Cell \u001b[1;32mIn[2], line 1\u001b[1;36m\u001b[0m\n\u001b[1;33m    print(Hello world)\u001b[0m\n\u001b[1;37m          ^\u001b[0m\n\u001b[1;31mSyntaxError\u001b[0m\u001b[1;31m:\u001b[0m invalid syntax. Perhaps you forgot a comma?\n"
     ]
    }
   ],
   "source": [
    "print(Hello world)"
   ]
  },
  {
   "cell_type": "code",
   "execution_count": 3,
   "id": "469b379b-e38f-4b8a-a8f1-c938fd6828ff",
   "metadata": {},
   "outputs": [
    {
     "ename": "SyntaxError",
     "evalue": "invalid syntax (556998635.py, line 1)",
     "output_type": "error",
     "traceback": [
      "\u001b[1;36m  Cell \u001b[1;32mIn[3], line 1\u001b[1;36m\u001b[0m\n\u001b[1;33m    alphabet=26  a-z\u001b[0m\n\u001b[1;37m                 ^\u001b[0m\n\u001b[1;31mSyntaxError\u001b[0m\u001b[1;31m:\u001b[0m invalid syntax\n"
     ]
    }
   ],
   "source": [
    "alphabet=26  a-z   "
   ]
  },
  {
   "cell_type": "code",
   "execution_count": 4,
   "id": "2f19e774-c0d1-4cdb-864c-a72d12b7d198",
   "metadata": {},
   "outputs": [
    {
     "data": {
      "text/plain": [
       "''"
      ]
     },
     "execution_count": 4,
     "metadata": {},
     "output_type": "execute_result"
    }
   ],
   "source": [
    "''\n",
    "\"\""
   ]
  },
  {
   "cell_type": "code",
   "execution_count": 5,
   "id": "2572ebe2-d8de-401d-8a98-7ec3efea252b",
   "metadata": {},
   "outputs": [
    {
     "name": "stdout",
     "output_type": "stream",
     "text": [
      "Adnan\n",
      "Hello Python\n"
     ]
    }
   ],
   "source": [
    "print(\"Adnan\")\n",
    "print('Hello Python')"
   ]
  },
  {
   "cell_type": "code",
   "execution_count": 6,
   "id": "5a235cf2-5cdc-4776-aa2f-a649a1141ab9",
   "metadata": {},
   "outputs": [
    {
     "data": {
      "text/plain": [
       "'a'"
      ]
     },
     "execution_count": 6,
     "metadata": {},
     "output_type": "execute_result"
    }
   ],
   "source": [
    "'a'"
   ]
  },
  {
   "cell_type": "code",
   "execution_count": 7,
   "id": "7adbffec-a6d5-477b-8700-e848e16409f0",
   "metadata": {},
   "outputs": [
    {
     "data": {
      "text/plain": [
       "'Hello World'"
      ]
     },
     "execution_count": 7,
     "metadata": {},
     "output_type": "execute_result"
    }
   ],
   "source": [
    "\"Hello World\""
   ]
  },
  {
   "cell_type": "code",
   "execution_count": 8,
   "id": "a14fe208-e87f-4660-87e3-d8559d5cb6da",
   "metadata": {},
   "outputs": [
    {
     "data": {
      "text/plain": [
       "'Hello world'"
      ]
     },
     "execution_count": 8,
     "metadata": {},
     "output_type": "execute_result"
    }
   ],
   "source": [
    "'Hello world'"
   ]
  },
  {
   "cell_type": "code",
   "execution_count": 11,
   "id": "b1d4421d-d75b-47d6-ac5e-9894888194b8",
   "metadata": {},
   "outputs": [
    {
     "name": "stdout",
     "output_type": "stream",
     "text": [
      "What's your name?\n"
     ]
    }
   ],
   "source": [
    "print(\"What's your name?\")"
   ]
  },
  {
   "cell_type": "code",
   "execution_count": 16,
   "id": "9679b086-5b0b-4e15-b059-719b508570c5",
   "metadata": {},
   "outputs": [
    {
     "name": "stdout",
     "output_type": "stream",
     "text": [
      "What's your name?\n"
     ]
    }
   ],
   "source": [
    "print(\"What's your name?\")"
   ]
  },
  {
   "cell_type": "code",
   "execution_count": 17,
   "id": "df79d439-ba46-4d41-8d31-81ab2d747984",
   "metadata": {},
   "outputs": [
    {
     "name": "stdout",
     "output_type": "stream",
     "text": [
      "What\"s your name?\n"
     ]
    }
   ],
   "source": [
    "print('What\"s your name?')"
   ]
  },
  {
   "cell_type": "code",
   "execution_count": 21,
   "id": "b5bafbd9-ce93-4594-885c-83859cb56875",
   "metadata": {},
   "outputs": [
    {
     "name": "stdout",
     "output_type": "stream",
     "text": [
      "Hello world\n",
      "Hello Python\n",
      "321\n"
     ]
    }
   ],
   "source": [
    "print(\"Hello world\")\n",
    "print(\"Hello Python\")\n",
    "print(\"321\")   # string"
   ]
  },
  {
   "cell_type": "code",
   "execution_count": 22,
   "id": "6c014d30-b324-47fa-bd47-f9873ae703d0",
   "metadata": {},
   "outputs": [
    {
     "name": "stdout",
     "output_type": "stream",
     "text": [
      "321\n"
     ]
    }
   ],
   "source": [
    "print(321)  # integer"
   ]
  },
  {
   "cell_type": "code",
   "execution_count": 23,
   "id": "fc0861d7-416a-4d5e-a235-0c9efb2d47a6",
   "metadata": {},
   "outputs": [
    {
     "name": "stdout",
     "output_type": "stream",
     "text": [
      "321\n",
      "321\n"
     ]
    }
   ],
   "source": [
    "print(\"321\")\n",
    "print(321)"
   ]
  },
  {
   "cell_type": "code",
   "execution_count": 25,
   "id": "efa5859c-3096-40b4-9ec7-98ce13c939a3",
   "metadata": {},
   "outputs": [
    {
     "data": {
      "text/plain": [
       "'3211'"
      ]
     },
     "execution_count": 25,
     "metadata": {},
     "output_type": "execute_result"
    }
   ],
   "source": [
    "\"321\"+\"1\""
   ]
  },
  {
   "cell_type": "code",
   "execution_count": 27,
   "id": "9af3501d-2adb-430b-88c5-bd1a0e73c0a0",
   "metadata": {},
   "outputs": [
    {
     "data": {
      "text/plain": [
       "'Adnan Shaikh'"
      ]
     },
     "execution_count": 27,
     "metadata": {},
     "output_type": "execute_result"
    }
   ],
   "source": [
    "\"Adnan\"+ \" Shaikh\""
   ]
  },
  {
   "cell_type": "code",
   "execution_count": 28,
   "id": "8b258381-be4c-4b8c-b3b8-27afc385d378",
   "metadata": {},
   "outputs": [
    {
     "data": {
      "text/plain": [
       "322"
      ]
     },
     "execution_count": 28,
     "metadata": {},
     "output_type": "execute_result"
    }
   ],
   "source": [
    "321+1"
   ]
  },
  {
   "cell_type": "code",
   "execution_count": 29,
   "id": "d4e61760-e53c-48c4-83f0-02d63989b71d",
   "metadata": {},
   "outputs": [
    {
     "data": {
      "text/plain": [
       "'3211'"
      ]
     },
     "execution_count": 29,
     "metadata": {},
     "output_type": "execute_result"
    }
   ],
   "source": [
    "'321'+'1'"
   ]
  },
  {
   "cell_type": "code",
   "execution_count": 30,
   "id": "e4b7d39c-954f-40af-9d9d-76b007039436",
   "metadata": {},
   "outputs": [
    {
     "name": "stdout",
     "output_type": "stream",
     "text": [
      "3214\n"
     ]
    }
   ],
   "source": [
    "print('3214')"
   ]
  },
  {
   "cell_type": "markdown",
   "id": "a14a19f4-ac0e-450d-83d4-0cb5c7d31d19",
   "metadata": {},
   "source": [
    "# Data Types"
   ]
  },
  {
   "cell_type": "code",
   "execution_count": 31,
   "id": "72449974-4157-4712-970a-9899aea966e4",
   "metadata": {},
   "outputs": [
    {
     "name": "stdout",
     "output_type": "stream",
     "text": [
      "Hello World\n",
      "Good! Morning\n",
      "3258\n",
      "325\n",
      "100\n",
      "123\n",
      "True\n",
      "False\n"
     ]
    }
   ],
   "source": [
    "# 1. String  2. List  3. Tuple 4. Set  5. Dictionary\n",
    "\n",
    "# String\n",
    "print(\"Hello World\")\n",
    "print(\"Good! Morning\")\n",
    "print(\"3258\")\n",
    "\n",
    "# Integer\n",
    "\n",
    "print(325)\n",
    "print(100)\n",
    "print(123)\n",
    "\n",
    "# Boolean\n",
    "print(True)\n",
    "print(False)"
   ]
  },
  {
   "cell_type": "markdown",
   "id": "d6a8c1d7-7c06-433b-b89d-43e77bef51bd",
   "metadata": {},
   "source": [
    "# type() function"
   ]
  },
  {
   "cell_type": "code",
   "execution_count": 44,
   "id": "87809200-c363-424d-896d-44cd8834e1c2",
   "metadata": {},
   "outputs": [
    {
     "name": "stdout",
     "output_type": "stream",
     "text": [
      "Hello World\n",
      "<class 'str'>\n",
      "321\n",
      "<class 'str'>\n",
      "!@#$%\n",
      "<class 'str'>\n",
      "100\n",
      "<class 'int'>\n",
      "123456\n",
      "<class 'int'>\n",
      "3.14\n",
      "<class 'float'>\n",
      "100.0\n",
      "<class 'float'>\n",
      "True\n",
      "<class 'str'>\n",
      "True\n",
      "<class 'bool'>\n"
     ]
    }
   ],
   "source": [
    "# string\n",
    "print(\"Hello World\")\n",
    "print(type(\"Hello World\"))\n",
    "\n",
    "print(\"321\")\n",
    "print(type(\"321\"))\n",
    "\n",
    "print(\"!@#$%\")\n",
    "print(type(\"!@#$%\"))\n",
    "\n",
    "\n",
    "# Integer\n",
    "print(100)\n",
    "print(type(100))\n",
    "print(123456)\n",
    "print(type(123456))\n",
    "\n",
    "# float\n",
    "print(3.14)\n",
    "print(type(3.14))\n",
    "print(100.0)\n",
    "print(type(100.0))\n",
    "\n",
    "\n",
    "# Boolean\n",
    "print('True')\n",
    "print(type('True'))\n",
    "print(True)\n",
    "print(type(True))"
   ]
  },
  {
   "cell_type": "code",
   "execution_count": 48,
   "id": "8cfdf256-0a2b-47c5-a414-334693413883",
   "metadata": {},
   "outputs": [
    {
     "name": "stdout",
     "output_type": "stream",
     "text": [
      "True\n",
      "<class 'str'>\n",
      "True\n",
      "<class 'bool'>\n",
      "True\n",
      "False\n"
     ]
    }
   ],
   "source": [
    "# Boolean\n",
    "print('True')\n",
    "print(type('True'))\n",
    "print(True)\n",
    "print(type(True))\n",
    "\n",
    "\n",
    "print(bool(1))\n",
    "print(bool(0))"
   ]
  },
  {
   "cell_type": "code",
   "execution_count": 49,
   "id": "e55352fc-aeab-49fe-8819-821d3b1ee900",
   "metadata": {},
   "outputs": [
    {
     "name": "stdout",
     "output_type": "stream",
     "text": [
      "1\n"
     ]
    }
   ],
   "source": [
    "print(True+False)"
   ]
  },
  {
   "cell_type": "code",
   "execution_count": 50,
   "id": "004a6000-2df0-493f-b479-b055d7e93b72",
   "metadata": {},
   "outputs": [
    {
     "name": "stdout",
     "output_type": "stream",
     "text": [
      "TrueFalse\n"
     ]
    }
   ],
   "source": [
    "print(\"True\"+\"False\")"
   ]
  },
  {
   "cell_type": "code",
   "execution_count": 51,
   "id": "17c25d2d-5c73-48a6-a669-0ef01a95ba5c",
   "metadata": {},
   "outputs": [
    {
     "data": {
      "text/plain": [
       "True"
      ]
     },
     "execution_count": 51,
     "metadata": {},
     "output_type": "execute_result"
    }
   ],
   "source": [
    "True\n"
   ]
  },
  {
   "cell_type": "code",
   "execution_count": 52,
   "id": "05f06775-1b6d-412d-b547-eed690ee455c",
   "metadata": {},
   "outputs": [
    {
     "data": {
      "text/plain": [
       "'true'"
      ]
     },
     "execution_count": 52,
     "metadata": {},
     "output_type": "execute_result"
    }
   ],
   "source": [
    "'true'"
   ]
  },
  {
   "cell_type": "code",
   "execution_count": 55,
   "id": "9427bc3b-b3c9-4e65-bf57-7eb1733128c2",
   "metadata": {},
   "outputs": [
    {
     "name": "stdout",
     "output_type": "stream",
     "text": [
      "-142\n",
      "<class 'int'>\n",
      "-142.2\n",
      "<class 'float'>\n"
     ]
    }
   ],
   "source": [
    "print(-142)\n",
    "print(type(-142))\n",
    "print(-142.20)\n",
    "print(type(-142.20))"
   ]
  },
  {
   "cell_type": "code",
   "execution_count": 57,
   "id": "56f44073-24b7-4103-8fbd-4a090b21bc58",
   "metadata": {},
   "outputs": [
    {
     "name": "stdout",
     "output_type": "stream",
     "text": [
      "3.11.4 (tags/v3.11.4:d2340ef, Jun  7 2023, 05:45:37) [MSC v.1934 64 bit (AMD64)]\n"
     ]
    }
   ],
   "source": [
    "import sys\n",
    "\n",
    "print(sys.version)"
   ]
  },
  {
   "cell_type": "markdown",
   "id": "0bbb1387-9cfc-40e6-bbfe-080367dee290",
   "metadata": {},
   "source": [
    "# Converting an obejct type to another data type"
   ]
  },
  {
   "cell_type": "code",
   "execution_count": 86,
   "id": "66566657-834d-4934-bc0e-486fac8824c0",
   "metadata": {},
   "outputs": [
    {
     "name": "stdout",
     "output_type": "stream",
     "text": [
      "6\n",
      "<class 'int'>\n",
      "6.0\n",
      "<class 'float'>\n",
      "6\n",
      "<class 'str'>\n"
     ]
    }
   ],
   "source": [
    "x=6\n",
    "print(x)\n",
    "print(type(x))\n",
    "\n",
    "print(float(x))\n",
    "print(type(float(x)))\n",
    "\n",
    "print(str(x))\n",
    "print(type(str(x)))"
   ]
  },
  {
   "cell_type": "code",
   "execution_count": 93,
   "id": "c89a6d36-5636-4b76-882d-4824ca12b427",
   "metadata": {},
   "outputs": [
    {
     "name": "stdout",
     "output_type": "stream",
     "text": [
      "3.14\n",
      "<class 'float'>\n",
      "3\n",
      "<class 'int'>\n",
      "3.14\n",
      "<class 'str'>\n"
     ]
    }
   ],
   "source": [
    "number=3.14\n",
    "print(number)\n",
    "print(type(number))\n",
    "\n",
    "print(int(number))\n",
    "print(type(int(number)))\n",
    "\n",
    "print(str(number))\n",
    "print(type(str(number)))"
   ]
  },
  {
   "cell_type": "code",
   "execution_count": 97,
   "id": "5b388164-a7d8-420d-a043-7cc5e7e21148",
   "metadata": {},
   "outputs": [
    {
     "name": "stdout",
     "output_type": "stream",
     "text": [
      "1\n",
      "0\n",
      "1.0\n",
      "0.0\n"
     ]
    }
   ],
   "source": [
    "# Boolean\n",
    "\n",
    "x1=True\n",
    "y1=False\n",
    "\n",
    "print(int(x1))\n",
    "\n",
    "print(int(y1))\n",
    "\n",
    "\n",
    "print(float(x1))\n",
    "\n",
    "print(float(y1))"
   ]
  },
  {
   "cell_type": "markdown",
   "id": "e49ea2ef-6a6a-4de2-a415-ed18b1d2a6cb",
   "metadata": {},
   "source": [
    "# Expression and variables"
   ]
  },
  {
   "cell_type": "code",
   "execution_count": 98,
   "id": "a56392f4-40e0-4d50-9e33-c8d61d85b642",
   "metadata": {},
   "outputs": [
    {
     "data": {
      "text/plain": [
       "233"
      ]
     },
     "execution_count": 98,
     "metadata": {},
     "output_type": "execute_result"
    }
   ],
   "source": [
    "x=85+65+95+78-45*2\n",
    "x"
   ]
  },
  {
   "cell_type": "code",
   "execution_count": 99,
   "id": "1ef256f1-e36a-4969-9675-b12e6b7d2218",
   "metadata": {},
   "outputs": [
    {
     "data": {
      "text/plain": [
       "4"
      ]
     },
     "execution_count": 99,
     "metadata": {},
     "output_type": "execute_result"
    }
   ],
   "source": [
    "# Substraction\n",
    "\n",
    "x2= +85-52-21-8\n",
    "x2"
   ]
  },
  {
   "cell_type": "code",
   "execution_count": 100,
   "id": "d7b04ad3-a86d-42e5-b410-f8d0ff94716f",
   "metadata": {},
   "outputs": [
    {
     "data": {
      "text/plain": [
       "592"
      ]
     },
     "execution_count": 100,
     "metadata": {},
     "output_type": "execute_result"
    }
   ],
   "source": [
    "# multiply\n",
    "\n",
    "x3= 8*74\n",
    "\n",
    "x3"
   ]
  },
  {
   "cell_type": "code",
   "execution_count": 102,
   "id": "8fa10e94-831f-48c2-8d2c-21d97868c6c9",
   "metadata": {},
   "outputs": [
    {
     "name": "stdout",
     "output_type": "stream",
     "text": [
      "31.25\n",
      "<class 'float'>\n"
     ]
    }
   ],
   "source": [
    "# Division\n",
    "\n",
    "x4= 125/4   # float division\n",
    "print(x4)\n",
    "print(type(x4))"
   ]
  },
  {
   "cell_type": "code",
   "execution_count": 104,
   "id": "71a566c9-6119-4acc-801d-59ffa3d6c702",
   "metadata": {},
   "outputs": [
    {
     "name": "stdout",
     "output_type": "stream",
     "text": [
      "31\n",
      "<class 'int'>\n"
     ]
    }
   ],
   "source": [
    "x4= 125//4    #floor  #int division\n",
    "print(x4)\n",
    "print(type(x4))"
   ]
  },
  {
   "cell_type": "code",
   "execution_count": 105,
   "id": "013c1f7c-e1c8-403d-bf94-4907dc286efa",
   "metadata": {},
   "outputs": [
    {
     "data": {
      "text/plain": [
       "1"
      ]
     },
     "execution_count": 105,
     "metadata": {},
     "output_type": "execute_result"
    }
   ],
   "source": [
    "# Modulus\n",
    "\n",
    "x5=125%2\n",
    "\n",
    "x5"
   ]
  },
  {
   "cell_type": "code",
   "execution_count": 106,
   "id": "9ac2a302-aaaf-4aeb-a788-f0dfc3006d46",
   "metadata": {},
   "outputs": [
    {
     "data": {
      "text/plain": [
       "0"
      ]
     },
     "execution_count": 106,
     "metadata": {},
     "output_type": "execute_result"
    }
   ],
   "source": [
    "x6=140%2\n",
    "x6"
   ]
  },
  {
   "cell_type": "code",
   "execution_count": 108,
   "id": "f12c26ce-495a-4248-8d42-47b03396c390",
   "metadata": {},
   "outputs": [
    {
     "data": {
      "text/plain": [
       "0"
      ]
     },
     "execution_count": 108,
     "metadata": {},
     "output_type": "execute_result"
    }
   ],
   "source": [
    "x7=14523369%3\n",
    "x7"
   ]
  },
  {
   "cell_type": "code",
   "execution_count": 111,
   "id": "7efad765-07ce-4daf-85d0-556e8add4bb2",
   "metadata": {},
   "outputs": [
    {
     "data": {
      "text/plain": [
       "16"
      ]
     },
     "execution_count": 111,
     "metadata": {},
     "output_type": "execute_result"
    }
   ],
   "source": [
    "# Exponent\n",
    "\n",
    "x8=2**4\n",
    "x8"
   ]
  },
  {
   "cell_type": "code",
   "execution_count": 113,
   "id": "5b3f1ef5-febe-4fe1-be7e-010c7211db6f",
   "metadata": {},
   "outputs": [
    {
     "name": "stdout",
     "output_type": "stream",
     "text": [
      "1200 minutes\n"
     ]
    }
   ],
   "source": [
    "# An Example\n",
    "\n",
    "# Let's calculate how many minutes there are in 20 hrs?\n",
    "one_hour= 60   # min\n",
    "hour= 20\n",
    "minutes= hour*one_hour\n",
    "print(minutes,\"minutes\")"
   ]
  },
  {
   "cell_type": "code",
   "execution_count": 120,
   "id": "ad6c8f07-e36e-484e-aa25-31c01ffbed54",
   "metadata": {},
   "outputs": [
    {
     "name": "stdout",
     "output_type": "stream",
     "text": [
      "6.0 hours\n"
     ]
    }
   ],
   "source": [
    "# An example: Let's calculte how many hours thtere are in 360 minutes?  #8.66\n",
    "\n",
    "minutes= 360\n",
    "one_hour= 60  # minutes\n",
    "\n",
    "hours= minutes/one_hour\n",
    "print(hours,\"hours\")"
   ]
  },
  {
   "cell_type": "code",
   "execution_count": null,
   "id": "b8833bb7-0370-41cb-b627-d3dcb6787b1d",
   "metadata": {},
   "outputs": [],
   "source": []
  }
 ],
 "metadata": {
  "kernelspec": {
   "display_name": "Python 3 (ipykernel)",
   "language": "python",
   "name": "python3"
  },
  "language_info": {
   "codemirror_mode": {
    "name": "ipython",
    "version": 3
   },
   "file_extension": ".py",
   "mimetype": "text/x-python",
   "name": "python",
   "nbconvert_exporter": "python",
   "pygments_lexer": "ipython3",
   "version": "3.11.4"
  }
 },
 "nbformat": 4,
 "nbformat_minor": 5
}
