{
 "cells": [
  {
   "cell_type": "markdown",
   "id": "c8f37e5f-f096-4963-97d5-5d4c8c866c16",
   "metadata": {},
   "source": [
    "# 17. Arrays in Python\n",
    "\n",
    " * __Array is a container which can hold a fix number of items and these items should be of the same type.__\n",
    " * __Most of the data structures make use of the arrays to implement their algorithms.__\n",
    " * __Lists can be used to form arrays.__\n",
    " * __Following are the important terms to unerstand the concept of the array.__\n",
    "   * __Element: Each item stored in an array is called an element.__\n",
    "   * __Index: Each location of an element in array has a numerical index, which is used to identify the element.__\n",
    "   * __Array index begin with 0.__\n",
    "   * __Each element in the array can be accessed with its index number.__\n",
    "   * __Basic array operations are Tranverse, Insertion, Deletion, Search, and Updates.__"
   ]
  },
  {
   "cell_type": "code",
   "execution_count": 2,
   "id": "2a2281ff-14a3-48eb-a8a9-e5b59d9bc2eb",
   "metadata": {},
   "outputs": [],
   "source": [
    "import array \n",
    "from array import *"
   ]
  },
  {
   "cell_type": "code",
   "execution_count": 4,
   "id": "c7ff05d7-9ba7-4003-a410-efe2fb4f7d5f",
   "metadata": {},
   "outputs": [
    {
     "name": "stdout",
     "output_type": "stream",
     "text": [
      "Help on class array in module array:\n",
      "\n",
      "class array(builtins.object)\n",
      " |  array(typecode [, initializer]) -> array\n",
      " |  \n",
      " |  Return a new array whose items are restricted by typecode, and\n",
      " |  initialized from the optional initializer value, which must be a list,\n",
      " |  string or iterable over elements of the appropriate type.\n",
      " |  \n",
      " |  Arrays represent basic values and behave very much like lists, except\n",
      " |  the type of objects stored in them is constrained. The type is specified\n",
      " |  at object creation time by using a type code, which is a single character.\n",
      " |  The following type codes are defined:\n",
      " |  \n",
      " |      Type code   C Type             Minimum size in bytes\n",
      " |      'b'         signed integer     1\n",
      " |      'B'         unsigned integer   1\n",
      " |      'u'         Unicode character  2 (see note)\n",
      " |      'h'         signed integer     2\n",
      " |      'H'         unsigned integer   2\n",
      " |      'i'         signed integer     2\n",
      " |      'I'         unsigned integer   2\n",
      " |      'l'         signed integer     4\n",
      " |      'L'         unsigned integer   4\n",
      " |      'q'         signed integer     8 (see note)\n",
      " |      'Q'         unsigned integer   8 (see note)\n",
      " |      'f'         floating point     4\n",
      " |      'd'         floating point     8\n",
      " |  \n",
      " |  NOTE: The 'u' typecode corresponds to Python's unicode character. On\n",
      " |  narrow builds this is 2-bytes on wide builds this is 4-bytes.\n",
      " |  \n",
      " |  NOTE: The 'q' and 'Q' type codes are only available if the platform\n",
      " |  C compiler used to build Python supports 'long long', or, on Windows,\n",
      " |  '__int64'.\n",
      " |  \n",
      " |  Methods:\n",
      " |  \n",
      " |  append() -- append a new item to the end of the array\n",
      " |  buffer_info() -- return information giving the current memory info\n",
      " |  byteswap() -- byteswap all the items of the array\n",
      " |  count() -- return number of occurrences of an object\n",
      " |  extend() -- extend array by appending multiple elements from an iterable\n",
      " |  fromfile() -- read items from a file object\n",
      " |  fromlist() -- append items from the list\n",
      " |  frombytes() -- append items from the string\n",
      " |  index() -- return index of first occurrence of an object\n",
      " |  insert() -- insert a new item into the array at a provided position\n",
      " |  pop() -- remove and return item (default last)\n",
      " |  remove() -- remove first occurrence of an object\n",
      " |  reverse() -- reverse the order of the items in the array\n",
      " |  tofile() -- write all items to a file object\n",
      " |  tolist() -- return the array converted to an ordinary list\n",
      " |  tobytes() -- return the array converted to a string\n",
      " |  \n",
      " |  Attributes:\n",
      " |  \n",
      " |  typecode -- the typecode character used to create the array\n",
      " |  itemsize -- the length in bytes of one array item\n",
      " |  \n",
      " |  Methods defined here:\n",
      " |  \n",
      " |  __add__(self, value, /)\n",
      " |      Return self+value.\n",
      " |  \n",
      " |  __contains__(self, key, /)\n",
      " |      Return key in self.\n",
      " |  \n",
      " |  __copy__(self, /)\n",
      " |      Return a copy of the array.\n",
      " |  \n",
      " |  __deepcopy__(self, unused, /)\n",
      " |      Return a copy of the array.\n",
      " |  \n",
      " |  __delitem__(self, key, /)\n",
      " |      Delete self[key].\n",
      " |  \n",
      " |  __eq__(self, value, /)\n",
      " |      Return self==value.\n",
      " |  \n",
      " |  __ge__(self, value, /)\n",
      " |      Return self>=value.\n",
      " |  \n",
      " |  __getattribute__(self, name, /)\n",
      " |      Return getattr(self, name).\n",
      " |  \n",
      " |  __getitem__(self, key, /)\n",
      " |      Return self[key].\n",
      " |  \n",
      " |  __gt__(self, value, /)\n",
      " |      Return self>value.\n",
      " |  \n",
      " |  __iadd__(self, value, /)\n",
      " |      Implement self+=value.\n",
      " |  \n",
      " |  __imul__(self, value, /)\n",
      " |      Implement self*=value.\n",
      " |  \n",
      " |  __iter__(self, /)\n",
      " |      Implement iter(self).\n",
      " |  \n",
      " |  __le__(self, value, /)\n",
      " |      Return self<=value.\n",
      " |  \n",
      " |  __len__(self, /)\n",
      " |      Return len(self).\n",
      " |  \n",
      " |  __lt__(self, value, /)\n",
      " |      Return self<value.\n",
      " |  \n",
      " |  __mul__(self, value, /)\n",
      " |      Return self*value.\n",
      " |  \n",
      " |  __ne__(self, value, /)\n",
      " |      Return self!=value.\n",
      " |  \n",
      " |  __reduce_ex__(self, value, /)\n",
      " |      Return state information for pickling.\n",
      " |  \n",
      " |  __repr__(self, /)\n",
      " |      Return repr(self).\n",
      " |  \n",
      " |  __rmul__(self, value, /)\n",
      " |      Return value*self.\n",
      " |  \n",
      " |  __setitem__(self, key, value, /)\n",
      " |      Set self[key] to value.\n",
      " |  \n",
      " |  __sizeof__(self, /)\n",
      " |      Size of the array in memory, in bytes.\n",
      " |  \n",
      " |  append(self, v, /)\n",
      " |      Append new value v to the end of the array.\n",
      " |  \n",
      " |  buffer_info(self, /)\n",
      " |      Return a tuple (address, length) giving the current memory address and the length in items of the buffer used to hold array's contents.\n",
      " |      \n",
      " |      The length should be multiplied by the itemsize attribute to calculate\n",
      " |      the buffer length in bytes.\n",
      " |  \n",
      " |  byteswap(self, /)\n",
      " |      Byteswap all items of the array.\n",
      " |      \n",
      " |      If the items in the array are not 1, 2, 4, or 8 bytes in size, RuntimeError is\n",
      " |      raised.\n",
      " |  \n",
      " |  count(self, v, /)\n",
      " |      Return number of occurrences of v in the array.\n",
      " |  \n",
      " |  extend(self, bb, /)\n",
      " |      Append items to the end of the array.\n",
      " |  \n",
      " |  frombytes(self, buffer, /)\n",
      " |      Appends items from the string, interpreting it as an array of machine values, as if it had been read from a file using the fromfile() method.\n",
      " |  \n",
      " |  fromfile(self, f, n, /)\n",
      " |      Read n objects from the file object f and append them to the end of the array.\n",
      " |  \n",
      " |  fromlist(self, list, /)\n",
      " |      Append items to array from list.\n",
      " |  \n",
      " |  fromunicode(self, ustr, /)\n",
      " |      Extends this array with data from the unicode string ustr.\n",
      " |      \n",
      " |      The array must be a unicode type array; otherwise a ValueError is raised.\n",
      " |      Use array.frombytes(ustr.encode(...)) to append Unicode data to an array of\n",
      " |      some other type.\n",
      " |  \n",
      " |  index(self, v, start=0, stop=9223372036854775807, /)\n",
      " |      Return index of first occurrence of v in the array.\n",
      " |      \n",
      " |      Raise ValueError if the value is not present.\n",
      " |  \n",
      " |  insert(self, i, v, /)\n",
      " |      Insert a new item v into the array before position i.\n",
      " |  \n",
      " |  pop(self, i=-1, /)\n",
      " |      Return the i-th element and delete it from the array.\n",
      " |      \n",
      " |      i defaults to -1.\n",
      " |  \n",
      " |  remove(self, v, /)\n",
      " |      Remove the first occurrence of v in the array.\n",
      " |  \n",
      " |  reverse(self, /)\n",
      " |      Reverse the order of the items in the array.\n",
      " |  \n",
      " |  tobytes(self, /)\n",
      " |      Convert the array to an array of machine values and return the bytes representation.\n",
      " |  \n",
      " |  tofile(self, f, /)\n",
      " |      Write all items (as machine values) to the file object f.\n",
      " |  \n",
      " |  tolist(self, /)\n",
      " |      Convert array to an ordinary list with the same items.\n",
      " |  \n",
      " |  tounicode(self, /)\n",
      " |      Extends this array with data from the unicode string ustr.\n",
      " |      \n",
      " |      Convert the array to a unicode string.  The array must be a unicode type array;\n",
      " |      otherwise a ValueError is raised.  Use array.tobytes().decode() to obtain a\n",
      " |      unicode string from an array of some other type.\n",
      " |  \n",
      " |  ----------------------------------------------------------------------\n",
      " |  Static methods defined here:\n",
      " |  \n",
      " |  __new__(*args, **kwargs) from builtins.type\n",
      " |      Create and return a new object.  See help(type) for accurate signature.\n",
      " |  \n",
      " |  ----------------------------------------------------------------------\n",
      " |  Data descriptors defined here:\n",
      " |  \n",
      " |  itemsize\n",
      " |      the size, in bytes, of one array item\n",
      " |  \n",
      " |  typecode\n",
      " |      the typecode character used to create the array\n",
      " |  \n",
      " |  ----------------------------------------------------------------------\n",
      " |  Data and other attributes defined here:\n",
      " |  \n",
      " |  __hash__ = None\n",
      "\n"
     ]
    }
   ],
   "source": [
    "help(array)"
   ]
  },
  {
   "cell_type": "code",
   "execution_count": 5,
   "id": "836388ac-8810-463c-a5ed-ca0d522c2bbf",
   "metadata": {},
   "outputs": [
    {
     "data": {
      "text/plain": [
       "[0.577, 1.618, 2.718, 3.147, 4, 10, 20, 30]"
      ]
     },
     "execution_count": 5,
     "metadata": {},
     "output_type": "execute_result"
    }
   ],
   "source": [
    "nums=[0.577,1.618,2.718,3.147,4,10,20,30]\n",
    "nums"
   ]
  },
  {
   "cell_type": "code",
   "execution_count": 7,
   "id": "3b35883d-5330-4862-bb32-20d838b41cbb",
   "metadata": {},
   "outputs": [
    {
     "data": {
      "text/plain": [
       "list"
      ]
     },
     "execution_count": 7,
     "metadata": {},
     "output_type": "execute_result"
    }
   ],
   "source": [
    "type(nums)"
   ]
  },
  {
   "cell_type": "code",
   "execution_count": null,
   "id": "be36cba6-df73-4558-9237-ecd7c425b965",
   "metadata": {},
   "outputs": [],
   "source": []
  },
  {
   "cell_type": "code",
   "execution_count": 6,
   "id": "a483a76f-4ba2-4eae-a22f-5ff784d7ff16",
   "metadata": {},
   "outputs": [],
   "source": [
    "import array as arr"
   ]
  },
  {
   "cell_type": "code",
   "execution_count": 25,
   "id": "e9fa49e9-0e5b-45d4-8d02-4d2016cd5236",
   "metadata": {},
   "outputs": [
    {
     "name": "stdout",
     "output_type": "stream",
     "text": [
      "0.577\n",
      "1.618\n",
      "2.718\n",
      "3.147\n",
      "4.0\n",
      "10.0\n",
      "20.0\n",
      "30.0\n"
     ]
    }
   ],
   "source": [
    "nums1=arr.array('d',[0.577,1.618,2.718,3.147,4,10,20,30])\n",
    "for i in nums1:\n",
    "    print(i)"
   ]
  },
  {
   "cell_type": "code",
   "execution_count": 11,
   "id": "3e998efb-fb22-44e5-ac00-f7a9a0cd1f3b",
   "metadata": {},
   "outputs": [
    {
     "data": {
      "text/plain": [
       "array.array"
      ]
     },
     "execution_count": 11,
     "metadata": {},
     "output_type": "execute_result"
    }
   ],
   "source": [
    "type(nums1)"
   ]
  },
  {
   "cell_type": "code",
   "execution_count": 22,
   "id": "64368555-41f0-406d-9b44-ebff2b91a572",
   "metadata": {},
   "outputs": [
    {
     "name": "stdout",
     "output_type": "stream",
     "text": [
      "4\n",
      "10\n",
      "20\n",
      "30\n"
     ]
    }
   ],
   "source": [
    "nums1=arr.array('i',[4,10,20,30])\n",
    "for i in nums1:\n",
    "    print(i)"
   ]
  },
  {
   "cell_type": "code",
   "execution_count": 26,
   "id": "b5d60e7a-c8f8-4b55-ba12-cd64265cff3c",
   "metadata": {},
   "outputs": [
    {
     "data": {
      "text/plain": [
       "array('d', [0.577, 1.618, 2.718, 3.147, 4.0, 10.0, 20.0, 30.0])"
      ]
     },
     "execution_count": 26,
     "metadata": {},
     "output_type": "execute_result"
    }
   ],
   "source": [
    "nums1"
   ]
  },
  {
   "cell_type": "code",
   "execution_count": 29,
   "id": "2009eadc-2e18-4342-8ecb-b9512725aaf6",
   "metadata": {},
   "outputs": [
    {
     "ename": "TypeError",
     "evalue": "must be real number, not str",
     "output_type": "error",
     "traceback": [
      "\u001b[1;31m---------------------------------------------------------------------------\u001b[0m",
      "\u001b[1;31mTypeError\u001b[0m                                 Traceback (most recent call last)",
      "Cell \u001b[1;32mIn[29], line 1\u001b[0m\n\u001b[1;32m----> 1\u001b[0m \u001b[43mnums1\u001b[49m\u001b[43m[\u001b[49m\u001b[38;5;241;43m0\u001b[39;49m\u001b[43m]\u001b[49m\u001b[38;5;241m=\u001b[39m\u001b[38;5;124m'\u001b[39m\u001b[38;5;124mTrue\u001b[39m\u001b[38;5;124m'\u001b[39m    \u001b[38;5;66;03m#True=1\u001b[39;00m\n\u001b[0;32m      2\u001b[0m nums1\n",
      "\u001b[1;31mTypeError\u001b[0m: must be real number, not str"
     ]
    }
   ],
   "source": [
    "nums1[0]='True'    #True=1\n",
    "nums1"
   ]
  },
  {
   "cell_type": "code",
   "execution_count": 30,
   "id": "51943f9d-d5a3-4978-b7b1-c98cf1480e0e",
   "metadata": {},
   "outputs": [
    {
     "data": {
      "text/plain": [
       "array('d', [1.0, 1.618, 2.718, 3.147, 4.0, 10.0, 20.0, 30.0])"
      ]
     },
     "execution_count": 30,
     "metadata": {},
     "output_type": "execute_result"
    }
   ],
   "source": [
    "nums1"
   ]
  },
  {
   "cell_type": "code",
   "execution_count": 31,
   "id": "74d4cdd5-7a63-42cb-b5cd-dd19022257dc",
   "metadata": {},
   "outputs": [
    {
     "data": {
      "text/plain": [
       "array('d', [1.0, 1.618, 2.718, 3.147, 4.0, 10.0, 100.0, 30.0])"
      ]
     },
     "execution_count": 31,
     "metadata": {},
     "output_type": "execute_result"
    }
   ],
   "source": [
    "nums1[6]=100\n",
    "nums1"
   ]
  },
  {
   "cell_type": "markdown",
   "id": "e92d2998-459a-4ce9-9b40-c55b8b04a992",
   "metadata": {},
   "source": [
    "# slicing of an array"
   ]
  },
  {
   "cell_type": "code",
   "execution_count": 32,
   "id": "61a068ad-1d89-4c2e-b3a8-4dc860a43019",
   "metadata": {},
   "outputs": [
    {
     "data": {
      "text/plain": [
       "array('d', [2.718, 3.147, 4.0, 10.0, 100.0, 30.0])"
      ]
     },
     "execution_count": 32,
     "metadata": {},
     "output_type": "execute_result"
    }
   ],
   "source": [
    "nums1[2:]"
   ]
  },
  {
   "cell_type": "markdown",
   "id": "b5977eba-ce47-469d-b990-58403a65a912",
   "metadata": {},
   "source": [
    "# Deleting an element"
   ]
  },
  {
   "cell_type": "code",
   "execution_count": 33,
   "id": "bc173d3f-eb3c-41fa-b144-c1868e04e0df",
   "metadata": {},
   "outputs": [
    {
     "data": {
      "text/plain": [
       "array('d', [1.0, 1.618, 2.718, 3.147, 4.0, 10.0, 100.0, 30.0])"
      ]
     },
     "execution_count": 33,
     "metadata": {},
     "output_type": "execute_result"
    }
   ],
   "source": [
    "nums1"
   ]
  },
  {
   "cell_type": "code",
   "execution_count": 36,
   "id": "4857e753-259c-4927-b30b-25a742c8db8a",
   "metadata": {},
   "outputs": [],
   "source": [
    "del nums1[6:]\n"
   ]
  },
  {
   "cell_type": "code",
   "execution_count": 37,
   "id": "de227f10-b7c7-4c0e-bdbb-150cffe8ff9b",
   "metadata": {},
   "outputs": [
    {
     "data": {
      "text/plain": [
       "array('d', [1.0, 1.618, 2.718, 3.147, 4.0, 10.0])"
      ]
     },
     "execution_count": 37,
     "metadata": {},
     "output_type": "execute_result"
    }
   ],
   "source": [
    "nums1"
   ]
  },
  {
   "cell_type": "code",
   "execution_count": 38,
   "id": "3fc91da0-0f1c-4188-b8bd-606910865c45",
   "metadata": {},
   "outputs": [
    {
     "data": {
      "text/plain": [
       "6"
      ]
     },
     "execution_count": 38,
     "metadata": {},
     "output_type": "execute_result"
    }
   ],
   "source": [
    "len(nums1)"
   ]
  },
  {
   "cell_type": "markdown",
   "id": "a5c7f0b4-ba71-4eb0-abd2-3995f83e9cc7",
   "metadata": {},
   "source": [
    "# Creating 1-D array"
   ]
  },
  {
   "cell_type": "code",
   "execution_count": 39,
   "id": "6f6daf48-cb03-4324-b4e7-daeb502c62cb",
   "metadata": {},
   "outputs": [
    {
     "name": "stdout",
     "output_type": "stream",
     "text": [
      "[1, 1, 1, 1, 1, 1, 1, 1, 1, 1]\n"
     ]
    }
   ],
   "source": [
    "multi=10\n",
    "one_array=[1]*10\n",
    "print(one_array)"
   ]
  },
  {
   "cell_type": "code",
   "execution_count": 40,
   "id": "c4649c5d-2202-4582-ae5c-0de61606d104",
   "metadata": {},
   "outputs": [
    {
     "data": {
      "text/plain": [
       "list"
      ]
     },
     "execution_count": 40,
     "metadata": {},
     "output_type": "execute_result"
    }
   ],
   "source": [
    "type(one_array)"
   ]
  },
  {
   "cell_type": "code",
   "execution_count": 41,
   "id": "733792a6-3f20-4a34-bc25-0ebf2174d3df",
   "metadata": {},
   "outputs": [
    {
     "data": {
      "text/plain": [
       "[0, 1, 2, 3, 4, 5, 6, 7, 8, 9]"
      ]
     },
     "execution_count": 41,
     "metadata": {},
     "output_type": "execute_result"
    }
   ],
   "source": [
    "x=[i for i in range(multi)]\n",
    "x"
   ]
  },
  {
   "cell_type": "code",
   "execution_count": 62,
   "id": "4377c934-2f20-4f6d-8ae8-ff2c40abaeee",
   "metadata": {},
   "outputs": [],
   "source": [
    "x1=arr.array('i',[1,1,1,2,2,2,3,3,3,10,50,40,60,80])"
   ]
  },
  {
   "cell_type": "code",
   "execution_count": 63,
   "id": "2432adb1-da49-4b93-b128-74e3d0dc13af",
   "metadata": {},
   "outputs": [
    {
     "data": {
      "text/plain": [
       "array('i', [1, 1, 1, 2, 2, 2, 3, 3, 3, 10, 50, 40, 60, 80])"
      ]
     },
     "execution_count": 63,
     "metadata": {},
     "output_type": "execute_result"
    }
   ],
   "source": [
    "x1"
   ]
  },
  {
   "cell_type": "code",
   "execution_count": 64,
   "id": "7926f68e-6caf-403d-9444-75694fdba438",
   "metadata": {},
   "outputs": [
    {
     "data": {
      "text/plain": [
       "258"
      ]
     },
     "execution_count": 64,
     "metadata": {},
     "output_type": "execute_result"
    }
   ],
   "source": [
    "sum(x1)"
   ]
  },
  {
   "cell_type": "code",
   "execution_count": 65,
   "id": "528bf90a-e768-4414-a9a3-a91de0a3a2f5",
   "metadata": {},
   "outputs": [
    {
     "data": {
      "text/plain": [
       "array('i', [1, 1, 1, 2, 2, 2, 3, 3, 3, 10, 50, 40, 60, 80])"
      ]
     },
     "execution_count": 65,
     "metadata": {},
     "output_type": "execute_result"
    }
   ],
   "source": [
    "x1"
   ]
  },
  {
   "cell_type": "code",
   "execution_count": 66,
   "id": "5b68ffdf-3da9-462e-a902-aac6910cd722",
   "metadata": {},
   "outputs": [
    {
     "data": {
      "text/plain": [
       "array('i', [1, 1, 1, 2, 2, 2, 3, 3, 3, 10, 40, 60, 80])"
      ]
     },
     "execution_count": 66,
     "metadata": {},
     "output_type": "execute_result"
    }
   ],
   "source": [
    "x1.remove(50)\n",
    "x1"
   ]
  },
  {
   "cell_type": "code",
   "execution_count": 67,
   "id": "4a60636c-af1c-4fc5-aa79-e5c4ca5b19b0",
   "metadata": {},
   "outputs": [
    {
     "data": {
      "text/plain": [
       "array('i', [1, 1, 1, 2, 2, 2, 3, 3, 3, 10, 40, 60, 80])"
      ]
     },
     "execution_count": 67,
     "metadata": {},
     "output_type": "execute_result"
    }
   ],
   "source": [
    "x1"
   ]
  },
  {
   "cell_type": "code",
   "execution_count": 68,
   "id": "bae0bf22-e427-40a4-826b-51a99e186d7c",
   "metadata": {},
   "outputs": [
    {
     "data": {
      "text/plain": [
       "array('i', [1, 1, 1, 2, 2, 2, 3, 3, 3, 10, 40, 60])"
      ]
     },
     "execution_count": 68,
     "metadata": {},
     "output_type": "execute_result"
    }
   ],
   "source": [
    "x1.pop()\n",
    "x1"
   ]
  },
  {
   "cell_type": "code",
   "execution_count": 69,
   "id": "c626e832-5724-4f3a-a730-aabf4abe1c2d",
   "metadata": {},
   "outputs": [
    {
     "data": {
      "text/plain": [
       "array('i', [1, 1, 1, 2, 2, 2, 3, 3, 3, 40, 60])"
      ]
     },
     "execution_count": 69,
     "metadata": {},
     "output_type": "execute_result"
    }
   ],
   "source": [
    "x1.pop(9)\n",
    "x1"
   ]
  },
  {
   "cell_type": "code",
   "execution_count": null,
   "id": "3edb8141-b018-4b6e-a26b-ec7ba9702b94",
   "metadata": {},
   "outputs": [],
   "source": []
  }
 ],
 "metadata": {
  "kernelspec": {
   "display_name": "Python 3 (ipykernel)",
   "language": "python",
   "name": "python3"
  },
  "language_info": {
   "codemirror_mode": {
    "name": "ipython",
    "version": 3
   },
   "file_extension": ".py",
   "mimetype": "text/x-python",
   "name": "python",
   "nbconvert_exporter": "python",
   "pygments_lexer": "ipython3",
   "version": "3.11.4"
  }
 },
 "nbformat": 4,
 "nbformat_minor": 5
}
