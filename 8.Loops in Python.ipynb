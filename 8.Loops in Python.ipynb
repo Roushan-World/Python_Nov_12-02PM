{
 "cells": [
  {
   "cell_type": "markdown",
   "id": "9fcf14d2-2ce1-40c9-9a5b-94b514a940a1",
   "metadata": {},
   "source": [
    "# 8. Loops in Python\n",
    "\n",
    " * __A for loop is used for iterating over a sequence (that is either a list, a tuple, a dictionary, a set or a string).__\n",
    " * __This is less like the for keyword in other programming languages, and works more like an iterator method as found in the other object-oriented programming languages.__\n",
    " * __With the for loop we can execute a set of statements, once for each item in a list, tuple, set etc.__\n",
    " * __The for loop does not require an indexing variable to set beforehand.__\n",
    " * __With the while loop we can execute a set of statements as long as condition is true.__\n",
    " * __Note: remember to increment, i, or else the loop will continue forever.__\n",
    " * __The while loop requires relevant variables to be ready, in this example we need to define an indexing variable,i, which we set to.__\n",
    "\n",
    "# range() function\n",
    " * __It is helpful to tink of the range object as an ordered list.__\n",
    " * __To loop throught a set of code a sepcified number of times, we can use the range() function.__\n",
    " * __The range() function returns a sequence of numbers, starting from 0 by default, and icnrements by 1 (by default), and ends at a specified number.__"
   ]
  },
  {
   "cell_type": "code",
   "execution_count": 3,
   "id": "d3d45c94-825f-4f5a-8bd8-4c82ec2fd6df",
   "metadata": {},
   "outputs": [
    {
     "name": "stdout",
     "output_type": "stream",
     "text": [
      "range(0, 5)\n",
      "range(0, 10)\n"
     ]
    }
   ],
   "source": [
    "# Take a range() function\n",
    "\n",
    "print(range(5))\n",
    "print(range(0,10))"
   ]
  },
  {
   "cell_type": "code",
   "execution_count": 4,
   "id": "ff44f26e-8636-4f1d-a78c-81d32774c8f6",
   "metadata": {},
   "outputs": [
    {
     "name": "stdout",
     "output_type": "stream",
     "text": [
      "2005\n",
      "2006\n",
      "2007\n",
      "2008\n",
      "2009\n",
      "2010\n"
     ]
    }
   ],
   "source": [
    "years=[2005,2006,2007,2008,2009,2010]\n",
    "\n",
    "for i in years:\n",
    "    print(i)"
   ]
  },
  {
   "cell_type": "code",
   "execution_count": 5,
   "id": "7e934123-5493-4b09-80bc-ac5fba3c7a4d",
   "metadata": {},
   "outputs": [
    {
     "data": {
      "text/plain": [
       "[2005, 2006, 2007, 2008, 2009, 2010]"
      ]
     },
     "execution_count": 5,
     "metadata": {},
     "output_type": "execute_result"
    }
   ],
   "source": [
    "years"
   ]
  },
  {
   "cell_type": "code",
   "execution_count": 9,
   "id": "5767e13e-a236-4558-bbdb-32412bae3979",
   "metadata": {},
   "outputs": [
    {
     "name": "stdout",
     "output_type": "stream",
     "text": [
      "2005\n",
      "2006\n",
      "2007\n",
      "2008\n",
      "2009\n",
      "2010\n"
     ]
    }
   ],
   "source": [
    "for x in years:\n",
    "    print(x)"
   ]
  },
  {
   "cell_type": "code",
   "execution_count": 10,
   "id": "1c26f93f-6056-4cb0-8e5f-aee29e7d852b",
   "metadata": {},
   "outputs": [
    {
     "name": "stdout",
     "output_type": "stream",
     "text": [
      "2005\n",
      "2006\n",
      "2007\n",
      "2008\n",
      "2009\n",
      "2010\n"
     ]
    }
   ],
   "source": [
    "for name in years:\n",
    "    print(name)"
   ]
  },
  {
   "cell_type": "code",
   "execution_count": 14,
   "id": "c651a6bc-bb48-4108-a4c3-0c8360aceeba",
   "metadata": {},
   "outputs": [
    {
     "name": "stdout",
     "output_type": "stream",
     "text": [
      "10\n",
      "11\n",
      "12\n",
      "13\n",
      "14\n",
      "15\n",
      "16\n",
      "17\n",
      "18\n",
      "19\n"
     ]
    }
   ],
   "source": [
    "# anothter method with range\n",
    "\n",
    "for i in range(10,20):\n",
    "    print(i)"
   ]
  },
  {
   "cell_type": "code",
   "execution_count": 13,
   "id": "d03ad51d-7204-4ece-8946-2aac5c7d65f6",
   "metadata": {},
   "outputs": [
    {
     "data": {
      "text/plain": [
       "range(0, 5)"
      ]
     },
     "execution_count": 13,
     "metadata": {},
     "output_type": "execute_result"
    }
   ],
   "source": [
    "range(5)"
   ]
  },
  {
   "cell_type": "code",
   "execution_count": 15,
   "id": "6d9fb2ce-7324-4842-ad25-ff6aef2655a4",
   "metadata": {},
   "outputs": [
    {
     "data": {
      "text/plain": [
       "[2005, 2006, 2007, 2008, 2009, 2010]"
      ]
     },
     "execution_count": 15,
     "metadata": {},
     "output_type": "execute_result"
    }
   ],
   "source": [
    "years"
   ]
  },
  {
   "cell_type": "code",
   "execution_count": 21,
   "id": "da0f0990-6d18-4049-97dd-9ec78a1e735c",
   "metadata": {},
   "outputs": [
    {
     "name": "stdout",
     "output_type": "stream",
     "text": [
      "0 2005\n",
      "1 2006\n",
      "2 2007\n",
      "3 2008\n",
      "4 2009\n",
      "5 2010\n"
     ]
    }
   ],
   "source": [
    "for i in range(len(years)):\n",
    "    print(i,years[i])"
   ]
  },
  {
   "cell_type": "code",
   "execution_count": 22,
   "id": "d7747a99-45cb-4ae2-9c67-6ba39ef3738f",
   "metadata": {},
   "outputs": [
    {
     "name": "stdout",
     "output_type": "stream",
     "text": [
      "2\n",
      "3\n",
      "4\n",
      "5\n",
      "6\n",
      "7\n",
      "8\n",
      "9\n",
      "10\n",
      "11\n"
     ]
    }
   ],
   "source": [
    "for i in range(2,12):\n",
    "    print(i)"
   ]
  },
  {
   "cell_type": "code",
   "execution_count": 28,
   "id": "5df5e84c-e935-4f3f-be34-35180eaf740d",
   "metadata": {},
   "outputs": [
    {
     "name": "stdout",
     "output_type": "stream",
     "text": [
      "0\n",
      "2\n",
      "4\n",
      "6\n",
      "8\n",
      "10\n"
     ]
    }
   ],
   "source": [
    "for i in range(0,11,2):\n",
    "    print(i)"
   ]
  },
  {
   "cell_type": "code",
   "execution_count": 31,
   "id": "e458ce38-f04d-40df-8e20-4a775ebff6ae",
   "metadata": {},
   "outputs": [
    {
     "name": "stdout",
     "output_type": "stream",
     "text": [
      "1\n",
      "3\n",
      "5\n",
      "7\n",
      "9\n"
     ]
    }
   ],
   "source": [
    "for i in range(1,11,2):\n",
    "    print(i)"
   ]
  },
  {
   "cell_type": "code",
   "execution_count": 37,
   "id": "77bb5039-4a5e-4372-860e-106d778829c8",
   "metadata": {},
   "outputs": [
    {
     "name": "stdout",
     "output_type": "stream",
     "text": [
      "Before Language: 0 is Java\n",
      "After Language: 0 is Rupali\n",
      "Before Language: 1 is JavaScript\n",
      "After Language: 1 is Rupali\n",
      "Before Language: 2 is C\n",
      "After Language: 2 is Rupali\n",
      "Before Language: 3 is C++\n",
      "After Language: 3 is Rupali\n",
      "Before Language: 4 is PHP\n",
      "After Language: 4 is Rupali\n",
      "Before Language: 5 is Android\n",
      "After Language: 5 is Rupali\n",
      "Before Language: 6 is Kotlin\n",
      "After Language: 6 is Rupali\n"
     ]
    }
   ],
   "source": [
    "languages=['Java',\"JavaScript\",\"C\",\"C++\",\"PHP\",\"Android\",\"Kotlin\"]\n",
    "\n",
    "for i in range(len(languages)):\n",
    "    print(\"Before Language:\",i,'is',languages[i])\n",
    "    languages[i]=\"Rupali\"\n",
    "    print(\"After Language:\",i,'is',languages[i])"
   ]
  },
  {
   "cell_type": "code",
   "execution_count": 38,
   "id": "808c6b5a-305e-400e-b445-d9d0e8c70d17",
   "metadata": {},
   "outputs": [
    {
     "name": "stdout",
     "output_type": "stream",
     "text": [
      "-3\n",
      "-2\n",
      "-1\n",
      "0\n",
      "1\n",
      "2\n",
      "3\n",
      "4\n",
      "5\n",
      "6\n"
     ]
    }
   ],
   "source": [
    "for i in range(-3,7):\n",
    "    print(i)"
   ]
  },
  {
   "cell_type": "code",
   "execution_count": 52,
   "id": "d64f4e2d-576b-427a-ad32-4795a5e1d7be",
   "metadata": {},
   "outputs": [
    {
     "name": "stdin",
     "output_type": "stream",
     "text": [
      "Enter any number: 12\n"
     ]
    },
    {
     "name": "stdout",
     "output_type": "stream",
     "text": [
      "12X1=12\n",
      "12X2=24\n",
      "12X3=36\n",
      "12X4=48\n",
      "12X5=60\n",
      "12X6=72\n",
      "12X7=84\n",
      "12X8=96\n",
      "12X9=108\n",
      "12X10=120\n"
     ]
    }
   ],
   "source": [
    "num=int(input(\"Enter any number:\"))\n",
    "\n",
    "for i in range(1,11):\n",
    "    print('%dX%d=%d'%(num,i,num*i))"
   ]
  },
  {
   "cell_type": "code",
   "execution_count": 56,
   "id": "4fa03fc7-51f4-42f2-8320-fbede6c4aefe",
   "metadata": {},
   "outputs": [
    {
     "name": "stdout",
     "output_type": "stream",
     "text": [
      "Sum of total number: 550\n",
      "Average of list1: 55.0\n"
     ]
    }
   ],
   "source": [
    "list1=[10,20,30,40,50,60,70,80,90,100]\n",
    "sum1=0\n",
    "\n",
    "for i in list1:\n",
    "    sum1+=i\n",
    "print(\"Sum of total number:\",sum1)\n",
    "print(\"Average of list1:\",sum1/len(list1))"
   ]
  },
  {
   "cell_type": "markdown",
   "id": "414e2786-917b-41b1-b9fd-9d47f4df2601",
   "metadata": {},
   "source": [
    "# for-else statement"
   ]
  },
  {
   "cell_type": "code",
   "execution_count": 66,
   "id": "b982da12-0e89-42aa-82a7-10a899db58cb",
   "metadata": {},
   "outputs": [
    {
     "name": "stdout",
     "output_type": "stream",
     "text": [
      "1,2,3,4,5,These are numbers between 1 to 5.\n"
     ]
    }
   ],
   "source": [
    "for i in range(1,6):\n",
    "    print(i,end=',')\n",
    "else:\n",
    "    print(\"These are numbers between 1 to 5.\")"
   ]
  },
  {
   "cell_type": "markdown",
   "id": "93c3d527-4c21-4a0c-b5f5-1723c8a998fc",
   "metadata": {},
   "source": [
    "# break in for loop"
   ]
  },
  {
   "cell_type": "code",
   "execution_count": 70,
   "id": "ca3b61ca-2e9d-44d0-9d1d-7113a26d2c48",
   "metadata": {},
   "outputs": [
    {
     "name": "stdout",
     "output_type": "stream",
     "text": [
      "1\n",
      "2\n",
      "3\n",
      "4\n"
     ]
    }
   ],
   "source": [
    "# Take a list\n",
    "\n",
    "nlis=[1,2,3,4,5,6,7,8,9,10]\n",
    "\n",
    "for i in nlis:\n",
    "    if i==5:\n",
    "        break\n",
    "    print(i)"
   ]
  },
  {
   "cell_type": "markdown",
   "id": "df78eda8-037e-4877-bd0b-037e9650a31c",
   "metadata": {},
   "source": [
    "# Continue in for loop"
   ]
  },
  {
   "cell_type": "code",
   "execution_count": 71,
   "id": "a83ab182-f8e8-4f01-862c-416af66aec66",
   "metadata": {},
   "outputs": [
    {
     "data": {
      "text/plain": [
       "[1, 2, 3, 4, 5, 6, 7, 8, 9, 10]"
      ]
     },
     "execution_count": 71,
     "metadata": {},
     "output_type": "execute_result"
    }
   ],
   "source": [
    "nlis"
   ]
  },
  {
   "cell_type": "code",
   "execution_count": 73,
   "id": "6eb104a9-2ca1-47d0-aad5-c8e1e0473399",
   "metadata": {},
   "outputs": [
    {
     "name": "stdout",
     "output_type": "stream",
     "text": [
      "1\n",
      "2\n",
      "3\n",
      "4\n",
      "6\n",
      "7\n",
      "8\n",
      "9\n",
      "10\n"
     ]
    }
   ],
   "source": [
    "for i in nlis:\n",
    "    if i==5:\n",
    "        continue\n",
    "    print(i)"
   ]
  },
  {
   "cell_type": "markdown",
   "id": "43cdb1e0-ef3c-489d-9424-e22b94a1bebf",
   "metadata": {},
   "source": [
    "# While loop\n",
    "\n",
    " * __The while loop exists as a tool for repeated execution based on a condition. The code block will keep being executed until the given logical codition returns a False boolean value.__"
   ]
  },
  {
   "cell_type": "code",
   "execution_count": 4,
   "id": "424af365-14e8-499b-bbf2-e1a01d6cdd0e",
   "metadata": {},
   "outputs": [
    {
     "name": "stdout",
     "output_type": "stream",
     "text": [
      "22\n",
      "23\n",
      "24\n",
      "25\n",
      "26\n",
      "27\n"
     ]
    }
   ],
   "source": [
    "i=22\n",
    "\n",
    "while i<=27:\n",
    "    print(i)\n",
    "    i+=1"
   ]
  },
  {
   "cell_type": "code",
   "execution_count": 7,
   "id": "d26754e7-540e-4503-8a3b-a1e379db2197",
   "metadata": {},
   "outputs": [
    {
     "name": "stdout",
     "output_type": "stream",
     "text": [
      "22\n",
      "21\n",
      "20\n",
      "19\n",
      "18\n",
      "17\n"
     ]
    }
   ],
   "source": [
    "# Take an example\n",
    "\n",
    "i=22\n",
    "\n",
    "while i>=17:\n",
    "    print(i)\n",
    "    i-=1"
   ]
  },
  {
   "cell_type": "code",
   "execution_count": 8,
   "id": "4c856e9b-8a15-4220-b957-8f60a973ed7d",
   "metadata": {},
   "outputs": [
    {
     "name": "stdin",
     "output_type": "stream",
     "text": [
      "Enter any number: 13\n"
     ]
    },
    {
     "name": "stdout",
     "output_type": "stream",
     "text": [
      "13X1=13\n",
      "13X2=26\n",
      "13X3=39\n",
      "13X4=52\n",
      "13X5=65\n",
      "13X6=78\n",
      "13X7=91\n",
      "13X8=104\n",
      "13X9=117\n",
      "13X10=130\n"
     ]
    }
   ],
   "source": [
    "# for loop table:\n",
    "num=int(input(\"Enter any number:\"))\n",
    "\n",
    "for i in range(1,11):\n",
    "    print('%dX%d=%d'%(num,i,num*i))"
   ]
  },
  {
   "cell_type": "code",
   "execution_count": 9,
   "id": "912af4c5-ee97-47c7-859d-43a98956ce9a",
   "metadata": {},
   "outputs": [
    {
     "name": "stdin",
     "output_type": "stream",
     "text": [
      "Enter any number: 13\n"
     ]
    },
    {
     "name": "stdout",
     "output_type": "stream",
     "text": [
      "13X1=13\n",
      "13X2=26\n",
      "13X3=39\n",
      "13X4=52\n",
      "13X5=65\n",
      "13X6=78\n",
      "13X7=91\n",
      "13X8=104\n",
      "13X9=117\n",
      "13X10=130\n"
     ]
    }
   ],
   "source": [
    "num=int(input(\"Enter any number:\"))\n",
    "\n",
    "i=1\n",
    "\n",
    "while i<11:\n",
    "    print('%dX%d=%d'%(num,i,num*i))\n",
    "    i+=1"
   ]
  },
  {
   "cell_type": "markdown",
   "id": "41bec4ea-db61-40a1-81f0-25d7c9b51686",
   "metadata": {},
   "source": [
    "# While-else statement"
   ]
  },
  {
   "cell_type": "code",
   "execution_count": 14,
   "id": "d93f195a-f845-45d8-aa42-b885c322124b",
   "metadata": {},
   "outputs": [
    {
     "name": "stdout",
     "output_type": "stream",
     "text": [
      "0,1,2,3,4,5,It gives us the number between 0 to 5\n"
     ]
    }
   ],
   "source": [
    "x=0\n",
    "\n",
    "while x<=5:\n",
    "    print(x,end=',')\n",
    "    x+=1\n",
    "else:\n",
    "    print('It gives us the number between 0 to 5')"
   ]
  },
  {
   "cell_type": "markdown",
   "id": "fbbf962b-dbf0-4152-b25f-4bf7ce20f4b0",
   "metadata": {},
   "source": [
    "# break in while loop"
   ]
  },
  {
   "cell_type": "code",
   "execution_count": null,
   "id": "52f08207-1c2f-49f6-bd72-54c031e0da5c",
   "metadata": {},
   "outputs": [],
   "source": []
  },
  {
   "cell_type": "code",
   "execution_count": 17,
   "id": "2cefe620-32a3-47ce-b728-363010d58643",
   "metadata": {},
   "outputs": [
    {
     "name": "stdout",
     "output_type": "stream",
     "text": [
      "0\n",
      "1\n",
      "2\n",
      "3\n",
      "4\n"
     ]
    }
   ],
   "source": [
    "i=0\n",
    "while i<=10:\n",
    "    print(i)\n",
    "    i+=1\n",
    "    if i==5:\n",
    "        break"
   ]
  },
  {
   "cell_type": "markdown",
   "id": "178c364b-b8a8-4912-a8bb-f88d99098458",
   "metadata": {},
   "source": [
    "# continue in while loop"
   ]
  },
  {
   "cell_type": "code",
   "execution_count": 20,
   "id": "3839869b-02ab-423d-bb16-27f0b6bfc501",
   "metadata": {},
   "outputs": [
    {
     "name": "stdout",
     "output_type": "stream",
     "text": [
      "0\n",
      "1\n",
      "2\n",
      "3\n",
      "4\n",
      "5\n",
      "6\n",
      "7\n",
      "8\n",
      "9\n",
      "10\n"
     ]
    }
   ],
   "source": [
    "i=0\n",
    "\n",
    "while i<=10:\n",
    "    print(i)\n",
    "    i+=1\n",
    "    if i==5:\n",
    "        continue"
   ]
  },
  {
   "cell_type": "code",
   "execution_count": 21,
   "id": "8153ec62-5e3f-4a94-9486-b70d2d89bc51",
   "metadata": {},
   "outputs": [
    {
     "name": "stdout",
     "output_type": "stream",
     "text": [
      "Total sum: 55\n"
     ]
    }
   ],
   "source": [
    "# 1. Write a python program to calculate the sum of all numbers from 1 to 10.\n",
    "\n",
    "sum1=0\n",
    "for i in range(1,11):\n",
    "    sum1+=i\n",
    "print(\"Total sum:\",sum1)"
   ]
  },
  {
   "cell_type": "code",
   "execution_count": 23,
   "id": "8df4d290-6602-4c64-b5e2-0ff1fb16cee2",
   "metadata": {},
   "outputs": [
    {
     "name": "stdout",
     "output_type": "stream",
     "text": [
      "Sum of all odd numbers: 25\n"
     ]
    }
   ],
   "source": [
    "# 2. Write a python program to calculate the sum of all odd numbers within the given range 1 to 10.\n",
    "\n",
    "sum2=0\n",
    "for i in range(1,11,2):\n",
    "    sum2+=i\n",
    "    \n",
    "print(\"Sum of all odd numbers:\",sum2)"
   ]
  },
  {
   "cell_type": "code",
   "execution_count": 28,
   "id": "cf836c84-7534-40a1-8648-4d877dacefdf",
   "metadata": {},
   "outputs": [
    {
     "name": "stdout",
     "output_type": "stream",
     "text": [
      "25\n"
     ]
    }
   ],
   "source": [
    "given_range=10\n",
    "sum1=0\n",
    "for i in range(given_range):\n",
    "    if i%2!=0:\n",
    "        sum1+=i\n",
    "print(sum1)"
   ]
  },
  {
   "cell_type": "code",
   "execution_count": 29,
   "id": "183dbf47-1cf7-4f2e-bca0-b2915ca3b3e6",
   "metadata": {},
   "outputs": [
    {
     "name": "stdout",
     "output_type": "stream",
     "text": [
      "29X1=29\n",
      "29X2=58\n",
      "29X3=87\n",
      "29X4=116\n",
      "29X5=145\n",
      "29X6=174\n",
      "29X7=203\n",
      "29X8=232\n",
      "29X9=261\n",
      "29X10=290\n"
     ]
    }
   ],
   "source": [
    "# 3. Write a python program to print a multiplication table of given number is that 29.\n",
    "\n",
    "x=29\n",
    "for i in range(1,11):\n",
    "    print('%dX%d=%d'%(x,i,x*i))"
   ]
  },
  {
   "cell_type": "code",
   "execution_count": 30,
   "id": "daf53790-de48-4a5e-a424-84f40c2203d7",
   "metadata": {},
   "outputs": [
    {
     "name": "stdout",
     "output_type": "stream",
     "text": [
      "1\n",
      "2\n",
      "4\n",
      "6\n",
      "8\n",
      "600\n",
      "900\n",
      "976\n"
     ]
    }
   ],
   "source": [
    "# 4. Write a python program to display numbers from the list using for loop.\n",
    "# l1=[1,2,4,6,8,600,900,976]\n",
    "\n",
    "l1=[1,2,4,6,8,600,900,976]\n",
    "for i in l1:\n",
    "    print(i)"
   ]
  },
  {
   "cell_type": "code",
   "execution_count": 31,
   "id": "cb326257-f9c2-4fbf-9bfe-dea9aea047ed",
   "metadata": {},
   "outputs": [
    {
     "name": "stdout",
     "output_type": "stream",
     "text": [
      "Number 1 is odd\n",
      "Number 3 is odd\n",
      "Number 5 is odd\n",
      "Number 7 is odd\n",
      "Number 8 is even\n",
      "Number 200 is even\n",
      "Number 210 is even\n",
      "Number 212 is even\n",
      "Number 576 is even\n",
      "Number 890 is even\n",
      "Number 790 is even\n"
     ]
    }
   ],
   "source": [
    "# 5. Write a python program to display the number even or odd from the series of number.\n",
    "# num_list=[1,3,5,7,8,200,210,212,576,890,790]\n",
    "\n",
    "num_list=[1,3,5,7,8,200,210,212,576,890,790]\n",
    "for i in num_list:\n",
    "    if i%2==0:\n",
    "        print(\"Number\",i,\"is even\")\n",
    "    else:\n",
    "        print(\"Number\",i,\"is odd\")"
   ]
  },
  {
   "cell_type": "code",
   "execution_count": 32,
   "id": "41e4a9c0-2c9e-4e1a-88bf-a19e495aab32",
   "metadata": {},
   "outputs": [
    {
     "name": "stdin",
     "output_type": "stream",
     "text": [
      "Enter string: 123abc\n"
     ]
    },
    {
     "name": "stdout",
     "output_type": "stream",
     "text": [
      "digits: 3\n",
      "letters: 3\n"
     ]
    }
   ],
   "source": [
    "x=input(\"Enter string:\")\n",
    "count1=0\n",
    "count2=0\n",
    "for i in x:\n",
    "    if i.isdigit():\n",
    "        count1+=1\n",
    "    else:\n",
    "        count2+=1\n",
    "print(\"digits:\",count1)\n",
    "print(\"letters:\",count2)"
   ]
  },
  {
   "cell_type": "code",
   "execution_count": 37,
   "id": "5ce10a32-3b57-45cf-bc9a-bbd92e6c9f35",
   "metadata": {},
   "outputs": [
    {
     "name": "stdout",
     "output_type": "stream",
     "text": [
      "11\n",
      "13\n",
      "17\n",
      "19\n",
      "23\n",
      "29\n",
      "31\n"
     ]
    }
   ],
   "source": [
    "# write a program to display all the prime numbers from 1 to 30.\n",
    "\n",
    "for i in range(10,33):\n",
    "    if i%2==0 or i%3==0 or i%5==0 or i%7==0:\n",
    "        continue\n",
    "    else:\n",
    "        print(i)"
   ]
  },
  {
   "cell_type": "code",
   "execution_count": 40,
   "id": "5ba12496-f919-4b5c-baf6-2a67631590b7",
   "metadata": {},
   "outputs": [
    {
     "name": "stdin",
     "output_type": "stream",
     "text": [
      "Enter a string apple1456\n"
     ]
    },
    {
     "name": "stdout",
     "output_type": "stream",
     "text": [
      "The string is: apple1456 \n",
      "The no. of digits are: 4 \n",
      "The no. of letters are: 5\n"
     ]
    }
   ],
   "source": [
    "# abc123\n",
    "\n",
    "num=input(\"Enter a string\")\n",
    "digits=0\n",
    "letters=0\n",
    "\n",
    "for i in range(len(num)):\n",
    "\n",
    "    if num[i].isnumeric()==True:\n",
    "        digits+=1\n",
    "    else:\n",
    "        letters+=1\n",
    "print('The string is:',num,'\\nThe no. of digits are:',digits,'\\nThe no. of letters are:',letters)"
   ]
  },
  {
   "cell_type": "code",
   "execution_count": 42,
   "id": "68a54d4c-e656-440d-adab-0882c75dd36a",
   "metadata": {},
   "outputs": [
    {
     "name": "stdout",
     "output_type": "stream",
     "text": [
      "January = 31 days\n",
      "February = 28/29 days\n",
      "March = 31 days\n",
      "April = 30 days\n",
      "May = 31 days\n",
      "June = 30 days\n",
      "July = 31 days\n",
      "August = 31 days\n",
      "September = 30 days\n",
      "October = 31 days\n",
      "November = 30 days\n",
      "December = 31 days\n"
     ]
    }
   ],
   "source": [
    "# 8. Write a program to convert the month name to the number of days using for loop and display month name with total days.\n",
    "\n",
    "\n",
    "month=[\"January\",\"February\",\"March\",\"April\",\"May\",\"June\",'July','August','September','October','November','December']\n",
    "for i in month:\n",
    "    if i==\"February\":\n",
    "        print(i,\"= 28/29 days\" )\n",
    "    elif i in (\"April\",\"June\",\"September\",\"November\"):\n",
    "        print(i,\"= 30 days\")\n",
    "    elif i in (\"January\",\"March\",\"May\",\"July\",\"August\",\"October\",\"December\"):\n",
    "        print(i,\"= 31 days\")\n",
    "    else:\n",
    "        print(i,'is not a valid month name.')"
   ]
  },
  {
   "cell_type": "code",
   "execution_count": 47,
   "id": "31c6440d-c54c-4b96-82ed-6082399a1fd9",
   "metadata": {},
   "outputs": [
    {
     "name": "stdout",
     "output_type": "stream",
     "text": [
      "The month of January has 31 days.\n",
      "Febraury The month of February has 28/29 days\n",
      "The month of March has 31 days.\n",
      "The month of April has 30 days.\n",
      "The month of May has 31 days.\n",
      "The month of June has 30 days.\n",
      "The month of July has 31 days.\n",
      "The month of August has 31 days.\n",
      "The month of September has 30 days.\n",
      "The month of October has 31 days.\n",
      "The month of November has 30 days.\n",
      "The month of December has 31 days.\n"
     ]
    }
   ],
   "source": [
    "month = [\"January\",\"Febraury\",\"March\",\"April\",\"May\",\"June\",\"July\",\"August\",\"September\",\"October\",\"November\",\"December\"]\n",
    " \n",
    "for i in month:\n",
    "    if i == \"Febraury\":\n",
    "            print(i,\"The month of February has 28/29 days\")\n",
    "    elif i in (\"April\", \"June\", \"September\", \"November\"):\n",
    "            print(\"The month of\",i,\"has 30 days.\")\n",
    "    elif i in (\"January\", \"March\", \"May\", \"July\", \"August\", \"October\", \"December\"):\n",
    "            print(\"The month of\",i,\"has 31 days.\")\n",
    "    else:\n",
    "        print(i,\"is not a valid month\")"
   ]
  },
  {
   "cell_type": "code",
   "execution_count": 1,
   "id": "cdcbff47-9f71-4bcc-9c7b-7cf2c52873f5",
   "metadata": {},
   "outputs": [
    {
     "name": "stdout",
     "output_type": "stream",
     "text": [
      "1 = 1\n",
      "2 = 4\n",
      "3 = 9\n",
      "4 = 16\n",
      "5 = 25\n",
      "6 = 36\n",
      "7 = 49\n",
      "8 = 64\n",
      "9 = 81\n",
      "10 = 100\n"
     ]
    }
   ],
   "source": [
    "# 3. Write the program to print first 10 intergers and their squares using while loop\n",
    "i=1\n",
    "while i <=10:\n",
    "    print(i,\"=\",i*i)\n",
    "    i+=1"
   ]
  },
  {
   "cell_type": "code",
   "execution_count": 2,
   "id": "37f7d0f9-9419-46e2-96d2-8db93c86287b",
   "metadata": {},
   "outputs": [
    {
     "name": "stdout",
     "output_type": "stream",
     "text": [
      "10,20,30,40,50,60,70,80,90,100,110,120,130,140,150,160,170,180,190,200,210,220,230,240,250,260,270,280,290,300,"
     ]
    }
   ],
   "source": [
    "# 4. Write while loop statement to print the following serires:\n",
    "# 10,20,30 ........300\n",
    "i=10\n",
    "while i<=300:\n",
    "    print(i,end=\",\")\n",
    "    i+=10"
   ]
  },
  {
   "cell_type": "code",
   "execution_count": 3,
   "id": "8ef88544-fb7d-49a0-a7a6-e13d95d37724",
   "metadata": {},
   "outputs": [
    {
     "name": "stdout",
     "output_type": "stream",
     "text": [
      "10\n",
      "9\n",
      "8\n",
      "7\n",
      "6\n",
      "5\n",
      "4\n",
      "3\n",
      "2\n",
      "1\n"
     ]
    }
   ],
   "source": [
    "# 5. Write a program to print first 10 natural number in reverse order.\n",
    "i=10\n",
    "while i>=1:\n",
    "    print(i)\n",
    "    i-=1"
   ]
  },
  {
   "cell_type": "code",
   "execution_count": 13,
   "id": "605cbff1-ce14-4e1f-a915-2c7733b44307",
   "metadata": {},
   "outputs": [
    {
     "name": "stdin",
     "output_type": "stream",
     "text": [
      "Enter any numebr:\n",
      " 123\n"
     ]
    },
    {
     "name": "stdout",
     "output_type": "stream",
     "text": [
      "One,Two,Three,"
     ]
    }
   ],
   "source": [
    "num1=input('Enter any numebr:\\n')\n",
    "\n",
    "l1=list(num1)\n",
    "l=len(l1)\n",
    "i=0\n",
    "n={0:'Zero',1:'One',2:'Two',3:'Three',4:'Four',5:'Five',6:\"Six\",7:'Seven',8:'Eight',9:'Nine'}\n",
    "while i<l:\n",
    "    print(n[int(l1[i])],end=',')\n",
    "    i=i+1"
   ]
  },
  {
   "cell_type": "code",
   "execution_count": 17,
   "id": "e77a46d0-83c4-48b0-b790-03673bbdbebc",
   "metadata": {},
   "outputs": [
    {
     "name": "stdin",
     "output_type": "stream",
     "text": [
      "Enter any number 1234\n"
     ]
    },
    {
     "name": "stdout",
     "output_type": "stream",
     "text": [
      "The total sum of the number is: 10\n"
     ]
    }
   ],
   "source": [
    "num=int(input('Enter any number'))\n",
    "\n",
    "remainder=0\n",
    "sum1=0\n",
    "\n",
    "while num>0:\n",
    "    remainder=num%10\n",
    "    sum1=sum1+remainder\n",
    "    num=num//10\n",
    "print('The total sum of the number is:',sum1)"
   ]
  },
  {
   "cell_type": "code",
   "execution_count": 18,
   "id": "ab36fc56-c5ae-4c92-aca7-d772444c2af2",
   "metadata": {},
   "outputs": [
    {
     "name": "stdout",
     "output_type": "stream",
     "text": [
      "55\n"
     ]
    }
   ],
   "source": [
    "# Write a python program to print sum of the first 10 natural numebrs.\n",
    "\n",
    "num=10\n",
    "sum=0\n",
    "\n",
    "while num>=1:\n",
    "    sum=sum+num\n",
    "    num=num-1\n",
    "print(sum)"
   ]
  },
  {
   "cell_type": "code",
   "execution_count": 21,
   "id": "ad0de4d6-d59a-4bd6-b9b9-45c48e728306",
   "metadata": {},
   "outputs": [
    {
     "name": "stdout",
     "output_type": "stream",
     "text": [
      "110\n"
     ]
    }
   ],
   "source": [
    "# 2,4,6,8,10,12,14,16,18,20\n",
    "\n",
    "num1=2\n",
    "sum1=0\n",
    "\n",
    "while num1<=20:\n",
    "    sum1=sum1+num1\n",
    "    num1=num1+2\n",
    "print(sum1)"
   ]
  },
  {
   "cell_type": "code",
   "execution_count": 24,
   "id": "352dbafe-341d-46de-856e-ae42a247fce8",
   "metadata": {},
   "outputs": [
    {
     "name": "stdin",
     "output_type": "stream",
     "text": [
      "Enter number: 10\n",
      "Enter number: 20\n",
      "Enter number: 30\n",
      "Enter number: 40\n",
      "Enter number: 80\n",
      "Enter number: 90\n",
      "Enter number: 100\n",
      "Enter number: 120\n",
      "Enter number: 400\n",
      "Enter number: 560\n"
     ]
    },
    {
     "name": "stdout",
     "output_type": "stream",
     "text": [
      "Largest number is: 560\n",
      "Smallest number is: 10\n"
     ]
    }
   ],
   "source": [
    "#Write a program to accept 10 numbers from the user and display the largest and smallest number.\n",
    "\n",
    "l=[]\n",
    "i=0\n",
    "while (i<10):\n",
    "    num=int(input('Enter number:'))\n",
    "    l.append(num)\n",
    "    i=i+1\n",
    "l.sort()\n",
    "print(\"Largest number is:\",l[-1])\n",
    "print('Smallest number is:',l[0])"
   ]
  },
  {
   "cell_type": "code",
   "execution_count": 26,
   "id": "656bc5c4-c02f-44dc-8720-2b0f498d1b23",
   "metadata": {},
   "outputs": [
    {
     "name": "stdin",
     "output_type": "stream",
     "text": [
      "Enter the number:  123\n"
     ]
    },
    {
     "name": "stdout",
     "output_type": "stream",
     "text": [
      "321\n"
     ]
    }
   ],
   "source": [
    "# Write a Program to extract each digit from an integer in the reverse order.\n",
    "\n",
    "n=input('Enter the number: ')\n",
    "\n",
    "y=n[::-1]\n",
    "\n",
    "k=''.join(y)\n",
    "print(k)"
   ]
  },
  {
   "cell_type": "code",
   "execution_count": 28,
   "id": "006521e6-b596-4448-aeba-50e4a37a1648",
   "metadata": {},
   "outputs": [
    {
     "name": "stdin",
     "output_type": "stream",
     "text": [
      "Principle amount: 8000\n",
      "Rate of interest:  12\n",
      "Time period:  5\n"
     ]
    },
    {
     "name": "stdout",
     "output_type": "stream",
     "text": [
      "4800.0\n",
      "Total amount to pay will be: 12800.0\n"
     ]
    }
   ],
   "source": [
    "p=float(input('Principle amount:'))\n",
    "r=float(input('Rate of interest: '))\n",
    "t=int(input('Time period: '))\n",
    "\n",
    "simple_interest=(p*r*t)/100\n",
    "print(simple_interest)\n",
    "\n",
    "total_amount=p+simple_interest\n",
    "print(\"Total amount to pay will be:\",total_amount)"
   ]
  },
  {
   "cell_type": "code",
   "execution_count": null,
   "id": "74a0d2aa-e985-4ec3-85e4-e4a1a7dc8ee7",
   "metadata": {},
   "outputs": [],
   "source": []
  }
 ],
 "metadata": {
  "kernelspec": {
   "display_name": "Python 3 (ipykernel)",
   "language": "python",
   "name": "python3"
  },
  "language_info": {
   "codemirror_mode": {
    "name": "ipython",
    "version": 3
   },
   "file_extension": ".py",
   "mimetype": "text/x-python",
   "name": "python",
   "nbconvert_exporter": "python",
   "pygments_lexer": "ipython3",
   "version": "3.11.4"
  }
 },
 "nbformat": 4,
 "nbformat_minor": 5
}
