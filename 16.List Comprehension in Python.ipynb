{
 "cells": [
  {
   "cell_type": "markdown",
   "id": "bfe049c5-cfe4-43ab-a52b-c00da3f01c0a",
   "metadata": {},
   "source": [
    "# 16. List Comprehension in Python\n",
    "\n",
    " * __List comprehension in Python is an easy and compact syntax for creating a list from a string or another list.__\n",
    " * __It is a very concise way to create a new list by performing an operation on each item in the existing list.__\n",
    " * __List Comprehension is considerably faster than processing a list using the for loop.__"
   ]
  },
  {
   "cell_type": "code",
   "execution_count": 1,
   "id": "8f6d09c9-2cdf-4b92-b1a9-4b783b5e4dcc",
   "metadata": {},
   "outputs": [
    {
     "ename": "NameError",
     "evalue": "name 'pi' is not defined",
     "output_type": "error",
     "traceback": [
      "\u001b[1;31m---------------------------------------------------------------------------\u001b[0m",
      "\u001b[1;31mNameError\u001b[0m                                 Traceback (most recent call last)",
      "Cell \u001b[1;32mIn[1], line 1\u001b[0m\n\u001b[1;32m----> 1\u001b[0m \u001b[43mpi\u001b[49m\n",
      "\u001b[1;31mNameError\u001b[0m: name 'pi' is not defined"
     ]
    }
   ],
   "source": [
    "pi"
   ]
  },
  {
   "cell_type": "code",
   "execution_count": 4,
   "id": "c430fa63-8f75-4a90-ac90-3f0d3c2986ae",
   "metadata": {},
   "outputs": [],
   "source": [
    "import math\n",
    "from math import *"
   ]
  },
  {
   "cell_type": "code",
   "execution_count": 5,
   "id": "4ecb855a-9c4a-4fcd-bd42-4f3041c8207f",
   "metadata": {},
   "outputs": [
    {
     "data": {
      "text/plain": [
       "3.141592653589793"
      ]
     },
     "execution_count": 5,
     "metadata": {},
     "output_type": "execute_result"
    }
   ],
   "source": [
    "math.pi"
   ]
  },
  {
   "cell_type": "code",
   "execution_count": 11,
   "id": "f0530fd3-ff4c-4718-ac71-48caa32681db",
   "metadata": {},
   "outputs": [
    {
     "name": "stdout",
     "output_type": "stream",
     "text": [
      "[0, 1, 8, 27, 64]\n"
     ]
    }
   ],
   "source": [
    "# 1,8,27,64\n",
    "\n",
    "cubic_nums=[]\n",
    "for i in range(5):\n",
    "    i=i**3 #i**=3\n",
    "    cubic_nums.append(i)\n",
    "print(cubic_nums)"
   ]
  },
  {
   "cell_type": "code",
   "execution_count": 13,
   "id": "c2b68bef-c68b-4b11-b49c-741f443e238e",
   "metadata": {},
   "outputs": [
    {
     "name": "stdout",
     "output_type": "stream",
     "text": [
      "[0, 1, 8, 27, 64]\n"
     ]
    }
   ],
   "source": [
    "cubic_nums=[i**3 for i in range(5)]\n",
    "print(cubic_nums)"
   ]
  },
  {
   "cell_type": "code",
   "execution_count": 14,
   "id": "3816e126-bc0b-4fe8-871d-d0abdfc839be",
   "metadata": {},
   "outputs": [
    {
     "name": "stdout",
     "output_type": "stream",
     "text": [
      "[0, 2, 4, 6, 8, 10, 12, 14, 16, 18, 20]\n"
     ]
    }
   ],
   "source": [
    "# 21\n",
    "\n",
    "even_numbers=[]\n",
    "\n",
    "for i in range(21):\n",
    "    if i%2==0:\n",
    "        even_numbers.append(i)\n",
    "print(even_numbers)"
   ]
  },
  {
   "cell_type": "code",
   "execution_count": 15,
   "id": "e53a7afd-84ea-4ffc-8e80-e4002edb461a",
   "metadata": {},
   "outputs": [
    {
     "name": "stdout",
     "output_type": "stream",
     "text": [
      "[0, 2, 4, 6, 8, 10, 12, 14, 16, 18, 20]\n"
     ]
    }
   ],
   "source": [
    "even_numbers=[i for i in range(21) if i%2==0]\n",
    "print(even_numbers)"
   ]
  },
  {
   "cell_type": "code",
   "execution_count": 18,
   "id": "d9415728-aec4-454a-a79c-9ef526a3e3e4",
   "metadata": {},
   "outputs": [
    {
     "name": "stdin",
     "output_type": "stream",
     "text": [
      "Enter any number 50\n"
     ]
    },
    {
     "name": "stdout",
     "output_type": "stream",
     "text": [
      "[0, 1, 8, 27, 64, 125, 216, 343, 512, 729, 1000, 1331, 1728, 2197, 2744, 3375, 4096, 4913, 5832, 6859, 8000, 9261, 10648, 12167, 13824, 15625, 17576, 19683, 21952, 24389, 27000, 29791, 32768, 35937, 39304, 42875, 46656, 50653, 54872, 59319, 64000, 68921, 74088, 79507, 85184, 91125, 97336, 103823, 110592, 117649]\n"
     ]
    }
   ],
   "source": [
    "# 1,8,27,64\n",
    "n=int(input('Enter any number'))\n",
    "\n",
    "cubic_nums=[]\n",
    "for i in range(n):\n",
    "    i=i**3 #i**=3\n",
    "    cubic_nums.append(i)\n",
    "print(cubic_nums)"
   ]
  },
  {
   "cell_type": "code",
   "execution_count": 19,
   "id": "6172bcce-e06b-4bbb-93f2-b5e30f93ee60",
   "metadata": {},
   "outputs": [
    {
     "name": "stdin",
     "output_type": "stream",
     "text": [
      "Enter any number: 50\n"
     ]
    },
    {
     "name": "stdout",
     "output_type": "stream",
     "text": [
      "[0, 1, 8, 27, 64, 125, 216, 343, 512, 729, 1000, 1331, 1728, 2197, 2744, 3375, 4096, 4913, 5832, 6859, 8000, 9261, 10648, 12167, 13824, 15625, 17576, 19683, 21952, 24389, 27000, 29791, 32768, 35937, 39304, 42875, 46656, 50653, 54872, 59319, 64000, 68921, 74088, 79507, 85184, 91125, 97336, 103823, 110592, 117649]\n"
     ]
    }
   ],
   "source": [
    "t=int(input(\"Enter any number:\"))\n",
    "cubic_nums=[i**3 for i in range(t)]\n",
    "print(cubic_nums)"
   ]
  },
  {
   "cell_type": "code",
   "execution_count": 20,
   "id": "398a0be1-1ec3-4f07-a4f8-7e1fa82f702d",
   "metadata": {},
   "outputs": [
    {
     "data": {
      "text/plain": [
       "125"
      ]
     },
     "execution_count": 20,
     "metadata": {},
     "output_type": "execute_result"
    }
   ],
   "source": [
    "5**3"
   ]
  },
  {
   "cell_type": "code",
   "execution_count": 21,
   "id": "35e318b0-a683-4305-b831-8e945aae71a7",
   "metadata": {},
   "outputs": [
    {
     "name": "stdout",
     "output_type": "stream",
     "text": [
      "['R', 'u', 'p', 'a', 'l', 'i']\n"
     ]
    }
   ],
   "source": [
    "# 'Rupali'\n",
    "\n",
    "text=[]\n",
    "for i in 'Rupali':\n",
    "    text.append(i)\n",
    "\n",
    "print(text)"
   ]
  },
  {
   "cell_type": "code",
   "execution_count": 22,
   "id": "3ef09868-c1c2-4d67-bbdc-b3cd6240cf87",
   "metadata": {},
   "outputs": [
    {
     "name": "stdout",
     "output_type": "stream",
     "text": [
      "['R', 'u', 'p', 'a', 'l', 'i', ' ', 'G', 'u', 'r', 'a', 'v']\n"
     ]
    }
   ],
   "source": [
    "x=[i for i in 'Rupali Gurav']\n",
    "print(x)"
   ]
  },
  {
   "cell_type": "code",
   "execution_count": 23,
   "id": "f6df40a7-4e4c-4938-a18a-aefefcf1c296",
   "metadata": {},
   "outputs": [
    {
     "name": "stdout",
     "output_type": "stream",
     "text": [
      "original list: [10, 20, 30, 40, 50, 60, 70, 80, 90, 100, 37, 120, 2.718, 28, 38]\n",
      "Second List: [30, 60, 90, 120, 150, 180, 210, 240, 270, 300, 111, 360, 8.154, 84, 114]\n"
     ]
    }
   ],
   "source": [
    "x=[10,20,30,40,50,60,70,80,90,100,37,120,2.718,28,38]\n",
    "three_times=[]\n",
    "for i in x:\n",
    "    i*=3\n",
    "    three_times.append(i)\n",
    "print('original list:',x)\n",
    "print('Second List:',three_times)"
   ]
  },
  {
   "cell_type": "code",
   "execution_count": 24,
   "id": "6232d63e-0fbd-42af-9017-7169b260b825",
   "metadata": {},
   "outputs": [
    {
     "name": "stdout",
     "output_type": "stream",
     "text": [
      "[30, 60, 90, 120, 150, 180, 210, 240, 270, 300, 111, 360, 8.154, 84, 114]\n"
     ]
    }
   ],
   "source": [
    "three_times=[i*3 for i in x]\n",
    "print(three_times)"
   ]
  },
  {
   "cell_type": "code",
   "execution_count": 27,
   "id": "a7eb533d-5aa2-4bb4-80f3-ac60311d7d3e",
   "metadata": {},
   "outputs": [
    {
     "name": "stdout",
     "output_type": "stream",
     "text": [
      "['Django', 'Java', 'JavaScript']\n"
     ]
    }
   ],
   "source": [
    "languages=['Python','Django','Java',\"JavaScript\",\"C\",\"C++\",\"PHP\"]\n",
    "\n",
    "lang_list=[]\n",
    "\n",
    "for i in languages:\n",
    "    if 'a' in i:\n",
    "        lang_list.append(i)\n",
    "print(lang_list)"
   ]
  },
  {
   "cell_type": "code",
   "execution_count": 30,
   "id": "85477db5-ce54-4316-9bc1-3ef4650fa76e",
   "metadata": {},
   "outputs": [
    {
     "name": "stdout",
     "output_type": "stream",
     "text": [
      "['C', 'C++']\n"
     ]
    }
   ],
   "source": [
    "lang_list=[i for i in languages if 'C' in i]\n",
    "print(lang_list)"
   ]
  },
  {
   "cell_type": "code",
   "execution_count": 2,
   "id": "67e659cc-100a-4a30-a94d-463b65b2fe62",
   "metadata": {},
   "outputs": [
    {
     "name": "stdout",
     "output_type": "stream",
     "text": [
      "[28, 37, 1729]\n"
     ]
    }
   ],
   "source": [
    "num_list=[0.577,2.718,3.147,1.618,6,28,37,1729]\n",
    "\n",
    "new_list=[]\n",
    "for i in num_list:\n",
    "    if i>10:\n",
    "        new_list.append(i)\n",
    "print(new_list)"
   ]
  },
  {
   "cell_type": "code",
   "execution_count": 4,
   "id": "213a2141-c6a2-4d0e-b7aa-ea0d65a1a01c",
   "metadata": {},
   "outputs": [
    {
     "name": "stdout",
     "output_type": "stream",
     "text": [
      "[28, 37, 1729]\n"
     ]
    }
   ],
   "source": [
    "new_list=[i for i in num_list if i>10]\n",
    "print(new_list)"
   ]
  },
  {
   "cell_type": "code",
   "execution_count": 5,
   "id": "ca4d7865-482e-4220-a2a8-dd6c9a2ac2b1",
   "metadata": {},
   "outputs": [
    {
     "name": "stdout",
     "output_type": "stream",
     "text": [
      "For Loop:['Even', 'Odd', 'Even', 'Odd', 'Even', 'Odd', 'Even', 'Odd', 'Even', 'Odd', 'Even', 'Odd', 'Even', 'Odd', 'Even', 'Odd', 'Even', 'Odd', 'Even', 'Odd', 'Even']\n"
     ]
    }
   ],
   "source": [
    "numbers=[]\n",
    "for i in range(21):\n",
    "    if i%2==0:\n",
    "        numbers.append('Even')\n",
    "    else:\n",
    "        numbers.append('Odd')\n",
    "print(f'For Loop:{numbers}')"
   ]
  },
  {
   "cell_type": "code",
   "execution_count": 7,
   "id": "2b20c226-3f3f-4b50-8cc1-3c85aef4054a",
   "metadata": {},
   "outputs": [
    {
     "name": "stdout",
     "output_type": "stream",
     "text": [
      "List Comprehension:['Even', 'Odd', 'Even', 'Odd', 'Even', 'Odd', 'Even', 'Odd', 'Even', 'Odd', 'Even', 'Odd', 'Even', 'Odd', 'Even', 'Odd', 'Even', 'Odd', 'Even', 'Odd', 'Even']\n"
     ]
    }
   ],
   "source": [
    "numbers=['Even' if i%2==0 else \"Odd\" for i in range(21)]\n",
    "print(f'List Comprehension:{numbers}')"
   ]
  },
  {
   "cell_type": "code",
   "execution_count": 8,
   "id": "9b836e10-9596-419e-bb76-eb717b359673",
   "metadata": {},
   "outputs": [
    {
     "name": "stdout",
     "output_type": "stream",
     "text": [
      "Using Lambda:['Even', 'Odd', 'Even', 'Odd', 'Even', 'Odd', 'Even', 'Odd', 'Even', 'Odd', 'Even', 'Odd', 'Even', 'Odd', 'Even', 'Odd', 'Even', 'Odd', 'Even', 'Odd', 'Even']\n"
     ]
    }
   ],
   "source": [
    "numbers=list(map(lambda i:i, ['Even' if i%2==0 else \"Odd\" for i in range(21)]))\n",
    "print(f'Using Lambda:{numbers}')"
   ]
  },
  {
   "cell_type": "code",
   "execution_count": null,
   "id": "7e05a023-783b-4055-8d3d-b36b6d92c840",
   "metadata": {},
   "outputs": [],
   "source": []
  }
 ],
 "metadata": {
  "kernelspec": {
   "display_name": "Python 3 (ipykernel)",
   "language": "python",
   "name": "python3"
  },
  "language_info": {
   "codemirror_mode": {
    "name": "ipython",
    "version": 3
   },
   "file_extension": ".py",
   "mimetype": "text/x-python",
   "name": "python",
   "nbconvert_exporter": "python",
   "pygments_lexer": "ipython3",
   "version": "3.11.4"
  }
 },
 "nbformat": 4,
 "nbformat_minor": 5
}
